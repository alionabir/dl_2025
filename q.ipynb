{
 "cells": [
  {
   "cell_type": "code",
   "execution_count": 87,
   "metadata": {
    "id": "3MeKai5Xj6eX"
   },
   "outputs": [],
   "source": [
    "import numpy as np"
   ]
  },
  {
   "cell_type": "markdown",
   "metadata": {
    "id": "wwlFrG-Tj6eY"
   },
   "source": [
    "**Module** is an abstract class which defines fundamental methods necessary for a training a neural network. You do not need to change anything here, just read the comments."
   ]
  },
  {
   "cell_type": "code",
   "execution_count": 88,
   "metadata": {
    "id": "W8BLmtZ3j6eZ"
   },
   "outputs": [],
   "source": [
    "class Module(object):\n",
    "   \n",
    "    def __init__ (self):\n",
    "        self.output = None\n",
    "        self.gradInput = None\n",
    "        self.training = True\n",
    "\n",
    "    def forward(self, input):\n",
    "    \n",
    "        return self.updateOutput(input)\n",
    "\n",
    "    def backward(self,input, gradOutput):\n",
    "       \n",
    "        self.updateGradInput(input, gradOutput)\n",
    "        self.accGradParameters(input, gradOutput)\n",
    "        return self.gradInput\n",
    "\n",
    "\n",
    "    def updateOutput(self, input):\n",
    "\n",
    "        pass\n",
    "\n",
    "    def updateGradInput(self, input, gradOutput):\n",
    "\n",
    "        pass\n",
    "\n",
    "    def accGradParameters(self, input, gradOutput):\n",
    "      \n",
    "        pass\n",
    "\n",
    "    def zeroGradParameters(self):\n",
    "        \n",
    "        pass\n",
    "\n",
    "    def getParameters(self):\n",
    "        \n",
    "        return []\n",
    "\n",
    "    def getGradParameters(self):\n",
    "    \n",
    "        return []\n",
    "\n",
    "    def train(self):\n",
    "\n",
    "        self.training = True\n",
    "\n",
    "    def evaluate(self):\n",
    "        self.training = False\n",
    "\n",
    "    def __repr__(self):\n",
    "       \n",
    "        return \"Module\""
   ]
  },
  {
   "cell_type": "markdown",
   "metadata": {
    "id": "mKRkIjT8j6eZ"
   },
   "source": [
    "# Sequential container"
   ]
  },
  {
   "cell_type": "markdown",
   "metadata": {
    "id": "Cb98PPpJj6ea"
   },
   "source": [
    "**Define** a forward and backward pass procedures."
   ]
  },
  {
   "cell_type": "code",
   "execution_count": 89,
   "metadata": {},
   "outputs": [],
   "source": [
    "class Sequential(Module):\n",
    "    def __init__(self):\n",
    "        super().__init__()\n",
    "        self.modules = []\n",
    "\n",
    "    def add(self, module):\n",
    "        self.modules.append(module)\n",
    "\n",
    "    def updateOutput(self, input):\n",
    "        activations = input\n",
    "        cache = []\n",
    "        for module in self.modules:\n",
    "            activations = module.forward(activations)\n",
    "            cache.append(activations)\n",
    "        self.output = cache[-1]\n",
    "        self.cache = cache\n",
    "        return self.output\n",
    "\n",
    "    def backward(self, input, gradOutput):\n",
    "        grad = gradOutput\n",
    "        activations = [input] + self.cache\n",
    "        for idx in range(len(self.modules) - 1, -1, -1):\n",
    "            grad = self.modules[idx].backward(activations[idx], grad)\n",
    "        self.gradInput = grad\n",
    "        return self.gradInput\n",
    "\n",
    "    def zeroGradParameters(self):\n",
    "        for module in self.modules:\n",
    "            module.zeroGradParameters()\n",
    "\n",
    "    def getParameters(self):\n",
    "        return [module.getParameters() for module in self.modules]\n",
    "\n",
    "    def getGradParameters(self):\n",
    "        return [module.getGradParameters() for module in self.modules]\n",
    "\n",
    "    def __repr__(self):\n",
    "        return \"\\n\".join(str(module) for module in self.modules)\n",
    "\n",
    "    def __getitem__(self, idx):\n",
    "        return self.modules[idx]\n",
    "\n",
    "    def train(self):\n",
    "        self.training = True\n",
    "        for module in self.modules:\n",
    "            module.train()\n",
    "\n",
    "    def evaluate(self):\n",
    "        self.training = False\n",
    "        for module in self.modules:\n",
    "            module.evaluate()\n"
   ]
  },
  {
   "cell_type": "markdown",
   "metadata": {
    "id": "zfXdYfO4j6ea"
   },
   "source": [
    "# Layers"
   ]
  },
  {
   "cell_type": "markdown",
   "metadata": {
    "id": "ZuwvBkuNj6ea"
   },
   "source": [
    "## 1 (0.2). Linear transform layer\n",
    "Also known as dense layer, fully-connected layer, FC-layer, InnerProductLayer (in caffe), affine transform\n",
    "- input:   **`batch_size x n_feats1`**\n",
    "- output: **`batch_size x n_feats2`**"
   ]
  },
  {
   "cell_type": "code",
   "execution_count": 90,
   "metadata": {},
   "outputs": [],
   "source": [
    "class Linear(Module):\n",
    "    def __init__(self, n_in, n_out):\n",
    "        super(Linear, self).__init__()\n",
    "        stdv = 1./np.sqrt(n_in)\n",
    "        self.W = np.random.uniform(-stdv, stdv, size=(n_out, n_in))\n",
    "        self.b = np.random.uniform(-stdv, stdv, size=n_out)\n",
    "        self.gradW = np.zeros_like(self.W)\n",
    "        self.gradb = np.zeros_like(self.b)\n",
    "\n",
    "    def updateOutput(self, input):\n",
    "        self.output = input @ self.W.T + self.b.T\n",
    "        return self.output\n",
    "\n",
    "    def updateGradInput(self, input, gradOutput):\n",
    "        self.gradInput = gradOutput @ self.W\n",
    "        assert self.gradInput.shape == input.shape\n",
    "        return self.gradInput\n",
    "\n",
    "    def accGradParameters(self, input, gradOutput):\n",
    "        self.gradW = np.sum(input[:, None, :] * gradOutput[:, :, None], axis=0)\n",
    "        self.gradb = np.sum(gradOutput, axis=0)\n",
    "\n",
    "    def zeroGradParameters(self):\n",
    "        self.gradW.fill(0)\n",
    "        self.gradb.fill(0)\n",
    "\n",
    "    def getParameters(self):\n",
    "        return [self.W, self.b]\n",
    "\n",
    "    def getGradParameters(self):\n",
    "        return [self.gradW, self.gradb]\n",
    "\n",
    "    def __repr__(self):\n",
    "        s = self.W.shape\n",
    "        return 'Linear %d -> %d' % (s[1], s[0])"
   ]
  },
  {
   "cell_type": "markdown",
   "metadata": {
    "id": "tNOnHXZJj6eb"
   },
   "source": [
    "## 2. (0.2) SoftMax\n",
    "- input:   **`batch_size x n_feats`**\n",
    "- output: **`batch_size x n_feats`**\n",
    "\n",
    "$\\text{softmax}(x)_i = \\frac{\\exp x_i} {\\sum_j \\exp x_j}$\n",
    "\n",
    "Recall that $\\text{softmax}(x) == \\text{softmax}(x - \\text{const})$. It makes possible to avoid computing exp() from large argument."
   ]
  },
  {
   "cell_type": "code",
   "execution_count": 91,
   "metadata": {},
   "outputs": [
    {
     "data": {
      "text/plain": [
       "'class SoftMax(Module):\\n    def __init__(self):\\n         super(SoftMax, self).__init__()\\n\\n    def updateOutput(self, input):\\n        self.output = np.subtract(input, input.max(axis=1, keepdims=True))\\n        \\n        self.output = np.exp(self.output) \\n        hq = self.output.sum(axis = 1,keepdims = True)\\n        self.output = np.divide(self.output,  hq)\\n        return self.output\\n    \\n    def updateGradInput(self, input, gradOutput):\\n    \\n        self.gradInput = gradOutput\\n        pred_grad = np.multiply(self.output, gradOutput)\\n        self.gradInput = pred_grad - np.multiply(self.output, np.sum(pred_grad, axis=1, keepdims=True))\\n        return self.gradInput\\n   \\n\\n    def __repr__(self):\\n        return \"SoftMax\" '"
      ]
     },
     "execution_count": 91,
     "metadata": {},
     "output_type": "execute_result"
    }
   ],
   "source": [
    "\"\"\"class SoftMax(Module):\n",
    "    def __init__(self):\n",
    "         super(SoftMax, self).__init__()\n",
    "\n",
    "    def updateOutput(self, input):\n",
    "        self.output = np.subtract(input, input.max(axis=1, keepdims=True))\n",
    "        \n",
    "        self.output = np.exp(self.output) \n",
    "        hq = self.output.sum(axis = 1,keepdims = True)\n",
    "        self.output = np.divide(self.output,  hq)\n",
    "        return self.output\n",
    "    \n",
    "    def updateGradInput(self, input, gradOutput):\n",
    "    \n",
    "        self.gradInput = gradOutput\n",
    "        pred_grad = np.multiply(self.output, gradOutput)\n",
    "        self.gradInput = pred_grad - np.multiply(self.output, np.sum(pred_grad, axis=1, keepdims=True))\n",
    "        return self.gradInput\n",
    "   \n",
    "\n",
    "    def __repr__(self):\n",
    "        return \"SoftMax\" \"\"\""
   ]
  },
  {
   "cell_type": "code",
   "execution_count": 92,
   "metadata": {},
   "outputs": [],
   "source": [
    "class SoftMax(Module):\n",
    "    def __init__(self):\n",
    "        super().__init__()\n",
    "\n",
    "    def updateOutput(self, input):\n",
    "        shifted_input = input - np.max(input, axis=1, keepdims=True)\n",
    "        exp_vals = np.exp(shifted_input)\n",
    "        self.output = exp_vals / np.sum(exp_vals, axis=1, keepdims=True)\n",
    "        return self.output\n",
    "\n",
    "    def updateGradInput(self, input, gradOutput):\n",
    "        softmax_grad = self.output * gradOutput\n",
    "        self.gradInput = softmax_grad - self.output * np.sum(softmax_grad, axis=1, keepdims=True)\n",
    "        return self.gradInput\n",
    "\n",
    "    def __repr__(self):\n",
    "        return \"SoftMax\"\n"
   ]
  },
  {
   "cell_type": "markdown",
   "metadata": {
    "id": "Cy3DJjynj6eb"
   },
   "source": [
    "## 3. (0.2) LogSoftMax\n",
    "- input:   **`batch_size x n_feats`**\n",
    "- output: **`batch_size x n_feats`**\n",
    "\n",
    "$\\text{logsoftmax}(x)_i = \\log\\text{softmax}(x)_i = x_i - \\log {\\sum_j \\exp x_j}$\n",
    "\n",
    "The main goal of this layer is to be used in computation of log-likelihood loss."
   ]
  },
  {
   "cell_type": "code",
   "execution_count": 93,
   "metadata": {
    "id": "Xo7DRdAJj6eb"
   },
   "outputs": [],
   "source": [
    "class LogSoftMax(Module):\n",
    "    def __init__(self):\n",
    "        super().__init__()\n",
    "\n",
    "    def updateOutput(self, input):\n",
    "        stable_input = input - np.max(input, axis=1 , keepdims=True)\n",
    "        log_sum_exp = np.log(np.sum(np.exp(stable_input), axis=1, keepdims=True))\n",
    "        self.output = stable_input - log_sum_exp\n",
    "        return self.output\n",
    "\n",
    "    def updateGradInput(self, input, gradOutput):\n",
    "        softmax_vals = np.exp(self.output)\n",
    "        self.gradInput = gradOutput - softmax_vals * np.sum(gradOutput, axis=1, keepdims=True)\n",
    "        return self.gradInput\n",
    "\n",
    "    def __repr__(self):\n",
    "        return \"LogSoftMax\"\n"
   ]
  },
  {
   "cell_type": "code",
   "execution_count": 94,
   "metadata": {},
   "outputs": [],
   "source": [
    "class LogSoftMax(Module):\n",
    "    def __init__(self):\n",
    "         super(LogSoftMax, self).__init__()\n",
    "\n",
    "    def updateOutput(self, input):\n",
    "        self.output = np.subtract(input, input.max(axis=1, keepdims=True))\n",
    "        self.output = self.output - np.log(np.sum(np.exp(self.output), axis=1, keepdims=True))\n",
    "        return self.output\n",
    "\n",
    "    def updateGradInput(self, input, gradOutput):\n",
    "        self.gradInput = gradOutput - np.exp(self.output) * np.sum(gradOutput,  axis=1, keepdims=True)\n",
    "        return self.gradInput\n",
    "\n",
    "    def __repr__(self):\n",
    "        return \"LogSoftMax\""
   ]
  },
  {
   "cell_type": "markdown",
   "metadata": {
    "id": "QP5QdmmPj6eb"
   },
   "source": [
    "## 4. (0.3) Batch normalization\n",
    "One of the most significant recent ideas that impacted NNs a lot is [**Batch normalization**](http://arxiv.org/abs/1502.03167). The idea is simple, yet effective: the features should be whitened ($mean = 0$, $std = 1$) all the way through NN. This improves the convergence for deep models letting it train them for days but not weeks. **You are** to implement the first part of the layer: features normalization. The second part (`ChannelwiseScaling` layer) is implemented below.\n",
    "\n",
    "- input:   **`batch_size x n_feats`**\n",
    "- output: **`batch_size x n_feats`**\n",
    "\n",
    "The layer should work as follows. While training (`self.training == True`) it transforms input as $$y = \\frac{x - \\mu}  {\\sqrt{\\sigma + \\epsilon}}$$\n",
    "where $\\mu$ and $\\sigma$ - mean and variance of feature values in **batch** and $\\epsilon$ is just a small number for numericall stability. Also during training, layer should maintain exponential moving average values for mean and variance:\n",
    "```\n",
    "    self.moving_mean = self.moving_mean * alpha + batch_mean * (1 - alpha)\n",
    "    self.moving_variance = self.moving_variance * alpha + batch_variance * (1 - alpha)\n",
    "```\n",
    "During testing (`self.training == False`) the layer normalizes input using moving_mean and moving_variance.\n",
    "\n",
    "Note that decomposition of batch normalization on normalization itself and channelwise scaling here is just a common **implementation** choice. In general \"batch normalization\" always assumes normalization + scaling."
   ]
  },
  {
   "cell_type": "code",
   "execution_count": 95,
   "metadata": {
    "id": "fGTTDqVgj6eb"
   },
   "outputs": [],
   "source": [
    "class BatchNormalization(Module):\n",
    "    EPS = 1e-3  # Маленькая константа для избежания деления на ноль\n",
    "\n",
    "    def __init__(self, alpha=0.):\n",
    "        super(BatchNormalization, self).__init__()\n",
    "        self.alpha = alpha  # Коэффициент обновления для экспоненциального среднего\n",
    "        self.moving_mean = None  # Хранимое среднее для тестового режима\n",
    "        self.moving_variance = None  # Хранимая дисперсия для тестового режима\n",
    "\n",
    "    def updateOutput(self, input):\n",
    "        if self.training:\n",
    "            # Вычисляем среднее значение и дисперсию для текущего батча\n",
    "            batch_mean = np.mean(input, axis=0)\n",
    "            batch_mean_shifted = batch_mean + self.EPS  # Добавляем небольшое смещение для стабильности\n",
    "            \n",
    "            batch_var = np.var(input, axis=0, ddof=0)\n",
    "            adjusted_var = np.maximum(batch_var, self.EPS)  # Гарантируем, что дисперсия не станет слишком маленькой\n",
    "            batch_std = np.sqrt(adjusted_var)  # Стандартное отклонение\n",
    "            \n",
    "            # Нормализация входных данных\n",
    "            self.output = (input - batch_mean_shifted) / batch_std\n",
    "\n",
    "            # Обновляем экспоненциальное скользящее среднее и дисперсию\n",
    "            if self.moving_mean is None:\n",
    "                self.moving_mean = batch_mean\n",
    "                self.moving_variance = batch_var\n",
    "            else:\n",
    "                self.moving_mean = self.alpha * self.moving_mean + (1 - self.alpha) * batch_mean\n",
    "                self.moving_variance = self.alpha * self.moving_variance + (1 - self.alpha) * batch_var\n",
    "        else:\n",
    "            # Используем сохраненные значения при инференсе\n",
    "            norm_factor = 1 / np.sqrt(self.moving_variance + self.EPS)  # Масштабируем вход\n",
    "            self.output = (input - self.moving_mean) * norm_factor  # Применяем нормализацию\n",
    "        return self.output\n",
    "\n",
    "    def updateGradInput(self, input, gradOutput):\n",
    "        if self.training:\n",
    "            batch_mean = np.mean(input, axis=0)  # Среднее по батчу\n",
    "            batch_var = np.var(input, axis=0)  # Дисперсия по батчу\n",
    "\n",
    "            safe_inv_std = 1 / np.sqrt(batch_var + self.EPS)  # Безопасное обращение стандартного отклонения\n",
    "            batch_size = input.shape[0]  # Количество примеров в батче\n",
    "\n",
    "            # Градиент по среднему значению\n",
    "            grad_mean = np.mean(gradOutput, axis=0)\n",
    "\n",
    "            # Градиент по входу с учетом дисперсии\n",
    "            grad_centered_input = (input - batch_mean) * safe_inv_std**2\n",
    "            grad_correction = np.mean(gradOutput * grad_centered_input, axis=0)\n",
    "\n",
    "            # Вычисляем окончательный градиент входа\n",
    "            self.gradInput = (gradOutput - grad_mean - (input - batch_mean) * grad_correction) * safe_inv_std\n",
    "\n",
    "            # Градиенты для параметров γ (масштабирование) и β (сдвиг)\n",
    "            self.gradGamma = np.sum((input - batch_mean) * gradOutput * safe_inv_std, axis=0)\n",
    "            self.gradBeta = np.sum(gradOutput, axis=0)\n",
    "        else:\n",
    "            self.gradInput = gradOutput  # При тестировании просто передаем градиент дальше\n",
    "        return self.gradInput\n",
    "\n",
    "    def __repr__(self):\n",
    "        return \"BatchNormalization\"\n"
   ]
  },
  {
   "cell_type": "code",
   "execution_count": 96,
   "metadata": {
    "id": "8XUS3Lt-j6eb"
   },
   "outputs": [],
   "source": [
    "class ChannelwiseScaling(Module):\n",
    "    \"\"\"\n",
    "       Implements linear transform of input y = \\gamma * x + \\beta\n",
    "       where \\gamma, \\beta - learnable vectors of length x.shape[-1]\n",
    "    \"\"\"\n",
    "    def __init__(self, n_out):\n",
    "        super(ChannelwiseScaling, self).__init__()\n",
    "\n",
    "        stdv = 1./np.sqrt(n_out)\n",
    "        self.gamma = np.random.uniform(-stdv, stdv, size=n_out)\n",
    "        self.beta = np.random.uniform(-stdv, stdv, size=n_out)\n",
    "\n",
    "        self.gradGamma = np.zeros_like(self.gamma)\n",
    "        self.gradBeta = np.zeros_like(self.beta)\n",
    "\n",
    "    def updateOutput(self, input):\n",
    "        self.output = input * self.gamma + self.beta\n",
    "        return self.output\n",
    "\n",
    "    def updateGradInput(self, input, gradOutput):\n",
    "        self.gradInput = gradOutput * self.gamma\n",
    "        return self.gradInput\n",
    "\n",
    "    def accGradParameters(self, input, gradOutput):\n",
    "        self.gradBeta = np.sum(gradOutput, axis=0)\n",
    "        self.gradGamma = np.sum(gradOutput*input, axis=0)\n",
    "\n",
    "    def zeroGradParameters(self):\n",
    "        self.gradGamma.fill(0)\n",
    "        self.gradBeta.fill(0)\n",
    "\n",
    "    def getParameters(self):\n",
    "        return [self.gamma, self.beta]\n",
    "\n",
    "    def getGradParameters(self):\n",
    "        return [self.gradGamma, self.gradBeta]\n",
    "\n",
    "    def __repr__(self):\n",
    "        return \"ChannelwiseScaling\""
   ]
  },
  {
   "cell_type": "markdown",
   "metadata": {
    "id": "vA5zjM3jj6eb"
   },
   "source": [
    "Practical notes. If BatchNormalization is placed after a linear transformation layer (including dense layer, convolutions, channelwise scaling) that implements function like `y = weight * x + bias`, than bias adding become useless and could be omitted since its effect will be discarded while batch mean subtraction. If BatchNormalization (followed by `ChannelwiseScaling`) is placed before a layer that propagates scale (including ReLU, LeakyReLU) followed by any linear transformation layer than parameter `gamma` in `ChannelwiseScaling` could be freezed since it could be absorbed into the linear transformation layer."
   ]
  },
  {
   "cell_type": "markdown",
   "metadata": {
    "id": "Gackeo1cj6eb"
   },
   "source": [
    "## 5. (0.3) Dropout\n",
    "Implement [**dropout**](https://www.cs.toronto.edu/~hinton/absps/JMLRdropout.pdf). The idea and implementation is really simple: just multimply the input by $Bernoulli(p)$ mask. Here $p$ is probability of an element to be zeroed.\n",
    "\n",
    "This has proven to be an effective technique for regularization and preventing the co-adaptation of neurons.\n",
    "\n",
    "While training (`self.training == True`) it should sample a mask on each iteration (for every batch), zero out elements and multiply elements by $1 / (1 - p)$. The latter is needed for keeping mean values of features close to mean values which will be in test mode. When testing this module should implement identity transform i.e. `self.output = input`.\n",
    "\n",
    "- input:   **`batch_size x n_feats`**\n",
    "- output: **`batch_size x n_feats`**"
   ]
  },
  {
   "cell_type": "code",
   "execution_count": 97,
   "metadata": {
    "id": "NmLQV3jXj6eb"
   },
   "outputs": [],
   "source": [
    "class Dropout(Module):\n",
    "    def __init__(self, p=0.5):\n",
    "        super(Dropout, self).__init__()\n",
    "        self.p = p  # Вероятность зануления нейрона\n",
    "        self.mask = None  # Маска для зануления случайных нейронов\n",
    "\n",
    "    def updateOutput(self, input):\n",
    "        if not self.training:\n",
    "            # Во время тестирования Dropout не применяется, передаём вход как есть\n",
    "            self.output = input\n",
    "        else:\n",
    "            # Генерируем маску: 1 с вероятностью (1 - p), 0 с вероятностью p\n",
    "            self.mask = np.random.binomial(1, 1 - self.p, size=input.shape)\n",
    "            \n",
    "            # Масштабируем выход, чтобы среднее значение оставалось неизменным\n",
    "            self.output = input * self.mask / (1 - self.p)\n",
    "        return self.output\n",
    "\n",
    "    def updateGradInput(self, input, gradOutput):\n",
    "        # Градиент передается только через \"выжившие\" нейроны\n",
    "        self.gradInput = np.multiply(gradOutput, self.mask) / (1 - self.p)\n",
    "        return self.gradInput\n",
    "\n",
    "    def __repr__(self):\n",
    "        return \"Dropout\""
   ]
  },
  {
   "cell_type": "markdown",
   "metadata": {
    "id": "-WHGIqJFlhz2"
   },
   "source": [
    "## 6. (2.0) Conv2d\n",
    "Implement [**Conv2d**](https://pytorch.org/docs/stable/generated/torch.nn.Conv2d.html). Use only this list of parameters: (in_channels, out_channels, kernel_size, stride, padding, bias, padding_mode) and fix dilation=1 and groups=1."
   ]
  },
  {
   "cell_type": "code",
   "execution_count": 98,
   "metadata": {},
   "outputs": [],
   "source": [
    "class Conv2d(Module):\n",
    "    def __init__(self, in_channels, out_channels, kernel_size, stride=1, padding=0, bias=True, padding_mode='zeros'):\n",
    "        super().__init__()\n",
    "\n",
    "        # Обработка режима паддинга\n",
    "        self.padding_mode = 'zeros' if padding_mode != 'zeros' else padding_mode\n",
    "        if padding_mode != 'zeros':\n",
    "            print(f\"Warning: Unsupported padding_mode '{padding_mode}', defaulting to 'zeros'.\")\n",
    "\n",
    "        # Основные параметры слоя\n",
    "        self.in_channels = in_channels\n",
    "        self.out_channels = out_channels\n",
    "        self.kernel_size = (kernel_size, kernel_size) if isinstance(kernel_size, int) else tuple(kernel_size)\n",
    "        self.stride = (stride, stride) if isinstance(stride, int) else tuple(stride)\n",
    "        self.padding = (padding, padding) if isinstance(padding, int) else tuple(padding)\n",
    "\n",
    "        # Инициализация весов (Xavier initialization)\n",
    "        weight_std = np.sqrt(2.0 / (self.in_channels * np.prod(self.kernel_size)))\n",
    "        self.W = np.random.randn(self.out_channels, self.in_channels, *self.kernel_size) * weight_std\n",
    "        self.gradW = np.zeros_like(self.W)\n",
    "\n",
    "        # Смещение\n",
    "        self.bias = bias\n",
    "        if bias:\n",
    "            self.b = np.zeros(self.out_channels)\n",
    "            self.gradb = np.zeros_like(self.b)\n",
    "        else:\n",
    "            self.b = None\n",
    "            self.gradb = None\n",
    "\n",
    "        self.input_cache = None  # Кэш для хранения входных данных\n",
    "        self.col_buffer = None   # Кэш для хранения развернутых данных (im2col)\n",
    "\n",
    "    def updateOutput(self, input):\n",
    "        # Кэшируем размерность входного тензора\n",
    "        self.input_cache = input.shape\n",
    "        batch_size, _, input_h, input_w = input.shape\n",
    "        kernel_h, kernel_w = self.kernel_size\n",
    "        stride_h, stride_w = self.stride\n",
    "        pad_h, pad_w = self.padding\n",
    "\n",
    "        # Определяем размеры выходного тензора\n",
    "        out_h = (input_h + 2 * pad_h - kernel_h) // stride_h + 1\n",
    "        out_w = (input_w + 2 * pad_w - kernel_w) // stride_w + 1\n",
    "\n",
    "        # Создаем выходной массив\n",
    "        self.output = np.zeros((batch_size, self.out_channels, out_h, out_w))\n",
    "\n",
    "        # Проходим по каждому изображению в батче\n",
    "        for n in range(batch_size):\n",
    "            padded_input = np.pad(input[n], ((0, 0), (pad_h, pad_h), (pad_w, pad_w)), mode='constant')\n",
    "\n",
    "            # Применяем свертку вручную\n",
    "            for oc in range(self.out_channels):  # Перебираем выходные каналы\n",
    "                for i in range(out_h):\n",
    "                    for j in range(out_w):\n",
    "                        region = padded_input[:, i * stride_h:i * stride_h + kernel_h, j * stride_w:j * stride_w + kernel_w]\n",
    "                        self.output[n, oc, i, j] = np.sum(region * self.W[oc]) + (self.b[oc] if self.bias else 0)\n",
    "\n",
    "        return self.output\n",
    "\n",
    "    def updateGradInput(self, input, gradOutput):\n",
    "        batch_size, _, input_h, input_w = self.input_cache\n",
    "        kernel_h, kernel_w = self.kernel_size\n",
    "        stride_h, stride_w = self.stride\n",
    "        pad_h, pad_w = self.padding\n",
    "\n",
    "        # Создаем массив для градиента входа\n",
    "        self.gradInput = np.zeros_like(input)\n",
    "\n",
    "        # Проходим по каждому изображению в батче\n",
    "        for n in range(batch_size):\n",
    "            padded_grad = np.pad(self.gradInput[n], ((0, 0), (pad_h, pad_h), (pad_w, pad_w)), mode='constant')\n",
    "\n",
    "            # Обратное распространение ошибки через фильтр\n",
    "            for oc in range(self.out_channels):\n",
    "                for i in range(gradOutput.shape[2]):\n",
    "                    for j in range(gradOutput.shape[3]):\n",
    "                        padded_grad[:, i * stride_h:i * stride_h + kernel_h, j * stride_w:j * stride_w + kernel_w] += \\\n",
    "                            self.W[oc] * gradOutput[n, oc, i, j]\n",
    "\n",
    "            # Убираем паддинг после вычислений\n",
    "            self.gradInput[n] = padded_grad[:, pad_h:pad_h + input_h, pad_w:pad_w + input_w]\n",
    "\n",
    "        return self.gradInput\n",
    "\n",
    "    def accGradParameters(self, input, gradOutput):\n",
    "        batch_size, _, input_h, input_w = self.input_cache\n",
    "        kernel_h, kernel_w = self.kernel_size\n",
    "        stride_h, stride_w = self.stride\n",
    "        pad_h, pad_w = self.padding\n",
    "\n",
    "        # Создаем массивы для градиентов\n",
    "        self.gradW.fill(0)\n",
    "        if self.bias:\n",
    "            self.gradb.fill(0)\n",
    "\n",
    "        # Проходим по каждому изображению в батче\n",
    "        for n in range(batch_size):\n",
    "            padded_input = np.pad(input[n], ((0, 0), (pad_h, pad_h), (pad_w, pad_w)), mode='constant')\n",
    "\n",
    "            for oc in range(self.out_channels):\n",
    "                for i in range(gradOutput.shape[2]):\n",
    "                    for j in range(gradOutput.shape[3]):\n",
    "                        self.gradW[oc] += padded_input[:, i * stride_h:i * stride_h + kernel_h, j * stride_w:j * stride_w + kernel_w] * gradOutput[n, oc, i, j]\n",
    "\n",
    "                        # Обновляем градиент смещения\n",
    "                        if self.bias:\n",
    "                            self.gradb[oc] += gradOutput[n, oc, i, j]\n",
    "\n",
    "    def zeroGradParameters(self):\n",
    "        self.gradW.fill(0)\n",
    "        if self.bias:\n",
    "            self.gradb.fill(0)\n",
    "\n",
    "    def getParameters(self):\n",
    "        return [self.W, self.b] if self.bias else [self.W]\n",
    "\n",
    "    def getGradParameters(self):\n",
    "        return [self.gradW, self.gradb] if self.bias else [self.gradW]\n",
    "\n",
    "    def __repr__(self):\n",
    "        return f\"Conv2d(in_channels={self.in_channels}, out_channels={self.out_channels}, kernel_size={self.kernel_size}, stride={self.stride}, padding={self.padding})\"\n",
    "\n"
   ]
  },
  {
   "cell_type": "markdown",
   "metadata": {
    "id": "updUVZE9qixP"
   },
   "source": [
    "## 7. (0.5) Implement [**MaxPool2d**](https://pytorch.org/docs/stable/generated/torch.nn.MaxPool2d.html) and [**AvgPool2d**](https://pytorch.org/docs/stable/generated/torch.nn.AvgPool2d.html). \n",
    "Use only parameters like kernel_size, stride, padding (negative infinity for maxpool and zero for avgpool) and other parameters fixed as in framework."
   ]
  },
  {
   "cell_type": "code",
   "execution_count": 82,
   "metadata": {
    "id": "Qys58EzkqhLj"
   },
   "outputs": [],
   "source": [
    "class MaxPool2d(Module):\n",
    "    def __init__(self, kernel_size, stride, padding):\n",
    "        super(MaxPool2d, self).__init__()\n",
    "\n",
    "        self.kernel_size = (kernel_size, kernel_size) if isinstance(kernel_size, int) else kernel_size\n",
    "        self.stride = (stride, stride) if isinstance(stride, int) else stride\n",
    "        self.padding = (padding, padding) if isinstance(padding, int) else padding\n",
    "        self.cache = None\n",
    "        \n",
    "    def updateOutput(self, input):\n",
    "        # Получаем размеры входного тензора\n",
    "        batch, num_channels, H_in, W_in = input.shape\n",
    "        # Расчет размеров выходного тензора\n",
    "        H_out = ((H_in + 2*self.padding[0] - self.kernel_size[0]) // self.stride[0] + 1)\n",
    "        W_out = ((W_in + 2*self.padding[1] - self.kernel_size[1]) // self.stride[1] + 1)\n",
    "\n",
    "        # Инициализация выходного тензора\n",
    "        self.output = np.zeros((batch, num_channels, H_out, W_out))\n",
    "        # Индексы для максимальных значений в окне\n",
    "        self.indices = np.zeros((batch, num_channels, H_out, W_out, 2), dtype=int)\n",
    "        \n",
    "        # Добавление паддинга\n",
    "        padding = np.pad(input, ((0,0), (0,0), (self.padding[0], self.padding[0]), (self.padding[1], self.padding[1])), mode='constant')\n",
    "        \n",
    "        # Итерации по батчу и каналам\n",
    "        for b in range(batch):\n",
    "            for c in range(num_channels):\n",
    "                for i in range(H_out):\n",
    "                    for j in range(W_out):\n",
    "                        h_start = i * self.stride[0]\n",
    "                        h_end = h_start + self.kernel_size[0]\n",
    "                        w_start = j * self.stride[1]\n",
    "                        w_end = w_start + self.kernel_size[1]\n",
    "\n",
    "                        # Извлекаем окно\n",
    "                        window = padding[b, c, h_start:h_end, w_start:w_end]\n",
    "                        self.output[b, c, i, j] = np.max(window)\n",
    "                        max_idx = np.unravel_index(np.argmax(window), window.shape)\n",
    "                        # Сохраняем индексы максимальных значений\n",
    "                        self.indices[b, c, i, j] = [h_start + max_idx[0], w_start + max_idx[1]]\n",
    "        \n",
    "        self.cache = (batch, num_channels, H_in, W_in)\n",
    "        return self.output\n",
    "\n",
    "    def updateGradInput(self, input, gradOutput):\n",
    "        batch, num_channels, H_in, W_in = self.cache\n",
    "        # Расчет выходной формы после паддинга\n",
    "        out_shape = (batch, num_channels, H_in + 2*self.padding[0], W_in + 2*self.padding[1])\n",
    "        self.gradInput = np.zeros(out_shape)\n",
    "\n",
    "        # Обратный проход через слои\n",
    "        for b in range(batch):\n",
    "            for c in range(num_channels):\n",
    "                for i in range(gradOutput.shape[2]):\n",
    "                    for j in range(gradOutput.shape[3]):\n",
    "                        h, w = self.indices[b, c, i, j]\n",
    "                        # Распределяем градиент на соответствующий пиксель\n",
    "                        self.gradInput[b, c, h, w] += gradOutput[b, c, i, j]\n",
    "\n",
    "        # Обработка паддинга\n",
    "        if self.padding[0] > 0 or self.padding[1] > 0:\n",
    "            self.gradInput = self.gradInput[:, :, self.padding[0]:-self.padding[0], self.padding[1]:-self.padding[1]] if self.padding[0] > 0 and self.padding[1] > 0 else \\\n",
    "                             self.gradInput[:, :, self.padding[0]:-self.padding[0], :] if self.padding[0] > 0 else \\\n",
    "                             self.gradInput[:, :, :, self.padding[1]:-self.padding[1]]\n",
    "                             \n",
    "        return self.gradInput\n",
    "\n",
    "    def __repr__(self):\n",
    "        return \"MaxPool2d\"\n",
    "\n",
    "\n",
    "class AvgPool2d(Module):\n",
    "    def __init__(self, kernel_size, stride, padding):\n",
    "        super(AvgPool2d, self).__init__()\n",
    "\n",
    "        self.kernel_size = (kernel_size, kernel_size) if isinstance(kernel_size, int) else kernel_size\n",
    "        self.stride = (stride, stride) if isinstance(stride, int) else stride\n",
    "        self.padding = (padding, padding) if isinstance(padding, int) else padding\n",
    "        self.cache = None\n",
    "\n",
    "    def updateOutput(self, input):\n",
    "        # Получаем размеры входного тензора\n",
    "        batch, num_channels, H_in, W_in = input.shape\n",
    "        # Расчет размеров выходного тензора\n",
    "        H_out = ((H_in + 2*self.padding[0] - self.kernel_size[0]) // self.stride[0] + 1)\n",
    "        W_out = ((W_in + 2*self.padding[1] - self.kernel_size[1]) // self.stride[1] + 1)\n",
    "        \n",
    "        # Инициализация выходного тензора\n",
    "        self.output = np.zeros((batch, num_channels, H_out, W_out))\n",
    "        \n",
    "        # Добавление паддинга\n",
    "        padding = np.pad(input, ((0,0), (0,0), (self.padding[0],self.padding[0]), (self.padding[1],self.padding[1])), mode='constant')\n",
    "        \n",
    "        # Итерации по батчу и каналам\n",
    "        for b in range(batch):\n",
    "            for c in range(num_channels):\n",
    "                for i in range(H_out):\n",
    "                    for j in range(W_out):\n",
    "                        h_start = i* self.stride[0]\n",
    "                        h_end = h_start + self.kernel_size[0]\n",
    "                        w_start = j * self.stride[1]\n",
    "                        w_end = w_start + self.kernel_size[1]\n",
    "\n",
    "                        # Извлекаем окно и вычисляем среднее\n",
    "                        window = padding[b, c, h_start:h_end, w_start:w_end]\n",
    "                        self.output[b, c,  i, j] = np.mean(window)\n",
    "        \n",
    "        self.cache = (batch,  num_channels, H_in, W_in)\n",
    "        return self.output\n",
    "\n",
    "    def updateGradInput(self, input, gradOutput):\n",
    "        batch, num_channels, H_in, W_in = self.cache\n",
    "        # Расчет выходной формы после паддинга\n",
    "        out_shape= (batch, num_channels, H_in + 2*self.padding[0], W_in + 2*self.padding[1])\n",
    "        self.gradInput = np.zeros(out_shape)\n",
    "        \n",
    "        # Нормализация окна\n",
    "        norm_win =1 / (self.kernel_size[0] * self.kernel_size[1])\n",
    "        \n",
    "        # Обратный проход через слои\n",
    "        for b in range(batch):\n",
    "            for c in range(num_channels):\n",
    "                for i in range(gradOutput.shape[2]):\n",
    "                    for j in range(gradOutput.shape[3]):\n",
    "                        h_start = i * self.stride[0]\n",
    "                        h_end = h_start + self.kernel_size[0]\n",
    "                        w_start = j * self.stride[1]\n",
    "                        w_end = w_start + self.kernel_size[1]\n",
    "                        \n",
    "                        # Распределяем градиент на все элементы окна\n",
    "                        self.gradInput[b, c, h_start:h_end, w_start:w_end] += gradOutput[b, c, i, j] * norm_win\n",
    "                        \n",
    "        # Обработка паддинга\n",
    "        if self.padding[0] > 0 or self.padding[1] > 0:\n",
    "            self.gradInput = self.gradInput[:, :, self.padding[0]:-self.padding[0], self.padding[1]:-self.padding[1]] if self.padding[0] > 0 and self.padding[1] > 0 else \\\n",
    "                             self.gradInput[:, :, self.padding[0]:-self.padding[0], :] if self.padding[0] > 0 else \\\n",
    "                             self.gradInput[:, :, :, self.padding[1]:-self.padding[1]]\n",
    "                             \n",
    "        return self.gradInput\n",
    "\n",
    "    def __repr__(self):\n",
    "        return \"AvgPool2d\"\n",
    "\n"
   ]
  },
  {
   "cell_type": "markdown",
   "metadata": {
    "id": "KTN5R3CwrukV"
   },
   "source": [
    "## 8. (0.3) Implement **GlobalMaxPool2d** and **GlobalAvgPool2d**.\n",
    "They do not have testing and parameters are up to you but they must aggregate information within channels. Write test functions for these layers on your own."
   ]
  },
  {
   "cell_type": "code",
   "execution_count": 83,
   "metadata": {},
   "outputs": [],
   "source": [
    "class GlobalMaxPool2d(Module):\n",
    "    def __init__(self, keepdims=False):\n",
    "        super(GlobalMaxPool2d, self).__init__()\n",
    "        self.keepdims = keepdims\n",
    "        self.cache = None\n",
    "\n",
    "    def updateOutput(self, input_data):\n",
    "        batch_size, channels, height, width = input_data.shape\n",
    "        \n",
    "        # Преобразуем вход в одномерный массив и находим индексы максимальных значений\n",
    "        self.cache = input_data\n",
    "        input_reshaped = input_data.reshape(batch_size, channels, -1)\n",
    "        self.max_indices = np.argmax(input_reshaped, axis=2)\n",
    "        \n",
    "        # Находим максимальные значения по осям (высота и ширина)\n",
    "        self.output = np.max(input_reshaped, axis=2)\n",
    "        \n",
    "        if self.keepdims:\n",
    "            self.output = self.output.reshape(batch_size, channels, 1, 1)\n",
    "\n",
    "        return self.output\n",
    "\n",
    "    def updateGradInput(self, input_data, grad_output):\n",
    "        batch_size, channels = grad_output.shape[:2]\n",
    "        height, width = input_data.shape[-2:]\n",
    "        \n",
    "        # Создаем пустой градиент\n",
    "        self.gradInput = np.zeros_like(input_data)\n",
    "        \n",
    "        if self.keepdims:\n",
    "            grad_output = grad_output.reshape(batch_size, channels)\n",
    "        \n",
    "        # Разделяем индексы на максимальные значения по высоте и ширине\n",
    "        max_height, max_width = self._get_max_indices()\n",
    "\n",
    "        # Распределяем градиенты только для максимальных значений\n",
    "        self._assign_gradients_to_max_values(grad_output, batch_size, channels, max_height, max_width)\n",
    "\n",
    "        return self.gradInput\n",
    "\n",
    "    def _get_max_indices(self):\n",
    "        \"\"\"Функция для получения индексов максимальных значений по высоте и ширине\"\"\"\n",
    "        image_width = self.cache.shape[3]  # ширина входного изображения\n",
    "        max_height = self.max_indices // image_width  # Индекс высоты\n",
    "        max_width = self.max_indices % image_width   # Индекс ширины\n",
    "        return max_height, max_width\n",
    "\n",
    "    def _assign_gradients_to_max_values(self, grad_output, batch_size, channels, max_height, max_width):\n",
    "        \"\"\"Функция для распределения градиентов на максимальные значения\"\"\"\n",
    "        batch_indices, channel_indices = np.indices((batch_size, channels))\n",
    "        for b, c in zip(batch_indices.flatten(), channel_indices.flatten()):\n",
    "            self.gradInput[b, c, max_height[b, c], max_width[b, c]] = grad_output[b, c]\n",
    "\n",
    "    def __repr__(self):\n",
    "        return f\"GlobalMaxPool2d(keepdims={self.keepdims})\"\n",
    "\n",
    "\n",
    "class GlobalAvgPool2d(Module):\n",
    "    def __init__(self, keepdims=False):\n",
    "        super(GlobalAvgPool2d, self).__init__()\n",
    "        self.keepdims = keepdims\n",
    "\n",
    "    def updateOutput(self, input_data):\n",
    "        batch_size, channels, height, width = input_data.shape\n",
    "        \n",
    "        # Находим среднее значение по осям (высота и ширина)\n",
    "        self.output = np.mean(input_data, axis=(2, 3))\n",
    "        \n",
    "        if self.keepdims:\n",
    "            self.output = self.output.reshape(batch_size, channels, 1, 1)\n",
    "\n",
    "        return self.output\n",
    "\n",
    "    def updateGradInput(self, input_data, grad_output):\n",
    "        batch_size, channels = grad_output.shape[:2]\n",
    "        height, width = input_data.shape[-2:]\n",
    "        num_pixels = height * width\n",
    "        \n",
    "        # Создаем пустой градиент\n",
    "        self.gradInput = np.zeros_like(input_data)\n",
    "        \n",
    "        if self.keepdims:\n",
    "            grad_output = grad_output.reshape(batch_size, channels)\n",
    "        \n",
    "        # Распределяем градиенты равномерно по всем пикселям\n",
    "        for n in range(batch_size):\n",
    "            for c in range(channels):\n",
    "                for h in range(height):\n",
    "                    for w in range(width):\n",
    "                        self.gradInput[n, c, h, w] = grad_output[n, c] / num_pixels\n",
    "\n",
    "        return self.gradInput\n",
    "\n",
    "    def __repr__(self):\n",
    "        return f\"GlobalAvgPool2d(keepdims={self.keepdims})\"\n"
   ]
  },
  {
   "cell_type": "markdown",
   "metadata": {
    "id": "cYeBQDBhtViy"
   },
   "source": [
    "## 9. (0.2) Implement [**Flatten**](https://pytorch.org/docs/stable/generated/torch.flatten.html)"
   ]
  },
  {
   "cell_type": "code",
   "execution_count": 84,
   "metadata": {
    "id": "SimPEMOFqhTQ"
   },
   "outputs": [],
   "source": [
    "class Flatten(Module):\n",
    "    def __init__(self, start_dim=0, end_dim=-1):\n",
    "        super(Flatten, self).__init__()\n",
    "        self.start_dim = start_dim\n",
    "        self.end_dim = end_dim\n",
    "\n",
    "    def updateOutput(self, input_data):\n",
    "        self.input_shape = input_data.shape  # Сохраняем исходную форму\n",
    "        start_dim = self.start_dim\n",
    "        end_dim = self.end_dim if self.end_dim >= 0 else len(input_data.shape) + self.end_dim\n",
    "        \n",
    "        # Вычисляем новую форму\n",
    "        new_shape = input_data.shape[:start_dim] + (-1,) + input_data.shape[end_dim + 1:]\n",
    "        self.output = input_data.reshape(new_shape)\n",
    "        return self.output\n",
    "\n",
    "    def updateGradInput(self, input_data, grad_output):\n",
    "        # Восстанавливаем исходную форму градиента\n",
    "        self.gradInput = grad_output.reshape(self.input_shape)\n",
    "        return self.gradInput\n",
    "\n",
    "    def __repr__(self):\n",
    "        return f\"Flatten(start_dim={self.start_dim}, end_dim={self.end_dim})\"\n"
   ]
  },
  {
   "cell_type": "markdown",
   "metadata": {
    "id": "o36vPHSSj6eb"
   },
   "source": [
    "# Activation functions"
   ]
  },
  {
   "cell_type": "markdown",
   "metadata": {
    "id": "l_pryRQIj6ec"
   },
   "source": [
    "Here's the complete example for the **Rectified Linear Unit** non-linearity (aka **ReLU**):"
   ]
  },
  {
   "cell_type": "code",
   "execution_count": 62,
   "metadata": {
    "id": "sgm8bXjKj6ec"
   },
   "outputs": [],
   "source": [
    "class ReLU(Module):\n",
    "    def __init__(self):\n",
    "         super(ReLU, self).__init__()\n",
    "\n",
    "    def updateOutput(self, input):\n",
    "        self.output = np.maximum(input, 0)\n",
    "        return self.output\n",
    "\n",
    "    def updateGradInput(self, input, gradOutput):\n",
    "        self.gradInput = np.multiply(gradOutput , input > 0)\n",
    "        return self.gradInput\n",
    "\n",
    "    def __repr__(self):\n",
    "        return \"ReLU\""
   ]
  },
  {
   "cell_type": "markdown",
   "metadata": {
    "id": "yB0UHGagj6ec"
   },
   "source": [
    "## 10. (0.1) Leaky ReLU\n",
    "Implement [**Leaky Rectified Linear Unit**](http://en.wikipedia.org/wiki%2FRectifier_%28neural_networks%29%23Leaky_ReLUs). Expriment with slope."
   ]
  },
  {
   "cell_type": "code",
   "execution_count": 85,
   "metadata": {
    "id": "agwfkwO0j6ec"
   },
   "outputs": [],
   "source": [
    "class LeakyReLU(Module):\n",
    "    def __init__(self, slope=0.03):\n",
    "        super(LeakyReLU, self).__init__()\n",
    "        self.slope_value = slope\n",
    "\n",
    "    def updateOutput(self, input_data):\n",
    "        self.output = np.where(input_data > 0, input_data, self.slope_value * input_data)\n",
    "        return  self.output\n",
    "\n",
    "    def updateGradInput(self, input_data, grad_output):\n",
    "        grad_input = np.where(input_data >= 0, 1, self.slope_value)\n",
    "        self.gradInput = grad_input * grad_output\n",
    "        return  self.gradInput\n",
    "\n",
    "    def __repr__(self):\n",
    "        return \"LeakyReLU\""
   ]
  },
  {
   "cell_type": "markdown",
   "metadata": {
    "id": "t-STyecvj6ec"
   },
   "source": [
    "## 11. (0.1) ELU\n",
    "Implement [**Exponential Linear Units**](http://arxiv.org/abs/1511.07289) activations."
   ]
  },
  {
   "cell_type": "code",
   "execution_count": 64,
   "metadata": {
    "id": "jJSzEu1mj6ec"
   },
   "outputs": [],
   "source": [
    "class ELU(Module):\n",
    "    def __init__(self, alpha = 1.0):\n",
    "        super(ELU, self).__init__()\n",
    "\n",
    "        self.alpha = alpha\n",
    "\n",
    "    def updateOutput(self, input):\n",
    "        self.output = np.where(input >= 0, input, self.alpha * (np.exp(input) - 1))\n",
    "        return  self.output\n",
    "\n",
    "    def updateGradInput(self, input, gradOutput):\n",
    "        gradInput = np.where(input >= 0, 1, self.alpha * np.exp(input))\n",
    "        self.gradInput = gradInput * gradOutput\n",
    "        return self.gradInput\n",
    "\n",
    "    def __repr__(self):\n",
    "        return \"ELU\""
   ]
  },
  {
   "cell_type": "markdown",
   "metadata": {
    "id": "Gn3C7KTqj6ec"
   },
   "source": [
    "## 12. (0.1) SoftPlus\n",
    "Implement [**SoftPlus**](https://en.wikipedia.org/wiki%2FRectifier_%28neural_networks%29) activations. Look, how they look a lot like ReLU."
   ]
  },
  {
   "cell_type": "code",
   "execution_count": 65,
   "metadata": {
    "id": "xcDPMssrj6ec"
   },
   "outputs": [],
   "source": [
    "class SoftPlus(Module):\n",
    "    def __init__(self):\n",
    "        super(SoftPlus, self).__init__()\n",
    "\n",
    "    def updateOutput(self, input):\n",
    " \n",
    "        self.output = np.log(1 + np.exp(input))\n",
    "        return  self.output\n",
    "    def updateGradInput(self, input, gradOutput):\n",
    "        gradInput = 1 / (1 + np.exp(-input))  # sigmoid(x)\n",
    "        self.gradInput = gradInput * gradOutput\n",
    "        return self.gradInput\n",
    "\n",
    "    def __repr__(self):\n",
    "        return \"SoftPlus\""
   ]
  },
  {
   "cell_type": "markdown",
   "metadata": {
    "id": "kw3PeZjOuo0e"
   },
   "source": [
    "## 13. (0.2) Gelu\n",
    "Implement [**Gelu**](https://pytorch.org/docs/stable/generated/torch.nn.GELU.html) activations."
   ]
  },
  {
   "cell_type": "code",
   "execution_count": 66,
   "metadata": {
    "id": "SdieE0Dtuo8j"
   },
   "outputs": [],
   "source": [
    "class GeLU(Module): \n",
    "    def __init__(self):\n",
    "        super(GeLU, self).__init__()\n",
    "\n",
    "    def updateOutput(self, input):\n",
    "        sqrt_2_pi = (2 / np.pi) ** 0.5\n",
    "        cubic_term = 0.044715 * input**3\n",
    "        self.output= 0.5 * input * (1 + np.tanh(sqrt_2_pi * (input + cubic_term)))\n",
    "        return self.output\n",
    "\n",
    "    def updateGradInput(self, input, gradOutput):\n",
    "        sqrt_2_pi = (2 / np.pi) ** 0.5\n",
    "        cubic_term = 0.044715 * input**3\n",
    "        tanh_term = np.tanh(sqrt_2_pi * (input + cubic_term))\n",
    "        dtanh_dx = (1 - tanh_term**2) * sqrt_2_pi * (1 + 3 * 0.044715 * input**2)\n",
    "        self.gradInput = gradOutput * (0.5 * (1 + tanh_term) + 0.5 * input * dtanh_dx)\n",
    "        return self.gradInput\n",
    "\n",
    "    def __repr__(self):\n",
    "        return \"GeLU\"\n"
   ]
  },
  {
   "cell_type": "markdown",
   "metadata": {
    "id": "55p7UvPAj6ec"
   },
   "source": [
    "# Criterions"
   ]
  },
  {
   "cell_type": "markdown",
   "metadata": {
    "id": "5NFaxZaqj6ec"
   },
   "source": [
    "Criterions are used to score the models answers."
   ]
  },
  {
   "cell_type": "code",
   "execution_count": 67,
   "metadata": {
    "id": "XGu45A8qj6ec"
   },
   "outputs": [],
   "source": [
    "class Criterion(object):\n",
    "    def __init__(self):\n",
    "        self.output = None\n",
    "        self.gradInput = None\n",
    "\n",
    "    def forward(self, input, target):\n",
    "        return self.updateOutput(input, target)\n",
    "\n",
    "    def backward(self, input, target):\n",
    "        return self.updateGradInput(input, target)\n",
    "\n",
    "    def updateOutput(self, input, target):\n",
    "        return self.output\n",
    "\n",
    "    def updateGradInput(self, input, target):\n",
    "        return self.gradInput\n",
    "\n",
    "    def __repr__(self):\n",
    "        return \"Criterion\""
   ]
  },
  {
   "cell_type": "markdown",
   "metadata": {
    "id": "WuU26xkpj6ec"
   },
   "source": [
    "The **MSECriterion**, which is basic L2 norm usually used for regression, is implemented here for you.\n",
    "- input:   **`batch_size x n_feats`**\n",
    "- target: **`batch_size x n_feats`**\n",
    "- output: **scalar**"
   ]
  },
  {
   "cell_type": "code",
   "execution_count": 68,
   "metadata": {
    "id": "-i3VNuHhj6ec"
   },
   "outputs": [],
   "source": [
    "class MSECriterion(Criterion):\n",
    "    def __init__(self):\n",
    "        super(MSECriterion, self).__init__()\n",
    "\n",
    "    def updateOutput(self, input, target):\n",
    "        self.output = np.sum(np.power(input - target,2)) / input.shape[0]\n",
    "        return self.output\n",
    "\n",
    "    def updateGradInput(self, input, target):\n",
    "        self.gradInput  = (input - target) * 2 / input.shape[0]\n",
    "        return self.gradInput\n",
    "\n",
    "    def __repr__(self):\n",
    "        return \"MSECriterion\""
   ]
  },
  {
   "cell_type": "markdown",
   "metadata": {
    "id": "x8LKLWNVj6ec"
   },
   "source": [
    "## 14. (0.2) Negative LogLikelihood criterion (numerically unstable)\n",
    "You task is to implement the **ClassNLLCriterion**. It should implement [multiclass log loss](http://scikit-learn.org/stable/modules/model_evaluation.html#log-loss). Nevertheless there is a sum over `y` (target) in that formula,\n",
    "remember that targets are one-hot encoded. This fact simplifies the computations a lot. Note, that criterions are the only places, where you divide by batch size. Also there is a small hack with adding small number to probabilities to avoid computing log(0).\n",
    "- input:   **`batch_size x n_feats`** - probabilities\n",
    "- target: **`batch_size x n_feats`** - one-hot representation of ground truth\n",
    "- output: **scalar**\n",
    "\n"
   ]
  },
  {
   "cell_type": "code",
   "execution_count": 77,
   "metadata": {
    "id": "die7KvW6j6ec"
   },
   "outputs": [],
   "source": [
    "class ClassNLLCriterionUnstable(Criterion):\n",
    "    EPS = 1e-15\n",
    "    def __init__(self):\n",
    "        a = super(ClassNLLCriterionUnstable, self)\n",
    "        super(ClassNLLCriterionUnstable, self).__init__()\n",
    "\n",
    "    def updateOutput(self, input, target):\n",
    "\n",
    "        # Use this trick to avoid numerical errors\n",
    "        input_clamp = np.clip(input, self.EPS, 1 - self.EPS)\n",
    "        self.output = -np.sum(target * np.log(input_clamp)) / input_clamp.shape[0]\n",
    "        return self.output\n",
    "\n",
    "    def updateGradInput(self, input, target):\n",
    "\n",
    "        # Use this trick to avoid numerical errors\n",
    "        input_clamp = np.clip(input, self.EPS, 1 - self.EPS)\n",
    "        self.gradInput = -target / input_clamp / input.shape[0]\n",
    "        return self.gradInput\n",
    "\n",
    "    def __repr__(self):\n",
    "        return \"ClassNLLCriterionUnstable\""
   ]
  },
  {
   "cell_type": "markdown",
   "metadata": {
    "id": "uHr_JbU5j6ec"
   },
   "source": [
    "## 15. (0.3) Negative LogLikelihood criterion (numerically stable)\n",
    "- input:   **`batch_size x n_feats`** - log probabilities\n",
    "- target: **`batch_size x n_feats`** - one-hot representation of ground truth\n",
    "- output: **scalar**\n",
    "\n",
    "Task is similar to the previous one, but now the criterion input is the output of log-softmax layer. This decomposition allows us to avoid problems with computation of forward and backward of log()."
   ]
  },
  {
   "cell_type": "code",
   "execution_count": 86,
   "metadata": {
    "id": "v7N8bVP9j6ec"
   },
   "outputs": [],
   "source": [
    "class ClassNLLCriterion(Criterion):\n",
    "    def __init__(self):\n",
    "        a = super(ClassNLLCriterion, self)\n",
    "        super(ClassNLLCriterion, self).__init__()\n",
    "\n",
    "    def updateOutput(self, input, target):\n",
    "       self.output = -np.sum(target * input) / input.shape[0]\n",
    "       return self.output\n",
    "\n",
    "    def updateGradInput(self, input, target):\n",
    "      self.gradInput = -target / input.shape[0]\n",
    "      return self.gradInput\n",
    "\n",
    "    def __repr__(self):\n",
    "        return \"ClassNLLCriterion"
   ]
  },
  {
   "cell_type": "code",
   "execution_count": null,
   "metadata": {
    "collapsed": true,
    "id": "E-ZnhKxaj6ed",
    "jupyter": {
     "outputs_hidden": true
    }
   },
   "outputs": [],
   "source": []
  },
  {
   "cell_type": "markdown",
   "metadata": {
    "id": "TC2Bf1PP2Ios"
   },
   "source": [
    "1-я часть задания: реализация слоев, лосей и функций активации - 5 баллов. \\\\\n",
    "2-я часть задания: реализация моделей на своих классах. Что должно быть:\n",
    "  1. Выберите оптимизатор и реализуйте его, чтоб он работал с вами классами. - 1 балл.\n",
    "  2. Модель для задачи мультирегрессии на выбраных вами данных. Использовать FCNN, dropout, batchnorm, MSE. Пробуйте различные фукнции активации. Для первой модели попробуйте большую, среднюю и маленькую модель. - 1 балл.\n",
    "  3. Модель для задачи мультиклассификации на MNIST. Использовать свёртки, макспулы, флэттэны, софтмаксы - 1 балла.\n",
    "  4. Автоэнкодер для выбранных вами данных. Должен быть на свёртках и полносвязных слоях, дропаутах, батчнормах и тд. - 2 балла. \\\\\n",
    "\n",
    "Дополнительно в оценке каждой модели будет учитываться:\n",
    "1. Наличие правильно выбранной метрики и лосс функции.\n",
    "2. Отрисовка графиков лосей и метрик на трейне-валидации. Проверка качества модели на тесте.\n",
    "3. Наличие шедулера для lr.\n",
    "4. Наличие вормапа.\n",
    "5. Наличие механизма ранней остановки и сохранение лучшей модели.\n",
    "6. Свитч лося (метрики) и оптимайзера."
   ]
  },
  {
   "cell_type": "code",
   "execution_count": null,
   "metadata": {
    "id": "Aq0X5QV55ZH4"
   },
   "outputs": [],
   "source": [
    "class Adam:\n",
    "    def __init__(self, parameters, lr=0.001, beta1=0.9, beta2=0.999, eps=1e-8):\n",
    "        self.parameters = parameters\n",
    "        self.lr = lr\n",
    "        self.beta1 = beta1\n",
    "        self.beta2 = beta2\n",
    "        self.eps = eps\n",
    "        self.m = {param: np.zeros_like(param.data) for param in parameters}\n",
    "        self.v = {param: np.zeros_like(param.data) for param in parameters}\n",
    "        self.t = 0  \n",
    "\n",
    "    def step(self):\n",
    "        self.t += 1\n",
    "        for param in self.parameters:\n",
    "            if param.grad is not None:\n",
    "                # Adam обновление\n",
    "                self.m[param] = self.beta1 * self.m[param] + (1 - self.beta1) * param.grad\n",
    "                self.v[param] = self.beta2 * self.v[param] + (1 - self.beta2) * (param.grad ** 2)\n",
    "\n",
    "                m_hat = self.m[param] / (1 - self.beta1 ** self.t)\n",
    "                v_hat = self.v[param] / (1 - self.beta2 ** self.t)\n",
    "\n",
    "                param.data -= self.lr * m_hat / (np.sqrt(v_hat) + self.eps)\n",
    "\n",
    "    def zero_grad(self):\n",
    "        for param in self.parameters:\n",
    "            if param.grad is not None:\n",
    "                param.grad.fill(0)"
   ]
  }
 ],
 "metadata": {
  "colab": {
   "provenance": []
  },
  "kernelspec": {
   "display_name": "Python 3 (ipykernel)",
   "language": "python",
   "name": "python3"
  },
  "language_info": {
   "codemirror_mode": {
    "name": "ipython",
    "version": 3
   },
   "file_extension": ".py",
   "mimetype": "text/x-python",
   "name": "python",
   "nbconvert_exporter": "python",
   "pygments_lexer": "ipython3",
   "version": "3.11.7"
  }
 },
 "nbformat": 4,
 "nbformat_minor": 4
}
