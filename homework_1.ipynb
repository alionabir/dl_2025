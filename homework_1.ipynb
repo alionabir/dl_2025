{
 "cells": [
  {
   "cell_type": "code",
   "execution_count": 1,
   "metadata": {
    "id": "3MeKai5Xj6eX"
   },
   "outputs": [],
   "source": [
    "import numpy as np"
   ]
  },
  {
   "cell_type": "markdown",
   "metadata": {
    "id": "wwlFrG-Tj6eY"
   },
   "source": [
    "**Module** is an abstract class which defines fundamental methods necessary for a training a neural network. You do not need to change anything here, just read the comments."
   ]
  },
  {
   "cell_type": "code",
   "execution_count": 85,
   "metadata": {
    "id": "W8BLmtZ3j6eZ"
   },
   "outputs": [],
   "source": [
    "class Module(object):\n",
    "   \n",
    "    def __init__ (self):\n",
    "        self.output = None\n",
    "        self.gradInput = None\n",
    "        self.training = True\n",
    "\n",
    "    def forward(self, input):\n",
    "    \n",
    "        return self.updateOutput(input)\n",
    "\n",
    "    def backward(self,input, gradOutput):\n",
    "       \n",
    "        self.updateGradInput(input, gradOutput)\n",
    "        self.accGradParameters(input, gradOutput)\n",
    "        return self.gradInput\n",
    "\n",
    "\n",
    "    def updateOutput(self, input):\n",
    "\n",
    "        pass\n",
    "\n",
    "    def updateGradInput(self, input, gradOutput):\n",
    "\n",
    "        pass\n",
    "\n",
    "    def accGradParameters(self, input, gradOutput):\n",
    "      \n",
    "        pass\n",
    "\n",
    "    def zeroGradParameters(self):\n",
    "        \n",
    "        pass\n",
    "\n",
    "    def getParameters(self):\n",
    "        \n",
    "        return []\n",
    "\n",
    "    def getGradParameters(self):\n",
    "    \n",
    "        return []\n",
    "\n",
    "    def train(self):\n",
    "\n",
    "        self.training = True\n",
    "\n",
    "    def evaluate(self):\n",
    "        self.training = False\n",
    "\n",
    "    def __repr__(self):\n",
    "       \n",
    "        return \"Module\""
   ]
  },
  {
   "cell_type": "markdown",
   "metadata": {
    "id": "mKRkIjT8j6eZ"
   },
   "source": [
    "# Sequential container"
   ]
  },
  {
   "cell_type": "markdown",
   "metadata": {
    "id": "Cb98PPpJj6ea"
   },
   "source": [
    "**Define** a forward and backward pass procedures."
   ]
  },
  {
   "cell_type": "code",
   "execution_count": 96,
   "metadata": {},
   "outputs": [],
   "source": [
    "class Sequential(Module):\n",
    "    def __init__(self):\n",
    "        super().__init__()\n",
    "        self.modules = []\n",
    "        self.n = []  \n",
    "\n",
    "    def add(self, module):\n",
    "        self.modules.append(module)\n",
    "\n",
    "    def updateOutput(self, input):\n",
    "        self.n = [input] \n",
    "        for module in self.modules:\n",
    "            self.n.append(module.forward(self.n[-1]))  \n",
    "        self.output = self.n[-1]  \n",
    "        return self.output\n",
    "\n",
    "    def backward(self, input, gradOutput):\n",
    "        k = len(self.modules)\n",
    "        grad = gradOutput  \n",
    "\n",
    "        for i in range(k, - 1, -1, -1): \n",
    "            grad = self.modules[i].backward(self.n[i], grad)\n",
    "\n",
    "        self.gradInput = grad\n",
    "        return self.gradInput\n",
    "\n",
    "    def zeroGradParameters(self):\n",
    "        for module in self.modules:\n",
    "            module.zeroGradParameters()\n",
    "\n",
    "    def getParameters(self):\n",
    "        return [module.getParameters() for module in self.modules]\n",
    "\n",
    "    def getGradParameters(self):\n",
    "        return [module.getGradParameters() for module in self.modules]\n",
    "\n",
    "    def __repr__(self):\n",
    "        return \"\\n\".join(str(module) for module in self.modules)\n",
    "\n",
    "    def __getitem__(self, idx):\n",
    "        return self.modules[idx]\n",
    "\n",
    "    def train(self):\n",
    "        self.training = True\n",
    "        for module in self.modules:\n",
    "            module.train()\n",
    "\n",
    "    def evaluate(self):\n",
    "        self.training = False\n",
    "        for module in self.modules:\n",
    "            module.evaluate()"
   ]
  },
  {
   "cell_type": "markdown",
   "metadata": {
    "id": "zfXdYfO4j6ea"
   },
   "source": [
    "# Layers"
   ]
  },
  {
   "cell_type": "markdown",
   "metadata": {
    "id": "ZuwvBkuNj6ea"
   },
   "source": [
    "## 1 (0.2). Linear transform layer\n",
    "Also known as dense layer, fully-connected layer, FC-layer, InnerProductLayer (in caffe), affine transform\n",
    "- input:   **`batch_size x n_feats1`**\n",
    "- output: **`batch_size x n_feats2`**"
   ]
  },
  {
   "cell_type": "code",
   "execution_count": 87,
   "metadata": {},
   "outputs": [],
   "source": [
    "class Linear(Module):\n",
    "    def __init__(self, n_in, n_out):\n",
    "        super(Linear, self).__init__()\n",
    "        stdv = 1./np.sqrt(n_in)\n",
    "        self.W = np.random.uniform(-stdv, stdv, size=(n_out, n_in))\n",
    "        self.b = np.random.uniform(-stdv, stdv, size=n_out)\n",
    "        self.gradW = np.zeros_like(self.W)\n",
    "        self.gradb = np.zeros_like(self.b)\n",
    "\n",
    "    def updateOutput(self, input):\n",
    "        self.output = input @ self.W.T + self.b.T\n",
    "        return self.output\n",
    "\n",
    "    def updateGradInput(self, input, gradOutput):\n",
    "        self.gradInput = gradOutput @ self.W\n",
    "        assert self.gradInput.shape == input.shape\n",
    "        return self.gradInput\n",
    "\n",
    "    def accGradParameters(self, input, gradOutput):\n",
    "        self.gradW = np.sum(input[:, None, :] * gradOutput[:, :, None], axis=0)\n",
    "        self.gradb = np.sum(gradOutput, axis=0)\n",
    "\n",
    "    def zeroGradParameters(self):\n",
    "        self.gradW.fill(0)\n",
    "        self.gradb.fill(0)\n",
    "\n",
    "    def getParameters(self):\n",
    "        return [self.W, self.b]\n",
    "\n",
    "    def getGradParameters(self):\n",
    "        return [self.gradW, self.gradb]\n",
    "\n",
    "    def __repr__(self):\n",
    "        s = self.W.shape\n",
    "        return 'Linear %d -> %d' % (s[1], s[0])"
   ]
  },
  {
   "cell_type": "markdown",
   "metadata": {
    "id": "tNOnHXZJj6eb"
   },
   "source": [
    "## 2. (0.2) SoftMax\n",
    "- input:   **`batch_size x n_feats`**\n",
    "- output: **`batch_size x n_feats`**\n",
    "\n",
    "$\\text{softmax}(x)_i = \\frac{\\exp x_i} {\\sum_j \\exp x_j}$\n",
    "\n",
    "Recall that $\\text{softmax}(x) == \\text{softmax}(x - \\text{const})$. It makes possible to avoid computing exp() from large argument."
   ]
  },
  {
   "cell_type": "code",
   "execution_count": 88,
   "metadata": {},
   "outputs": [],
   "source": [
    "class SoftMax(Module):\n",
    "    def __init__(self):\n",
    "        super().__init__()\n",
    "\n",
    "    def updateOutput(self, input):\n",
    "        shifted_input = input - np.max(input, axis=1, keepdims=True)\n",
    "        exp_vals = np.exp(shifted_input)\n",
    "        self.output = exp_vals / np.sum(exp_vals, axis=1, keepdims=True)\n",
    "        return self.output\n",
    "\n",
    "    def updateGradInput(self, input, gradOutput):\n",
    "        softmax_grad = self.output * gradOutput\n",
    "        self.gradInput = softmax_grad - self.output * np.sum(softmax_grad, axis=1, keepdims=True)\n",
    "        return self.gradInput\n",
    "\n",
    "    def __repr__(self):\n",
    "        return \"SoftMax\"\n"
   ]
  },
  {
   "cell_type": "markdown",
   "metadata": {
    "id": "Cy3DJjynj6eb"
   },
   "source": [
    "## 3. (0.2) LogSoftMax\n",
    "- input:   **`batch_size x n_feats`**\n",
    "- output: **`batch_size x n_feats`**\n",
    "\n",
    "$\\text{logsoftmax}(x)_i = \\log\\text{softmax}(x)_i = x_i - \\log {\\sum_j \\exp x_j}$\n",
    "\n",
    "The main goal of this layer is to be used in computation of log-likelihood loss."
   ]
  },
  {
   "cell_type": "code",
   "execution_count": 89,
   "metadata": {
    "id": "Xo7DRdAJj6eb"
   },
   "outputs": [],
   "source": [
    "class LogSoftMax(Module):\n",
    "    def __init__(self):\n",
    "        super().__init__()\n",
    "\n",
    "    def updateOutput(self, input):\n",
    "        stable_input = input - np.max(input, axis=1 , keepdims=True)\n",
    "        log_sum_exp = np.log(np.sum(np.exp(stable_input), axis=1, keepdims=True))\n",
    "        self.output = stable_input - log_sum_exp\n",
    "        return self.output\n",
    "\n",
    "    def updateGradInput(self, input, gradOutput):\n",
    "        softmax_vals = np.exp(self.output)\n",
    "        self.gradInput = gradOutput - softmax_vals * np.sum(gradOutput, axis=1, keepdims=True)\n",
    "        return self.gradInput\n",
    "\n",
    "    def __repr__(self):\n",
    "        return \"LogSoftMax\"\n"
   ]
  },
  {
   "cell_type": "code",
   "execution_count": 90,
   "metadata": {},
   "outputs": [],
   "source": [
    "class LogSoftMax(Module):\n",
    "    def __init__(self):\n",
    "         super(LogSoftMax, self).__init__()\n",
    "\n",
    "    def updateOutput(self, input):\n",
    "        self.output = np.subtract(input, input.max(axis=1, keepdims=True))\n",
    "        self.output = self.output - np.log(np.sum(np.exp(self.output), axis=1, keepdims=True))\n",
    "        return self.output\n",
    "\n",
    "    def updateGradInput(self, input, gradOutput):\n",
    "        self.gradInput = gradOutput - np.exp(self.output) * np.sum(gradOutput,  axis=1, keepdims=True)\n",
    "        return self.gradInput\n",
    "\n",
    "    def __repr__(self):\n",
    "        return \"LogSoftMax\""
   ]
  },
  {
   "cell_type": "markdown",
   "metadata": {
    "id": "QP5QdmmPj6eb"
   },
   "source": [
    "## 4. (0.3) Batch normalization\n",
    "One of the most significant recent ideas that impacted NNs a lot is [**Batch normalization**](http://arxiv.org/abs/1502.03167). The idea is simple, yet effective: the features should be whitened ($mean = 0$, $std = 1$) all the way through NN. This improves the convergence for deep models letting it train them for days but not weeks. **You are** to implement the first part of the layer: features normalization. The second part (`ChannelwiseScaling` layer) is implemented below.\n",
    "\n",
    "- input:   **`batch_size x n_feats`**\n",
    "- output: **`batch_size x n_feats`**\n",
    "\n",
    "The layer should work as follows. While training (`self.training == True`) it transforms input as $$y = \\frac{x - \\mu}  {\\sqrt{\\sigma + \\epsilon}}$$\n",
    "where $\\mu$ and $\\sigma$ - mean and variance of feature values in **batch** and $\\epsilon$ is just a small number for numericall stability. Also during training, layer should maintain exponential moving average values for mean and variance:\n",
    "```\n",
    "    self.moving_mean = self.moving_mean * alpha + batch_mean * (1 - alpha)\n",
    "    self.moving_variance = self.moving_variance * alpha + batch_variance * (1 - alpha)\n",
    "```\n",
    "During testing (`self.training == False`) the layer normalizes input using moving_mean and moving_variance.\n",
    "\n",
    "Note that decomposition of batch normalization on normalization itself and channelwise scaling here is just a common **implementation** choice. In general \"batch normalization\" always assumes normalization + scaling."
   ]
  },
  {
   "cell_type": "code",
   "execution_count": 91,
   "metadata": {
    "id": "fGTTDqVgj6eb"
   },
   "outputs": [],
   "source": [
    "class BatchNormalization(Module):\n",
    "    EPS = 1e-3\n",
    "    def __init__(self, alpha = 0.):\n",
    "        super(BatchNormalization, self).__init__()\n",
    "        self.alpha = alpha\n",
    "        self.moving_mean = None\n",
    "        self.moving_variance = None\n",
    "\n",
    "    def updateOutput(self, input):\n",
    "        # Your code goes here. ################################################\n",
    "        # use self.EPS please\n",
    "        if self.training:\n",
    "            batch_mean = input.mean(axis=0)\n",
    "            batch_var = input.var(axis=0)\n",
    "\n",
    "            self.output = (input - batch_mean) / np.sqrt(batch_var + self.EPS)\n",
    "\n",
    "            if self.moving_mean is None:\n",
    "                self.moving_mean = batch_mean\n",
    "                self.moving_variance = batch_var\n",
    "            else:\n",
    "                self.moving_mean = self.alpha * self.moving_mean + (1 - self.alpha) * batch_mean\n",
    "                self.moving_variance = self.alpha * self.moving_variance + (1 - self.alpha) * batch_var\n",
    "        else:\n",
    "          if self.moving_mean is None:\n",
    "              self.moving_mean = input.mean(axis=0)\n",
    "              self.moving_variance = input.var(axis=0)\n",
    "\n",
    "          self.output = (input - self.moving_mean) / np.sqrt(self.moving_variance + self.EPS)\n",
    "\n",
    "\n",
    "        return self.output\n",
    "\n",
    "    def updateGradInput(self, input, gradOutput):\n",
    "        # Your code goes here. ################################################\n",
    "        if self.training:\n",
    "            batch_var = input.var(axis=0) + self.EPS\n",
    "            std_inv = 1. / np.sqrt(batch_var)\n",
    "\n",
    "            N = input.shape[0]\n",
    "            x_centered = input - input.mean(axis=0)\n",
    "\n",
    "            self.gradInput = (1. / N) * std_inv * (\n",
    "                N * gradOutput - np.sum(gradOutput, axis=0)\n",
    "                - x_centered * np.sum(gradOutput * x_centered, axis=0) / batch_var\n",
    "            )\n",
    "\n",
    "        else:\n",
    "            self.gradInput = gradOutput / np.sqrt(self.moving_variance + self.EPS)\n",
    "        return self.gradInput\n",
    "\n",
    "    def __repr__(self):\n",
    "        return \"BatchNormalization\""
   ]
  },
  {
   "cell_type": "code",
   "execution_count": 92,
   "metadata": {
    "id": "8XUS3Lt-j6eb"
   },
   "outputs": [],
   "source": [
    "class ChannelwiseScaling(Module):\n",
    "    \"\"\"\n",
    "       Implements linear transform of input y = \\gamma * x + \\beta\n",
    "       where \\gamma, \\beta - learnable vectors of length x.shape[-1]\n",
    "    \"\"\"\n",
    "    def __init__(self, n_out):\n",
    "        super(ChannelwiseScaling, self).__init__()\n",
    "\n",
    "        stdv = 1./np.sqrt(n_out)\n",
    "        self.gamma = np.random.uniform(-stdv, stdv, size=n_out)\n",
    "        self.beta = np.random.uniform(-stdv, stdv, size=n_out)\n",
    "\n",
    "        self.gradGamma = np.zeros_like(self.gamma)\n",
    "        self.gradBeta = np.zeros_like(self.beta)\n",
    "\n",
    "    def updateOutput(self, input):\n",
    "        self.output = input * self.gamma + self.beta\n",
    "        return self.output\n",
    "\n",
    "    def updateGradInput(self, input, gradOutput):\n",
    "        self.gradInput = gradOutput * self.gamma\n",
    "        return self.gradInput\n",
    "\n",
    "    def accGradParameters(self, input, gradOutput):\n",
    "        self.gradBeta = np.sum(gradOutput, axis=0)\n",
    "        self.gradGamma = np.sum(gradOutput*input, axis=0)\n",
    "\n",
    "    def zeroGradParameters(self):\n",
    "        self.gradGamma.fill(0)\n",
    "        self.gradBeta.fill(0)\n",
    "\n",
    "    def getParameters(self):\n",
    "        return [self.gamma, self.beta]\n",
    "\n",
    "    def getGradParameters(self):\n",
    "        return [self.gradGamma, self.gradBeta]\n",
    "\n",
    "    def __repr__(self):\n",
    "        return \"ChannelwiseScaling\""
   ]
  },
  {
   "cell_type": "markdown",
   "metadata": {
    "id": "vA5zjM3jj6eb"
   },
   "source": [
    "Practical notes. If BatchNormalization is placed after a linear transformation layer (including dense layer, convolutions, channelwise scaling) that implements function like `y = weight * x + bias`, than bias adding become useless and could be omitted since its effect will be discarded while batch mean subtraction. If BatchNormalization (followed by `ChannelwiseScaling`) is placed before a layer that propagates scale (including ReLU, LeakyReLU) followed by any linear transformation layer than parameter `gamma` in `ChannelwiseScaling` could be freezed since it could be absorbed into the linear transformation layer."
   ]
  },
  {
   "cell_type": "markdown",
   "metadata": {
    "id": "Gackeo1cj6eb"
   },
   "source": [
    "## 5. (0.3) Dropout\n",
    "Implement [**dropout**](https://www.cs.toronto.edu/~hinton/absps/JMLRdropout.pdf). The idea and implementation is really simple: just multimply the input by $Bernoulli(p)$ mask. Here $p$ is probability of an element to be zeroed.\n",
    "\n",
    "This has proven to be an effective technique for regularization and preventing the co-adaptation of neurons.\n",
    "\n",
    "While training (`self.training == True`) it should sample a mask on each iteration (for every batch), zero out elements and multiply elements by $1 / (1 - p)$. The latter is needed for keeping mean values of features close to mean values which will be in test mode. When testing this module should implement identity transform i.e. `self.output = input`.\n",
    "\n",
    "- input:   **`batch_size x n_feats`**\n",
    "- output: **`batch_size x n_feats`**"
   ]
  },
  {
   "cell_type": "code",
   "execution_count": 93,
   "metadata": {
    "id": "NmLQV3jXj6eb"
   },
   "outputs": [],
   "source": [
    "class Dropout(Module):\n",
    "    def __init__(self, p=0.5):\n",
    "        super(Dropout, self).__init__()\n",
    "        self.p = p  # Вероятность зануления нейрона\n",
    "        self.mask = None  # Маска для зануления случайных нейронов\n",
    "\n",
    "    def updateOutput(self, input):\n",
    "        if not self.training:\n",
    "            # Во время тестирования Dropout не применяется, передаём вход как есть\n",
    "            self.output = input\n",
    "        else:\n",
    "            # Генерируем маску: 1 с вероятностью (1 - p), 0 с вероятностью p\n",
    "            self.mask = np.random.binomial(1, 1 - self.p, size=input.shape)\n",
    "            \n",
    "            # Масштабируем выход, чтобы среднее значение оставалось неизменным\n",
    "            self.output = input * self.mask / (1 - self.p)\n",
    "        return self.output\n",
    "\n",
    "    def updateGradInput(self, input, gradOutput):\n",
    "        # Градиент передается только через \"выжившие\" нейроны\n",
    "        self.gradInput = np.multiply(gradOutput, self.mask) / (1 - self.p)\n",
    "        return self.gradInput\n",
    "\n",
    "    def __repr__(self):\n",
    "        return \"Dropout\""
   ]
  },
  {
   "cell_type": "markdown",
   "metadata": {
    "id": "-WHGIqJFlhz2"
   },
   "source": [
    "## 6. (2.0) Conv2d\n",
    "Implement [**Conv2d**](https://pytorch.org/docs/stable/generated/torch.nn.Conv2d.html). Use only this list of parameters: (in_channels, out_channels, kernel_size, stride, padding, bias, padding_mode) and fix dilation=1 and groups=1."
   ]
  },
  {
   "cell_type": "code",
   "execution_count": 95,
   "metadata": {},
   "outputs": [],
   "source": [
    "\n",
    "class Conv2d(Module):\n",
    "    def __init__(self, input_channels, output_channels, kernel_size,\n",
    "                 stride=1, padding=0, bias=True, padding_mode='zeros'):\n",
    "        super(Conv2d, self).__init__()\n",
    "\n",
    "        self.input_channels = input_channels\n",
    "        self.output_channels = output_channels\n",
    "        self.kernel_size = (kernel_size, kernel_size) if isinstance(kernel_size, int) else kernel_size\n",
    "        self.stride = (stride, stride) if isinstance(stride, int) else stride\n",
    "        if padding == 'same':\n",
    "          self.padding = (int((self.kernel_size[0] - 1) / 2), int((self.kernel_size[1] - 1) / 2)) # сколько надо паддинга с каждой стороны\n",
    "        else:\n",
    "          self.padding = (padding, padding) if isinstance(padding, int) else padding\n",
    "        self.has_bias = bias\n",
    "        self.padding_mode = padding_mode\n",
    "\n",
    "        self.weight = np.random.randn(self.output_channels, self.input_channels, self.kernel_size[0], self.kernel_size[1])\n",
    "        self.gradW = np.zeros_like(self.weight)\n",
    "        if self.has_bias:\n",
    "          self.bias = np.random.randn(output_channels)\n",
    "          self.gradb = np.zeros_like(self.bias)\n",
    "\n",
    "        if self.padding_mode=='zeros':\n",
    "          self.mode='constant'\n",
    "          self.constant_values=0\n",
    "        elif self.padding_mode=='replicate':\n",
    "          self.mode='edge'\n",
    "        elif self.padding_mode=='reflect':\n",
    "          self.mode='reflect'\n",
    "    def updateOutput(self, input):\n",
    "        # Your code goes here. ################################################\n",
    "        batch_size = input.shape[0]\n",
    "        input_height, input_width = input.shape[-2:]\n",
    "\n",
    "        output_height = int(np.floor((input_height + 2 * self.padding[0] - self.kernel_size[0]) / self.stride[0])) + 1  # вычисляет размер выхода после свертки - с учетом паддинга и страйда\n",
    "        output_width = int(np.floor((input_width + 2 * self.padding[1] - self.kernel_size[1]) / self.stride[1])) + 1  \n",
    "\n",
    "        self.output = np.zeros((batch_size, self.output_channels, output_height, output_width))\n",
    "\n",
    "        if self.mode=='constant':\n",
    "          self.padded_input = np.pad(input, ((0, 0), (0, 0), (self.padding[0], self.padding[0]), (self.padding[1], self.padding[1])), mode=self.mode, constant_values=self.constant_values)\n",
    "        else:\n",
    "          self.padded_input = np.pad(input, ((0, 0), (0, 0), (self.padding[0], self.padding[0]), (self.padding[1], self.padding[1])), mode=self.mode)\n",
    "        for batch_idx in range(batch_size):\n",
    "          for channel_out in range(self.output_channels):\n",
    "            for h_out in range(output_height):\n",
    "              for w_out in range(output_width):\n",
    "                # Вычисляем откуда брать \"окно\" для свертки\n",
    "                h_start = h_out * self.stride[0] \n",
    "                w_start = w_out * self.stride[1]\n",
    "                # Берем кусок входного тензора \n",
    "                receptive_field = self.padded_input[batch_idx, :, h_start:(h_start + self.kernel_size[0]), w_start: (w_start+ self.kernel_size[1])]\n",
    "                self.output[batch_idx, channel_out, h_out, w_out] = np.sum(receptive_field * self.weight[channel_out])\n",
    "\n",
    "                if self.has_bias:\n",
    "                  self.output[batch_idx, channel_out, h_out, w_out] += self.bias[channel_out]\n",
    "        return self.output\n",
    "\n",
    "\n",
    "    def updateGradInput(self, input, gradOutput):\n",
    "        # Your code goes here. ################################################\n",
    "        def edge_mode(row, col, input_height, input_width, padding):\n",
    "          if row < padding[0]:\n",
    "            original_row = 0 \n",
    "          elif row >= input_height + padding[0]:\n",
    "            original_row = input_height - 1\n",
    "          else:\n",
    "            original_row = row - padding[0]\n",
    "\n",
    "          if col < padding[1]:\n",
    "            original_col = 0\n",
    "          elif col >= input_width + padding[1]:\n",
    "            original_col = input_width - 1\n",
    "          else:\n",
    "            original_col = col - padding[1]\n",
    "\n",
    "          return original_row, original_col\n",
    "\n",
    "        def reflect_mode(row, col, input_height, input_width, padding):\n",
    "              height = input_height\n",
    "              width = input_width\n",
    "              original_row = row\n",
    "              if row < 0:\n",
    "                original_row = -row\n",
    "              elif row >= height:\n",
    "                original_row = 2 * (height - 1) - row\n",
    "\n",
    "              original_col = col\n",
    "              if col < 0:\n",
    "                original_col = -col\n",
    "              elif col >= width:\n",
    "                original_col = 2 * (width - 1) - col\n",
    "              return original_row, original_col\n",
    "\n",
    "\n",
    "        input_height, input_width = input.shape[-2:]\n",
    "        batch_size, output_channels, output_height, output_width = gradOutput.shape\n",
    "\n",
    "        self.gradInput = np.zeros_like(input)\n",
    "        for batch_idx in range(batch_size):\n",
    "          for channel_out in range(self.output_channels):\n",
    "            for h_out in range(output_height):\n",
    "              for w_out in range(output_width):\n",
    "                h_start = h_out * self.stride[0]\n",
    "                w_start = w_out * self.stride[1]\n",
    "\n",
    "                for channel_in in range(self.input_channels):\n",
    "                 for h_kernel in range(self.kernel_size[0]):\n",
    "                  for w_kernel in range(self.kernel_size[1]):\n",
    "                    h_in = h_start + h_kernel - self.padding[0]\n",
    "                    w_in = w_start + w_kernel - self.padding[1]\n",
    "\n",
    "                    if (0 <= h_in < input_height) and (0 <= w_in < input_width):\n",
    "                       self.gradInput[batch_idx, channel_in, h_in, w_in] += gradOutput[batch_idx, channel_out, h_out, w_out] * self.weight[channel_out, channel_in, h_kernel, w_kernel]\n",
    "                    else:\n",
    "                      if self.mode=='edge':\n",
    "                          original_h, original_w = edge_mode(h_in+self.padding[0], w_in+self.padding[1], input_height, input_width, self.padding)\n",
    "                          self.gradInput[batch_idx, channel_in, original_h, original_w] += gradOutput[batch_idx, channel_out, h_out, w_out] * self.weight[channel_out, channel_in, h_kernel, w_kernel]\n",
    "                      elif self.mode=='reflect':\n",
    "                          original_h, original_w = reflect_mode(h_in, w_in, input_height, input_width, self.padding)\n",
    "                          self.gradInput[batch_idx, channel_in, original_h, original_w] += gradOutput[batch_idx, channel_out, h_out, w_out] * self.weight[channel_out, channel_in, h_kernel, w_kernel]\n",
    "\n",
    "        return self.gradInput\n",
    "\n",
    "    def accGradParameters(self, input, gradOutput):\n",
    "        input_height, input_width = input.shape[-2:]\n",
    "        batch_size, output_channels, output_height, output_width = gradOutput.shape\n",
    "\n",
    "        self.gradInput = np.zeros_like(input)\n",
    "\n",
    "        for batch_idx in range(batch_size):\n",
    "          for channel_out in range(self.output_channels):\n",
    "            for h_out in range(output_height):\n",
    "              for w_out in range(output_width):\n",
    "                h_start = h_out * self.stride[0]\n",
    "                w_start = w_out * self.stride[1]\n",
    "\n",
    "                receptive_field = self.padded_input[batch_idx, :, h_start:(h_start + self.kernel_size[0]), w_start: (w_start+ self.kernel_size[1])]\n",
    "\n",
    "                self.gradW[channel_out] += receptive_field * gradOutput[batch_idx, channel_out, h_out, w_out]\n",
    "                if self.has_bias:\n",
    "                  self.gradb[channel_out] += gradOutput[batch_idx, channel_out, h_out, w_out]\n",
    "        pass\n",
    "\n",
    "    def zeroGradParameters(self):\n",
    "        self.gradW.fill(0)\n",
    "        if self.has_bias:\n",
    "          self.gradb.fill(0)\n",
    "\n",
    "    def getParameters(self):\n",
    "        if self.has_bias:\n",
    "          return [self.weight, self.bias]\n",
    "        else: return [self.weight]\n",
    "\n",
    "    def getGradParameters(self):\n",
    "        if self.has_bias:\n",
    "          return [self.gradW, self.gradb]\n",
    "        else: return [self.gradW]\n",
    "\n",
    "    def __repr__(self):\n",
    "        return \"Conv2d\""
   ]
  },
  {
   "cell_type": "markdown",
   "metadata": {
    "id": "updUVZE9qixP"
   },
   "source": [
    "## 7. (0.5) Implement [**MaxPool2d**](https://pytorch.org/docs/stable/generated/torch.nn.MaxPool2d.html) and [**AvgPool2d**](https://pytorch.org/docs/stable/generated/torch.nn.AvgPool2d.html). \n",
    "Use only parameters like kernel_size, stride, padding (negative infinity for maxpool and zero for avgpool) and other parameters fixed as in framework."
   ]
  },
  {
   "cell_type": "code",
   "execution_count": 33,
   "metadata": {
    "id": "Qys58EzkqhLj"
   },
   "outputs": [],
   "source": [
    "\n",
    "\n",
    "class MaxPool2d(Module):\n",
    "    def __init__(self, kernel_size, stride, padding):\n",
    "        super(MaxPool2d, self).__init__()\n",
    "        self.kernel_size = (kernel_size, kernel_size) if isinstance(kernel_size, int) else kernel_size\n",
    "        self.stride = (stride, stride) if isinstance(stride, int) else stride\n",
    "        self.padding = (padding, padding) if isinstance(padding, int) else padding\n",
    "        self.cache = None\n",
    "        \n",
    "    def updateOutput(self, input):\n",
    "        batch, num_channels, H_in, W_in = input.shape\n",
    "        H_out = ((H_in + 2*self.padding[0] - self.kernel_size[0]) // self.stride[0] + 1)\n",
    "        W_out = ((W_in + 2*self.padding[1] - self.kernel_size[1]) // self.stride[1] + 1)\n",
    "        self.output = np.zeros((batch, num_channels, H_out, W_out))\n",
    "        self.indices = np.zeros((batch, num_channels, H_out, W_out, 2), dtype=int)\n",
    "        padding = np.pad(input, ((0,0), (0,0), (self.padding[0], self.padding[0]), (self.padding[1], self.padding[1])), mode='constant')\n",
    "        \n",
    "        for b in range(batch):\n",
    "            for c in range(num_channels):\n",
    "                for i in range(H_out):\n",
    "                    for j in range(W_out):\n",
    "                        h_start = i * self.stride[0]\n",
    "                        h_end = h_start + self.kernel_size[0]\n",
    "                        w_start = j * self.stride[1]\n",
    "                        w_end = w_start + self.kernel_size[1]\n",
    "                        window = padding[b, c, h_start:h_end, w_start:w_end]\n",
    "                        self.output[b, c, i, j] = np.max(window)\n",
    "                        max_idx = np.unravel_index(np.argmax(window), window.shape)\n",
    "                        self.indices[b, c, i, j] = [h_start + max_idx[0], w_start + max_idx[1]]\n",
    "        \n",
    "        self.cache = (batch, num_channels, H_in, W_in)\n",
    "        return self.output\n",
    "\n",
    "    def updateGradInput(self, input, gradOutput):\n",
    "        batch, num_channels, H_in, W_in = self.cache\n",
    "        out_shape = (batch, num_channels, H_in + 2*self.padding[0], W_in + 2*self.padding[1])\n",
    "        self.gradInput = np.zeros(out_shape)\n",
    "\n",
    "        for b in range(batch):\n",
    "            for c in range(num_channels):\n",
    "                for i in range(gradOutput.shape[2]):\n",
    "                    for j in range(gradOutput.shape[3]):\n",
    "                        h, w = self.indices[b, c, i, j]\n",
    "                        self.gradInput[b, c, h, w] += gradOutput[b, c, i, j]\n",
    "\n",
    "        if self.padding[0] > 0 or self.padding[1] > 0:\n",
    "            self.gradInput = self.gradInput[:, :, self.padding[0]:-self.padding[0], self.padding[1]:-self.padding[1]] if self.padding[0] > 0 and self.padding[1] > 0 else \\\n",
    "                             self.gradInput[:, :, self.padding[0]:-self.padding[0], :] if self.padding[0] > 0 else \\\n",
    "                             self.gradInput[:, :, :, self.padding[1]:-self.padding[1]]\n",
    "                             \n",
    "        return self.gradInput\n",
    "\n",
    "    def __repr__(self):\n",
    "        return \"MaxPool2d\"\n",
    "\n",
    "\n",
    "\n",
    "class AvgPool2d(Module):\n",
    "    def __init__(self, kernel_size, stride, padding):\n",
    "        super(AvgPool2d, self).__init__()\n",
    "        self.kernel_size = (kernel_size, kernel_size) if isinstance(kernel_size, int) else kernel_size\n",
    "        self.stride = (stride, stride) if isinstance(stride, int) else stride\n",
    "        self.padding = (padding, padding) if isinstance(padding, int) else padding\n",
    "        self.cache = None\n",
    "\n",
    "    def updateOutput(self, input):\n",
    "        batch, num_channels, H_in, W_in = input.shape\n",
    "        H_out = ((H_in + 2*self.padding[0] - self.kernel_size[0]) // self.stride[0] + 1)\n",
    "        W_out = ((W_in + 2*self.padding[1] - self.kernel_size[1]) // self.stride[1] + 1)\n",
    "        self.output = np.zeros((batch, num_channels, H_out, W_out))\n",
    "        padding = np.pad(input, ((0,0), (0,0), (self.padding[0],self.padding[0]), (self.padding[1],self.padding[1])), mode='constant')\n",
    "        \n",
    "        for b in range(batch):\n",
    "            for c in range(num_channels):\n",
    "                for i in range(H_out):\n",
    "                    for j in range(W_out):\n",
    "                        h_start = i* self.stride[0]\n",
    "                        h_end = h_start + self.kernel_size[0]\n",
    "                        w_start = j * self.stride[1]\n",
    "                        w_end = w_start + self.kernel_size[1]\n",
    "                        window = padding[b, c, h_start:h_end, w_start:w_end]\n",
    "                        self.output[b, c, i, j] = np.mean(window)\n",
    "        \n",
    "        self.cache = (batch, num_channels, H_in, W_in)\n",
    "        return self.output\n",
    "\n",
    "    def updateGradInput(self, input, gradOutput):\n",
    "        batch, num_channels, H_in, W_in = self.cache\n",
    "        out_shape = (batch, num_channels, H_in + 2*self.padding[0], W_in + 2*self.padding[1])\n",
    "        self.gradInput = np.zeros(out_shape)\n",
    "        norm_win = 1 / (self.kernel_size[0] * self.kernel_size[1])\n",
    "        \n",
    "        for b in range(batch):\n",
    "            for c in range(num_channels):\n",
    "                for i in range(gradOutput.shape[2]):\n",
    "                    for j in range(gradOutput.shape[3]):\n",
    "                        h_start = i * self.stride[0]\n",
    "                        h_end = h_start + self.kernel_size[0]\n",
    "                        w_start = j * self.stride[1]\n",
    "                        w_end = w_start + self.kernel_size[1]\n",
    "                        self.gradInput[b, c, h_start:h_end, w_start:w_end] += gradOutput[b, c, i, j] * norm_win\n",
    "        \n",
    "        if self.padding[0] > 0 or self.padding[1] > 0:\n",
    "            self.gradInput = self.gradInput[:, :, self.padding[0]:-self.padding[0], self.padding[1]:-self.padding[1]] if self.padding[0] > 0 and self.padding[1] > 0 else \\\n",
    "                             self.gradInput[:, :, self.padding[0]:-self.padding[0], :] if self.padding[0] > 0 else \\\n",
    "                             self.gradInput[:, :, :, self.padding[1]:-self.padding[1]]\n",
    "                             \n",
    "        return self.gradInput\n",
    "\n",
    "    def __repr__(self):\n",
    "        return \"AvgPool2d\"\n",
    "\n"
   ]
  },
  {
   "cell_type": "markdown",
   "metadata": {
    "id": "KTN5R3CwrukV"
   },
   "source": [
    "## 8. (0.3) Implement **GlobalMaxPool2d** and **GlobalAvgPool2d**.\n",
    "They do not have testing and parameters are up to you but they must aggregate information within channels. Write test functions for these layers on your own."
   ]
  },
  {
   "cell_type": "code",
   "execution_count": 34,
   "metadata": {},
   "outputs": [],
   "source": [
    "\n",
    "\n",
    "class GlobalMaxPool2d(Module):\n",
    "    def __init__(self, keep_dimensions=False):\n",
    "        super(GlobalMaxPool2d, self).__init__()\n",
    "        self.keep_dimensions = keep_dimensions\n",
    "        self.input_cache = None\n",
    "\n",
    "    def compute_output(self, input_tensor):\n",
    "        num_batches, num_channels, h, w = input_tensor.shape\n",
    "        \n",
    "        self.input_cache = input_tensor\n",
    "        flattened_input = input_tensor.reshape(num_batches, num_channels, -1)\n",
    "        self.max_positions = np.argmax(flattened_input, axis=2)\n",
    "        \n",
    "        self.output_tensor = np.max(flattened_input, axis=2)\n",
    "        \n",
    "        if self.keep_dimensions:\n",
    "            self.output_tensor = self.output_tensor.reshape(num_batches, num_channels, 1, 1)\n",
    "\n",
    "        return self.output_tensor\n",
    "\n",
    "    def compute_gradient(self, input_tensor, output_gradient):\n",
    "        num_batches, num_channels = output_gradient.shape[:2]\n",
    "        h, w = input_tensor.shape[-2:]\n",
    "        \n",
    "        self.input_gradient = np.zeros_like(input_tensor)\n",
    "        \n",
    "        if self.keep_dimensions:\n",
    "            output_gradient = output_gradient.reshape(num_batches, num_channels)\n",
    "        \n",
    "        max_h, max_w = self._compute_max_positions()\n",
    "\n",
    "        self._propagate_gradients(output_gradient, num_batches, num_channels, max_h, max_w)\n",
    "\n",
    "        return self.input_gradient\n",
    "\n",
    "    def _compute_max_positions(self):\n",
    "        img_width = self.input_cache.shape[3]\n",
    "        max_h = self.max_positions // img_width\n",
    "        max_w = self.max_positions % img_width\n",
    "        return max_h, max_w\n",
    "\n",
    "    def _propagate_gradients(self, output_gradient, num_batches, num_channels, max_h, max_w):\n",
    "        batch_idx, channel_idx = np.indices((num_batches, num_channels))\n",
    "        for b, c in zip(batch_idx.flatten(), channel_idx.flatten()):\n",
    "            self.input_gradient[b, c, max_h[b, c], max_w[b, c]] = output_gradient[b, c]\n",
    "\n",
    "    def __repr__(self):\n",
    "        return f\"GlobalMaxPool2d(keepdims={self.keep_dimensions})\"\n",
    "\n",
    "\n",
    "class GlobalAvgPool2d(Module):\n",
    "    def __init__(self, keep_dimensions=False):\n",
    "        super(GlobalAvgPool2d, self).__init__()\n",
    "        self.keep_dimensions = keep_dimensions\n",
    "\n",
    "    def compute_output(self, input_tensor):\n",
    "        num_batches, num_channels, h, w = input_tensor.shape\n",
    "        \n",
    "        self.output_tensor = np.mean(input_tensor, axis=(2, 3))\n",
    "        \n",
    "        if self.keep_dimensions:\n",
    "            self.output_tensor = self.output_tensor.reshape(num_batches, num_channels, 1, 1)\n",
    "\n",
    "        return self.output_tensor\n",
    "\n",
    "    def compute_gradient(self, input_tensor, output_gradient):\n",
    "        num_batches, num_channels = output_gradient.shape[:2]\n",
    "        h, w = input_tensor.shape[-2:]\n",
    "        total_pixels = h * w\n",
    "        \n",
    "        self.input_gradient = np.zeros_like(input_tensor)\n",
    "        \n",
    "        if self.keep_dimensions:\n",
    "            output_gradient = output_gradient.reshape(num_batches, num_channels)\n",
    "        \n",
    "        for batch in range(num_batches):\n",
    "            for channel in range(num_channels):\n",
    "                for y in range(h):\n",
    "                    for x in range(w):\n",
    "                        self.input_gradient[batch, channel, y, x] = output_gradient[batch, channel] / total_pixels\n",
    "\n",
    "        return self.input_gradient\n",
    "\n",
    "    def __repr__(self):\n",
    "        return f\"GlobalAvgPool2d(keepdims={self.keep_dimensions})\""
   ]
  },
  {
   "cell_type": "markdown",
   "metadata": {
    "id": "cYeBQDBhtViy"
   },
   "source": [
    "## 9. (0.2) Implement [**Flatten**](https://pytorch.org/docs/stable/generated/torch.flatten.html)"
   ]
  },
  {
   "cell_type": "code",
   "execution_count": 35,
   "metadata": {
    "id": "SimPEMOFqhTQ"
   },
   "outputs": [],
   "source": [
    "class Flatten(Module):\n",
    "    def __init__(self, start_dim=0, end_dim=-1):\n",
    "        super(Flatten, self).__init__()\n",
    "        self.start_dim = start_dim\n",
    "        self.end_dim = end_dim\n",
    "\n",
    "    def updateOutput(self, input_data):\n",
    "        self.input_shape = input_data.shape  # Сохраняем исходную форму\n",
    "        start_dim = self.start_dim\n",
    "        end_dim = self.end_dim if self.end_dim >= 0 else len(input_data.shape) + self.end_dim\n",
    "        \n",
    "        # Вычисляем новую форму\n",
    "        new_shape = input_data.shape[:start_dim] + (-1,) + input_data.shape[end_dim + 1:]\n",
    "        self.output = input_data.reshape(new_shape)\n",
    "        return self.output\n",
    "\n",
    "    def updateGradInput(self, input_data, grad_output):\n",
    "        # Восстанавливаем исходную форму градиента\n",
    "        self.gradInput = grad_output.reshape(self.input_shape)\n",
    "        return self.gradInput\n",
    "\n",
    "    def __repr__(self):\n",
    "        return f\"Flatten(start_dim={self.start_dim}, end_dim={self.end_dim})\"\n"
   ]
  },
  {
   "cell_type": "markdown",
   "metadata": {
    "id": "o36vPHSSj6eb"
   },
   "source": [
    "# Activation functions"
   ]
  },
  {
   "cell_type": "markdown",
   "metadata": {
    "id": "l_pryRQIj6ec"
   },
   "source": [
    "Here's the complete example for the **Rectified Linear Unit** non-linearity (aka **ReLU**):"
   ]
  },
  {
   "cell_type": "code",
   "execution_count": 36,
   "metadata": {
    "id": "sgm8bXjKj6ec"
   },
   "outputs": [],
   "source": [
    "class ReLU(Module):\n",
    "    def __init__(self):\n",
    "         super(ReLU, self).__init__()\n",
    "\n",
    "    def updateOutput(self, input):\n",
    "        self.output = np.maximum(input, 0)\n",
    "        return self.output\n",
    "\n",
    "    def updateGradInput(self, input, gradOutput):\n",
    "        self.gradInput = np.multiply(gradOutput , input > 0)\n",
    "        return self.gradInput\n",
    "\n",
    "    def __repr__(self):\n",
    "        return \"ReLU\""
   ]
  },
  {
   "cell_type": "markdown",
   "metadata": {
    "id": "yB0UHGagj6ec"
   },
   "source": [
    "## 10. (0.1) Leaky ReLU\n",
    "Implement [**Leaky Rectified Linear Unit**](http://en.wikipedia.org/wiki%2FRectifier_%28neural_networks%29%23Leaky_ReLUs). Expriment with slope."
   ]
  },
  {
   "cell_type": "code",
   "execution_count": 37,
   "metadata": {
    "id": "agwfkwO0j6ec"
   },
   "outputs": [],
   "source": [
    "class LeakyReLU(Module):\n",
    "    def __init__(self, slope=0.03):\n",
    "        super(LeakyReLU, self).__init__()\n",
    "        self.slope_value = slope\n",
    "\n",
    "    def updateOutput(self, input_data):\n",
    "        self.output = np.where(input_data > 0, input_data, self.slope_value * input_data)\n",
    "        return  self.output\n",
    "\n",
    "    def updateGradInput(self, input_data, grad_output):\n",
    "        grad_input = np.where(input_data >= 0, 1, self.slope_value)\n",
    "        self.gradInput = grad_input * grad_output\n",
    "        return  self.gradInput\n",
    "\n",
    "    def __repr__(self):\n",
    "        return \"LeakyReLU\""
   ]
  },
  {
   "cell_type": "markdown",
   "metadata": {
    "id": "t-STyecvj6ec"
   },
   "source": [
    "## 11. (0.1) ELU\n",
    "Implement [**Exponential Linear Units**](http://arxiv.org/abs/1511.07289) activations."
   ]
  },
  {
   "cell_type": "code",
   "execution_count": 38,
   "metadata": {
    "id": "jJSzEu1mj6ec"
   },
   "outputs": [],
   "source": [
    "class ELU(Module):\n",
    "    def __init__(self, alpha = 1.0):\n",
    "        super(ELU, self).__init__()\n",
    "\n",
    "        self.alpha = alpha\n",
    "\n",
    "    def updateOutput(self, input):\n",
    "        self.output = np.where(input >= 0, input, self.alpha * (np.exp(input) - 1))\n",
    "        return  self.output\n",
    "\n",
    "    def updateGradInput(self, input, gradOutput):\n",
    "        gradInput = np.where(input >= 0, 1, self.alpha * np.exp(input))\n",
    "        self.gradInput = gradInput * gradOutput\n",
    "        return self.gradInput\n",
    "\n",
    "    def __repr__(self):\n",
    "        return \"ELU\""
   ]
  },
  {
   "cell_type": "markdown",
   "metadata": {
    "id": "Gn3C7KTqj6ec"
   },
   "source": [
    "## 12. (0.1) SoftPlus\n",
    "Implement [**SoftPlus**](https://en.wikipedia.org/wiki%2FRectifier_%28neural_networks%29) activations. Look, how they look a lot like ReLU."
   ]
  },
  {
   "cell_type": "code",
   "execution_count": 39,
   "metadata": {
    "id": "xcDPMssrj6ec"
   },
   "outputs": [],
   "source": [
    "class SoftPlus(Module):\n",
    "    def __init__(self):\n",
    "        super(SoftPlus, self).__init__()\n",
    "\n",
    "    def updateOutput(self, input):\n",
    " \n",
    "        self.output = np.log(1 + np.exp(input))\n",
    "        return  self.output\n",
    "    def updateGradInput(self, input, gradOutput):\n",
    "        gradInput = 1 / (1 + np.exp(-input))  # sigmoid(x)\n",
    "        self.gradInput = gradInput * gradOutput\n",
    "        return self.gradInput\n",
    "\n",
    "    def __repr__(self):\n",
    "        return \"SoftPlus\""
   ]
  },
  {
   "cell_type": "markdown",
   "metadata": {
    "id": "kw3PeZjOuo0e"
   },
   "source": [
    "## 13. (0.2) Gelu\n",
    "Implement [**Gelu**](https://pytorch.org/docs/stable/generated/torch.nn.GELU.html) activations."
   ]
  },
  {
   "cell_type": "code",
   "execution_count": 40,
   "metadata": {
    "id": "SdieE0Dtuo8j"
   },
   "outputs": [],
   "source": [
    "class Gelu(Module):\n",
    "    def __init__(self):\n",
    "        super(Gelu, self).__init__()\n",
    "\n",
    "    def updateOutput(self, input):\n",
    "        # Your code goes here. ################################################\n",
    "        x = input\n",
    "        sqrt_2 = np.sqrt(2)\n",
    "        self.output = 0.5 * x * (1 + np.math.erf(x / sqrt_2))\n",
    "\n",
    "        return  self.output\n",
    "\n",
    "    def updateGradInput(self, input, gradOutput):\n",
    "        # Your code goes here. ################################################\n",
    "        x = input\n",
    "        sqrt_2 = np.sqrt(2)\n",
    "        sqrt_2pi = np.sqrt(2 * np.pi)\n",
    "\n",
    "        cdf = 0.5 * (1 + np.math.erf(x / sqrt_2))\n",
    "        pdf = np.exp(-0.5 * x**2) / sqrt_2pi\n",
    "\n",
    "        self.gradInput = gradOutput * (cdf + x * pdf)\n",
    "\n",
    "        return self.gradInput\n",
    "\n",
    "    def train(self):\n",
    "        pass\n",
    "\n",
    "    def __repr__(self):\n",
    "        return \"Gelu\""
   ]
  },
  {
   "cell_type": "markdown",
   "metadata": {
    "id": "55p7UvPAj6ec"
   },
   "source": [
    "# Criterions"
   ]
  },
  {
   "cell_type": "markdown",
   "metadata": {
    "id": "5NFaxZaqj6ec"
   },
   "source": [
    "Criterions are used to score the models answers."
   ]
  },
  {
   "cell_type": "code",
   "execution_count": 41,
   "metadata": {
    "id": "XGu45A8qj6ec"
   },
   "outputs": [],
   "source": [
    "\n",
    "\n",
    "class Criterion(object):\n",
    "    def __init__ (self):\n",
    "        self.output = None\n",
    "        self.gradInput = None\n",
    "\n",
    "    def forward(self, input, target):\n",
    "        \"\"\"\n",
    "            Given an input and a target, compute the loss function\n",
    "            associated to the criterion and return the result.\n",
    "\n",
    "            For consistency this function should not be overrided,\n",
    "            all the code goes in `updateOutput`.\n",
    "        \"\"\"\n",
    "        return self.updateOutput(input, target)\n",
    "\n",
    "    def backward(self, input, target):\n",
    "        \"\"\"\n",
    "            Given an input and a target, compute the gradients of the loss function\n",
    "            associated to the criterion and return the result.\n",
    "\n",
    "            For consistency this function should not be overrided,\n",
    "            all the code goes in `updateGradInput`.\n",
    "        \"\"\"\n",
    "        return self.updateGradInput(input, target)\n",
    "\n",
    "    def updateOutput(self, input, target):\n",
    "        \"\"\"\n",
    "        Function to override.\n",
    "        \"\"\"\n",
    "        return self.output\n",
    "\n",
    "    def updateGradInput(self, input, target):\n",
    "        \"\"\"\n",
    "        Function to override.\n",
    "        \"\"\"\n",
    "        return self.gradInput\n",
    "\n",
    "    def __repr__(self):\n",
    "        \"\"\"\n",
    "        Pretty printing. Should be overrided in every module if you want\n",
    "        to have readable description.\n",
    "        \"\"\"\n",
    "        return \"Criterion\""
   ]
  },
  {
   "cell_type": "markdown",
   "metadata": {
    "id": "WuU26xkpj6ec"
   },
   "source": [
    "The **MSECriterion**, which is basic L2 norm usually used for regression, is implemented here for you.\n",
    "- input:   **`batch_size x n_feats`**\n",
    "- target: **`batch_size x n_feats`**\n",
    "- output: **scalar**"
   ]
  },
  {
   "cell_type": "code",
   "execution_count": 42,
   "metadata": {
    "id": "-i3VNuHhj6ec"
   },
   "outputs": [],
   "source": [
    "class MSECriterion(Criterion):\n",
    "    def __init__(self):\n",
    "        super(MSECriterion, self).__init__()\n",
    "\n",
    "    def updateOutput(self, input, target):\n",
    "        self.output = np.sum(np.power(input - target,2)) / input.shape[0]\n",
    "        return self.output\n",
    "\n",
    "    def updateGradInput(self, input, target):\n",
    "        self.gradInput  = (input - target) * 2 / input.shape[0]\n",
    "        return self.gradInput\n",
    "\n",
    "    def __repr__(self):\n",
    "        return \"MSECriterion\""
   ]
  },
  {
   "cell_type": "markdown",
   "metadata": {
    "id": "x8LKLWNVj6ec"
   },
   "source": [
    "## 14. (0.2) Negative LogLikelihood criterion (numerically unstable)\n",
    "You task is to implement the **ClassNLLCriterion**. It should implement [multiclass log loss](http://scikit-learn.org/stable/modules/model_evaluation.html#log-loss). Nevertheless there is a sum over `y` (target) in that formula,\n",
    "remember that targets are one-hot encoded. This fact simplifies the computations a lot. Note, that criterions are the only places, where you divide by batch size. Also there is a small hack with adding small number to probabilities to avoid computing log(0).\n",
    "- input:   **`batch_size x n_feats`** - probabilities\n",
    "- target: **`batch_size x n_feats`** - one-hot representation of ground truth\n",
    "- output: **scalar**\n",
    "\n"
   ]
  },
  {
   "cell_type": "code",
   "execution_count": 43,
   "metadata": {
    "id": "die7KvW6j6ec"
   },
   "outputs": [],
   "source": [
    "class ClassNLLCriterionUnstable(Criterion):\n",
    "    EPS = 1e-15\n",
    "    def __init__(self):\n",
    "        a = super(ClassNLLCriterionUnstable, self)\n",
    "        super(ClassNLLCriterionUnstable, self).__init__()\n",
    "\n",
    "    def updateOutput(self, input, target):\n",
    "\n",
    "        # Use this trick to avoid numerical errors\n",
    "        input_clamp = np.clip(input, self.EPS, 1 - self.EPS)\n",
    "        self.output = -np.sum(target * np.log(input_clamp)) / input_clamp.shape[0]\n",
    "        return self.output\n",
    "\n",
    "    def updateGradInput(self, input, target):\n",
    "\n",
    "        # Use this trick to avoid numerical errors\n",
    "        input_clamp = np.clip(input, self.EPS, 1 - self.EPS)\n",
    "        self.gradInput = -target / input_clamp / input.shape[0]\n",
    "        return self.gradInput\n",
    "\n",
    "    def __repr__(self):\n",
    "        return \"ClassNLLCriterionUnstable\""
   ]
  },
  {
   "cell_type": "markdown",
   "metadata": {
    "id": "uHr_JbU5j6ec"
   },
   "source": [
    "## 15. (0.3) Negative LogLikelihood criterion (numerically stable)\n",
    "- input:   **`batch_size x n_feats`** - log probabilities\n",
    "- target: **`batch_size x n_feats`** - one-hot representation of ground truth\n",
    "- output: **scalar**\n",
    "\n",
    "Task is similar to the previous one, but now the criterion input is the output of log-softmax layer. This decomposition allows us to avoid problems with computation of forward and backward of log()."
   ]
  },
  {
   "cell_type": "code",
   "execution_count": 44,
   "metadata": {
    "id": "v7N8bVP9j6ec"
   },
   "outputs": [],
   "source": [
    "class ClassNLLCriterion(Criterion):\n",
    "    def __init__(self):\n",
    "        a = super(ClassNLLCriterion, self)\n",
    "        super(ClassNLLCriterion, self).__init__()\n",
    "\n",
    "    def updateOutput(self, input, target):\n",
    "       self.output = -np.sum(target * input) / input.shape[0]\n",
    "       return self.output\n",
    "\n",
    "    def updateGradInput(self, input, target):\n",
    "      self.gradInput = -target / input.shape[0]\n",
    "      return self.gradInput\n",
    "\n",
    "    def __repr__(self):\n",
    "        return \"ClassNLLCriterion\""
   ]
  },
  {
   "cell_type": "markdown",
   "metadata": {
    "id": "TC2Bf1PP2Ios"
   },
   "source": [
    "1-я часть задания: реализация слоев, лосей и функций активации - 5 баллов. \\\\\n",
    "2-я часть задания: реализация моделей на своих классах. Что должно быть:\n",
    "  1. Выберите оптимизатор и реализуйте его, чтоб он работал с вами классами. - 1 балл.\n",
    "  2. Модель для задачи мультирегрессии на выбраных вами данных. Использовать FCNN, dropout, batchnorm, MSE. Пробуйте различные фукнции активации. Для первой модели попробуйте большую, среднюю и маленькую модель. - 1 балл.\n",
    "  3. Модель для задачи мультиклассификации на MNIST. Использовать свёртки, макспулы, флэттэны, софтмаксы - 1 балла.\n",
    "  4. Автоэнкодер для выбранных вами данных. Должен быть на свёртках и полносвязных слоях, дропаутах, батчнормах и тд. - 2 балла. \\\\\n",
    "\n",
    "Дополнительно в оценке каждой модели будет учитываться:\n",
    "1. Наличие правильно выбранной метрики и лосс функции.\n",
    "2. Отрисовка графиков лосей и метрик на трейне-валидации. Проверка качества модели на тесте.\n",
    "3. Наличие шедулера для lr.\n",
    "4. Наличие вормапа.\n",
    "5. Наличие механизма ранней остановки и сохранение лучшей модели.\n",
    "6. Свитч лося (метрики) и оптимайзера."
   ]
  },
  {
   "cell_type": "markdown",
   "metadata": {},
   "source": [
    "# 1.Оптимизатор"
   ]
  },
  {
   "cell_type": "code",
   "execution_count": 45,
   "metadata": {},
   "outputs": [],
   "source": [
    "from sklearn.datasets import make_regression\n",
    "from sklearn.model_selection import train_test_split\n",
    "import matplotlib.pyplot as plt\n",
    "from sklearn.metrics import r2_score  "
   ]
  },
  {
   "cell_type": "code",
   "execution_count": 59,
   "metadata": {
    "id": "Aq0X5QV55ZH4"
   },
   "outputs": [],
   "source": [
    "class Adam:\n",
    "    def __init__(self, parameters, lr=0.001, beta1=0.9, beta2=0.999, eps=1e-8):\n",
    "      \n",
    "        self.parameters = parameters\n",
    "        self.lr = lr\n",
    "        self.beta1 = beta1\n",
    "        self.beta2 = beta2\n",
    "        self.eps = eps\n",
    "        self.t = 0\n",
    "       \n",
    "        self.m = [np.zeros_like(p) for p in parameters]\n",
    "        self.v = [np.zeros_like(p) for p in parameters]\n",
    "        \n",
    "      \n",
    "        self.grads = [None for _ in parameters]\n",
    "\n",
    "    def step(self):\n",
    "        self.t += 1\n",
    "        for i, (param, grad) in enumerate(zip(self.parameters, self.grads)):\n",
    "            if grad is not None:\n",
    "               \n",
    "                self.m[i] = self.beta1 * self.m[i] + (1 - self.beta1) * grad\n",
    "                self.v[i] = self.beta2 * self.v[i] + (1 - self.beta2) * (grad ** 2)\n",
    "                \n",
    "                \n",
    "                m_hat = self.m[i] / (1 - self.beta1 ** self.t)\n",
    "                v_hat = self.v[i] / (1 - self.beta2 ** self.t)\n",
    "                \n",
    "               \n",
    "                self.parameters[i] -= self.lr * m_hat / (np.sqrt(v_hat) + self.eps)\n",
    "\n",
    "    def zero_grad(self):\n",
    "        self.grads = [None for _ in self.parameters]"
   ]
  },
  {
   "cell_type": "markdown",
   "metadata": {},
   "source": [
    "## Шедулер"
   ]
  },
  {
   "cell_type": "code",
   "execution_count": 47,
   "metadata": {},
   "outputs": [],
   "source": [
    "class CosineAnnealingLR:\n",
    "    def __init__(self, optim, T_max, eta_min=0):\n",
    "        self.optim = optim\n",
    "        self.T_max = T_max\n",
    "        self.eta_min = eta_min\n",
    "        self.epoch = 0\n",
    "        self.base_lr = optim.lr  \n",
    "\n",
    "    def step(self):\n",
    "        self.epoch += 1\n",
    "        # Косинусная формула\n",
    "        progress = min(self.epoch / self.T_max, 1.0)\n",
    "        lr = self.eta_min + 0.5 * (self.base_lr - self.eta_min) * (1 + math.cos(math.pi * progress))\n",
    "        self.optim.lr = lr"
   ]
  },
  {
   "cell_type": "markdown",
   "metadata": {},
   "source": [
    " # 2. Модель для задачи мультирегрессии на выбраных вами данных.\n",
    " Использовать FCNN, dropout, batchnorm, MSE. Пробуйте различные фукнции активации. Для первой модели попробуйте большую, среднюю и маленькую модель. - 1 балл."
   ]
  },
  {
   "cell_type": "markdown",
   "metadata": {},
   "source": [
    "## 2.1. Данные"
   ]
  },
  {
   "cell_type": "code",
   "execution_count": 72,
   "metadata": {},
   "outputs": [
    {
     "name": "stdout",
     "output_type": "stream",
     "text": [
      "Train size: (2400, 10), Val size: (510, 10), Test size: (450, 10)\n"
     ]
    }
   ],
   "source": [
    "X, y = make_regression(n_samples=3000, n_features=10, n_targets=3)\n",
    "\n",
    "X_train, X_test, y_train, y_test = train_test_split(X, y, test_size=0.2, random_state=9)\n",
    "X_train_val, X_test, y_train_val, y_test = train_test_split(X, y, test_size=0.15, random_state=9)\n",
    "\n",
    "\n",
    "print(f\"Train size: {X_train.shape}, Val size: {X_val.shape}, Test size: {X_test.shape}\")\n"
   ]
  },
  {
   "cell_type": "code",
   "execution_count": 80,
   "metadata": {},
   "outputs": [],
   "source": [
    "class SmallModel(Module):\n",
    "    def __init__(self):\n",
    "        super(SmallModel, self).__init__()\n",
    "        self.model = Sequential()\n",
    "        self.model.add(Linear(30, 120))\n",
    "        self.model.add(Dropout(0.5))\n",
    "        self.model.add(LeakyReLU())\n",
    "        self.model.add(Linear(120, 3))\n",
    "        \n",
    "    def forward(self, input):\n",
    "        return self.model.forward(input)\n",
    "        \n",
    "    def backward(self, input, grad):\n",
    "        return self.model.backward(input, grad)\n",
    "        \n",
    "    def zeroGradParameters(self):\n",
    "        self.model.zeroGradParameters()\n",
    "\n",
    "    def getParameters(self):\n",
    "        return self.model.getParameters()\n",
    "\n",
    "    def getGradParameters(self):\n",
    "        return self.model.getGradParameters()\n",
    "\n",
    "    def train(self):\n",
    "        self.model.train()\n",
    "\n",
    "    def eval(self):\n",
    "        self.model.evaluate()"
   ]
  }
 ],
 "metadata": {
  "colab": {
   "provenance": []
  },
  "kernelspec": {
   "display_name": "Python 3 (ipykernel)",
   "language": "python",
   "name": "python3"
  },
  "language_info": {
   "codemirror_mode": {
    "name": "ipython",
    "version": 3
   },
   "file_extension": ".py",
   "mimetype": "text/x-python",
   "name": "python",
   "nbconvert_exporter": "python",
   "pygments_lexer": "ipython3",
   "version": "3.11.7"
  }
 },
 "nbformat": 4,
 "nbformat_minor": 4
}
