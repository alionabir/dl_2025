{
  "metadata": {
    "kernelspec": {
      "name": "python3",
      "display_name": "Python 3",
      "language": "python"
    },
    "language_info": {
      "name": "python",
      "version": "3.11.11",
      "mimetype": "text/x-python",
      "codemirror_mode": {
        "name": "ipython",
        "version": 3
      },
      "pygments_lexer": "ipython3",
      "nbconvert_exporter": "python",
      "file_extension": ".py"
    },
    "kaggle": {
      "accelerator": "nvidiaTeslaT4",
      "dataSources": [
        {
          "sourceId": 11847883,
          "sourceType": "datasetVersion",
          "datasetId": 7444319
        }
      ],
      "dockerImageVersionId": 31041,
      "isInternetEnabled": true,
      "language": "python",
      "sourceType": "notebook",
      "isGpuEnabled": true
    },
    "colab": {
      "provenance": []
    }
  },
  "nbformat_minor": 5,
  "nbformat": 4,
  "cells": [
    {
      "cell_type": "code",
      "source": [],
      "metadata": {
        "id": "CJyBRmsEMcAI"
      },
      "id": "CJyBRmsEMcAI",
      "execution_count": 74,
      "outputs": []
    },
    {
      "id": "6b166abb-43eb-4484-901f-225d24a51262",
      "cell_type": "code",
      "source": [
        "import pandas as pd\n",
        "import numpy as np\n",
        "import numpy as np\n",
        "import matplotlib.pyplot as plt\n",
        "from transformers import get_linear_schedule_with_warmup\n",
        "import seaborn as sns\n",
        "\n",
        "import re\n",
        "import nltk\n",
        "from nltk.corpus import stopwords\n",
        "from nltk.stem import WordNetLemmatizer\n",
        "from nltk.tokenize import word_tokenize\n",
        "from pymorphy2 import MorphAnalyzer\n",
        "\n",
        "from sklearn.model_selection import train_test_split\n",
        "from sklearn.preprocessing import MultiLabelBinarizer\n",
        "from sklearn.feature_extraction.text import TfidfVectorizer\n",
        "from sklearn.neural_network import MLPClassifier\n",
        "#from gensim.models import Word2Vec\n",
        "\n",
        "import torch\n",
        "from torch import nn, optim\n",
        "from torch.utils.data import Dataset, DataLoader\n",
        "from transformers import AutoTokenizer, AutoModel\n",
        "from sklearn.feature_extraction.text import TfidfVectorizer\n",
        "import numpy as np\n",
        "import matplotlib.pyplot as plt\n",
        "from collections import Counter\n",
        "from torch.optim import AdamW\n",
        "from transformers import GPT2LMHeadModel, GPT2Tokenizer\n",
        "import torch\n",
        "from torch import nn\n",
        "import torch.nn.functional as F\n",
        "from sklearn.metrics import f1_score, accuracy_score\n",
        "from torch.optim.lr_scheduler import LambdaLR\n",
        "import matplotlib.pyplot as plt\n",
        "from google.colab import files\n",
        "import collections\n",
        "import numpy as np\n",
        "from gensim.models import Word2Vec\n",
        "from sklearn.model_selection import train_test_split\n",
        "from sklearn.preprocessing import StandardScaler\n",
        "import tensorflow as tf\n",
        "from tensorflow.keras.models import Sequential\n",
        "from tensorflow.keras.layers import Dense, Dropout, BatchNormalization\n",
        "from tensorflow.keras.callbacks import EarlyStopping, ModelCheckpoint, LearningRateScheduler\n",
        "import matplotlib.pyplot as plt\n",
        "\n"
      ],
      "metadata": {
        "trusted": true,
        "execution": {
          "iopub.status.busy": "2025-05-18T14:49:06.496797Z",
          "iopub.execute_input": "2025-05-18T14:49:06.497383Z",
          "iopub.status.idle": "2025-05-18T14:49:12.379373Z",
          "shell.execute_reply.started": "2025-05-18T14:49:06.497360Z",
          "shell.execute_reply": "2025-05-18T14:49:12.378764Z"
        },
        "id": "6b166abb-43eb-4484-901f-225d24a51262"
      },
      "outputs": [],
      "execution_count": 76
    },
    {
      "cell_type": "code",
      "source": [
        "uploaded = files.upload()"
      ],
      "metadata": {
        "colab": {
          "base_uri": "https://localhost:8080/",
          "height": 38
        },
        "id": "86aWxxvwHBuz",
        "outputId": "c87695c0-9c37-4044-81c4-514326a17944"
      },
      "id": "86aWxxvwHBuz",
      "execution_count": 77,
      "outputs": [
        {
          "output_type": "display_data",
          "data": {
            "text/plain": [
              "<IPython.core.display.HTML object>"
            ],
            "text/html": [
              "\n",
              "     <input type=\"file\" id=\"files-6e9d2287-ec22-4b0c-a0ad-28c39107355b\" name=\"files[]\" multiple disabled\n",
              "        style=\"border:none\" />\n",
              "     <output id=\"result-6e9d2287-ec22-4b0c-a0ad-28c39107355b\">\n",
              "      Upload widget is only available when the cell has been executed in the\n",
              "      current browser session. Please rerun this cell to enable.\n",
              "      </output>\n",
              "      <script>// Copyright 2017 Google LLC\n",
              "//\n",
              "// Licensed under the Apache License, Version 2.0 (the \"License\");\n",
              "// you may not use this file except in compliance with the License.\n",
              "// You may obtain a copy of the License at\n",
              "//\n",
              "//      http://www.apache.org/licenses/LICENSE-2.0\n",
              "//\n",
              "// Unless required by applicable law or agreed to in writing, software\n",
              "// distributed under the License is distributed on an \"AS IS\" BASIS,\n",
              "// WITHOUT WARRANTIES OR CONDITIONS OF ANY KIND, either express or implied.\n",
              "// See the License for the specific language governing permissions and\n",
              "// limitations under the License.\n",
              "\n",
              "/**\n",
              " * @fileoverview Helpers for google.colab Python module.\n",
              " */\n",
              "(function(scope) {\n",
              "function span(text, styleAttributes = {}) {\n",
              "  const element = document.createElement('span');\n",
              "  element.textContent = text;\n",
              "  for (const key of Object.keys(styleAttributes)) {\n",
              "    element.style[key] = styleAttributes[key];\n",
              "  }\n",
              "  return element;\n",
              "}\n",
              "\n",
              "// Max number of bytes which will be uploaded at a time.\n",
              "const MAX_PAYLOAD_SIZE = 100 * 1024;\n",
              "\n",
              "function _uploadFiles(inputId, outputId) {\n",
              "  const steps = uploadFilesStep(inputId, outputId);\n",
              "  const outputElement = document.getElementById(outputId);\n",
              "  // Cache steps on the outputElement to make it available for the next call\n",
              "  // to uploadFilesContinue from Python.\n",
              "  outputElement.steps = steps;\n",
              "\n",
              "  return _uploadFilesContinue(outputId);\n",
              "}\n",
              "\n",
              "// This is roughly an async generator (not supported in the browser yet),\n",
              "// where there are multiple asynchronous steps and the Python side is going\n",
              "// to poll for completion of each step.\n",
              "// This uses a Promise to block the python side on completion of each step,\n",
              "// then passes the result of the previous step as the input to the next step.\n",
              "function _uploadFilesContinue(outputId) {\n",
              "  const outputElement = document.getElementById(outputId);\n",
              "  const steps = outputElement.steps;\n",
              "\n",
              "  const next = steps.next(outputElement.lastPromiseValue);\n",
              "  return Promise.resolve(next.value.promise).then((value) => {\n",
              "    // Cache the last promise value to make it available to the next\n",
              "    // step of the generator.\n",
              "    outputElement.lastPromiseValue = value;\n",
              "    return next.value.response;\n",
              "  });\n",
              "}\n",
              "\n",
              "/**\n",
              " * Generator function which is called between each async step of the upload\n",
              " * process.\n",
              " * @param {string} inputId Element ID of the input file picker element.\n",
              " * @param {string} outputId Element ID of the output display.\n",
              " * @return {!Iterable<!Object>} Iterable of next steps.\n",
              " */\n",
              "function* uploadFilesStep(inputId, outputId) {\n",
              "  const inputElement = document.getElementById(inputId);\n",
              "  inputElement.disabled = false;\n",
              "\n",
              "  const outputElement = document.getElementById(outputId);\n",
              "  outputElement.innerHTML = '';\n",
              "\n",
              "  const pickedPromise = new Promise((resolve) => {\n",
              "    inputElement.addEventListener('change', (e) => {\n",
              "      resolve(e.target.files);\n",
              "    });\n",
              "  });\n",
              "\n",
              "  const cancel = document.createElement('button');\n",
              "  inputElement.parentElement.appendChild(cancel);\n",
              "  cancel.textContent = 'Cancel upload';\n",
              "  const cancelPromise = new Promise((resolve) => {\n",
              "    cancel.onclick = () => {\n",
              "      resolve(null);\n",
              "    };\n",
              "  });\n",
              "\n",
              "  // Wait for the user to pick the files.\n",
              "  const files = yield {\n",
              "    promise: Promise.race([pickedPromise, cancelPromise]),\n",
              "    response: {\n",
              "      action: 'starting',\n",
              "    }\n",
              "  };\n",
              "\n",
              "  cancel.remove();\n",
              "\n",
              "  // Disable the input element since further picks are not allowed.\n",
              "  inputElement.disabled = true;\n",
              "\n",
              "  if (!files) {\n",
              "    return {\n",
              "      response: {\n",
              "        action: 'complete',\n",
              "      }\n",
              "    };\n",
              "  }\n",
              "\n",
              "  for (const file of files) {\n",
              "    const li = document.createElement('li');\n",
              "    li.append(span(file.name, {fontWeight: 'bold'}));\n",
              "    li.append(span(\n",
              "        `(${file.type || 'n/a'}) - ${file.size} bytes, ` +\n",
              "        `last modified: ${\n",
              "            file.lastModifiedDate ? file.lastModifiedDate.toLocaleDateString() :\n",
              "                                    'n/a'} - `));\n",
              "    const percent = span('0% done');\n",
              "    li.appendChild(percent);\n",
              "\n",
              "    outputElement.appendChild(li);\n",
              "\n",
              "    const fileDataPromise = new Promise((resolve) => {\n",
              "      const reader = new FileReader();\n",
              "      reader.onload = (e) => {\n",
              "        resolve(e.target.result);\n",
              "      };\n",
              "      reader.readAsArrayBuffer(file);\n",
              "    });\n",
              "    // Wait for the data to be ready.\n",
              "    let fileData = yield {\n",
              "      promise: fileDataPromise,\n",
              "      response: {\n",
              "        action: 'continue',\n",
              "      }\n",
              "    };\n",
              "\n",
              "    // Use a chunked sending to avoid message size limits. See b/62115660.\n",
              "    let position = 0;\n",
              "    do {\n",
              "      const length = Math.min(fileData.byteLength - position, MAX_PAYLOAD_SIZE);\n",
              "      const chunk = new Uint8Array(fileData, position, length);\n",
              "      position += length;\n",
              "\n",
              "      const base64 = btoa(String.fromCharCode.apply(null, chunk));\n",
              "      yield {\n",
              "        response: {\n",
              "          action: 'append',\n",
              "          file: file.name,\n",
              "          data: base64,\n",
              "        },\n",
              "      };\n",
              "\n",
              "      let percentDone = fileData.byteLength === 0 ?\n",
              "          100 :\n",
              "          Math.round((position / fileData.byteLength) * 100);\n",
              "      percent.textContent = `${percentDone}% done`;\n",
              "\n",
              "    } while (position < fileData.byteLength);\n",
              "  }\n",
              "\n",
              "  // All done.\n",
              "  yield {\n",
              "    response: {\n",
              "      action: 'complete',\n",
              "    }\n",
              "  };\n",
              "}\n",
              "\n",
              "scope.google = scope.google || {};\n",
              "scope.google.colab = scope.google.colab || {};\n",
              "scope.google.colab._files = {\n",
              "  _uploadFiles,\n",
              "  _uploadFilesContinue,\n",
              "};\n",
              "})(self);\n",
              "</script> "
            ]
          },
          "metadata": {}
        }
      ]
    },
    {
      "cell_type": "code",
      "source": [
        "!unzip dl-2025-study-competition-2.zip"
      ],
      "metadata": {
        "id": "zaYzY7j-HMTA",
        "colab": {
          "base_uri": "https://localhost:8080/"
        },
        "outputId": "b7a100e2-780a-4917-949f-019627752e7b"
      },
      "id": "zaYzY7j-HMTA",
      "execution_count": 78,
      "outputs": [
        {
          "output_type": "stream",
          "name": "stdout",
          "text": [
            "Archive:  dl-2025-study-competition-2.zip\n",
            "replace sample_submission.csv? [y]es, [n]o, [A]ll, [N]one, [r]ename: "
          ]
        }
      ]
    },
    {
      "id": "22ece579-921c-4874-94fa-09f4e7a78168",
      "cell_type": "code",
      "source": [
        "df = pd.read_csv('train.csv')\n",
        "df_test = pd.read_csv('test.csv')"
      ],
      "metadata": {
        "trusted": true,
        "execution": {
          "iopub.status.busy": "2025-05-18T14:17:13.323079Z",
          "iopub.execute_input": "2025-05-18T14:17:13.323597Z",
          "iopub.status.idle": "2025-05-18T14:17:14.620575Z",
          "shell.execute_reply.started": "2025-05-18T14:17:13.323576Z",
          "shell.execute_reply": "2025-05-18T14:17:14.619982Z"
        },
        "id": "22ece579-921c-4874-94fa-09f4e7a78168"
      },
      "outputs": [],
      "execution_count": 79
    },
    {
      "id": "d128b6b2-4845-4c04-a9e6-52bb44cd6fd9",
      "cell_type": "code",
      "source": [
        "df"
      ],
      "metadata": {
        "trusted": true,
        "execution": {
          "iopub.status.busy": "2025-05-17T14:34:34.747704Z",
          "iopub.execute_input": "2025-05-17T14:34:34.747901Z",
          "iopub.status.idle": "2025-05-17T14:34:34.783931Z",
          "shell.execute_reply.started": "2025-05-17T14:34:34.747886Z",
          "shell.execute_reply": "2025-05-17T14:34:34.783386Z"
        },
        "id": "d128b6b2-4845-4c04-a9e6-52bb44cd6fd9",
        "colab": {
          "base_uri": "https://localhost:8080/",
          "height": 424
        },
        "outputId": "281181bf-c115-4bca-ec5d-07af4a50cbab"
      },
      "outputs": [
        {
          "output_type": "execute_result",
          "data": {
            "text/plain": [
              "          id                                               text  \\\n",
              "0          0  15 января\\nДетская развлекательная программа\\n...   \n",
              "1          1  13 и 14 августа\\nВыходные в Меге\\nhttps://t.me...   \n",
              "2          2  Йокнапатофа\\nПостановка Театр им. Маяковского\\...   \n",
              "3          3  Впервые в Уфе танцевальная терапия в группе с ...   \n",
              "4          4  🎹\\nGRAND PIANO COMPETITION\\n🎹\\nДрузья, сегодня...   \n",
              "...      ...                                                ...   \n",
              "29563  29563  Выступление Симфо-группы TEODOR\\n⠀\\n22 июля в ...   \n",
              "29564  29564  🔤\\nЮЗИКЛ \"МОНТЕ-КРИСТО\" ТЕАТР ОПЕРЕТТЫ\\nЭто оч...   \n",
              "29565  29565  РАСПИСАНИЕ БЕСПЛАТНЫХ ЭКСКУРСИЙ\\nв октябре 202...   \n",
              "29566  29566  Долгожданный концерт Надежды Кадышевой в Рязан...   \n",
              "29567  29567  Спектакль-победитель фестиваля «Амурская осень...   \n",
              "\n",
              "                                        labels  \n",
              "0      1 0 0 0 1 0 0 0 1 0 0 0 1 1 1 1 1 0 0 1  \n",
              "1      0 0 0 1 0 0 0 0 1 0 0 0 1 1 0 1 1 0 0 1  \n",
              "2      0 0 0 0 1 0 0 0 0 0 0 0 1 1 0 1 1 0 0 1  \n",
              "3      1 1 0 0 1 0 0 1 1 1 1 1 1 1 1 0 0 1 1 0  \n",
              "4      1 1 0 0 0 0 0 1 1 0 0 1 1 1 1 0 1 1 1 0  \n",
              "...                                        ...  \n",
              "29563  0 0 0 0 0 0 0 1 1 0 0 0 0 1 0 1 1 1 1 0  \n",
              "29564  1 1 1 0 0 0 0 1 0 1 1 1 0 1 1 0 1 1 1 0  \n",
              "29565  1 1 0 0 1 0 0 1 1 1 1 1 1 1 1 1 1 1 1 0  \n",
              "29566  1 0 1 0 0 0 0 1 0 1 1 1 0 1 1 0 0 1 1 0  \n",
              "29567  0 1 0 0 1 0 0 1 1 1 0 0 1 0 1 0 1 1 1 0  \n",
              "\n",
              "[29568 rows x 3 columns]"
            ],
            "text/html": [
              "\n",
              "  <div id=\"df-d734dc65-3dfa-49d9-b039-8d5ac64fa58e\" class=\"colab-df-container\">\n",
              "    <div>\n",
              "<style scoped>\n",
              "    .dataframe tbody tr th:only-of-type {\n",
              "        vertical-align: middle;\n",
              "    }\n",
              "\n",
              "    .dataframe tbody tr th {\n",
              "        vertical-align: top;\n",
              "    }\n",
              "\n",
              "    .dataframe thead th {\n",
              "        text-align: right;\n",
              "    }\n",
              "</style>\n",
              "<table border=\"1\" class=\"dataframe\">\n",
              "  <thead>\n",
              "    <tr style=\"text-align: right;\">\n",
              "      <th></th>\n",
              "      <th>id</th>\n",
              "      <th>text</th>\n",
              "      <th>labels</th>\n",
              "    </tr>\n",
              "  </thead>\n",
              "  <tbody>\n",
              "    <tr>\n",
              "      <th>0</th>\n",
              "      <td>0</td>\n",
              "      <td>15 января\\nДетская развлекательная программа\\n...</td>\n",
              "      <td>1 0 0 0 1 0 0 0 1 0 0 0 1 1 1 1 1 0 0 1</td>\n",
              "    </tr>\n",
              "    <tr>\n",
              "      <th>1</th>\n",
              "      <td>1</td>\n",
              "      <td>13 и 14 августа\\nВыходные в Меге\\nhttps://t.me...</td>\n",
              "      <td>0 0 0 1 0 0 0 0 1 0 0 0 1 1 0 1 1 0 0 1</td>\n",
              "    </tr>\n",
              "    <tr>\n",
              "      <th>2</th>\n",
              "      <td>2</td>\n",
              "      <td>Йокнапатофа\\nПостановка Театр им. Маяковского\\...</td>\n",
              "      <td>0 0 0 0 1 0 0 0 0 0 0 0 1 1 0 1 1 0 0 1</td>\n",
              "    </tr>\n",
              "    <tr>\n",
              "      <th>3</th>\n",
              "      <td>3</td>\n",
              "      <td>Впервые в Уфе танцевальная терапия в группе с ...</td>\n",
              "      <td>1 1 0 0 1 0 0 1 1 1 1 1 1 1 1 0 0 1 1 0</td>\n",
              "    </tr>\n",
              "    <tr>\n",
              "      <th>4</th>\n",
              "      <td>4</td>\n",
              "      <td>🎹\\nGRAND PIANO COMPETITION\\n🎹\\nДрузья, сегодня...</td>\n",
              "      <td>1 1 0 0 0 0 0 1 1 0 0 1 1 1 1 0 1 1 1 0</td>\n",
              "    </tr>\n",
              "    <tr>\n",
              "      <th>...</th>\n",
              "      <td>...</td>\n",
              "      <td>...</td>\n",
              "      <td>...</td>\n",
              "    </tr>\n",
              "    <tr>\n",
              "      <th>29563</th>\n",
              "      <td>29563</td>\n",
              "      <td>Выступление Симфо-группы TEODOR\\n⠀\\n22 июля в ...</td>\n",
              "      <td>0 0 0 0 0 0 0 1 1 0 0 0 0 1 0 1 1 1 1 0</td>\n",
              "    </tr>\n",
              "    <tr>\n",
              "      <th>29564</th>\n",
              "      <td>29564</td>\n",
              "      <td>🔤\\nЮЗИКЛ \"МОНТЕ-КРИСТО\" ТЕАТР ОПЕРЕТТЫ\\nЭто оч...</td>\n",
              "      <td>1 1 1 0 0 0 0 1 0 1 1 1 0 1 1 0 1 1 1 0</td>\n",
              "    </tr>\n",
              "    <tr>\n",
              "      <th>29565</th>\n",
              "      <td>29565</td>\n",
              "      <td>РАСПИСАНИЕ БЕСПЛАТНЫХ ЭКСКУРСИЙ\\nв октябре 202...</td>\n",
              "      <td>1 1 0 0 1 0 0 1 1 1 1 1 1 1 1 1 1 1 1 0</td>\n",
              "    </tr>\n",
              "    <tr>\n",
              "      <th>29566</th>\n",
              "      <td>29566</td>\n",
              "      <td>Долгожданный концерт Надежды Кадышевой в Рязан...</td>\n",
              "      <td>1 0 1 0 0 0 0 1 0 1 1 1 0 1 1 0 0 1 1 0</td>\n",
              "    </tr>\n",
              "    <tr>\n",
              "      <th>29567</th>\n",
              "      <td>29567</td>\n",
              "      <td>Спектакль-победитель фестиваля «Амурская осень...</td>\n",
              "      <td>0 1 0 0 1 0 0 1 1 1 0 0 1 0 1 0 1 1 1 0</td>\n",
              "    </tr>\n",
              "  </tbody>\n",
              "</table>\n",
              "<p>29568 rows × 3 columns</p>\n",
              "</div>\n",
              "    <div class=\"colab-df-buttons\">\n",
              "\n",
              "  <div class=\"colab-df-container\">\n",
              "    <button class=\"colab-df-convert\" onclick=\"convertToInteractive('df-d734dc65-3dfa-49d9-b039-8d5ac64fa58e')\"\n",
              "            title=\"Convert this dataframe to an interactive table.\"\n",
              "            style=\"display:none;\">\n",
              "\n",
              "  <svg xmlns=\"http://www.w3.org/2000/svg\" height=\"24px\" viewBox=\"0 -960 960 960\">\n",
              "    <path d=\"M120-120v-720h720v720H120Zm60-500h600v-160H180v160Zm220 220h160v-160H400v160Zm0 220h160v-160H400v160ZM180-400h160v-160H180v160Zm440 0h160v-160H620v160ZM180-180h160v-160H180v160Zm440 0h160v-160H620v160Z\"/>\n",
              "  </svg>\n",
              "    </button>\n",
              "\n",
              "  <style>\n",
              "    .colab-df-container {\n",
              "      display:flex;\n",
              "      gap: 12px;\n",
              "    }\n",
              "\n",
              "    .colab-df-convert {\n",
              "      background-color: #E8F0FE;\n",
              "      border: none;\n",
              "      border-radius: 50%;\n",
              "      cursor: pointer;\n",
              "      display: none;\n",
              "      fill: #1967D2;\n",
              "      height: 32px;\n",
              "      padding: 0 0 0 0;\n",
              "      width: 32px;\n",
              "    }\n",
              "\n",
              "    .colab-df-convert:hover {\n",
              "      background-color: #E2EBFA;\n",
              "      box-shadow: 0px 1px 2px rgba(60, 64, 67, 0.3), 0px 1px 3px 1px rgba(60, 64, 67, 0.15);\n",
              "      fill: #174EA6;\n",
              "    }\n",
              "\n",
              "    .colab-df-buttons div {\n",
              "      margin-bottom: 4px;\n",
              "    }\n",
              "\n",
              "    [theme=dark] .colab-df-convert {\n",
              "      background-color: #3B4455;\n",
              "      fill: #D2E3FC;\n",
              "    }\n",
              "\n",
              "    [theme=dark] .colab-df-convert:hover {\n",
              "      background-color: #434B5C;\n",
              "      box-shadow: 0px 1px 3px 1px rgba(0, 0, 0, 0.15);\n",
              "      filter: drop-shadow(0px 1px 2px rgba(0, 0, 0, 0.3));\n",
              "      fill: #FFFFFF;\n",
              "    }\n",
              "  </style>\n",
              "\n",
              "    <script>\n",
              "      const buttonEl =\n",
              "        document.querySelector('#df-d734dc65-3dfa-49d9-b039-8d5ac64fa58e button.colab-df-convert');\n",
              "      buttonEl.style.display =\n",
              "        google.colab.kernel.accessAllowed ? 'block' : 'none';\n",
              "\n",
              "      async function convertToInteractive(key) {\n",
              "        const element = document.querySelector('#df-d734dc65-3dfa-49d9-b039-8d5ac64fa58e');\n",
              "        const dataTable =\n",
              "          await google.colab.kernel.invokeFunction('convertToInteractive',\n",
              "                                                    [key], {});\n",
              "        if (!dataTable) return;\n",
              "\n",
              "        const docLinkHtml = 'Like what you see? Visit the ' +\n",
              "          '<a target=\"_blank\" href=https://colab.research.google.com/notebooks/data_table.ipynb>data table notebook</a>'\n",
              "          + ' to learn more about interactive tables.';\n",
              "        element.innerHTML = '';\n",
              "        dataTable['output_type'] = 'display_data';\n",
              "        await google.colab.output.renderOutput(dataTable, element);\n",
              "        const docLink = document.createElement('div');\n",
              "        docLink.innerHTML = docLinkHtml;\n",
              "        element.appendChild(docLink);\n",
              "      }\n",
              "    </script>\n",
              "  </div>\n",
              "\n",
              "\n",
              "    <div id=\"df-0b0be1f8-8b3d-4dc9-9da5-8a015ba5672d\">\n",
              "      <button class=\"colab-df-quickchart\" onclick=\"quickchart('df-0b0be1f8-8b3d-4dc9-9da5-8a015ba5672d')\"\n",
              "                title=\"Suggest charts\"\n",
              "                style=\"display:none;\">\n",
              "\n",
              "<svg xmlns=\"http://www.w3.org/2000/svg\" height=\"24px\"viewBox=\"0 0 24 24\"\n",
              "     width=\"24px\">\n",
              "    <g>\n",
              "        <path d=\"M19 3H5c-1.1 0-2 .9-2 2v14c0 1.1.9 2 2 2h14c1.1 0 2-.9 2-2V5c0-1.1-.9-2-2-2zM9 17H7v-7h2v7zm4 0h-2V7h2v10zm4 0h-2v-4h2v4z\"/>\n",
              "    </g>\n",
              "</svg>\n",
              "      </button>\n",
              "\n",
              "<style>\n",
              "  .colab-df-quickchart {\n",
              "      --bg-color: #E8F0FE;\n",
              "      --fill-color: #1967D2;\n",
              "      --hover-bg-color: #E2EBFA;\n",
              "      --hover-fill-color: #174EA6;\n",
              "      --disabled-fill-color: #AAA;\n",
              "      --disabled-bg-color: #DDD;\n",
              "  }\n",
              "\n",
              "  [theme=dark] .colab-df-quickchart {\n",
              "      --bg-color: #3B4455;\n",
              "      --fill-color: #D2E3FC;\n",
              "      --hover-bg-color: #434B5C;\n",
              "      --hover-fill-color: #FFFFFF;\n",
              "      --disabled-bg-color: #3B4455;\n",
              "      --disabled-fill-color: #666;\n",
              "  }\n",
              "\n",
              "  .colab-df-quickchart {\n",
              "    background-color: var(--bg-color);\n",
              "    border: none;\n",
              "    border-radius: 50%;\n",
              "    cursor: pointer;\n",
              "    display: none;\n",
              "    fill: var(--fill-color);\n",
              "    height: 32px;\n",
              "    padding: 0;\n",
              "    width: 32px;\n",
              "  }\n",
              "\n",
              "  .colab-df-quickchart:hover {\n",
              "    background-color: var(--hover-bg-color);\n",
              "    box-shadow: 0 1px 2px rgba(60, 64, 67, 0.3), 0 1px 3px 1px rgba(60, 64, 67, 0.15);\n",
              "    fill: var(--button-hover-fill-color);\n",
              "  }\n",
              "\n",
              "  .colab-df-quickchart-complete:disabled,\n",
              "  .colab-df-quickchart-complete:disabled:hover {\n",
              "    background-color: var(--disabled-bg-color);\n",
              "    fill: var(--disabled-fill-color);\n",
              "    box-shadow: none;\n",
              "  }\n",
              "\n",
              "  .colab-df-spinner {\n",
              "    border: 2px solid var(--fill-color);\n",
              "    border-color: transparent;\n",
              "    border-bottom-color: var(--fill-color);\n",
              "    animation:\n",
              "      spin 1s steps(1) infinite;\n",
              "  }\n",
              "\n",
              "  @keyframes spin {\n",
              "    0% {\n",
              "      border-color: transparent;\n",
              "      border-bottom-color: var(--fill-color);\n",
              "      border-left-color: var(--fill-color);\n",
              "    }\n",
              "    20% {\n",
              "      border-color: transparent;\n",
              "      border-left-color: var(--fill-color);\n",
              "      border-top-color: var(--fill-color);\n",
              "    }\n",
              "    30% {\n",
              "      border-color: transparent;\n",
              "      border-left-color: var(--fill-color);\n",
              "      border-top-color: var(--fill-color);\n",
              "      border-right-color: var(--fill-color);\n",
              "    }\n",
              "    40% {\n",
              "      border-color: transparent;\n",
              "      border-right-color: var(--fill-color);\n",
              "      border-top-color: var(--fill-color);\n",
              "    }\n",
              "    60% {\n",
              "      border-color: transparent;\n",
              "      border-right-color: var(--fill-color);\n",
              "    }\n",
              "    80% {\n",
              "      border-color: transparent;\n",
              "      border-right-color: var(--fill-color);\n",
              "      border-bottom-color: var(--fill-color);\n",
              "    }\n",
              "    90% {\n",
              "      border-color: transparent;\n",
              "      border-bottom-color: var(--fill-color);\n",
              "    }\n",
              "  }\n",
              "</style>\n",
              "\n",
              "      <script>\n",
              "        async function quickchart(key) {\n",
              "          const quickchartButtonEl =\n",
              "            document.querySelector('#' + key + ' button');\n",
              "          quickchartButtonEl.disabled = true;  // To prevent multiple clicks.\n",
              "          quickchartButtonEl.classList.add('colab-df-spinner');\n",
              "          try {\n",
              "            const charts = await google.colab.kernel.invokeFunction(\n",
              "                'suggestCharts', [key], {});\n",
              "          } catch (error) {\n",
              "            console.error('Error during call to suggestCharts:', error);\n",
              "          }\n",
              "          quickchartButtonEl.classList.remove('colab-df-spinner');\n",
              "          quickchartButtonEl.classList.add('colab-df-quickchart-complete');\n",
              "        }\n",
              "        (() => {\n",
              "          let quickchartButtonEl =\n",
              "            document.querySelector('#df-0b0be1f8-8b3d-4dc9-9da5-8a015ba5672d button');\n",
              "          quickchartButtonEl.style.display =\n",
              "            google.colab.kernel.accessAllowed ? 'block' : 'none';\n",
              "        })();\n",
              "      </script>\n",
              "    </div>\n",
              "    </div>\n",
              "  </div>\n"
            ],
            "application/vnd.google.colaboratory.intrinsic+json": {
              "type": "dataframe",
              "variable_name": "df",
              "summary": "{\n  \"name\": \"df\",\n  \"rows\": 29568,\n  \"fields\": [\n    {\n      \"column\": \"id\",\n      \"properties\": {\n        \"dtype\": \"number\",\n        \"std\": 8535,\n        \"min\": 0,\n        \"max\": 29567,\n        \"num_unique_values\": 29568,\n        \"samples\": [\n          28267,\n          15603,\n          7839\n        ],\n        \"semantic_type\": \"\",\n        \"description\": \"\"\n      }\n    },\n    {\n      \"column\": \"text\",\n      \"properties\": {\n        \"dtype\": \"string\",\n        \"num_unique_values\": 26967,\n        \"samples\": [\n          \"\\u0411\\u0435\\u0441\\u043f\\u043b\\u0430\\u0442\\u043d\\u0430\\u044f \\u043f\\u0435\\u0440\\u0441\\u043e\\u043d\\u0430\\u043b\\u044c\\u043d\\u0430\\u044f \\u0432\\u044b\\u0441\\u0442\\u0430\\u0432\\u043a\\u0430 \\u0444\\u0440\\u0430\\u043d\\u0446\\u0443\\u0437\\u0441\\u043a\\u043e\\u0433\\u043e \\u0445\\u0443\\u0434\\u043e\\u0436\\u043d\\u0438\\u043a\\u0430 Maotik \\u00ab\\u0418\\u043c\\u043f\\u0443\\u043b\\u044c\\u0441\\u00bb\\n\\ud83d\\udd52\\n\\u0414\\u043e 31 \\u043c\\u0430\\u0440\\u0442\\u0430; \\u0432\\u0442 - \\u0432\\u0441 \\u0441 11:00 \\u0434\\u043e 21:00\\n\\u00ab\\u0418\\u043c\\u043f\\u0443\\u043b\\u044c\\u0441\\u00bb \\u043e\\u0431\\u044a\\u0435\\u0434\\u0438\\u043d\\u044f\\u0435\\u0442 \\u0448\\u0435\\u0441\\u0442\\u044c \\u0438\\u043c\\u043c\\u0435\\u0440\\u0441\\u0438\\u0432\\u043d\\u044b\\u0445 \\u0440\\u0430\\u0431\\u043e\\u0442, \\u043e\\u0434\\u043d\\u0430 \\u0438\\u0437 \\u043a\\u043e\\u0442\\u043e\\u0440\\u044b\\u0445 \\u0441\\u043f\\u0435\\u0446\\u0438\\u0430\\u043b\\u044c\\u043d\\u043e \\u0441\\u043e\\u0437\\u0434\\u0430\\u043d\\u0430 \\u0434\\u043b\\u044f \\u0433\\u0430\\u043b\\u0435\\u0440\\u0435\\u0438: \\u044d\\u0442\\u043e \\u043f\\u0443\\u0442\\u0435\\u0448\\u0435\\u0441\\u0442\\u0432\\u0438\\u0435 \\u043f\\u043e \\u043d\\u0435\\u043e\\u0431\\u044b\\u0447\\u043d\\u043e\\u043c\\u0443 \\u043f\\u0440\\u043e\\u0441\\u0442\\u0440\\u0430\\u043d\\u0441\\u0442\\u0432\\u0443, \\u0433\\u0434\\u0435 \\u043c\\u043e\\u0436\\u043d\\u043e \\u0443\\u043f\\u0440\\u0430\\u0432\\u043b\\u044f\\u0442\\u044c \\u0441\\u0442\\u0430\\u0435\\u0439 \\u044d\\u043b\\u0435\\u043a\\u0442\\u0440\\u0438\\u0447\\u0435\\u0441\\u043a\\u0438\\u0445 \\u0441\\u0432\\u0435\\u0442\\u043b\\u044f\\u0447\\u043a\\u043e\\u0432, \\u0433\\u0434\\u0435 \\u043e\\u0442 \\u0434\\u0432\\u0438\\u0436\\u0435\\u043d\\u0438\\u044f \\u0440\\u0443\\u043a\\u0438 \\u0440\\u0430\\u0441\\u0446\\u0432\\u0435\\u0442\\u0430\\u044e\\u0442 \\u0446\\u0438\\u0444\\u0440\\u043e\\u0432\\u044b\\u0435 \\u0441\\u0430\\u0434\\u044b \\u0438 \\u0433\\u0434\\u0435 \\u0441\\u0430\\u043c\\u043e\\u043c\\u0443 \\u043c\\u043e\\u0436\\u043d\\u043e \\u0443\\u0441\\u0442\\u0440\\u043e\\u0438\\u0442\\u044c \\u0430\\u0443\\u0434\\u0438\\u043e\\u0432\\u0438\\u0437\\u0443\\u0430\\u043b\\u044c\\u043d\\u043e\\u0435 \\u043f\\u0440\\u0435\\u0434\\u0441\\u0442\\u0430\\u0432\\u043b\\u0435\\u043d\\u0438\\u0435.\\n\\ud83c\\udfab\\n\\u0412\\u0445\\u043e\\u0434 \\u0441\\u0432\\u043e\\u0431\\u043e\\u0434\\u043d\\u044b\\u0439\\n\\u043f\\u043e \\u0440\\u0435\\u0433\\u0438\\u0441\\u0442\\u0440\\u0430\\u0446\\u0438\\u0438\\n\\ud83d\\udccd\\n\\u0413\\u0430\\u043b\\u0435\\u0440\\u0435\\u044f \\u0446\\u0438\\u0444\\u0440\\u043e\\u0432\\u043e\\u0433\\u043e \\u0438\\u0441\\u043a\\u0443\\u0441\\u0441\\u0442\\u0432\\u0430 \\u00ab\\u0426\\u0438\\u0444\\u0435\\u0440\\u0433\\u0430\\u0443\\u0437\\u00bb, \\u043d\\u0430\\u0431. \\u0410\\u0434\\u043c\\u0438\\u0440\\u0430\\u043b\\u0442\\u0435\\u0439\\u0441\\u043a\\u043e\\u0433\\u043e \\u043a\\u0430\\u043d\\u0430\\u043b\\u0430, 2\\u0418\\n\\u0411\\u0435\\u0441\\u043f\\u043b\\u0430\\u0442\\u043d\\u044b\\u0439 \\u041f\\u0438\\u0442\\u0435\\u0440\\n\\ud83d\\udc48\",\n          \"\\ud83c\\udfd6\\n\\u0422\\u041e\\u041f \\u043c\\u0435\\u0441\\u0442 \\u0434\\u043b\\u044f \\u043f\\u043b\\u044f\\u0436\\u043d\\u043e\\u0433\\u043e\\n\\u043e\\u0442\\u0434\\u044b\\u0445\\u0430 \\u0432 \\u0420\\u043e\\u0441\\u0442\\u043e\\u0432\\u0441\\u043a\\u043e\\u0439 \\u043e\\u0431\\u043b\\u0430\\u0441\\u0442\\u0438\\n\\u25ab\\ufe0f\\n\\u041f\\u043b\\u044f\\u0436\\u0438 \\u0423\\u0441\\u0442\\u044c-\\u0414\\u043e\\u043d\\u0435\\u0446\\u043a\\u043e\\u0433\\u043e \\u0440\\u0430\\u0439\\u043e\\u043d\\u0430 \\u0432 \\u0441\\u0442\\u0430\\u043d\\u0438\\u0446\\u0430\\u0445 \\u0420\\u0430\\u0437\\u0434\\u043e\\u0440\\u0441\\u043a\\u0430\\u044f, \\u041f\\u0443\\u0445\\u043b\\u044f\\u043a\\u043e\\u0432\\u0441\\u043a\\u0430\\u044f, \\u041c\\u0435\\u043b\\u0438\\u0445\\u043e\\u0432\\u0441\\u043a\\u0430\\u044f\\n\\u25ab\\ufe0f\\n\\\"\\u042d\\u043b\\u044c\\u0434\\u043e\\u0440\\u0430\\u0434\\u043e\\\" - \\u043f\\u043e\\u0441. \\u0427\\u0438\\u0441\\u0442\\u043e\\u0437\\u0435\\u0440\\u043d\\u044b\\u0439\\n\\u25ab\\ufe0f\\n\\u041f\\u043b\\u044f\\u0436 \\u041a\\u0430\\u0440\\u0440\\u0435\\u0440\\u0430 - \\u0443\\u043b. \\u041f\\u0435\\u0441\\u043a\\u043e\\u0432\\u0430, 17, \\u0420\\u043e\\u0441\\u0442\\u043e\\u0432-\\u043d\\u0430-\\u0414\\u043e\\u043d\\u0443\\n\\u25ab\\ufe0f\\n\\u041a\\u0430\\u043d\\u044c\\u043e\\u043d \\\"\\u0416\\u0438\\u0440\\u043d\\u043e\\u0432\\\" \\u0432 \\u0422\\u0430\\u0446\\u0438\\u043d\\u0441\\u043a\\u043e\\u043c \\u0440\\u0430\\u0439\\u043e\\u043d\\u0435 - 200 \\u043a\\u043c \\u043e\\u0442 \\u0420\\u043e\\u0441\\u0442\\u043e\\u0432\\u0430, \\u0410\\u043f\\u0430\\u043d\\u0430\\u0441\\u043e\\u0432\\u043a\\u0430, \\u0443\\u043b. \\u0428\\u043e\\u0441\\u0441\\u0435\\u0439\\u043d\\u0430\\u044f, 1\\n\\u25ab\\ufe0f\\n\\u041f\\u0430\\u0432\\u043b\\u043e-\\u041e\\u0447\\u0430\\u043a\\u043e\\u0432\\u0441\\u043a\\u0430\\u044f \\u043a\\u043e\\u0441\\u0430 \\u0410\\u0437\\u043e\\u0432\\u0441\\u043a\\u0438\\u0439 \\u0440\\u0430\\u0439\\u043e\\u043d\\n\\u25ab\\ufe0f\\n\\u041a\\u0440\\u0430\\u0441\\u043d\\u043e\\u0441\\u0443\\u043b\\u0438\\u043d\\u0441\\u043a\\u0438\\u0439 \\u043a\\u0430\\u043d\\u044c\\u043e\\u043d\\n\\u25ab\\ufe0f\\n\\u0413\\u043e\\u043b\\u0443\\u0431\\u044b\\u0435 \\u043e\\u0437\\u0435\\u0440\\u0430. \\u041f\\u043b\\u044f\\u0436 \\\"\\u0412\\u043e\\u0434\\u043e\\u043b\\u0435\\u0439\\\". \\u041a\\u043e\\u043e\\u0440\\u0434\\u0438\\u043d\\u0430\\u0442\\u044b: 47.150748, 39.663379\\n\\u25ab\\ufe0f\\n\\u041a\\u0430\\u0440\\u044c\\u0435\\u0440 \\u043c\\u0435\\u0436\\u0434\\u0443 \\u0413\\u0443\\u043a\\u043e\\u0432\\u043e \\u0438 \\u043f\\u043e\\u0441. \\u0423\\u0433\\u043b\\u0435\\u0440\\u043e\\u0434. \\u041a\\u043e\\u043e\\u0440\\u0434\\u0438\\u043d\\u0430\\u0442\\u044b: 48.118587, 40.001754\\n\\u25ab\\ufe0f\\n\\u041f\\u043b\\u044f\\u0436 \\u0432 \\u0421\\u0442\\u0430\\u0440\\u043e\\u0447\\u0435\\u0440\\u043a\\u0430\\u0441\\u0441\\u043a\\u0435.\\n\\u25ab\\ufe0f\\n\\u0411\\u0435\\u0433\\u043b\\u0438\\u0446\\u043a\\u0430\\u044f \\u043a\\u043e\\u0441\\u0430 \\u0422\\u0430\\u0433\\u0430\\u043d\\u0440\\u043e\\u0433\\u0441\\u043a\\u043e\\u0433\\u043e \\u0437\\u0430\\u043b\\u0438\\u0432\\u0430 \\u041a\\u043e\\u043e\\u0440\\u0434\\u0438\\u043d\\u0430\\u0442\\u044b 47.125220, 38.552602\\n\\u25ab\\ufe0f\\n\\u041f\\u043b\\u044f\\u0436\\u0438 \\u0438 \\u043f\\u043e\\u0431\\u0435\\u0440\\u0435\\u0436\\u044c\\u0435 \\u0426\\u0438\\u043c\\u043b\\u044f\\u043d\\u0441\\u043a\\u043e\\u0433\\u043e \\u043c\\u043e\\u0440\\u044f (\\u0432\\u043e\\u0434\\u043e\\u0445\\u0440\\u0430\\u043d\\u0438\\u043b\\u0438\\u0449\\u0430)\\n\\u25ab\\ufe0f\\n\\u041f\\u0435\\u0441\\u0447\\u0430\\u043d\\u044b\\u0435 \\u043f\\u043e\\u0431\\u0435\\u0440\\u0435\\u0436\\u044c\\u044f \\u0414\\u043e\\u043d\\u0430 \\u0432 \\u0433. \\u0421\\u0435\\u043c\\u0438\\u043a\\u0430\\u0440\\u0430\\u043a\\u043e\\u0440\\u0441\\u043a\\n\\u25ab\\ufe0f\\n\\u0413\\u043e\\u043b\\u0443\\u0431\\u043e\\u0435 \\u043e\\u0437\\u0435\\u0440\\u043e \\u0432 \\u0441\\u0435\\u043b\\u0435 \\u0421\\u0430\\u043c\\u0430\\u0440\\u0441\\u043a\\u043e\\u043c. \\u0420\\u0430\\u0441\\u0441\\u0442\\u043e\\u044f\\u043d\\u0438\\u0435: 40\\n\\u043a\\u043c \\u043e\\u0442 \\u0420\\u043e\\u0441\\u0442\\u043e\\u0432\\u0430\\n\\u25ab\\ufe0f\\n\\u041f\\u043b\\u044f\\u0436 \\u0410\\u0437\\u0430\\u043a \\u0432 \\u0410\\u0437\\u043e\\u0432\\u0435, \\u043f\\u0435\\u0440.\\u041c\\u0430\\u043b\\u044b\\u0439, 2\\n\\u25ab\\ufe0f\\n\\u0417\\u0435\\u043b\\u0435\\u043d\\u044b\\u0439 \\u041e\\u0441\\u0442\\u0440\\u043e\\u0432 - 29-\\u044f \\u043b\\u0438\\u043d\\u0438\\u044f, \\u0420\\u043e\\u0441\\u0442\\u043e\\u0432-\\u043d\\u0430-\\u0414\\u043e\\u043d\\u0443\\n\\u25ab\\ufe0f\\n\\u0421\\u043e\\u043b\\u0435\\u043d\\u043e\\u0435 \\u043e\\u0437\\u0435\\u0440\\u043e - \\u041f\\u043b\\u044f\\u0436\\u043d\\u0430\\u044f \\u0443\\u043b\\u0438\\u0446\\u0430, \\u0420\\u0430\\u0441\\u0441\\u0442\\u043e\\u044f\\u043d\\u0438\\u0435: 10\\n\\u043a\\u043c \\u043e\\u0442 \\u0420\\u043e\\u0441\\u0442\\u043e\\u0432\\u0430\\n\\u25ab\\ufe0f\\n\\u0414\\u043e\\u043b\\u0433\\u0438\\u0439 \\u043a\\u0430\\u043d\\u044c\\u043e\\u043d - \\u041a\\u0430\\u043c\\u0435\\u043d\\u0441\\u043a-\\u0428\\u0430\\u0445\\u0442\\u0438\\u043d\\u0441\\u043a\\u0438\\u0439.\\n\\u0420\\u0430\\u0441\\u0441\\u0442\\u043e\\u044f\\u043d\\u0438\\u0435: 140 \\u043a\\u043c \\u043e\\u0442 \\u0420\\u043e\\u0441\\u0442\\u043e\\u0432\\u0430\\n\\u25ab\\ufe0f\\n\\u041f\\u043b\\u044f\\u0436 Paleta Beach \\u0432 \\u0410\\u043a\\u0441\\u0430\\u0435, \\u0412\\u043e\\u0441\\u0442\\u043e\\u0447\\u043d\\u044b\\u0439 \\u043e\\u0431\\u0445\\u043e\\u0434.\\n\\u0418\\u0441\\u043a\\u0443\\u0441\\u0441\\u0442\\u0432\\u0435\\u043d\\u043d\\u043e\\u0435 \\u043e\\u0437\\u0435\\u0440\\u043e, \\u043f\\u043b\\u044f\\u0436 \\u043f\\u0435\\u0441\\u0447\\u0430\\u043d\\u044b\\u0439\\n\\u25ab\\ufe0f\\n\\u0421\\u0435\\u043c\\u0438\\u0431\\u0430\\u043b\\u043a\\u0438 (\\u0410\\u0437\\u043e\\u0432\\u0441\\u043a\\u0438\\u0439 \\u0440\\u0430\\u0439\\u043e\\u043d) \\u0432 70 \\u043a\\u043c \\u043e\\u0442 \\u0420\\u043e\\u0441\\u0442\\u043e\\u0432\\u0430\\n\\u25ab\\ufe0f\\n\\u0425\\u0443\\u0442\\u043e\\u0440 \\u0410\\u0440\\u043f\\u0430\\u0447\\u0438\\u043d \\u0432 \\u0411\\u0430\\u0433\\u0430\\u0435\\u0432\\u0441\\u043a\\u043e\\u043c \\u0440\\u0430\\u0439\\u043e\\u043d\\u0435\\n\\u25ab\\ufe0f\\n\\u0412\\u0435\\u0440\\u0445\\u043d\\u0435\\u0434\\u043e\\u043d\\u0441\\u043a\\u043e\\u0439 \\u0440\\u0430\\u0439\\u043e\\u043d - \\u0421\\u0442\\u0430\\u0433\\u043e\\u0432\\u0441\\u043a\\u0430\\u044f \\u043a\\u043e\\u0441\\u0430 (\\u0441\\u0442.\\u041a\\u0430\\u0437\\u0430\\u043d\\u0441\\u043a\\u0430\\u044f)\\n\\u25ab\\ufe0f\\n\\u041f\\u043e\\u0431\\u0435\\u0440\\u0435\\u0436\\u044c\\u0435 \\u0414\\u043e\\u043d\\u0430 \\u0432 \\u0441\\u0442\\u0430\\u043d\\u0438\\u0446\\u0435 \\u0412\\u0451\\u0448\\u0435\\u043d\\u0441\\u043a\\u043e\\u0439.\\n\\ud83d\\udd34\\n\\u041f\\u043e\\u0434\\u043f\\u0438\\u0441\\u044b\\u0432\\u0430\\u0439\\u0441\\u044f \\u043d\\u0430\\n\\u0410\\u0444\\u0438\\u0448\\u0443 \\u0420\\u043e\\u0441\\u0442\\u043e\\u0432\\u0430\",\n          \"\\u0421\\u0442\\u0435\\u043d\\u0434\\u0430\\u043f \\u0432 \\u043f\\u0440\\u043e\\u0441\\u0442\\u0440\\u0430\\u043d\\u0441\\u0442\\u0432\\u0435 \\\"WIP\\\" / 19 \\u043e\\u043a\\u0442\\u044f\\u0431\\u0440\\u044f\\n\\u0412 \\u0441\\u0440\\u0435\\u0434\\u0443 \\u043f\\u0440\\u0438\\u0445\\u043e\\u0434\\u0438 \\u0441\\u043b\\u0443\\u0448\\u0430\\u0442\\u044c \\u043b\\u0443\\u0447\\u0448\\u0438\\u0439 \\u0441\\u0442\\u0435\\u043d\\u0434\\u0430\\u043f \\u043e\\u0442 \\u043b\\u0443\\u0447\\u0448\\u0438\\u0445 \\u043a\\u043e\\u043c\\u0438\\u043a\\u043e\\u0432 \\u0441\\u043e \\u0432\\u0441\\u0435\\u0445 \\u0438\\u0437\\u0432\\u0435\\u0441\\u0442\\u043d\\u044b\\u0445 \\u043f\\u0440\\u043e\\u0435\\u043a\\u0442\\u043e\\u0432:\\n-  \\u0413\\u0443\\u0440\\u0430\\u043c \\u0414\\u0435\\u043c\\u0438\\u0434\\u043e\\u0432 (\\u0421\\u0442\\u0435\\u043d\\u0434\\u0430\\u043f \\u043d\\u0430 \\u0422\\u041d\\u0422)\\n-  \\u0417\\u043e\\u044f \\u041a\\u0443\\u0443\\u043b\\u0430\\u0440 (Roast Battle Labelcom)\\n- \\u0410\\u043b\\u044f \\u041a\\u043e\\u043a\\u0443\\u0448\\u043a\\u0438\\u043d\\u0430 (\\u0428\\u043e\\u0443 \\u201c\\u0420\\u0430\\u0437\\u0433\\u043e\\u043d\\u044b\\u201d \\u043e\\u0442 StandUp Club#1)\\n\\u0418 \\u0434\\u0440\\u0443\\u0433\\u0438\\u0435\\n\\ud83c\\udf9f\\n\\u0412\\u0445\\u043e\\u0434 \\u0431\\u0435\\u0441\\u043f\\u043b\\u0430\\u0442\\u043d\\u044b\\u0439\\n\\u231a\\n\\u0421\\u0431\\u043e\\u0440 \\u0433\\u043e\\u0441\\u0442\\u0435\\u0438\\u0306 \\u0441 19:30\\n\\ud83d\\udccd\\n\\u00abWIP\\\",\\u00a0\\u042f\\u0443\\u0437\\u0441\\u043a\\u0438\\u0439 \\u0431\\u0443\\u043b\\u044c\\u0432\\u0430\\u0440, 11 \\u0441\\u04421/ \\u043c. \\u041a\\u0438\\u0442\\u0430\\u0439-\\u0413\\u043e\\u0440\\u043e\\u0434\\n\\u0411\\u0435\\u0441\\u043f\\u043b\\u0430\\u0442\\u043d\\u0430\\u044f \\u0440\\u0435\\u0433\\u0438\\u0441\\u0442\\u0440\\u0430\\u0446\\u0438\\u044f \\u043d\\u0430 \\u043c\\u0435\\u0440\\u043e\\u043f\\u0440\\u0438\\u044f\\u0442\\u0438\\u0435 \\u043f\\u043e\\n\\u0441\\u0441\\u044b\\u043b\\u043a\\u0435\\n\\u041f\\u0440\\u0438\\u0445\\u043e\\u0434\\u0438 \\u0441\\u0430\\u043c \\u0438 \\u043f\\u0440\\u0438\\u0432\\u043e\\u0434\\u0438 \\u0434\\u0440\\u0443\\u0437\\u0435\\u0439!\"\n        ],\n        \"semantic_type\": \"\",\n        \"description\": \"\"\n      }\n    },\n    {\n      \"column\": \"labels\",\n      \"properties\": {\n        \"dtype\": \"category\",\n        \"num_unique_values\": 3540,\n        \"samples\": [\n          \"1 0 0 0 0 0 0 1 1 0 0 0 0 1 1 1 1 1 0 1\",\n          \"0 0 0 0 0 0 0 0 0 0 0 0 1 1 1 1 1 0 0 1\",\n          \"0 0 0 0 0 0 0 0 0 1 0 0 0 1 0 0 1 0 1 0\"\n        ],\n        \"semantic_type\": \"\",\n        \"description\": \"\"\n      }\n    }\n  ]\n}"
            }
          },
          "metadata": {},
          "execution_count": 80
        }
      ],
      "execution_count": 80
    },
    {
      "id": "900b77e7-298a-42f5-a18d-c259fe746d69",
      "cell_type": "code",
      "source": [
        "df['labels_list'] = df.labels.apply(lambda x: list(map(int, x.strip().split())))\n",
        "n_class = len(df.labels_list.iloc[0])\n",
        "print(f'Количество классов: {n_class}')"
      ],
      "metadata": {
        "trusted": true,
        "execution": {
          "iopub.status.busy": "2025-05-18T14:17:14.621138Z",
          "iopub.execute_input": "2025-05-18T14:17:14.621367Z",
          "iopub.status.idle": "2025-05-18T14:17:14.717346Z",
          "shell.execute_reply.started": "2025-05-18T14:17:14.621349Z",
          "shell.execute_reply": "2025-05-18T14:17:14.716373Z"
        },
        "id": "900b77e7-298a-42f5-a18d-c259fe746d69",
        "colab": {
          "base_uri": "https://localhost:8080/"
        },
        "outputId": "ef9f3be9-73c7-41bc-eab8-0a767d04cca2"
      },
      "outputs": [
        {
          "output_type": "stream",
          "name": "stdout",
          "text": [
            "Количество классов: 20\n"
          ]
        }
      ],
      "execution_count": 81
    },
    {
      "cell_type": "code",
      "source": [
        "labels = np.array([list(map(int, row.split())) for row in df['labels']])\n",
        "class_counts = labels.sum(axis=0)\n",
        "\n",
        "print(\"\\nРаспределение классов:\")\n",
        "for i, count in enumerate(class_counts):\n",
        "    print(f\"Класс {i}: {count} примеров\")\n",
        "\n",
        "plt.figure(figsize=(10, 4))\n",
        "plt.bar(range(len(class_counts)), class_counts)\n",
        "plt.title(\"Распределение классов\")\n",
        "plt.show()"
      ],
      "metadata": {
        "id": "L1a86Gu1QlkU",
        "colab": {
          "base_uri": "https://localhost:8080/",
          "height": 773
        },
        "outputId": "9e8ddbee-50f4-4bee-9c2d-89f559d7c1a6"
      },
      "id": "L1a86Gu1QlkU",
      "execution_count": 8,
      "outputs": [
        {
          "output_type": "stream",
          "name": "stdout",
          "text": [
            "\n",
            "Распределение классов:\n",
            "Класс 0: 15582 примеров\n",
            "Класс 1: 18979 примеров\n",
            "Класс 2: 1490 примеров\n",
            "Класс 3: 1776 примеров\n",
            "Класс 4: 17812 примеров\n",
            "Класс 5: 99 примеров\n",
            "Класс 6: 206 примеров\n",
            "Класс 7: 22555 примеров\n",
            "Класс 8: 23344 примеров\n",
            "Класс 9: 20497 примеров\n",
            "Класс 10: 12811 примеров\n",
            "Класс 11: 18510 примеров\n",
            "Класс 12: 23071 примеров\n",
            "Класс 13: 22997 примеров\n",
            "Класс 14: 22296 примеров\n",
            "Класс 15: 14925 примеров\n",
            "Класс 16: 21933 примеров\n",
            "Класс 17: 23523 примеров\n",
            "Класс 18: 24300 примеров\n",
            "Класс 19: 5765 примеров\n"
          ]
        },
        {
          "output_type": "display_data",
          "data": {
            "text/plain": [
              "<Figure size 1000x400 with 1 Axes>"
            ],
            "image/png": "[encoded data removed]"
          },
          "metadata": {}
        }
      ]
    },
    {
      "id": "a64a1186-abe7-4aa4-9011-160eb8c86f1d",
      "cell_type": "markdown",
      "source": [
        "На графике четко виден сильный перекос в данных - одни метки встречаются очень часто, другие крайне редко. Например:\n",
        "\n",
        "\n",
        "* Классы 4, 7, 8, 13, 18 и 19 доминируют - у каждого больше 20 тысяч примеров\n",
        "*  Классы 2, 3, 5 и 6 аутсайдеры с менее 5 тысячами примеров\n",
        "*  Особенно страдают классы 5, 6 - их примеров катастрофически мало\n"
      ],
      "metadata": {
        "id": "a64a1186-abe7-4aa4-9011-160eb8c86f1d"
      }
    },
    {
      "cell_type": "code",
      "source": [
        "# Пример текста с максимальной длиной\n",
        "print(\"\\nСамый длинный текст:\")\n",
        "print(df.loc[df['text'].idxmax(), 'text'])"
      ],
      "metadata": {
        "id": "iW8PQMTJUNTL",
        "colab": {
          "base_uri": "https://localhost:8080/"
        },
        "outputId": "3c4929b3-b254-4240-b22b-923b2da87c05"
      },
      "id": "iW8PQMTJUNTL",
      "execution_count": 82,
      "outputs": [
        {
          "output_type": "stream",
          "name": "stdout",
          "text": [
            "\n",
            "Самый длинный текст:\n",
            "🫶\n",
            "16 СЕНТЯБРЯ\n",
            "🫶\n",
            "•Ecstatic Dance в Небесном Особняке•\n",
            "🔥\n",
            "Ecstatic Dance – это дающий поистине мощный заряд энергии танцевально-музыкальный опыт, сравнимый с естественной эйфорией. Раскрепощение, бережный выплеск эмоций и наслаждение в одном флаконе.\n",
            "В ПРОГРАММЕ ТЕБЯ ЖДЕТ:\n",
            "🏠\n",
            "Огромное пространство особняка и природа\n",
            "🌿\n",
            "Семь топовых мастеров\n",
            "🎧\n",
            "Медитативный музыкальный сет от «Andre Mayborn»\n",
            "🌱\n",
            "Какао церемония с проводником «Ириной Кособукиной»\n",
            "🌌\n",
            "Sound Healing с хрустальными чашами от «Леоры»\n",
            "🫖\n",
            "Чайная церемония на сеновале\n",
            "🔥\n",
            "Две уникальных бани на дровах которые проведет сам владелец пространства\n",
            "🍀\n",
            "Медитация и тантра практика\n",
            "💃\n",
            "Комьюнити красивых людей\n",
            "МЕСТО: Небесный Особняк / 14 км от МКАД\n",
            "ДАТА: 16.09 (Суббота)\n",
            "СТАРТ: 15:00\n",
            "Обещаем, будет жарко\n",
            "🔥\n",
            "Такое, ты точно не испытывал\n",
            "🤗\n",
            "Подробности в директ или по номеру телефона +7 923 577 4488\n",
            "Telegram\n",
            "@valero44444ka\n",
            "Валерия\n",
            "https://t.me/skill_new_time\n",
            "Чудесного дня\n",
            "✨\n"
          ]
        }
      ]
    },
    {
      "cell_type": "code",
      "source": [
        "#эмоджи\n",
        "print(df['text'].str.contains(r'[:;=]-?[\\)\\(DP]').sum())"
      ],
      "metadata": {
        "id": "uwgy2DT8pVPK",
        "colab": {
          "base_uri": "https://localhost:8080/"
        },
        "outputId": "e16d4a17-d11c-4273-df57-b2452bb87acb"
      },
      "id": "uwgy2DT8pVPK",
      "execution_count": 83,
      "outputs": [
        {
          "output_type": "stream",
          "name": "stdout",
          "text": [
            "79\n"
          ]
        }
      ]
    },
    {
      "cell_type": "code",
      "source": [
        "duplicates = df[df[\"text\"].duplicated(keep=False)]\n",
        "duplicates"
      ],
      "metadata": {
        "id": "qNvp0ksXUhTq",
        "colab": {
          "base_uri": "https://localhost:8080/",
          "height": 424
        },
        "outputId": "726b2957-225b-41ce-a26c-1e54694bf3b5"
      },
      "id": "qNvp0ksXUhTq",
      "execution_count": 84,
      "outputs": [
        {
          "output_type": "execute_result",
          "data": {
            "text/plain": [
              "          id                                               text  \\\n",
              "10        10  С праздником! В этот день желаем вам только ми...   \n",
              "11        11  Органный концерт «Бах и рыцари органа»\\n🏛\\nСоб...   \n",
              "14        14  \"Ромео и Джульетта\" : нарисованный театр\\n🏛\\nТ...   \n",
              "18        18  Концерт группы «Аттракцион Воронова»\\nТрадицио...   \n",
              "21        21  Комедия \"Последний шанс\"\\n🏛\\nРусская песня\\n🗓\\...   \n",
              "...      ...                                                ...   \n",
              "29529  29529  #афиша #афиша_москвы #мероприятия #выставки #ф...   \n",
              "29534  29534  Смешной и остроумный спектакль «Свадебный Сезо...   \n",
              "29542  29542  Концерт группы «Аттракцион Воронова»\\nКогда: 9...   \n",
              "29551  29551  -25% на концерт «Диско на крыше с симфонически...   \n",
              "29567  29567  Спектакль-победитель фестиваля «Амурская осень...   \n",
              "\n",
              "                                        labels  \\\n",
              "10     1 0 1 0 0 0 0 1 0 0 0 1 0 1 0 1 1 0 0 1   \n",
              "11     1 1 0 0 1 0 0 1 1 1 0 0 1 1 1 0 1 1 1 0   \n",
              "14     0 0 0 0 0 0 0 1 1 1 1 1 1 1 1 0 1 1 1 0   \n",
              "18     1 1 0 0 0 0 0 1 1 0 0 0 1 1 1 1 1 0 1 0   \n",
              "21     0 1 0 0 0 0 0 1 1 1 1 1 0 1 1 0 0 1 1 0   \n",
              "...                                        ...   \n",
              "29529  0 0 0 0 0 0 0 0 1 0 0 0 0 1 0 1 1 0 0 1   \n",
              "29534  0 1 0 0 1 0 0 1 1 1 1 1 1 0 1 0 1 1 1 0   \n",
              "29542  0 1 0 0 1 0 0 1 1 0 0 0 1 1 1 1 1 0 0 1   \n",
              "29551  0 1 0 0 1 0 0 1 1 1 1 1 1 0 1 0 1 1 1 0   \n",
              "29567  0 1 0 0 1 0 0 1 1 1 0 0 1 0 1 0 1 1 1 0   \n",
              "\n",
              "                                             labels_list  \n",
              "10     [1, 0, 1, 0, 0, 0, 0, 1, 0, 0, 0, 1, 0, 1, 0, ...  \n",
              "11     [1, 1, 0, 0, 1, 0, 0, 1, 1, 1, 0, 0, 1, 1, 1, ...  \n",
              "14     [0, 0, 0, 0, 0, 0, 0, 1, 1, 1, 1, 1, 1, 1, 1, ...  \n",
              "18     [1, 1, 0, 0, 0, 0, 0, 1, 1, 0, 0, 0, 1, 1, 1, ...  \n",
              "21     [0, 1, 0, 0, 0, 0, 0, 1, 1, 1, 1, 1, 0, 1, 1, ...  \n",
              "...                                                  ...  \n",
              "29529  [0, 0, 0, 0, 0, 0, 0, 0, 1, 0, 0, 0, 0, 1, 0, ...  \n",
              "29534  [0, 1, 0, 0, 1, 0, 0, 1, 1, 1, 1, 1, 1, 0, 1, ...  \n",
              "29542  [0, 1, 0, 0, 1, 0, 0, 1, 1, 0, 0, 0, 1, 1, 1, ...  \n",
              "29551  [0, 1, 0, 0, 1, 0, 0, 1, 1, 1, 1, 1, 1, 0, 1, ...  \n",
              "29567  [0, 1, 0, 0, 1, 0, 0, 1, 1, 1, 0, 0, 1, 0, 1, ...  \n",
              "\n",
              "[4046 rows x 4 columns]"
            ],
            "text/html": [
              "\n",
              "  <div id=\"df-6bc67e49-9928-485b-88c8-e309ccb4669e\" class=\"colab-df-container\">\n",
              "    <div>\n",
              "<style scoped>\n",
              "    .dataframe tbody tr th:only-of-type {\n",
              "        vertical-align: middle;\n",
              "    }\n",
              "\n",
              "    .dataframe tbody tr th {\n",
              "        vertical-align: top;\n",
              "    }\n",
              "\n",
              "    .dataframe thead th {\n",
              "        text-align: right;\n",
              "    }\n",
              "</style>\n",
              "<table border=\"1\" class=\"dataframe\">\n",
              "  <thead>\n",
              "    <tr style=\"text-align: right;\">\n",
              "      <th></th>\n",
              "      <th>id</th>\n",
              "      <th>text</th>\n",
              "      <th>labels</th>\n",
              "      <th>labels_list</th>\n",
              "    </tr>\n",
              "  </thead>\n",
              "  <tbody>\n",
              "    <tr>\n",
              "      <th>10</th>\n",
              "      <td>10</td>\n",
              "      <td>С праздником! В этот день желаем вам только ми...</td>\n",
              "      <td>1 0 1 0 0 0 0 1 0 0 0 1 0 1 0 1 1 0 0 1</td>\n",
              "      <td>[1, 0, 1, 0, 0, 0, 0, 1, 0, 0, 0, 1, 0, 1, 0, ...</td>\n",
              "    </tr>\n",
              "    <tr>\n",
              "      <th>11</th>\n",
              "      <td>11</td>\n",
              "      <td>Органный концерт «Бах и рыцари органа»\\n🏛\\nСоб...</td>\n",
              "      <td>1 1 0 0 1 0 0 1 1 1 0 0 1 1 1 0 1 1 1 0</td>\n",
              "      <td>[1, 1, 0, 0, 1, 0, 0, 1, 1, 1, 0, 0, 1, 1, 1, ...</td>\n",
              "    </tr>\n",
              "    <tr>\n",
              "      <th>14</th>\n",
              "      <td>14</td>\n",
              "      <td>\"Ромео и Джульетта\" : нарисованный театр\\n🏛\\nТ...</td>\n",
              "      <td>0 0 0 0 0 0 0 1 1 1 1 1 1 1 1 0 1 1 1 0</td>\n",
              "      <td>[0, 0, 0, 0, 0, 0, 0, 1, 1, 1, 1, 1, 1, 1, 1, ...</td>\n",
              "    </tr>\n",
              "    <tr>\n",
              "      <th>18</th>\n",
              "      <td>18</td>\n",
              "      <td>Концерт группы «Аттракцион Воронова»\\nТрадицио...</td>\n",
              "      <td>1 1 0 0 0 0 0 1 1 0 0 0 1 1 1 1 1 0 1 0</td>\n",
              "      <td>[1, 1, 0, 0, 0, 0, 0, 1, 1, 0, 0, 0, 1, 1, 1, ...</td>\n",
              "    </tr>\n",
              "    <tr>\n",
              "      <th>21</th>\n",
              "      <td>21</td>\n",
              "      <td>Комедия \"Последний шанс\"\\n🏛\\nРусская песня\\n🗓\\...</td>\n",
              "      <td>0 1 0 0 0 0 0 1 1 1 1 1 0 1 1 0 0 1 1 0</td>\n",
              "      <td>[0, 1, 0, 0, 0, 0, 0, 1, 1, 1, 1, 1, 0, 1, 1, ...</td>\n",
              "    </tr>\n",
              "    <tr>\n",
              "      <th>...</th>\n",
              "      <td>...</td>\n",
              "      <td>...</td>\n",
              "      <td>...</td>\n",
              "      <td>...</td>\n",
              "    </tr>\n",
              "    <tr>\n",
              "      <th>29529</th>\n",
              "      <td>29529</td>\n",
              "      <td>#афиша #афиша_москвы #мероприятия #выставки #ф...</td>\n",
              "      <td>0 0 0 0 0 0 0 0 1 0 0 0 0 1 0 1 1 0 0 1</td>\n",
              "      <td>[0, 0, 0, 0, 0, 0, 0, 0, 1, 0, 0, 0, 0, 1, 0, ...</td>\n",
              "    </tr>\n",
              "    <tr>\n",
              "      <th>29534</th>\n",
              "      <td>29534</td>\n",
              "      <td>Смешной и остроумный спектакль «Свадебный Сезо...</td>\n",
              "      <td>0 1 0 0 1 0 0 1 1 1 1 1 1 0 1 0 1 1 1 0</td>\n",
              "      <td>[0, 1, 0, 0, 1, 0, 0, 1, 1, 1, 1, 1, 1, 0, 1, ...</td>\n",
              "    </tr>\n",
              "    <tr>\n",
              "      <th>29542</th>\n",
              "      <td>29542</td>\n",
              "      <td>Концерт группы «Аттракцион Воронова»\\nКогда: 9...</td>\n",
              "      <td>0 1 0 0 1 0 0 1 1 0 0 0 1 1 1 1 1 0 0 1</td>\n",
              "      <td>[0, 1, 0, 0, 1, 0, 0, 1, 1, 0, 0, 0, 1, 1, 1, ...</td>\n",
              "    </tr>\n",
              "    <tr>\n",
              "      <th>29551</th>\n",
              "      <td>29551</td>\n",
              "      <td>-25% на концерт «Диско на крыше с симфонически...</td>\n",
              "      <td>0 1 0 0 1 0 0 1 1 1 1 1 1 0 1 0 1 1 1 0</td>\n",
              "      <td>[0, 1, 0, 0, 1, 0, 0, 1, 1, 1, 1, 1, 1, 0, 1, ...</td>\n",
              "    </tr>\n",
              "    <tr>\n",
              "      <th>29567</th>\n",
              "      <td>29567</td>\n",
              "      <td>Спектакль-победитель фестиваля «Амурская осень...</td>\n",
              "      <td>0 1 0 0 1 0 0 1 1 1 0 0 1 0 1 0 1 1 1 0</td>\n",
              "      <td>[0, 1, 0, 0, 1, 0, 0, 1, 1, 1, 0, 0, 1, 0, 1, ...</td>\n",
              "    </tr>\n",
              "  </tbody>\n",
              "</table>\n",
              "<p>4046 rows × 4 columns</p>\n",
              "</div>\n",
              "    <div class=\"colab-df-buttons\">\n",
              "\n",
              "  <div class=\"colab-df-container\">\n",
              "    <button class=\"colab-df-convert\" onclick=\"convertToInteractive('df-6bc67e49-9928-485b-88c8-e309ccb4669e')\"\n",
              "            title=\"Convert this dataframe to an interactive table.\"\n",
              "            style=\"display:none;\">\n",
              "\n",
              "  <svg xmlns=\"http://www.w3.org/2000/svg\" height=\"24px\" viewBox=\"0 -960 960 960\">\n",
              "    <path d=\"M120-120v-720h720v720H120Zm60-500h600v-160H180v160Zm220 220h160v-160H400v160Zm0 220h160v-160H400v160ZM180-400h160v-160H180v160Zm440 0h160v-160H620v160ZM180-180h160v-160H180v160Zm440 0h160v-160H620v160Z\"/>\n",
              "  </svg>\n",
              "    </button>\n",
              "\n",
              "  <style>\n",
              "    .colab-df-container {\n",
              "      display:flex;\n",
              "      gap: 12px;\n",
              "    }\n",
              "\n",
              "    .colab-df-convert {\n",
              "      background-color: #E8F0FE;\n",
              "      border: none;\n",
              "      border-radius: 50%;\n",
              "      cursor: pointer;\n",
              "      display: none;\n",
              "      fill: #1967D2;\n",
              "      height: 32px;\n",
              "      padding: 0 0 0 0;\n",
              "      width: 32px;\n",
              "    }\n",
              "\n",
              "    .colab-df-convert:hover {\n",
              "      background-color: #E2EBFA;\n",
              "      box-shadow: 0px 1px 2px rgba(60, 64, 67, 0.3), 0px 1px 3px 1px rgba(60, 64, 67, 0.15);\n",
              "      fill: #174EA6;\n",
              "    }\n",
              "\n",
              "    .colab-df-buttons div {\n",
              "      margin-bottom: 4px;\n",
              "    }\n",
              "\n",
              "    [theme=dark] .colab-df-convert {\n",
              "      background-color: #3B4455;\n",
              "      fill: #D2E3FC;\n",
              "    }\n",
              "\n",
              "    [theme=dark] .colab-df-convert:hover {\n",
              "      background-color: #434B5C;\n",
              "      box-shadow: 0px 1px 3px 1px rgba(0, 0, 0, 0.15);\n",
              "      filter: drop-shadow(0px 1px 2px rgba(0, 0, 0, 0.3));\n",
              "      fill: #FFFFFF;\n",
              "    }\n",
              "  </style>\n",
              "\n",
              "    <script>\n",
              "      const buttonEl =\n",
              "        document.querySelector('#df-6bc67e49-9928-485b-88c8-e309ccb4669e button.colab-df-convert');\n",
              "      buttonEl.style.display =\n",
              "        google.colab.kernel.accessAllowed ? 'block' : 'none';\n",
              "\n",
              "      async function convertToInteractive(key) {\n",
              "        const element = document.querySelector('#df-6bc67e49-9928-485b-88c8-e309ccb4669e');\n",
              "        const dataTable =\n",
              "          await google.colab.kernel.invokeFunction('convertToInteractive',\n",
              "                                                    [key], {});\n",
              "        if (!dataTable) return;\n",
              "\n",
              "        const docLinkHtml = 'Like what you see? Visit the ' +\n",
              "          '<a target=\"_blank\" href=https://colab.research.google.com/notebooks/data_table.ipynb>data table notebook</a>'\n",
              "          + ' to learn more about interactive tables.';\n",
              "        element.innerHTML = '';\n",
              "        dataTable['output_type'] = 'display_data';\n",
              "        await google.colab.output.renderOutput(dataTable, element);\n",
              "        const docLink = document.createElement('div');\n",
              "        docLink.innerHTML = docLinkHtml;\n",
              "        element.appendChild(docLink);\n",
              "      }\n",
              "    </script>\n",
              "  </div>\n",
              "\n",
              "\n",
              "    <div id=\"df-d314aabe-0f99-498d-962a-2c2121d9adf5\">\n",
              "      <button class=\"colab-df-quickchart\" onclick=\"quickchart('df-d314aabe-0f99-498d-962a-2c2121d9adf5')\"\n",
              "                title=\"Suggest charts\"\n",
              "                style=\"display:none;\">\n",
              "\n",
              "<svg xmlns=\"http://www.w3.org/2000/svg\" height=\"24px\"viewBox=\"0 0 24 24\"\n",
              "     width=\"24px\">\n",
              "    <g>\n",
              "        <path d=\"M19 3H5c-1.1 0-2 .9-2 2v14c0 1.1.9 2 2 2h14c1.1 0 2-.9 2-2V5c0-1.1-.9-2-2-2zM9 17H7v-7h2v7zm4 0h-2V7h2v10zm4 0h-2v-4h2v4z\"/>\n",
              "    </g>\n",
              "</svg>\n",
              "      </button>\n",
              "\n",
              "<style>\n",
              "  .colab-df-quickchart {\n",
              "      --bg-color: #E8F0FE;\n",
              "      --fill-color: #1967D2;\n",
              "      --hover-bg-color: #E2EBFA;\n",
              "      --hover-fill-color: #174EA6;\n",
              "      --disabled-fill-color: #AAA;\n",
              "      --disabled-bg-color: #DDD;\n",
              "  }\n",
              "\n",
              "  [theme=dark] .colab-df-quickchart {\n",
              "      --bg-color: #3B4455;\n",
              "      --fill-color: #D2E3FC;\n",
              "      --hover-bg-color: #434B5C;\n",
              "      --hover-fill-color: #FFFFFF;\n",
              "      --disabled-bg-color: #3B4455;\n",
              "      --disabled-fill-color: #666;\n",
              "  }\n",
              "\n",
              "  .colab-df-quickchart {\n",
              "    background-color: var(--bg-color);\n",
              "    border: none;\n",
              "    border-radius: 50%;\n",
              "    cursor: pointer;\n",
              "    display: none;\n",
              "    fill: var(--fill-color);\n",
              "    height: 32px;\n",
              "    padding: 0;\n",
              "    width: 32px;\n",
              "  }\n",
              "\n",
              "  .colab-df-quickchart:hover {\n",
              "    background-color: var(--hover-bg-color);\n",
              "    box-shadow: 0 1px 2px rgba(60, 64, 67, 0.3), 0 1px 3px 1px rgba(60, 64, 67, 0.15);\n",
              "    fill: var(--button-hover-fill-color);\n",
              "  }\n",
              "\n",
              "  .colab-df-quickchart-complete:disabled,\n",
              "  .colab-df-quickchart-complete:disabled:hover {\n",
              "    background-color: var(--disabled-bg-color);\n",
              "    fill: var(--disabled-fill-color);\n",
              "    box-shadow: none;\n",
              "  }\n",
              "\n",
              "  .colab-df-spinner {\n",
              "    border: 2px solid var(--fill-color);\n",
              "    border-color: transparent;\n",
              "    border-bottom-color: var(--fill-color);\n",
              "    animation:\n",
              "      spin 1s steps(1) infinite;\n",
              "  }\n",
              "\n",
              "  @keyframes spin {\n",
              "    0% {\n",
              "      border-color: transparent;\n",
              "      border-bottom-color: var(--fill-color);\n",
              "      border-left-color: var(--fill-color);\n",
              "    }\n",
              "    20% {\n",
              "      border-color: transparent;\n",
              "      border-left-color: var(--fill-color);\n",
              "      border-top-color: var(--fill-color);\n",
              "    }\n",
              "    30% {\n",
              "      border-color: transparent;\n",
              "      border-left-color: var(--fill-color);\n",
              "      border-top-color: var(--fill-color);\n",
              "      border-right-color: var(--fill-color);\n",
              "    }\n",
              "    40% {\n",
              "      border-color: transparent;\n",
              "      border-right-color: var(--fill-color);\n",
              "      border-top-color: var(--fill-color);\n",
              "    }\n",
              "    60% {\n",
              "      border-color: transparent;\n",
              "      border-right-color: var(--fill-color);\n",
              "    }\n",
              "    80% {\n",
              "      border-color: transparent;\n",
              "      border-right-color: var(--fill-color);\n",
              "      border-bottom-color: var(--fill-color);\n",
              "    }\n",
              "    90% {\n",
              "      border-color: transparent;\n",
              "      border-bottom-color: var(--fill-color);\n",
              "    }\n",
              "  }\n",
              "</style>\n",
              "\n",
              "      <script>\n",
              "        async function quickchart(key) {\n",
              "          const quickchartButtonEl =\n",
              "            document.querySelector('#' + key + ' button');\n",
              "          quickchartButtonEl.disabled = true;  // To prevent multiple clicks.\n",
              "          quickchartButtonEl.classList.add('colab-df-spinner');\n",
              "          try {\n",
              "            const charts = await google.colab.kernel.invokeFunction(\n",
              "                'suggestCharts', [key], {});\n",
              "          } catch (error) {\n",
              "            console.error('Error during call to suggestCharts:', error);\n",
              "          }\n",
              "          quickchartButtonEl.classList.remove('colab-df-spinner');\n",
              "          quickchartButtonEl.classList.add('colab-df-quickchart-complete');\n",
              "        }\n",
              "        (() => {\n",
              "          let quickchartButtonEl =\n",
              "            document.querySelector('#df-d314aabe-0f99-498d-962a-2c2121d9adf5 button');\n",
              "          quickchartButtonEl.style.display =\n",
              "            google.colab.kernel.accessAllowed ? 'block' : 'none';\n",
              "        })();\n",
              "      </script>\n",
              "    </div>\n",
              "    </div>\n",
              "  </div>\n"
            ],
            "application/vnd.google.colaboratory.intrinsic+json": {
              "type": "dataframe",
              "variable_name": "duplicates",
              "summary": "{\n  \"name\": \"duplicates\",\n  \"rows\": 4046,\n  \"fields\": [\n    {\n      \"column\": \"id\",\n      \"properties\": {\n        \"dtype\": \"number\",\n        \"std\": 8589,\n        \"min\": 10,\n        \"max\": 29567,\n        \"num_unique_values\": 4046,\n        \"samples\": [\n          26782,\n          1183,\n          18591\n        ],\n        \"semantic_type\": \"\",\n        \"description\": \"\"\n      }\n    },\n    {\n      \"column\": \"text\",\n      \"properties\": {\n        \"dtype\": \"category\",\n        \"num_unique_values\": 1445,\n        \"samples\": [\n          \"\\u0412\\u044b\\u0441\\u0442\\u0430\\u0432\\u043a\\u0430 \\u00ab\\u0421\\u0438\\u0441\\u0442\\u0435\\u043c\\u0430 \\u044d\\u043d\\u0442\\u0440\\u043e\\u043f\\u0438\\u0438\\u00bb\\nPetro \\u2014 \\u0445\\u0443\\u0434\\u043e\\u0436\\u043d\\u0438\\u043a, \\u0440\\u0430\\u0431\\u043e\\u0442\\u0430\\u044e\\u0449\\u0438\\u0439 \\u043d\\u0430 \\u0441\\u0442\\u044b\\u043a\\u0435 \\u0441\\u0442\\u0438\\u043b\\u0435\\u0439, \\u0436\\u0430\\u043d\\u0440\\u043e\\u0432 \\u0438 \\u043d\\u0430\\u043f\\u0440\\u0430\\u0432\\u043b\\u0435\\u043d\\u0438\\u0439. \\u041f\\u0440\\u0435\\u0434\\u0441\\u0442\\u0430\\u0432\\u0438\\u0442\\u0435\\u043b\\u044c \\u0438\\u0441\\u043a\\u0443\\u0441\\u0441\\u0442\\u0432\\u0430 \\u0443\\u043b\\u0438\\u0447\\u043d\\u043e\\u0439 \\u0432\\u043e\\u043b\\u043d\\u044b, \\u0441 \\u043f\\u043e\\u043c\\u043e\\u0449\\u044c\\u044e \\u043f\\u0440\\u043e\\u0435\\u043a\\u0442\\u0430 \\u00ab\\u0421\\u0438\\u0441\\u0442\\u0435\\u043c\\u0430 \\u044d\\u043d\\u0442\\u0440\\u043e\\u043f\\u0438\\u0438\\u00bb \\u043e\\u043d \\u0438\\u0449\\u0435\\u0442 \\u0441\\u043f\\u043e\\u0441\\u043e\\u0431\\u044b \\u043e\\u0434\\u0435\\u0440\\u0436\\u0430\\u0442\\u044c \\u043f\\u043e\\u0431\\u0435\\u0434\\u0443 \\u043d\\u0430\\u0434 \\u0432\\u043d\\u0443\\u0442\\u0440\\u0435\\u043d\\u043d\\u0435\\u0439 \\u043f\\u0443\\u0441\\u0442\\u043e\\u0442\\u043e\\u0439 \\u0438 \\u0431\\u043e\\u044f\\u0437\\u043d\\u044c\\u044e \\u00ab\\u0431\\u0435\\u043b\\u043e\\u0433\\u043e \\u0445\\u043e\\u043b\\u0441\\u0442\\u0430\\u00bb.\\n\\u041a\\u043e\\u0433\\u0434\\u0430: \\u0434\\u043e 23.06.2024 (\\u0432\\u0442., \\u0441\\u0440., \\u0447\\u0442., \\u043f\\u0442., \\u0441\\u0431., \\u0432\\u0441.) 12:00-20:00\\n\\u0413\\u0434\\u0435: \\u0413\\u0430\\u043b\\u0435\\u0440\\u0435\\u044f \\u0430\\u043a\\u0442\\u0443\\u0430\\u043b\\u044c\\u043d\\u043e\\u0433\\u043e \\u0438\\u0441\\u043a\\u0443\\u0441\\u0441\\u0442\\u0432\\u0430 RuArts, \\u043c. \\u041a\\u0440\\u043e\\u043f\\u043e\\u0442\\u043a\\u0438\\u043d\\u0441\\u043a\\u0430\\u044f, \\u043f\\u0435\\u0440. 1-\\u0439 \\u0417\\u0430\\u0447\\u0430\\u0442\\u044c\\u0435\\u0432\\u0441\\u043a\\u0438\\u0439, \\u0434. 10\\n#\\u0432\\u044b\\u0441\\u0442\\u0430\\u0432\\u043a\\u0438\",\n          \"\\u041e\\u0440\\u0433\\u0430\\u043d\\u043d\\u044b\\u0439 \\u0443\\u0438\\u043a\\u0435\\u043d\\u0434: \\u0441\\u043a\\u0438\\u0434\\u043a\\u0430 50% \\u043f\\u043e \\u043f\\u0440\\u043e\\u043c\\u043e\\u043a\\u043e\\u0434\\u0443 \\u0422\\u0415\\u0410\\u0422\\u0420:\\n\\u0425\\u0440\\u0430\\u043c \\u0421\\u0432. \\u0421\\u0442\\u0430\\u043d\\u0438\\u0441\\u043b\\u0430\\u0432\\u0430 (\\u0423\\u043b. \\u0421\\u043e\\u044e\\u0437\\u0430 \\u041f\\u0435\\u0447\\u0430\\u0442\\u043d\\u0438\\u043a\\u043e\\u0432 22)\\n9 \\u0434\\u0435\\u043a\\u0430\\u0431\\u0440\\u044f 19:30\\n\\u041e\\u0440\\u0433\\u0430\\u043d\\u043d\\u044b\\u0439 \\u043a\\u043e\\u043d\\u0446\\u0435\\u0440\\u0442 \\u00ab\\u0412\\u043e\\u043a\\u0440\\u0443\\u0433 \\u0411\\u0430\\u0445\\u0430\\u00bb\\n\\u041e\\u0440\\u0433\\u0430\\u043d\\u043d\\u043e\\u0435 \\u043f\\u0443\\u0442\\u0435\\u0448\\u0435\\u0441\\u0442\\u0432\\u0438\\u0435 \\u0432\\u043e\\u043a\\u0440\\u0443\\u0433 \\u043e\\u0440\\u0431\\u0438\\u0442\\u044b \\u0433\\u0435\\u043d\\u0438\\u044f\\nimayc.ru/afisha/organnye-konczerty/organnyj-konczert-vokrug-baha/\\n350 \\u0440\\u0443\\u0431\\u043b\\u0435\\u0439 \\u0432\\u043c\\u0435\\u0441\\u0442\\u043e 700\\n\\u0421\\u043e\\u0431\\u043e\\u0440 \\u0423\\u0441\\u043f\\u0435\\u043d\\u0438\\u044f \\u041f\\u0440\\u0435\\u0441\\u0432\\u044f\\u0442\\u043e\\u0439 \\u0414\\u0435\\u0432\\u044b \\u041c\\u0430\\u0440\\u0438\\u0438 (1 \\u041a\\u0440\\u0430\\u0441\\u043d\\u043e\\u0430\\u0440\\u043c\\u0435\\u0439\\u0441\\u043a\\u0430\\u044f 11)\\n9 \\u0434\\u0435\\u043a\\u0430\\u0431\\u0440\\u044f 20:15\\n\\u041e\\u0440\\u0433\\u0430\\u043d\\u043d\\u044b\\u0439 \\u043a\\u043e\\u043d\\u0446\\u0435\\u0440\\u0442 \\u00ab\\u0411\\u0430\\u0445 \\u0438 \\u043a\\u043e\\u043b\\u043e\\u043a\\u043e\\u043b\\u0430 \\u0412\\u0435\\u0441\\u0442\\u043c\\u0438\\u043d\\u0441\\u0442\\u0435\\u0440\\u0430\\u00bb\\n\\u0410\\u0440\\u043a\\u0430 \\u0447\\u0435\\u0440\\u0435\\u0437 \\u0441\\u0442\\u043e\\u043b\\u0435\\u0442\\u0438\\u044f, \\u043f\\u043e\\u0434 \\u043a\\u043e\\u0442\\u043e\\u0440\\u043e\\u0439 \\u043f\\u0440\\u043e\\u0439\\u0434\\u0443\\u0442 \\u0411\\u0430\\u0445 \\u0438 \\u0412\\u0438\\u0432\\u0430\\u043b\\u044c\\u0434\\u0438, \\u0411\\u043e\\u044d\\u043b\\u044c\\u043c\\u0430\\u043d \\u0438 \\u0412\\u044c\\u0435\\u0440\\u043d, \\u041f\\u044c\\u044f\\u0446\\u0446\\u043e\\u043b\\u043b\\u0430 \\u0438 \\u0420\\u043e\\u0442\\u0430.\\nimayc.ru/afisha/organnye-konczerty/organnyj-konczert-bah-i-kolokola-vestminstera/\\n350 \\u0440\\u0443\\u0431\\u043b\\u0435\\u0439 \\u0432\\u043c\\u0435\\u0441\\u0442\\u043e 700\\n\\u0425\\u0440\\u0430\\u043c \\u041c\\u0430\\u0442\\u0435\\u0440\\u0438 \\u0411\\u043e\\u0436\\u0438\\u0435\\u0439 \\u041b\\u0443\\u0440\\u0434\\u0441\\u043a\\u043e\\u0439 (\\u041a\\u043e\\u0432\\u0435\\u043d\\u0441\\u043a\\u0438\\u0439 \\u043f\\u0435\\u0440. 7)\\n*9 \\u0434\\u0435\\u043a\\u0430\\u0431\\u0440\\u044f 20:00\\n\\u041e\\u0440\\u0433\\u0430\\u043d\\u043d\\u044b\\u0439 \\u043a\\u043e\\u043d\\u0446\\u0435\\u0440\\u0442 \\u00ab\\u041d\\u0430 \\u043f\\u0443\\u0442\\u0438 \\u0438\\u0437 \\u0410\\u0440\\u043d\\u0448\\u0442\\u0430\\u0434\\u0442\\u0430 \\u0432 \\u041b\\u044e\\u0431\\u0435\\u043a\\u00bb\\n\\u0411\\u0430\\u0445 \\u0438 \\u0411\\u0443\\u043a\\u0441\\u0442\\u0435\\u0445\\u0443\\u0434\\u0435 \\u0432 \\u043a\\u043e\\u043c\\u043f\\u0430\\u043d\\u0438\\u0438 \\u0433\\u043e\\u043b\\u043e\\u0441\\u0430, \\u0444\\u043b\\u0435\\u0439\\u0442\\u044b \\u0438 \\u043e\\u0440\\u0433\\u0430\\u043d\\u0430\\nimayc.ru/afisha/organnye-konczerty/na-puti-iz-arnshtadta-v-lyubek-bah-i-bukstehude/\\n350 \\u0440\\u0443\\u0431\\u043b\\u0435\\u0439 \\u0432\\u043c\\u0435\\u0441\\u0442\\u043e 700\\n*10 \\u0434\\u0435\\u043a\\u0430\\u0431\\u0440\\u044f 20:00\\n\\u041e\\u0440\\u0433\\u0430\\u043d\\u043d\\u044b\\u0439 \\u043a\\u043e\\u043d\\u0446\\u0435\\u0440\\u0442 \\u00ab\\u041e\\u0440\\u0433\\u0430\\u043d\\u043d\\u0430\\u044f \\u0413\\u0435\\u0440\\u043c\\u0430\\u043d\\u0438\\u044f \\u0438 \\u043c\\u0443\\u0437\\u044b\\u043a\\u0430\\u043b\\u044c\\u043d\\u044b\\u0435 \\u0434\\u0443\\u044d\\u043b\\u044f\\u043d\\u0442\\u044b\\u00bb\\n\\u0441\\u043e\\u0447\\u0438\\u043d\\u0435\\u043d\\u0438\\u044f \\u0441\\u0430\\u043c\\u043e\\u0439 \\u043e\\u0440\\u0433\\u0430\\u043d\\u043d\\u043e\\u0439 \\u0432 \\u043c\\u0438\\u0440\\u0435 \\u0441\\u0442\\u0440\\u0430\\u043d\\u044b: \\u043e\\u0442 \\u0431\\u0430\\u0440\\u043e\\u043a\\u043a\\u043e \\u043a \\u0440\\u043e\\u043c\\u0430\\u043d\\u0442\\u0438\\u0437\\u043c\\u0443\\nimayc.ru/afisha/organnye-konczerty/organnaya-germaniya-i-muzykalnye-duelyanty/\\n350 \\u0440\\u0443\\u0431\\u043b\\u0435\\u0439 \\u0432\\u043c\\u0435\\u0441\\u0442\\u043e 700\\n*11 \\u0434\\u0435\\u043a\\u0430\\u0431\\u0440\\u044f 16:00\\n\\u041e\\u0440\\u0433\\u0430\\u043d\\u043d\\u044b\\u0439 \\u0433\\u0430\\u043b\\u0430-\\u043a\\u043e\\u043d\\u0446\\u0435\\u0440\\u0442\\n\\u0426\\u0435\\u043b\\u0430\\u044f \\u043f\\u043b\\u0435\\u044f\\u0434\\u0430 \\u043e\\u0440\\u0433\\u0430\\u043d\\u0438\\u0441\\u0442\\u043e\\u0432 \\u0432 \\u043e\\u0434\\u0438\\u043d \\u0432\\u0435\\u0447\\u0435\\u0440 \\u0438\\u0441\\u043f\\u043e\\u043b\\u043d\\u044f\\u043b \\u0411\\u0430\\u0445\\u0430, \\u0411\\u0440\\u0430\\u043c\\u0441\\u0430, \\u041c\\u0435\\u043d\\u0434\\u0435\\u043b\\u044c\\u0441\\u043e\\u043d\\u0430 \\u0438 \\u041c\\u0435\\u0441\\u0441\\u0438\\u0430\\u043d\\u0430\\nimayc.ru/afisha/organnye-konczerty/vokrug-baha/\\n350 \\u0440\\u0443\\u0431\\u043b\\u0435\\u0439 \\u0432\\u043c\\u0435\\u0441\\u0442\\u043e 700\",\n          \"\\ud83d\\ude95\\n\\ud83d\\ude95\\n\\ud83d\\udca5\\n\\ud83d\\ude95\\n\\ud83d\\ude95\\n\\ud83d\\udca5\\n\\ud83d\\ude95\\n\\ud83d\\ude95\\n\\ud83d\\udca5\\n\\u0421\\u041b\\u0418\\u0428\\u041a\\u041e\\u041c \\u0416\\u0415\\u041d\\u0410\\u0422\\u042b\\u0419 \\u0422\\u0410\\u041a\\u0421\\u0418\\u0421\\u0422\\n\\u041d\\u0435\\u0432\\u0435\\u0440\\u043e\\u044f\\u0442\\u043d\\u0430\\u044f \\u043a\\u043e\\u043c\\u0435\\u0434\\u0438\\u044f\\n\\ud83c\\udfdb\\n\\u0414\\u041a \\u0412\\u044b\\u0431\\u043e\\u0440\\u0433\\u0441\\u043a\\u0438\\u0439\\n\\ud83d\\uddd3\\n20.04 (\\u0447\\u0442) \\u0432 19:15\\n\\ud83d\\udc49\\n\\u041a\\u0423\\u041f\\u0418\\u0422\\u042c \\u0411\\u0418\\u041b\\u0415\\u0422\\u042b\\n\\ud83d\\udd25\\n\\u0421\\u043a\\u0438\\u0434\\u043a\\u0430 25% \\u043f\\u043e \\u043f\\u0440\\u043e\\u043c\\u043e\\u043a\\u043e\\u0434\\u0443 TIK\\n\\ud83d\\ude0d\\n\\u0421\\u0432\\u0435\\u0442\\u043b\\u0430\\u043d\\u0430 \\u041f\\u0435\\u0440\\u043c\\u044f\\u043a\\u043e\\u0432\\u0430/\\u0422\\u0430\\u0442\\u044c\\u044f\\u043d\\u0430 \\u0410\\u0444\\u0430\\u043d\\u0430\\u0441\\u044c\\u0435\\u0432\\u0430\\n\\ud83e\\udd29\\n\\u041c\\u0438\\u0440\\u043e\\u0441\\u043b\\u0430\\u0432\\u0430 \\u041a\\u0430\\u0440\\u043f\\u043e\\u0432\\u0438\\u0447/\\u041c\\u0430\\u0440\\u0438\\u043d\\u0430 \\u0421\\u043e\\u043a\\u043e\\u043b\\u043e\\u0432\\u0430\\n\\ud83d\\ude0d\\n\\u0410\\u043b\\u0435\\u043a\\u0441\\u0430\\u043d\\u0434\\u0440 \\u042f\\u043a\\u0438\\u043d/\\u0410\\u043d\\u0434\\u0440\\u0435\\u0439 \\u0428\\u0443\\u0433\\u043e\\u0432 \\u0438 \\u0434\\u0440\\u0443\\u0433\\u0438\\u0435\\n\\ud83d\\ude96\\n\\u0418\\u0441\\u0442\\u043e\\u0440\\u0438\\u044f \\u043e \\u043f\\u0440\\u043e\\u0441\\u0442\\u043e\\u043c \\u0442\\u0430\\u043a\\u0441\\u0438\\u0441\\u0442\\u0435, \\u043a\\u043e\\u0442\\u043e\\u0440\\u044b\\u0439 \\u043a\\u0430\\u043a\\u0438\\u043c-\\u0442\\u043e \\u043e\\u0431\\u0440\\u0430\\u0437\\u043e\\u043c \\u0443\\u043c\\u0443\\u0434\\u0440\\u0438\\u043b\\u0441\\u044f \\u0441\\u0442\\u0430\\u0442\\u044c \\u0434\\u0432\\u043e\\u0435\\u0436\\u0435\\u043d\\u0446\\u0435\\u043c\\n\\ud83e\\udd37\\u200d\\u2642\\ufe0f\\n.\\n\\u041a\\u043e\\u043c\\u0438\\u0447\\u043d\\u043e\\u0441\\u0442\\u044c \\u0441\\u0438\\u0442\\u0443\\u0430\\u0446\\u0438\\u0438 \\u043d\\u0430\\u0447\\u0438\\u043d\\u0430\\u0435\\u0442\\u0441\\u044f \\u0443\\u0436\\u0435 \\u0441 \\u0441\\u0430\\u043c\\u043e\\u0433\\u043e \\u043d\\u0430\\u0447\\u0430\\u043b\\u0430, \\u043a\\u043e\\u0433\\u0434\\u0430 \\u0433\\u043b\\u0430\\u0432\\u043d\\u044b\\u0439 \\u0433\\u0435\\u0440\\u043e\\u0439 \\u0414\\u0436\\u043e\\u043d \\u0421\\u043c\\u0438\\u0442 \\u0441\\u043f\\u0430\\u0441\\u0430\\u0435\\u0442 \\u0431\\u0430\\u0431\\u0443\\u0448\\u043a\\u0443 \\u043e\\u0442 \\u0431\\u0430\\u043d\\u0434\\u0438\\u0442\\u043e\\u0432 \\u0438 \\u043e\\u043a\\u0430\\u0437\\u044b\\u0432\\u0430\\u0435\\u0442\\u0441\\u044f \\u043f\\u043e\\u0441\\u043b\\u0435 \\u044d\\u0442\\u043e\\u0433\\u043e \\u0432 \\u0431\\u043e\\u043b\\u044c\\u043d\\u0438\\u0446\\u0435\\n\\ud83d\\udea8\\n. \\u0422\\u0430\\u043c \\u043e\\u043d \\u0443\\u0434\\u0438\\u0432\\u043b\\u044f\\u0435\\u0442 \\u0434\\u043e\\u043a\\u0442\\u043e\\u0440\\u043e\\u0432 \\u0438 \\u043d\\u0430\\u0437\\u044b\\u0432\\u0430\\u0435\\u0442 \\u0434\\u0432\\u0430 \\u0440\\u0430\\u0437\\u043d\\u044b\\u0445 \\u0434\\u043e\\u043c\\u0430\\u0448\\u043d\\u0438\\u0445 \\u0430\\u0434\\u0440\\u0435\\u0441\\u0430\\n\\ud83e\\udd14\\n. \\u0421\\u043e\\u0431\\u044b\\u0442\\u0438\\u044f \\u0440\\u0430\\u0437\\u0432\\u0438\\u0432\\u0430\\u044e\\u0442\\u0441\\u044f \\u0434\\u0438\\u043d\\u0430\\u043c\\u0438\\u0447\\u043d\\u043e, \\u043d\\u0435\\u043f\\u0440\\u0435\\u0434\\u0441\\u043a\\u0430\\u0437\\u0443\\u0435\\u043c\\u043e \\u0438 \\u043e\\u0447\\u0435\\u043d\\u044c \\u0441\\u043c\\u0435\\u0448\\u043d\\u043e!\"\n        ],\n        \"semantic_type\": \"\",\n        \"description\": \"\"\n      }\n    },\n    {\n      \"column\": \"labels\",\n      \"properties\": {\n        \"dtype\": \"category\",\n        \"num_unique_values\": 734,\n        \"samples\": [\n          \"1 0 0 0 0 0 0 1 1 1 1 1 1 1 1 0 0 1 1 0\",\n          \"0 1 0 0 1 0 0 1 1 1 1 1 1 0 1 0 1 1 1 0\",\n          \"1 1 0 0 0 0 0 1 0 0 0 0 1 1 0 1 1 0 1 0\"\n        ],\n        \"semantic_type\": \"\",\n        \"description\": \"\"\n      }\n    },\n    {\n      \"column\": \"labels_list\",\n      \"properties\": {\n        \"dtype\": \"object\",\n        \"semantic_type\": \"\",\n        \"description\": \"\"\n      }\n    }\n  ]\n}"
            }
          },
          "metadata": {},
          "execution_count": 84
        }
      ]
    },
    {
      "cell_type": "code",
      "source": [
        "#df = df.drop_duplicates(subset=[\"text\"], keep=False)\n",
        "df"
      ],
      "metadata": {
        "id": "lZ4ZXWq7UoO-",
        "colab": {
          "base_uri": "https://localhost:8080/",
          "height": 424
        },
        "outputId": "fecb6bde-ea40-4782-9756-a0664a2bcf9b"
      },
      "id": "lZ4ZXWq7UoO-",
      "execution_count": 85,
      "outputs": [
        {
          "output_type": "execute_result",
          "data": {
            "text/plain": [
              "          id                                               text  \\\n",
              "0          0  15 января\\nДетская развлекательная программа\\n...   \n",
              "1          1  13 и 14 августа\\nВыходные в Меге\\nhttps://t.me...   \n",
              "2          2  Йокнапатофа\\nПостановка Театр им. Маяковского\\...   \n",
              "3          3  Впервые в Уфе танцевальная терапия в группе с ...   \n",
              "4          4  🎹\\nGRAND PIANO COMPETITION\\n🎹\\nДрузья, сегодня...   \n",
              "...      ...                                                ...   \n",
              "29563  29563  Выступление Симфо-группы TEODOR\\n⠀\\n22 июля в ...   \n",
              "29564  29564  🔤\\nЮЗИКЛ \"МОНТЕ-КРИСТО\" ТЕАТР ОПЕРЕТТЫ\\nЭто оч...   \n",
              "29565  29565  РАСПИСАНИЕ БЕСПЛАТНЫХ ЭКСКУРСИЙ\\nв октябре 202...   \n",
              "29566  29566  Долгожданный концерт Надежды Кадышевой в Рязан...   \n",
              "29567  29567  Спектакль-победитель фестиваля «Амурская осень...   \n",
              "\n",
              "                                        labels  \\\n",
              "0      1 0 0 0 1 0 0 0 1 0 0 0 1 1 1 1 1 0 0 1   \n",
              "1      0 0 0 1 0 0 0 0 1 0 0 0 1 1 0 1 1 0 0 1   \n",
              "2      0 0 0 0 1 0 0 0 0 0 0 0 1 1 0 1 1 0 0 1   \n",
              "3      1 1 0 0 1 0 0 1 1 1 1 1 1 1 1 0 0 1 1 0   \n",
              "4      1 1 0 0 0 0 0 1 1 0 0 1 1 1 1 0 1 1 1 0   \n",
              "...                                        ...   \n",
              "29563  0 0 0 0 0 0 0 1 1 0 0 0 0 1 0 1 1 1 1 0   \n",
              "29564  1 1 1 0 0 0 0 1 0 1 1 1 0 1 1 0 1 1 1 0   \n",
              "29565  1 1 0 0 1 0 0 1 1 1 1 1 1 1 1 1 1 1 1 0   \n",
              "29566  1 0 1 0 0 0 0 1 0 1 1 1 0 1 1 0 0 1 1 0   \n",
              "29567  0 1 0 0 1 0 0 1 1 1 0 0 1 0 1 0 1 1 1 0   \n",
              "\n",
              "                                             labels_list  \n",
              "0      [1, 0, 0, 0, 1, 0, 0, 0, 1, 0, 0, 0, 1, 1, 1, ...  \n",
              "1      [0, 0, 0, 1, 0, 0, 0, 0, 1, 0, 0, 0, 1, 1, 0, ...  \n",
              "2      [0, 0, 0, 0, 1, 0, 0, 0, 0, 0, 0, 0, 1, 1, 0, ...  \n",
              "3      [1, 1, 0, 0, 1, 0, 0, 1, 1, 1, 1, 1, 1, 1, 1, ...  \n",
              "4      [1, 1, 0, 0, 0, 0, 0, 1, 1, 0, 0, 1, 1, 1, 1, ...  \n",
              "...                                                  ...  \n",
              "29563  [0, 0, 0, 0, 0, 0, 0, 1, 1, 0, 0, 0, 0, 1, 0, ...  \n",
              "29564  [1, 1, 1, 0, 0, 0, 0, 1, 0, 1, 1, 1, 0, 1, 1, ...  \n",
              "29565  [1, 1, 0, 0, 1, 0, 0, 1, 1, 1, 1, 1, 1, 1, 1, ...  \n",
              "29566  [1, 0, 1, 0, 0, 0, 0, 1, 0, 1, 1, 1, 0, 1, 1, ...  \n",
              "29567  [0, 1, 0, 0, 1, 0, 0, 1, 1, 1, 0, 0, 1, 0, 1, ...  \n",
              "\n",
              "[29568 rows x 4 columns]"
            ],
            "text/html": [
              "\n",
              "  <div id=\"df-319db15d-8b6d-4da1-8be4-c0b293f8a375\" class=\"colab-df-container\">\n",
              "    <div>\n",
              "<style scoped>\n",
              "    .dataframe tbody tr th:only-of-type {\n",
              "        vertical-align: middle;\n",
              "    }\n",
              "\n",
              "    .dataframe tbody tr th {\n",
              "        vertical-align: top;\n",
              "    }\n",
              "\n",
              "    .dataframe thead th {\n",
              "        text-align: right;\n",
              "    }\n",
              "</style>\n",
              "<table border=\"1\" class=\"dataframe\">\n",
              "  <thead>\n",
              "    <tr style=\"text-align: right;\">\n",
              "      <th></th>\n",
              "      <th>id</th>\n",
              "      <th>text</th>\n",
              "      <th>labels</th>\n",
              "      <th>labels_list</th>\n",
              "    </tr>\n",
              "  </thead>\n",
              "  <tbody>\n",
              "    <tr>\n",
              "      <th>0</th>\n",
              "      <td>0</td>\n",
              "      <td>15 января\\nДетская развлекательная программа\\n...</td>\n",
              "      <td>1 0 0 0 1 0 0 0 1 0 0 0 1 1 1 1 1 0 0 1</td>\n",
              "      <td>[1, 0, 0, 0, 1, 0, 0, 0, 1, 0, 0, 0, 1, 1, 1, ...</td>\n",
              "    </tr>\n",
              "    <tr>\n",
              "      <th>1</th>\n",
              "      <td>1</td>\n",
              "      <td>13 и 14 августа\\nВыходные в Меге\\nhttps://t.me...</td>\n",
              "      <td>0 0 0 1 0 0 0 0 1 0 0 0 1 1 0 1 1 0 0 1</td>\n",
              "      <td>[0, 0, 0, 1, 0, 0, 0, 0, 1, 0, 0, 0, 1, 1, 0, ...</td>\n",
              "    </tr>\n",
              "    <tr>\n",
              "      <th>2</th>\n",
              "      <td>2</td>\n",
              "      <td>Йокнапатофа\\nПостановка Театр им. Маяковского\\...</td>\n",
              "      <td>0 0 0 0 1 0 0 0 0 0 0 0 1 1 0 1 1 0 0 1</td>\n",
              "      <td>[0, 0, 0, 0, 1, 0, 0, 0, 0, 0, 0, 0, 1, 1, 0, ...</td>\n",
              "    </tr>\n",
              "    <tr>\n",
              "      <th>3</th>\n",
              "      <td>3</td>\n",
              "      <td>Впервые в Уфе танцевальная терапия в группе с ...</td>\n",
              "      <td>1 1 0 0 1 0 0 1 1 1 1 1 1 1 1 0 0 1 1 0</td>\n",
              "      <td>[1, 1, 0, 0, 1, 0, 0, 1, 1, 1, 1, 1, 1, 1, 1, ...</td>\n",
              "    </tr>\n",
              "    <tr>\n",
              "      <th>4</th>\n",
              "      <td>4</td>\n",
              "      <td>🎹\\nGRAND PIANO COMPETITION\\n🎹\\nДрузья, сегодня...</td>\n",
              "      <td>1 1 0 0 0 0 0 1 1 0 0 1 1 1 1 0 1 1 1 0</td>\n",
              "      <td>[1, 1, 0, 0, 0, 0, 0, 1, 1, 0, 0, 1, 1, 1, 1, ...</td>\n",
              "    </tr>\n",
              "    <tr>\n",
              "      <th>...</th>\n",
              "      <td>...</td>\n",
              "      <td>...</td>\n",
              "      <td>...</td>\n",
              "      <td>...</td>\n",
              "    </tr>\n",
              "    <tr>\n",
              "      <th>29563</th>\n",
              "      <td>29563</td>\n",
              "      <td>Выступление Симфо-группы TEODOR\\n⠀\\n22 июля в ...</td>\n",
              "      <td>0 0 0 0 0 0 0 1 1 0 0 0 0 1 0 1 1 1 1 0</td>\n",
              "      <td>[0, 0, 0, 0, 0, 0, 0, 1, 1, 0, 0, 0, 0, 1, 0, ...</td>\n",
              "    </tr>\n",
              "    <tr>\n",
              "      <th>29564</th>\n",
              "      <td>29564</td>\n",
              "      <td>🔤\\nЮЗИКЛ \"МОНТЕ-КРИСТО\" ТЕАТР ОПЕРЕТТЫ\\nЭто оч...</td>\n",
              "      <td>1 1 1 0 0 0 0 1 0 1 1 1 0 1 1 0 1 1 1 0</td>\n",
              "      <td>[1, 1, 1, 0, 0, 0, 0, 1, 0, 1, 1, 1, 0, 1, 1, ...</td>\n",
              "    </tr>\n",
              "    <tr>\n",
              "      <th>29565</th>\n",
              "      <td>29565</td>\n",
              "      <td>РАСПИСАНИЕ БЕСПЛАТНЫХ ЭКСКУРСИЙ\\nв октябре 202...</td>\n",
              "      <td>1 1 0 0 1 0 0 1 1 1 1 1 1 1 1 1 1 1 1 0</td>\n",
              "      <td>[1, 1, 0, 0, 1, 0, 0, 1, 1, 1, 1, 1, 1, 1, 1, ...</td>\n",
              "    </tr>\n",
              "    <tr>\n",
              "      <th>29566</th>\n",
              "      <td>29566</td>\n",
              "      <td>Долгожданный концерт Надежды Кадышевой в Рязан...</td>\n",
              "      <td>1 0 1 0 0 0 0 1 0 1 1 1 0 1 1 0 0 1 1 0</td>\n",
              "      <td>[1, 0, 1, 0, 0, 0, 0, 1, 0, 1, 1, 1, 0, 1, 1, ...</td>\n",
              "    </tr>\n",
              "    <tr>\n",
              "      <th>29567</th>\n",
              "      <td>29567</td>\n",
              "      <td>Спектакль-победитель фестиваля «Амурская осень...</td>\n",
              "      <td>0 1 0 0 1 0 0 1 1 1 0 0 1 0 1 0 1 1 1 0</td>\n",
              "      <td>[0, 1, 0, 0, 1, 0, 0, 1, 1, 1, 0, 0, 1, 0, 1, ...</td>\n",
              "    </tr>\n",
              "  </tbody>\n",
              "</table>\n",
              "<p>29568 rows × 4 columns</p>\n",
              "</div>\n",
              "    <div class=\"colab-df-buttons\">\n",
              "\n",
              "  <div class=\"colab-df-container\">\n",
              "    <button class=\"colab-df-convert\" onclick=\"convertToInteractive('df-319db15d-8b6d-4da1-8be4-c0b293f8a375')\"\n",
              "            title=\"Convert this dataframe to an interactive table.\"\n",
              "            style=\"display:none;\">\n",
              "\n",
              "  <svg xmlns=\"http://www.w3.org/2000/svg\" height=\"24px\" viewBox=\"0 -960 960 960\">\n",
              "    <path d=\"M120-120v-720h720v720H120Zm60-500h600v-160H180v160Zm220 220h160v-160H400v160Zm0 220h160v-160H400v160ZM180-400h160v-160H180v160Zm440 0h160v-160H620v160ZM180-180h160v-160H180v160Zm440 0h160v-160H620v160Z\"/>\n",
              "  </svg>\n",
              "    </button>\n",
              "\n",
              "  <style>\n",
              "    .colab-df-container {\n",
              "      display:flex;\n",
              "      gap: 12px;\n",
              "    }\n",
              "\n",
              "    .colab-df-convert {\n",
              "      background-color: #E8F0FE;\n",
              "      border: none;\n",
              "      border-radius: 50%;\n",
              "      cursor: pointer;\n",
              "      display: none;\n",
              "      fill: #1967D2;\n",
              "      height: 32px;\n",
              "      padding: 0 0 0 0;\n",
              "      width: 32px;\n",
              "    }\n",
              "\n",
              "    .colab-df-convert:hover {\n",
              "      background-color: #E2EBFA;\n",
              "      box-shadow: 0px 1px 2px rgba(60, 64, 67, 0.3), 0px 1px 3px 1px rgba(60, 64, 67, 0.15);\n",
              "      fill: #174EA6;\n",
              "    }\n",
              "\n",
              "    .colab-df-buttons div {\n",
              "      margin-bottom: 4px;\n",
              "    }\n",
              "\n",
              "    [theme=dark] .colab-df-convert {\n",
              "      background-color: #3B4455;\n",
              "      fill: #D2E3FC;\n",
              "    }\n",
              "\n",
              "    [theme=dark] .colab-df-convert:hover {\n",
              "      background-color: #434B5C;\n",
              "      box-shadow: 0px 1px 3px 1px rgba(0, 0, 0, 0.15);\n",
              "      filter: drop-shadow(0px 1px 2px rgba(0, 0, 0, 0.3));\n",
              "      fill: #FFFFFF;\n",
              "    }\n",
              "  </style>\n",
              "\n",
              "    <script>\n",
              "      const buttonEl =\n",
              "        document.querySelector('#df-319db15d-8b6d-4da1-8be4-c0b293f8a375 button.colab-df-convert');\n",
              "      buttonEl.style.display =\n",
              "        google.colab.kernel.accessAllowed ? 'block' : 'none';\n",
              "\n",
              "      async function convertToInteractive(key) {\n",
              "        const element = document.querySelector('#df-319db15d-8b6d-4da1-8be4-c0b293f8a375');\n",
              "        const dataTable =\n",
              "          await google.colab.kernel.invokeFunction('convertToInteractive',\n",
              "                                                    [key], {});\n",
              "        if (!dataTable) return;\n",
              "\n",
              "        const docLinkHtml = 'Like what you see? Visit the ' +\n",
              "          '<a target=\"_blank\" href=https://colab.research.google.com/notebooks/data_table.ipynb>data table notebook</a>'\n",
              "          + ' to learn more about interactive tables.';\n",
              "        element.innerHTML = '';\n",
              "        dataTable['output_type'] = 'display_data';\n",
              "        await google.colab.output.renderOutput(dataTable, element);\n",
              "        const docLink = document.createElement('div');\n",
              "        docLink.innerHTML = docLinkHtml;\n",
              "        element.appendChild(docLink);\n",
              "      }\n",
              "    </script>\n",
              "  </div>\n",
              "\n",
              "\n",
              "    <div id=\"df-a0a29a81-4a35-4cfa-97d6-65aa70121314\">\n",
              "      <button class=\"colab-df-quickchart\" onclick=\"quickchart('df-a0a29a81-4a35-4cfa-97d6-65aa70121314')\"\n",
              "                title=\"Suggest charts\"\n",
              "                style=\"display:none;\">\n",
              "\n",
              "<svg xmlns=\"http://www.w3.org/2000/svg\" height=\"24px\"viewBox=\"0 0 24 24\"\n",
              "     width=\"24px\">\n",
              "    <g>\n",
              "        <path d=\"M19 3H5c-1.1 0-2 .9-2 2v14c0 1.1.9 2 2 2h14c1.1 0 2-.9 2-2V5c0-1.1-.9-2-2-2zM9 17H7v-7h2v7zm4 0h-2V7h2v10zm4 0h-2v-4h2v4z\"/>\n",
              "    </g>\n",
              "</svg>\n",
              "      </button>\n",
              "\n",
              "<style>\n",
              "  .colab-df-quickchart {\n",
              "      --bg-color: #E8F0FE;\n",
              "      --fill-color: #1967D2;\n",
              "      --hover-bg-color: #E2EBFA;\n",
              "      --hover-fill-color: #174EA6;\n",
              "      --disabled-fill-color: #AAA;\n",
              "      --disabled-bg-color: #DDD;\n",
              "  }\n",
              "\n",
              "  [theme=dark] .colab-df-quickchart {\n",
              "      --bg-color: #3B4455;\n",
              "      --fill-color: #D2E3FC;\n",
              "      --hover-bg-color: #434B5C;\n",
              "      --hover-fill-color: #FFFFFF;\n",
              "      --disabled-bg-color: #3B4455;\n",
              "      --disabled-fill-color: #666;\n",
              "  }\n",
              "\n",
              "  .colab-df-quickchart {\n",
              "    background-color: var(--bg-color);\n",
              "    border: none;\n",
              "    border-radius: 50%;\n",
              "    cursor: pointer;\n",
              "    display: none;\n",
              "    fill: var(--fill-color);\n",
              "    height: 32px;\n",
              "    padding: 0;\n",
              "    width: 32px;\n",
              "  }\n",
              "\n",
              "  .colab-df-quickchart:hover {\n",
              "    background-color: var(--hover-bg-color);\n",
              "    box-shadow: 0 1px 2px rgba(60, 64, 67, 0.3), 0 1px 3px 1px rgba(60, 64, 67, 0.15);\n",
              "    fill: var(--button-hover-fill-color);\n",
              "  }\n",
              "\n",
              "  .colab-df-quickchart-complete:disabled,\n",
              "  .colab-df-quickchart-complete:disabled:hover {\n",
              "    background-color: var(--disabled-bg-color);\n",
              "    fill: var(--disabled-fill-color);\n",
              "    box-shadow: none;\n",
              "  }\n",
              "\n",
              "  .colab-df-spinner {\n",
              "    border: 2px solid var(--fill-color);\n",
              "    border-color: transparent;\n",
              "    border-bottom-color: var(--fill-color);\n",
              "    animation:\n",
              "      spin 1s steps(1) infinite;\n",
              "  }\n",
              "\n",
              "  @keyframes spin {\n",
              "    0% {\n",
              "      border-color: transparent;\n",
              "      border-bottom-color: var(--fill-color);\n",
              "      border-left-color: var(--fill-color);\n",
              "    }\n",
              "    20% {\n",
              "      border-color: transparent;\n",
              "      border-left-color: var(--fill-color);\n",
              "      border-top-color: var(--fill-color);\n",
              "    }\n",
              "    30% {\n",
              "      border-color: transparent;\n",
              "      border-left-color: var(--fill-color);\n",
              "      border-top-color: var(--fill-color);\n",
              "      border-right-color: var(--fill-color);\n",
              "    }\n",
              "    40% {\n",
              "      border-color: transparent;\n",
              "      border-right-color: var(--fill-color);\n",
              "      border-top-color: var(--fill-color);\n",
              "    }\n",
              "    60% {\n",
              "      border-color: transparent;\n",
              "      border-right-color: var(--fill-color);\n",
              "    }\n",
              "    80% {\n",
              "      border-color: transparent;\n",
              "      border-right-color: var(--fill-color);\n",
              "      border-bottom-color: var(--fill-color);\n",
              "    }\n",
              "    90% {\n",
              "      border-color: transparent;\n",
              "      border-bottom-color: var(--fill-color);\n",
              "    }\n",
              "  }\n",
              "</style>\n",
              "\n",
              "      <script>\n",
              "        async function quickchart(key) {\n",
              "          const quickchartButtonEl =\n",
              "            document.querySelector('#' + key + ' button');\n",
              "          quickchartButtonEl.disabled = true;  // To prevent multiple clicks.\n",
              "          quickchartButtonEl.classList.add('colab-df-spinner');\n",
              "          try {\n",
              "            const charts = await google.colab.kernel.invokeFunction(\n",
              "                'suggestCharts', [key], {});\n",
              "          } catch (error) {\n",
              "            console.error('Error during call to suggestCharts:', error);\n",
              "          }\n",
              "          quickchartButtonEl.classList.remove('colab-df-spinner');\n",
              "          quickchartButtonEl.classList.add('colab-df-quickchart-complete');\n",
              "        }\n",
              "        (() => {\n",
              "          let quickchartButtonEl =\n",
              "            document.querySelector('#df-a0a29a81-4a35-4cfa-97d6-65aa70121314 button');\n",
              "          quickchartButtonEl.style.display =\n",
              "            google.colab.kernel.accessAllowed ? 'block' : 'none';\n",
              "        })();\n",
              "      </script>\n",
              "    </div>\n",
              "    </div>\n",
              "  </div>\n"
            ],
            "application/vnd.google.colaboratory.intrinsic+json": {
              "type": "dataframe",
              "variable_name": "df",
              "summary": "{\n  \"name\": \"df\",\n  \"rows\": 29568,\n  \"fields\": [\n    {\n      \"column\": \"id\",\n      \"properties\": {\n        \"dtype\": \"number\",\n        \"std\": 8535,\n        \"min\": 0,\n        \"max\": 29567,\n        \"num_unique_values\": 29568,\n        \"samples\": [\n          28267,\n          15603,\n          7839\n        ],\n        \"semantic_type\": \"\",\n        \"description\": \"\"\n      }\n    },\n    {\n      \"column\": \"text\",\n      \"properties\": {\n        \"dtype\": \"string\",\n        \"num_unique_values\": 26967,\n        \"samples\": [\n          \"\\u0411\\u0435\\u0441\\u043f\\u043b\\u0430\\u0442\\u043d\\u0430\\u044f \\u043f\\u0435\\u0440\\u0441\\u043e\\u043d\\u0430\\u043b\\u044c\\u043d\\u0430\\u044f \\u0432\\u044b\\u0441\\u0442\\u0430\\u0432\\u043a\\u0430 \\u0444\\u0440\\u0430\\u043d\\u0446\\u0443\\u0437\\u0441\\u043a\\u043e\\u0433\\u043e \\u0445\\u0443\\u0434\\u043e\\u0436\\u043d\\u0438\\u043a\\u0430 Maotik \\u00ab\\u0418\\u043c\\u043f\\u0443\\u043b\\u044c\\u0441\\u00bb\\n\\ud83d\\udd52\\n\\u0414\\u043e 31 \\u043c\\u0430\\u0440\\u0442\\u0430; \\u0432\\u0442 - \\u0432\\u0441 \\u0441 11:00 \\u0434\\u043e 21:00\\n\\u00ab\\u0418\\u043c\\u043f\\u0443\\u043b\\u044c\\u0441\\u00bb \\u043e\\u0431\\u044a\\u0435\\u0434\\u0438\\u043d\\u044f\\u0435\\u0442 \\u0448\\u0435\\u0441\\u0442\\u044c \\u0438\\u043c\\u043c\\u0435\\u0440\\u0441\\u0438\\u0432\\u043d\\u044b\\u0445 \\u0440\\u0430\\u0431\\u043e\\u0442, \\u043e\\u0434\\u043d\\u0430 \\u0438\\u0437 \\u043a\\u043e\\u0442\\u043e\\u0440\\u044b\\u0445 \\u0441\\u043f\\u0435\\u0446\\u0438\\u0430\\u043b\\u044c\\u043d\\u043e \\u0441\\u043e\\u0437\\u0434\\u0430\\u043d\\u0430 \\u0434\\u043b\\u044f \\u0433\\u0430\\u043b\\u0435\\u0440\\u0435\\u0438: \\u044d\\u0442\\u043e \\u043f\\u0443\\u0442\\u0435\\u0448\\u0435\\u0441\\u0442\\u0432\\u0438\\u0435 \\u043f\\u043e \\u043d\\u0435\\u043e\\u0431\\u044b\\u0447\\u043d\\u043e\\u043c\\u0443 \\u043f\\u0440\\u043e\\u0441\\u0442\\u0440\\u0430\\u043d\\u0441\\u0442\\u0432\\u0443, \\u0433\\u0434\\u0435 \\u043c\\u043e\\u0436\\u043d\\u043e \\u0443\\u043f\\u0440\\u0430\\u0432\\u043b\\u044f\\u0442\\u044c \\u0441\\u0442\\u0430\\u0435\\u0439 \\u044d\\u043b\\u0435\\u043a\\u0442\\u0440\\u0438\\u0447\\u0435\\u0441\\u043a\\u0438\\u0445 \\u0441\\u0432\\u0435\\u0442\\u043b\\u044f\\u0447\\u043a\\u043e\\u0432, \\u0433\\u0434\\u0435 \\u043e\\u0442 \\u0434\\u0432\\u0438\\u0436\\u0435\\u043d\\u0438\\u044f \\u0440\\u0443\\u043a\\u0438 \\u0440\\u0430\\u0441\\u0446\\u0432\\u0435\\u0442\\u0430\\u044e\\u0442 \\u0446\\u0438\\u0444\\u0440\\u043e\\u0432\\u044b\\u0435 \\u0441\\u0430\\u0434\\u044b \\u0438 \\u0433\\u0434\\u0435 \\u0441\\u0430\\u043c\\u043e\\u043c\\u0443 \\u043c\\u043e\\u0436\\u043d\\u043e \\u0443\\u0441\\u0442\\u0440\\u043e\\u0438\\u0442\\u044c \\u0430\\u0443\\u0434\\u0438\\u043e\\u0432\\u0438\\u0437\\u0443\\u0430\\u043b\\u044c\\u043d\\u043e\\u0435 \\u043f\\u0440\\u0435\\u0434\\u0441\\u0442\\u0430\\u0432\\u043b\\u0435\\u043d\\u0438\\u0435.\\n\\ud83c\\udfab\\n\\u0412\\u0445\\u043e\\u0434 \\u0441\\u0432\\u043e\\u0431\\u043e\\u0434\\u043d\\u044b\\u0439\\n\\u043f\\u043e \\u0440\\u0435\\u0433\\u0438\\u0441\\u0442\\u0440\\u0430\\u0446\\u0438\\u0438\\n\\ud83d\\udccd\\n\\u0413\\u0430\\u043b\\u0435\\u0440\\u0435\\u044f \\u0446\\u0438\\u0444\\u0440\\u043e\\u0432\\u043e\\u0433\\u043e \\u0438\\u0441\\u043a\\u0443\\u0441\\u0441\\u0442\\u0432\\u0430 \\u00ab\\u0426\\u0438\\u0444\\u0435\\u0440\\u0433\\u0430\\u0443\\u0437\\u00bb, \\u043d\\u0430\\u0431. \\u0410\\u0434\\u043c\\u0438\\u0440\\u0430\\u043b\\u0442\\u0435\\u0439\\u0441\\u043a\\u043e\\u0433\\u043e \\u043a\\u0430\\u043d\\u0430\\u043b\\u0430, 2\\u0418\\n\\u0411\\u0435\\u0441\\u043f\\u043b\\u0430\\u0442\\u043d\\u044b\\u0439 \\u041f\\u0438\\u0442\\u0435\\u0440\\n\\ud83d\\udc48\",\n          \"\\ud83c\\udfd6\\n\\u0422\\u041e\\u041f \\u043c\\u0435\\u0441\\u0442 \\u0434\\u043b\\u044f \\u043f\\u043b\\u044f\\u0436\\u043d\\u043e\\u0433\\u043e\\n\\u043e\\u0442\\u0434\\u044b\\u0445\\u0430 \\u0432 \\u0420\\u043e\\u0441\\u0442\\u043e\\u0432\\u0441\\u043a\\u043e\\u0439 \\u043e\\u0431\\u043b\\u0430\\u0441\\u0442\\u0438\\n\\u25ab\\ufe0f\\n\\u041f\\u043b\\u044f\\u0436\\u0438 \\u0423\\u0441\\u0442\\u044c-\\u0414\\u043e\\u043d\\u0435\\u0446\\u043a\\u043e\\u0433\\u043e \\u0440\\u0430\\u0439\\u043e\\u043d\\u0430 \\u0432 \\u0441\\u0442\\u0430\\u043d\\u0438\\u0446\\u0430\\u0445 \\u0420\\u0430\\u0437\\u0434\\u043e\\u0440\\u0441\\u043a\\u0430\\u044f, \\u041f\\u0443\\u0445\\u043b\\u044f\\u043a\\u043e\\u0432\\u0441\\u043a\\u0430\\u044f, \\u041c\\u0435\\u043b\\u0438\\u0445\\u043e\\u0432\\u0441\\u043a\\u0430\\u044f\\n\\u25ab\\ufe0f\\n\\\"\\u042d\\u043b\\u044c\\u0434\\u043e\\u0440\\u0430\\u0434\\u043e\\\" - \\u043f\\u043e\\u0441. \\u0427\\u0438\\u0441\\u0442\\u043e\\u0437\\u0435\\u0440\\u043d\\u044b\\u0439\\n\\u25ab\\ufe0f\\n\\u041f\\u043b\\u044f\\u0436 \\u041a\\u0430\\u0440\\u0440\\u0435\\u0440\\u0430 - \\u0443\\u043b. \\u041f\\u0435\\u0441\\u043a\\u043e\\u0432\\u0430, 17, \\u0420\\u043e\\u0441\\u0442\\u043e\\u0432-\\u043d\\u0430-\\u0414\\u043e\\u043d\\u0443\\n\\u25ab\\ufe0f\\n\\u041a\\u0430\\u043d\\u044c\\u043e\\u043d \\\"\\u0416\\u0438\\u0440\\u043d\\u043e\\u0432\\\" \\u0432 \\u0422\\u0430\\u0446\\u0438\\u043d\\u0441\\u043a\\u043e\\u043c \\u0440\\u0430\\u0439\\u043e\\u043d\\u0435 - 200 \\u043a\\u043c \\u043e\\u0442 \\u0420\\u043e\\u0441\\u0442\\u043e\\u0432\\u0430, \\u0410\\u043f\\u0430\\u043d\\u0430\\u0441\\u043e\\u0432\\u043a\\u0430, \\u0443\\u043b. \\u0428\\u043e\\u0441\\u0441\\u0435\\u0439\\u043d\\u0430\\u044f, 1\\n\\u25ab\\ufe0f\\n\\u041f\\u0430\\u0432\\u043b\\u043e-\\u041e\\u0447\\u0430\\u043a\\u043e\\u0432\\u0441\\u043a\\u0430\\u044f \\u043a\\u043e\\u0441\\u0430 \\u0410\\u0437\\u043e\\u0432\\u0441\\u043a\\u0438\\u0439 \\u0440\\u0430\\u0439\\u043e\\u043d\\n\\u25ab\\ufe0f\\n\\u041a\\u0440\\u0430\\u0441\\u043d\\u043e\\u0441\\u0443\\u043b\\u0438\\u043d\\u0441\\u043a\\u0438\\u0439 \\u043a\\u0430\\u043d\\u044c\\u043e\\u043d\\n\\u25ab\\ufe0f\\n\\u0413\\u043e\\u043b\\u0443\\u0431\\u044b\\u0435 \\u043e\\u0437\\u0435\\u0440\\u0430. \\u041f\\u043b\\u044f\\u0436 \\\"\\u0412\\u043e\\u0434\\u043e\\u043b\\u0435\\u0439\\\". \\u041a\\u043e\\u043e\\u0440\\u0434\\u0438\\u043d\\u0430\\u0442\\u044b: 47.150748, 39.663379\\n\\u25ab\\ufe0f\\n\\u041a\\u0430\\u0440\\u044c\\u0435\\u0440 \\u043c\\u0435\\u0436\\u0434\\u0443 \\u0413\\u0443\\u043a\\u043e\\u0432\\u043e \\u0438 \\u043f\\u043e\\u0441. \\u0423\\u0433\\u043b\\u0435\\u0440\\u043e\\u0434. \\u041a\\u043e\\u043e\\u0440\\u0434\\u0438\\u043d\\u0430\\u0442\\u044b: 48.118587, 40.001754\\n\\u25ab\\ufe0f\\n\\u041f\\u043b\\u044f\\u0436 \\u0432 \\u0421\\u0442\\u0430\\u0440\\u043e\\u0447\\u0435\\u0440\\u043a\\u0430\\u0441\\u0441\\u043a\\u0435.\\n\\u25ab\\ufe0f\\n\\u0411\\u0435\\u0433\\u043b\\u0438\\u0446\\u043a\\u0430\\u044f \\u043a\\u043e\\u0441\\u0430 \\u0422\\u0430\\u0433\\u0430\\u043d\\u0440\\u043e\\u0433\\u0441\\u043a\\u043e\\u0433\\u043e \\u0437\\u0430\\u043b\\u0438\\u0432\\u0430 \\u041a\\u043e\\u043e\\u0440\\u0434\\u0438\\u043d\\u0430\\u0442\\u044b 47.125220, 38.552602\\n\\u25ab\\ufe0f\\n\\u041f\\u043b\\u044f\\u0436\\u0438 \\u0438 \\u043f\\u043e\\u0431\\u0435\\u0440\\u0435\\u0436\\u044c\\u0435 \\u0426\\u0438\\u043c\\u043b\\u044f\\u043d\\u0441\\u043a\\u043e\\u0433\\u043e \\u043c\\u043e\\u0440\\u044f (\\u0432\\u043e\\u0434\\u043e\\u0445\\u0440\\u0430\\u043d\\u0438\\u043b\\u0438\\u0449\\u0430)\\n\\u25ab\\ufe0f\\n\\u041f\\u0435\\u0441\\u0447\\u0430\\u043d\\u044b\\u0435 \\u043f\\u043e\\u0431\\u0435\\u0440\\u0435\\u0436\\u044c\\u044f \\u0414\\u043e\\u043d\\u0430 \\u0432 \\u0433. \\u0421\\u0435\\u043c\\u0438\\u043a\\u0430\\u0440\\u0430\\u043a\\u043e\\u0440\\u0441\\u043a\\n\\u25ab\\ufe0f\\n\\u0413\\u043e\\u043b\\u0443\\u0431\\u043e\\u0435 \\u043e\\u0437\\u0435\\u0440\\u043e \\u0432 \\u0441\\u0435\\u043b\\u0435 \\u0421\\u0430\\u043c\\u0430\\u0440\\u0441\\u043a\\u043e\\u043c. \\u0420\\u0430\\u0441\\u0441\\u0442\\u043e\\u044f\\u043d\\u0438\\u0435: 40\\n\\u043a\\u043c \\u043e\\u0442 \\u0420\\u043e\\u0441\\u0442\\u043e\\u0432\\u0430\\n\\u25ab\\ufe0f\\n\\u041f\\u043b\\u044f\\u0436 \\u0410\\u0437\\u0430\\u043a \\u0432 \\u0410\\u0437\\u043e\\u0432\\u0435, \\u043f\\u0435\\u0440.\\u041c\\u0430\\u043b\\u044b\\u0439, 2\\n\\u25ab\\ufe0f\\n\\u0417\\u0435\\u043b\\u0435\\u043d\\u044b\\u0439 \\u041e\\u0441\\u0442\\u0440\\u043e\\u0432 - 29-\\u044f \\u043b\\u0438\\u043d\\u0438\\u044f, \\u0420\\u043e\\u0441\\u0442\\u043e\\u0432-\\u043d\\u0430-\\u0414\\u043e\\u043d\\u0443\\n\\u25ab\\ufe0f\\n\\u0421\\u043e\\u043b\\u0435\\u043d\\u043e\\u0435 \\u043e\\u0437\\u0435\\u0440\\u043e - \\u041f\\u043b\\u044f\\u0436\\u043d\\u0430\\u044f \\u0443\\u043b\\u0438\\u0446\\u0430, \\u0420\\u0430\\u0441\\u0441\\u0442\\u043e\\u044f\\u043d\\u0438\\u0435: 10\\n\\u043a\\u043c \\u043e\\u0442 \\u0420\\u043e\\u0441\\u0442\\u043e\\u0432\\u0430\\n\\u25ab\\ufe0f\\n\\u0414\\u043e\\u043b\\u0433\\u0438\\u0439 \\u043a\\u0430\\u043d\\u044c\\u043e\\u043d - \\u041a\\u0430\\u043c\\u0435\\u043d\\u0441\\u043a-\\u0428\\u0430\\u0445\\u0442\\u0438\\u043d\\u0441\\u043a\\u0438\\u0439.\\n\\u0420\\u0430\\u0441\\u0441\\u0442\\u043e\\u044f\\u043d\\u0438\\u0435: 140 \\u043a\\u043c \\u043e\\u0442 \\u0420\\u043e\\u0441\\u0442\\u043e\\u0432\\u0430\\n\\u25ab\\ufe0f\\n\\u041f\\u043b\\u044f\\u0436 Paleta Beach \\u0432 \\u0410\\u043a\\u0441\\u0430\\u0435, \\u0412\\u043e\\u0441\\u0442\\u043e\\u0447\\u043d\\u044b\\u0439 \\u043e\\u0431\\u0445\\u043e\\u0434.\\n\\u0418\\u0441\\u043a\\u0443\\u0441\\u0441\\u0442\\u0432\\u0435\\u043d\\u043d\\u043e\\u0435 \\u043e\\u0437\\u0435\\u0440\\u043e, \\u043f\\u043b\\u044f\\u0436 \\u043f\\u0435\\u0441\\u0447\\u0430\\u043d\\u044b\\u0439\\n\\u25ab\\ufe0f\\n\\u0421\\u0435\\u043c\\u0438\\u0431\\u0430\\u043b\\u043a\\u0438 (\\u0410\\u0437\\u043e\\u0432\\u0441\\u043a\\u0438\\u0439 \\u0440\\u0430\\u0439\\u043e\\u043d) \\u0432 70 \\u043a\\u043c \\u043e\\u0442 \\u0420\\u043e\\u0441\\u0442\\u043e\\u0432\\u0430\\n\\u25ab\\ufe0f\\n\\u0425\\u0443\\u0442\\u043e\\u0440 \\u0410\\u0440\\u043f\\u0430\\u0447\\u0438\\u043d \\u0432 \\u0411\\u0430\\u0433\\u0430\\u0435\\u0432\\u0441\\u043a\\u043e\\u043c \\u0440\\u0430\\u0439\\u043e\\u043d\\u0435\\n\\u25ab\\ufe0f\\n\\u0412\\u0435\\u0440\\u0445\\u043d\\u0435\\u0434\\u043e\\u043d\\u0441\\u043a\\u043e\\u0439 \\u0440\\u0430\\u0439\\u043e\\u043d - \\u0421\\u0442\\u0430\\u0433\\u043e\\u0432\\u0441\\u043a\\u0430\\u044f \\u043a\\u043e\\u0441\\u0430 (\\u0441\\u0442.\\u041a\\u0430\\u0437\\u0430\\u043d\\u0441\\u043a\\u0430\\u044f)\\n\\u25ab\\ufe0f\\n\\u041f\\u043e\\u0431\\u0435\\u0440\\u0435\\u0436\\u044c\\u0435 \\u0414\\u043e\\u043d\\u0430 \\u0432 \\u0441\\u0442\\u0430\\u043d\\u0438\\u0446\\u0435 \\u0412\\u0451\\u0448\\u0435\\u043d\\u0441\\u043a\\u043e\\u0439.\\n\\ud83d\\udd34\\n\\u041f\\u043e\\u0434\\u043f\\u0438\\u0441\\u044b\\u0432\\u0430\\u0439\\u0441\\u044f \\u043d\\u0430\\n\\u0410\\u0444\\u0438\\u0448\\u0443 \\u0420\\u043e\\u0441\\u0442\\u043e\\u0432\\u0430\",\n          \"\\u0421\\u0442\\u0435\\u043d\\u0434\\u0430\\u043f \\u0432 \\u043f\\u0440\\u043e\\u0441\\u0442\\u0440\\u0430\\u043d\\u0441\\u0442\\u0432\\u0435 \\\"WIP\\\" / 19 \\u043e\\u043a\\u0442\\u044f\\u0431\\u0440\\u044f\\n\\u0412 \\u0441\\u0440\\u0435\\u0434\\u0443 \\u043f\\u0440\\u0438\\u0445\\u043e\\u0434\\u0438 \\u0441\\u043b\\u0443\\u0448\\u0430\\u0442\\u044c \\u043b\\u0443\\u0447\\u0448\\u0438\\u0439 \\u0441\\u0442\\u0435\\u043d\\u0434\\u0430\\u043f \\u043e\\u0442 \\u043b\\u0443\\u0447\\u0448\\u0438\\u0445 \\u043a\\u043e\\u043c\\u0438\\u043a\\u043e\\u0432 \\u0441\\u043e \\u0432\\u0441\\u0435\\u0445 \\u0438\\u0437\\u0432\\u0435\\u0441\\u0442\\u043d\\u044b\\u0445 \\u043f\\u0440\\u043e\\u0435\\u043a\\u0442\\u043e\\u0432:\\n-  \\u0413\\u0443\\u0440\\u0430\\u043c \\u0414\\u0435\\u043c\\u0438\\u0434\\u043e\\u0432 (\\u0421\\u0442\\u0435\\u043d\\u0434\\u0430\\u043f \\u043d\\u0430 \\u0422\\u041d\\u0422)\\n-  \\u0417\\u043e\\u044f \\u041a\\u0443\\u0443\\u043b\\u0430\\u0440 (Roast Battle Labelcom)\\n- \\u0410\\u043b\\u044f \\u041a\\u043e\\u043a\\u0443\\u0448\\u043a\\u0438\\u043d\\u0430 (\\u0428\\u043e\\u0443 \\u201c\\u0420\\u0430\\u0437\\u0433\\u043e\\u043d\\u044b\\u201d \\u043e\\u0442 StandUp Club#1)\\n\\u0418 \\u0434\\u0440\\u0443\\u0433\\u0438\\u0435\\n\\ud83c\\udf9f\\n\\u0412\\u0445\\u043e\\u0434 \\u0431\\u0435\\u0441\\u043f\\u043b\\u0430\\u0442\\u043d\\u044b\\u0439\\n\\u231a\\n\\u0421\\u0431\\u043e\\u0440 \\u0433\\u043e\\u0441\\u0442\\u0435\\u0438\\u0306 \\u0441 19:30\\n\\ud83d\\udccd\\n\\u00abWIP\\\",\\u00a0\\u042f\\u0443\\u0437\\u0441\\u043a\\u0438\\u0439 \\u0431\\u0443\\u043b\\u044c\\u0432\\u0430\\u0440, 11 \\u0441\\u04421/ \\u043c. \\u041a\\u0438\\u0442\\u0430\\u0439-\\u0413\\u043e\\u0440\\u043e\\u0434\\n\\u0411\\u0435\\u0441\\u043f\\u043b\\u0430\\u0442\\u043d\\u0430\\u044f \\u0440\\u0435\\u0433\\u0438\\u0441\\u0442\\u0440\\u0430\\u0446\\u0438\\u044f \\u043d\\u0430 \\u043c\\u0435\\u0440\\u043e\\u043f\\u0440\\u0438\\u044f\\u0442\\u0438\\u0435 \\u043f\\u043e\\n\\u0441\\u0441\\u044b\\u043b\\u043a\\u0435\\n\\u041f\\u0440\\u0438\\u0445\\u043e\\u0434\\u0438 \\u0441\\u0430\\u043c \\u0438 \\u043f\\u0440\\u0438\\u0432\\u043e\\u0434\\u0438 \\u0434\\u0440\\u0443\\u0437\\u0435\\u0439!\"\n        ],\n        \"semantic_type\": \"\",\n        \"description\": \"\"\n      }\n    },\n    {\n      \"column\": \"labels\",\n      \"properties\": {\n        \"dtype\": \"category\",\n        \"num_unique_values\": 3540,\n        \"samples\": [\n          \"1 0 0 0 0 0 0 1 1 0 0 0 0 1 1 1 1 1 0 1\",\n          \"0 0 0 0 0 0 0 0 0 0 0 0 1 1 1 1 1 0 0 1\",\n          \"0 0 0 0 0 0 0 0 0 1 0 0 0 1 0 0 1 0 1 0\"\n        ],\n        \"semantic_type\": \"\",\n        \"description\": \"\"\n      }\n    },\n    {\n      \"column\": \"labels_list\",\n      \"properties\": {\n        \"dtype\": \"object\",\n        \"semantic_type\": \"\",\n        \"description\": \"\"\n      }\n    }\n  ]\n}"
            }
          },
          "metadata": {},
          "execution_count": 85
        }
      ]
    },
    {
      "id": "f4aa7ad9-9efb-40f2-b940-4ac75a525cb7",
      "cell_type": "markdown",
      "source": [
        "## Очистка"
      ],
      "metadata": {
        "id": "f4aa7ad9-9efb-40f2-b940-4ac75a525cb7"
      }
    },
    {
      "cell_type": "code",
      "source": [
        "import inspect\n",
        "def getargspec(func):\n",
        "    \"\"\"Реализация getargspec для новых версий Python\"\"\"\n",
        "    sig = inspect.signature(func)\n",
        "    args = []\n",
        "    varargs = None\n",
        "    varkw = None\n",
        "    defaults = []\n",
        "\n",
        "    for param in sig.parameters.values():\n",
        "        if param.kind == param.VAR_POSITIONAL:\n",
        "            varargs = param.name\n",
        "        elif param.kind == param.VAR_KEYWORD:\n",
        "            varkw = param.name\n",
        "        else:\n",
        "            args.append(param.name)\n",
        "            if param.default is not param.empty:\n",
        "                defaults.append(param.default)\n",
        "\n",
        "    return collections.namedtuple('ArgSpec', 'args varargs keywords defaults')(\n",
        "        args, varargs, varkw, tuple(defaults) if defaults else None)\n",
        "\n",
        "if not hasattr(inspect, 'getargspec'):\n",
        "    inspect.getargspec = getargspec"
      ],
      "metadata": {
        "id": "0kmc_9R6U7c9"
      },
      "id": "0kmc_9R6U7c9",
      "execution_count": 86,
      "outputs": []
    },
    {
      "id": "3647e4a7-6c96-42dc-b1ba-b901d3bc9c9b",
      "cell_type": "code",
      "source": [
        "nltk.download('stopwords')\n",
        "stop_words = set(stopwords.words('russian'))\n",
        "morph = MorphAnalyzer()"
      ],
      "metadata": {
        "trusted": true,
        "execution": {
          "iopub.status.busy": "2025-05-18T14:17:14.874723Z",
          "iopub.execute_input": "2025-05-18T14:17:14.874910Z",
          "iopub.status.idle": "2025-05-18T14:17:15.130410Z",
          "shell.execute_reply.started": "2025-05-18T14:17:14.874892Z",
          "shell.execute_reply": "2025-05-18T14:17:15.129801Z"
        },
        "id": "3647e4a7-6c96-42dc-b1ba-b901d3bc9c9b",
        "colab": {
          "base_uri": "https://localhost:8080/"
        },
        "outputId": "e5b315a1-d3a6-466c-9b8e-e53f9c5dd3e0"
      },
      "outputs": [
        {
          "output_type": "stream",
          "name": "stderr",
          "text": [
            "[nltk_data] Downloading package stopwords to /root/nltk_data...\n",
            "[nltk_data]   Package stopwords is already up-to-date!\n"
          ]
        }
      ],
      "execution_count": 87
    },
    {
      "id": "ce1970ad-92e8-4bea-bcc9-3ca7eb20c6b2",
      "cell_type": "code",
      "source": [
        "def clean_text_tfidf(text):\n",
        "    text = text.lower()\n",
        "    text = re.sub(r'https?://\\S+', '', text)\n",
        "    text = re.sub(r'[^а-яё\\s]', '', text)\n",
        "    words = text.split()\n",
        "    words = [morph.parse(w)[0].normal_form for w in words if w not in stop_words]\n",
        "    return ' '.join(words)"
      ],
      "metadata": {
        "trusted": true,
        "execution": {
          "iopub.status.busy": "2025-05-18T14:17:15.131070Z",
          "iopub.execute_input": "2025-05-18T14:17:15.131320Z",
          "iopub.status.idle": "2025-05-18T14:17:15.135613Z",
          "shell.execute_reply.started": "2025-05-18T14:17:15.131296Z",
          "shell.execute_reply": "2025-05-18T14:17:15.134829Z"
        },
        "id": "ce1970ad-92e8-4bea-bcc9-3ca7eb20c6b2"
      },
      "outputs": [],
      "execution_count": 88
    },
    {
      "id": "6d4467d6-6ab0-4d2d-ab4c-1818492cd17d",
      "cell_type": "code",
      "source": [
        "def clean_text_w2v(text):\n",
        "    text = text.lower()\n",
        "    text = re.sub(r'https?://\\S+', '', text)\n",
        "    text = re.sub(r'[^а-яё\\s]', '', text)\n",
        "    words = text.split()\n",
        "    words = [morph.parse(w)[0].normal_form for w in words]\n",
        "    return ' '.join(words)"
      ],
      "metadata": {
        "trusted": true,
        "execution": {
          "iopub.status.busy": "2025-05-18T14:17:15.136580Z",
          "iopub.execute_input": "2025-05-18T14:17:15.137041Z",
          "iopub.status.idle": "2025-05-18T14:17:15.152443Z",
          "shell.execute_reply.started": "2025-05-18T14:17:15.137021Z",
          "shell.execute_reply": "2025-05-18T14:17:15.151906Z"
        },
        "id": "6d4467d6-6ab0-4d2d-ab4c-1818492cd17d"
      },
      "outputs": [],
      "execution_count": 89
    },
    {
      "id": "2734d430-75ba-4d7d-93cb-7da01508ee9d",
      "cell_type": "code",
      "source": [
        "df['clean_tfidf'] = df.text.apply(clean_text_tfidf)\n",
        "df['clean_w2v'] = df.text.apply(clean_text_w2v)\n",
        "\n"
      ],
      "metadata": {
        "trusted": true,
        "execution": {
          "iopub.status.busy": "2025-05-18T14:17:42.437083Z",
          "iopub.execute_input": "2025-05-18T14:17:42.437390Z",
          "iopub.status.idle": "2025-05-18T14:24:51.736492Z",
          "shell.execute_reply.started": "2025-05-18T14:17:42.437369Z",
          "shell.execute_reply": "2025-05-18T14:24:51.735926Z"
        },
        "id": "2734d430-75ba-4d7d-93cb-7da01508ee9d"
      },
      "outputs": [],
      "execution_count": null
    },
    {
      "cell_type": "markdown",
      "source": [
        "#  tf-idf + любая нейронная сеть"
      ],
      "metadata": {
        "id": "fSX5UZRnrHCd"
      },
      "id": "fSX5UZRnrHCd"
    },
    {
      "id": "ed403a62-853f-4b83-a6d2-a58f47318120",
      "cell_type": "code",
      "source": [
        "X = df['clean_tfidf'].tolist()\n",
        "y = np.array(list(df['labels_list']), dtype=np.float32)\n",
        "\n"
      ],
      "metadata": {
        "trusted": true,
        "execution": {
          "iopub.status.busy": "2025-05-17T13:40:05.122719Z",
          "iopub.execute_input": "2025-05-17T13:40:05.123189Z",
          "iopub.status.idle": "2025-05-17T13:40:06.719720Z",
          "shell.execute_reply.started": "2025-05-17T13:40:05.123165Z",
          "shell.execute_reply": "2025-05-17T13:40:06.718920Z"
        },
        "id": "ed403a62-853f-4b83-a6d2-a58f47318120"
      },
      "outputs": [],
      "execution_count": null
    },
    {
      "cell_type": "code",
      "source": [
        "tfidf = TfidfVectorizer(max_features=10000)\n",
        "X_tfidf = tfidf.fit_transform(X)\n"
      ],
      "metadata": {
        "id": "aR-ZiFJaeztO"
      },
      "id": "aR-ZiFJaeztO",
      "execution_count": null,
      "outputs": []
    },
    {
      "cell_type": "code",
      "source": [
        "X_train, X_val, y_train, y_val = train_test_split(\n",
        "    X_tfidf, y, test_size=0.2, random_state=42)"
      ],
      "metadata": {
        "id": "kkw3tRwQe1m6"
      },
      "id": "kkw3tRwQe1m6",
      "execution_count": null,
      "outputs": []
    },
    {
      "cell_type": "code",
      "source": [
        "class TextDataset(Dataset):\n",
        "    def __init__(self, X, y):\n",
        "        self.X = X\n",
        "        self.y = y\n",
        "\n",
        "    def __len__(self):\n",
        "        return self.X.shape[0]\n",
        "\n",
        "    def __getitem__(self, idx):\n",
        "        return (\n",
        "            torch.FloatTensor(self.X[idx].toarray().squeeze()),\n",
        "            torch.FloatTensor(self.y[idx])\n",
        "        )\n",
        "\n",
        "train_loader = DataLoader(TextDataset(X_train, y_train), batch_size=64, shuffle=True)\n",
        "val_loader = DataLoader(TextDataset(X_val, y_val), batch_size=64)"
      ],
      "metadata": {
        "id": "l7Vgwg4seZlE"
      },
      "id": "l7Vgwg4seZlE",
      "execution_count": null,
      "outputs": []
    },
    {
      "cell_type": "code",
      "source": [
        "class MLP(nn.Module):\n",
        "    def __init__(self, input_size, output_size):\n",
        "        super().__init__()\n",
        "        self.layers = nn.Sequential(\n",
        "            nn.Linear(input_size, 256),\n",
        "            nn.ReLU(),\n",
        "            nn.Linear(256, 128),\n",
        "            nn.ReLU(),\n",
        "            nn.Linear(128, output_size),\n",
        "            nn.Sigmoid()\n",
        "        )\n",
        "\n",
        "    def forward(self, x):\n",
        "        return self.layers(x)\n",
        "\n",
        "model = MLP(X_train.shape[1], y_train.shape[1])\n",
        "criterion = nn.BCELoss()\n",
        "optimizer = optim.Adam(model.parameters(), lr=0.001)"
      ],
      "metadata": {
        "id": "BKd5YBi2fF6g"
      },
      "id": "BKd5YBi2fF6g",
      "execution_count": null,
      "outputs": []
    },
    {
      "cell_type": "code",
      "source": [
        "def train_epoch(model, loader, optimizer, criterion):\n",
        "    model.train()\n",
        "    total_loss = 0\n",
        "    for X_batch, y_batch in loader:\n",
        "        optimizer.zero_grad()\n",
        "        outputs = model(X_batch)\n",
        "        loss = criterion(outputs, y_batch)\n",
        "        loss.backward()\n",
        "        optimizer.step()\n",
        "        total_loss += loss.item()\n",
        "    return total_loss / len(loader)\n",
        "\n",
        "def validate(model, loader, criterion, threshold=0.5):\n",
        "    model.eval()\n",
        "    all_preds, all_labels = [], []\n",
        "    with torch.no_grad():\n",
        "        for X_batch, y_batch in loader:\n",
        "            outputs = model(X_batch)\n",
        "            all_preds.append(outputs.numpy())\n",
        "            all_labels.append(y_batch.numpy())\n",
        "\n",
        "    preds = (np.concatenate(all_preds) > threshold).astype(int)\n",
        "    labels = np.concatenate(all_labels)\n",
        "    return f1_score(labels, preds, average='micro')\n"
      ],
      "metadata": {
        "id": "h3m7WVVifG74"
      },
      "id": "h3m7WVVifG74",
      "execution_count": null,
      "outputs": []
    },
    {
      "cell_type": "code",
      "source": [
        "epochs = 20\n",
        "train_losses = []\n",
        "val_scores = []\n",
        "\n",
        "for epoch in range(epochs):\n",
        "    loss = train_epoch(model, train_loader, optimizer, criterion)\n",
        "    score = validate(model, val_loader, criterion)\n",
        "\n",
        "    train_losses.append(loss)\n",
        "    val_scores.append(score)\n",
        "\n",
        "    print(f\"Epoch {epoch+1}/{epochs} | Loss: {loss:.4f} | Val F1: {score:.4f}\")\n",
        "\n",
        "plt.figure(figsize=(10, 5))\n",
        "plt.plot(train_losses, label='Train Loss')\n",
        "plt.title('Learning Curve')\n",
        "plt.xlabel('Epoch')\n",
        "plt.ylabel('Loss')\n",
        "plt.legend()\n",
        "plt.show()"
      ],
      "metadata": {
        "id": "sZjY7_BkfPYw",
        "colab": {
          "base_uri": "https://localhost:8080/",
          "height": 356
        },
        "outputId": "c1df4074-8392-4243-aa08-02b8b1e80ae6"
      },
      "id": "sZjY7_BkfPYw",
      "execution_count": 26,
      "outputs": [
        {
          "output_type": "error",
          "ename": "KeyboardInterrupt",
          "evalue": "",
          "traceback": [
            "\u001b[0;31m---------------------------------------------------------------------------\u001b[0m",
            "\u001b[0;31mKeyboardInterrupt\u001b[0m                         Traceback (most recent call last)",
            "\u001b[0;32m<ipython-input-26-e000606894bd>\u001b[0m in \u001b[0;36m<cell line: 0>\u001b[0;34m()\u001b[0m\n\u001b[1;32m      4\u001b[0m \u001b[0;34m\u001b[0m\u001b[0m\n\u001b[1;32m      5\u001b[0m \u001b[0;32mfor\u001b[0m \u001b[0mepoch\u001b[0m \u001b[0;32min\u001b[0m \u001b[0mrange\u001b[0m\u001b[0;34m(\u001b[0m\u001b[0mepochs\u001b[0m\u001b[0;34m)\u001b[0m\u001b[0;34m:\u001b[0m\u001b[0;34m\u001b[0m\u001b[0;34m\u001b[0m\u001b[0m\n\u001b[0;32m----> 6\u001b[0;31m     \u001b[0mloss\u001b[0m \u001b[0;34m=\u001b[0m \u001b[0mtrain_epoch\u001b[0m\u001b[0;34m(\u001b[0m\u001b[0mmodel\u001b[0m\u001b[0;34m,\u001b[0m \u001b[0mtrain_loader\u001b[0m\u001b[0;34m,\u001b[0m \u001b[0moptimizer\u001b[0m\u001b[0;34m,\u001b[0m \u001b[0mcriterion\u001b[0m\u001b[0;34m)\u001b[0m\u001b[0;34m\u001b[0m\u001b[0;34m\u001b[0m\u001b[0m\n\u001b[0m\u001b[1;32m      7\u001b[0m     \u001b[0mscore\u001b[0m \u001b[0;34m=\u001b[0m \u001b[0mvalidate\u001b[0m\u001b[0;34m(\u001b[0m\u001b[0mmodel\u001b[0m\u001b[0;34m,\u001b[0m \u001b[0mval_loader\u001b[0m\u001b[0;34m,\u001b[0m \u001b[0mcriterion\u001b[0m\u001b[0;34m)\u001b[0m\u001b[0;34m\u001b[0m\u001b[0;34m\u001b[0m\u001b[0m\n\u001b[1;32m      8\u001b[0m \u001b[0;34m\u001b[0m\u001b[0m\n",
            "\u001b[0;32m<ipython-input-24-36836eb26e7a>\u001b[0m in \u001b[0;36mtrain_epoch\u001b[0;34m(model, loader, optimizer, criterion)\u001b[0m\n\u001b[1;32m      2\u001b[0m     \u001b[0mmodel\u001b[0m\u001b[0;34m.\u001b[0m\u001b[0mtrain\u001b[0m\u001b[0;34m(\u001b[0m\u001b[0;34m)\u001b[0m\u001b[0;34m\u001b[0m\u001b[0;34m\u001b[0m\u001b[0m\n\u001b[1;32m      3\u001b[0m     \u001b[0mtotal_loss\u001b[0m \u001b[0;34m=\u001b[0m \u001b[0;36m0\u001b[0m\u001b[0;34m\u001b[0m\u001b[0;34m\u001b[0m\u001b[0m\n\u001b[0;32m----> 4\u001b[0;31m     \u001b[0;32mfor\u001b[0m \u001b[0mX_batch\u001b[0m\u001b[0;34m,\u001b[0m \u001b[0my_batch\u001b[0m \u001b[0;32min\u001b[0m \u001b[0mloader\u001b[0m\u001b[0;34m:\u001b[0m\u001b[0;34m\u001b[0m\u001b[0;34m\u001b[0m\u001b[0m\n\u001b[0m\u001b[1;32m      5\u001b[0m         \u001b[0moptimizer\u001b[0m\u001b[0;34m.\u001b[0m\u001b[0mzero_grad\u001b[0m\u001b[0;34m(\u001b[0m\u001b[0;34m)\u001b[0m\u001b[0;34m\u001b[0m\u001b[0;34m\u001b[0m\u001b[0m\n\u001b[1;32m      6\u001b[0m         \u001b[0moutputs\u001b[0m \u001b[0;34m=\u001b[0m \u001b[0mmodel\u001b[0m\u001b[0;34m(\u001b[0m\u001b[0mX_batch\u001b[0m\u001b[0;34m)\u001b[0m\u001b[0;34m\u001b[0m\u001b[0;34m\u001b[0m\u001b[0m\n",
            "\u001b[0;32m/usr/local/lib/python3.11/dist-packages/torch/utils/data/dataloader.py\u001b[0m in \u001b[0;36m__next__\u001b[0;34m(self)\u001b[0m\n\u001b[1;32m    706\u001b[0m                 \u001b[0;31m# TODO(https://github.com/pytorch/pytorch/issues/76750)\u001b[0m\u001b[0;34m\u001b[0m\u001b[0;34m\u001b[0m\u001b[0m\n\u001b[1;32m    707\u001b[0m                 \u001b[0mself\u001b[0m\u001b[0;34m.\u001b[0m\u001b[0m_reset\u001b[0m\u001b[0;34m(\u001b[0m\u001b[0;34m)\u001b[0m  \u001b[0;31m# type: ignore[call-arg]\u001b[0m\u001b[0;34m\u001b[0m\u001b[0;34m\u001b[0m\u001b[0m\n\u001b[0;32m--> 708\u001b[0;31m             \u001b[0mdata\u001b[0m \u001b[0;34m=\u001b[0m \u001b[0mself\u001b[0m\u001b[0;34m.\u001b[0m\u001b[0m_next_data\u001b[0m\u001b[0;34m(\u001b[0m\u001b[0;34m)\u001b[0m\u001b[0;34m\u001b[0m\u001b[0;34m\u001b[0m\u001b[0m\n\u001b[0m\u001b[1;32m    709\u001b[0m             \u001b[0mself\u001b[0m\u001b[0;34m.\u001b[0m\u001b[0m_num_yielded\u001b[0m \u001b[0;34m+=\u001b[0m \u001b[0;36m1\u001b[0m\u001b[0;34m\u001b[0m\u001b[0;34m\u001b[0m\u001b[0m\n\u001b[1;32m    710\u001b[0m             if (\n",
            "\u001b[0;32m/usr/local/lib/python3.11/dist-packages/torch/utils/data/dataloader.py\u001b[0m in \u001b[0;36m_next_data\u001b[0;34m(self)\u001b[0m\n\u001b[1;32m    762\u001b[0m     \u001b[0;32mdef\u001b[0m \u001b[0m_next_data\u001b[0m\u001b[0;34m(\u001b[0m\u001b[0mself\u001b[0m\u001b[0;34m)\u001b[0m\u001b[0;34m:\u001b[0m\u001b[0;34m\u001b[0m\u001b[0;34m\u001b[0m\u001b[0m\n\u001b[1;32m    763\u001b[0m         \u001b[0mindex\u001b[0m \u001b[0;34m=\u001b[0m \u001b[0mself\u001b[0m\u001b[0;34m.\u001b[0m\u001b[0m_next_index\u001b[0m\u001b[0;34m(\u001b[0m\u001b[0;34m)\u001b[0m  \u001b[0;31m# may raise StopIteration\u001b[0m\u001b[0;34m\u001b[0m\u001b[0;34m\u001b[0m\u001b[0m\n\u001b[0;32m--> 764\u001b[0;31m         \u001b[0mdata\u001b[0m \u001b[0;34m=\u001b[0m \u001b[0mself\u001b[0m\u001b[0;34m.\u001b[0m\u001b[0m_dataset_fetcher\u001b[0m\u001b[0;34m.\u001b[0m\u001b[0mfetch\u001b[0m\u001b[0;34m(\u001b[0m\u001b[0mindex\u001b[0m\u001b[0;34m)\u001b[0m  \u001b[0;31m# may raise StopIteration\u001b[0m\u001b[0;34m\u001b[0m\u001b[0;34m\u001b[0m\u001b[0m\n\u001b[0m\u001b[1;32m    765\u001b[0m         \u001b[0;32mif\u001b[0m \u001b[0mself\u001b[0m\u001b[0;34m.\u001b[0m\u001b[0m_pin_memory\u001b[0m\u001b[0;34m:\u001b[0m\u001b[0;34m\u001b[0m\u001b[0;34m\u001b[0m\u001b[0m\n\u001b[1;32m    766\u001b[0m             \u001b[0mdata\u001b[0m \u001b[0;34m=\u001b[0m \u001b[0m_utils\u001b[0m\u001b[0;34m.\u001b[0m\u001b[0mpin_memory\u001b[0m\u001b[0;34m.\u001b[0m\u001b[0mpin_memory\u001b[0m\u001b[0;34m(\u001b[0m\u001b[0mdata\u001b[0m\u001b[0;34m,\u001b[0m \u001b[0mself\u001b[0m\u001b[0;34m.\u001b[0m\u001b[0m_pin_memory_device\u001b[0m\u001b[0;34m)\u001b[0m\u001b[0;34m\u001b[0m\u001b[0;34m\u001b[0m\u001b[0m\n",
            "\u001b[0;32m/usr/local/lib/python3.11/dist-packages/torch/utils/data/_utils/fetch.py\u001b[0m in \u001b[0;36mfetch\u001b[0;34m(self, possibly_batched_index)\u001b[0m\n\u001b[1;32m     50\u001b[0m                 \u001b[0mdata\u001b[0m \u001b[0;34m=\u001b[0m \u001b[0mself\u001b[0m\u001b[0;34m.\u001b[0m\u001b[0mdataset\u001b[0m\u001b[0;34m.\u001b[0m\u001b[0m__getitems__\u001b[0m\u001b[0;34m(\u001b[0m\u001b[0mpossibly_batched_index\u001b[0m\u001b[0;34m)\u001b[0m\u001b[0;34m\u001b[0m\u001b[0;34m\u001b[0m\u001b[0m\n\u001b[1;32m     51\u001b[0m             \u001b[0;32melse\u001b[0m\u001b[0;34m:\u001b[0m\u001b[0;34m\u001b[0m\u001b[0;34m\u001b[0m\u001b[0m\n\u001b[0;32m---> 52\u001b[0;31m                 \u001b[0mdata\u001b[0m \u001b[0;34m=\u001b[0m \u001b[0;34m[\u001b[0m\u001b[0mself\u001b[0m\u001b[0;34m.\u001b[0m\u001b[0mdataset\u001b[0m\u001b[0;34m[\u001b[0m\u001b[0midx\u001b[0m\u001b[0;34m]\u001b[0m \u001b[0;32mfor\u001b[0m \u001b[0midx\u001b[0m \u001b[0;32min\u001b[0m \u001b[0mpossibly_batched_index\u001b[0m\u001b[0;34m]\u001b[0m\u001b[0;34m\u001b[0m\u001b[0;34m\u001b[0m\u001b[0m\n\u001b[0m\u001b[1;32m     53\u001b[0m         \u001b[0;32melse\u001b[0m\u001b[0;34m:\u001b[0m\u001b[0;34m\u001b[0m\u001b[0;34m\u001b[0m\u001b[0m\n\u001b[1;32m     54\u001b[0m             \u001b[0mdata\u001b[0m \u001b[0;34m=\u001b[0m \u001b[0mself\u001b[0m\u001b[0;34m.\u001b[0m\u001b[0mdataset\u001b[0m\u001b[0;34m[\u001b[0m\u001b[0mpossibly_batched_index\u001b[0m\u001b[0;34m]\u001b[0m\u001b[0;34m\u001b[0m\u001b[0;34m\u001b[0m\u001b[0m\n",
            "\u001b[0;32m/usr/local/lib/python3.11/dist-packages/torch/utils/data/_utils/fetch.py\u001b[0m in \u001b[0;36m<listcomp>\u001b[0;34m(.0)\u001b[0m\n\u001b[1;32m     50\u001b[0m                 \u001b[0mdata\u001b[0m \u001b[0;34m=\u001b[0m \u001b[0mself\u001b[0m\u001b[0;34m.\u001b[0m\u001b[0mdataset\u001b[0m\u001b[0;34m.\u001b[0m\u001b[0m__getitems__\u001b[0m\u001b[0;34m(\u001b[0m\u001b[0mpossibly_batched_index\u001b[0m\u001b[0;34m)\u001b[0m\u001b[0;34m\u001b[0m\u001b[0;34m\u001b[0m\u001b[0m\n\u001b[1;32m     51\u001b[0m             \u001b[0;32melse\u001b[0m\u001b[0;34m:\u001b[0m\u001b[0;34m\u001b[0m\u001b[0;34m\u001b[0m\u001b[0m\n\u001b[0;32m---> 52\u001b[0;31m                 \u001b[0mdata\u001b[0m \u001b[0;34m=\u001b[0m \u001b[0;34m[\u001b[0m\u001b[0mself\u001b[0m\u001b[0;34m.\u001b[0m\u001b[0mdataset\u001b[0m\u001b[0;34m[\u001b[0m\u001b[0midx\u001b[0m\u001b[0;34m]\u001b[0m \u001b[0;32mfor\u001b[0m \u001b[0midx\u001b[0m \u001b[0;32min\u001b[0m \u001b[0mpossibly_batched_index\u001b[0m\u001b[0;34m]\u001b[0m\u001b[0;34m\u001b[0m\u001b[0;34m\u001b[0m\u001b[0m\n\u001b[0m\u001b[1;32m     53\u001b[0m         \u001b[0;32melse\u001b[0m\u001b[0;34m:\u001b[0m\u001b[0;34m\u001b[0m\u001b[0;34m\u001b[0m\u001b[0m\n\u001b[1;32m     54\u001b[0m             \u001b[0mdata\u001b[0m \u001b[0;34m=\u001b[0m \u001b[0mself\u001b[0m\u001b[0;34m.\u001b[0m\u001b[0mdataset\u001b[0m\u001b[0;34m[\u001b[0m\u001b[0mpossibly_batched_index\u001b[0m\u001b[0;34m]\u001b[0m\u001b[0;34m\u001b[0m\u001b[0;34m\u001b[0m\u001b[0m\n",
            "\u001b[0;32m<ipython-input-22-f0c1ba366790>\u001b[0m in \u001b[0;36m__getitem__\u001b[0;34m(self, idx)\u001b[0m\n\u001b[1;32m      9\u001b[0m     \u001b[0;32mdef\u001b[0m \u001b[0m__getitem__\u001b[0m\u001b[0;34m(\u001b[0m\u001b[0mself\u001b[0m\u001b[0;34m,\u001b[0m \u001b[0midx\u001b[0m\u001b[0;34m)\u001b[0m\u001b[0;34m:\u001b[0m\u001b[0;34m\u001b[0m\u001b[0;34m\u001b[0m\u001b[0m\n\u001b[1;32m     10\u001b[0m         return (\n\u001b[0;32m---> 11\u001b[0;31m             \u001b[0mtorch\u001b[0m\u001b[0;34m.\u001b[0m\u001b[0mFloatTensor\u001b[0m\u001b[0;34m(\u001b[0m\u001b[0mself\u001b[0m\u001b[0;34m.\u001b[0m\u001b[0mX\u001b[0m\u001b[0;34m[\u001b[0m\u001b[0midx\u001b[0m\u001b[0;34m]\u001b[0m\u001b[0;34m.\u001b[0m\u001b[0mtoarray\u001b[0m\u001b[0;34m(\u001b[0m\u001b[0;34m)\u001b[0m\u001b[0;34m.\u001b[0m\u001b[0msqueeze\u001b[0m\u001b[0;34m(\u001b[0m\u001b[0;34m)\u001b[0m\u001b[0;34m)\u001b[0m\u001b[0;34m,\u001b[0m\u001b[0;34m\u001b[0m\u001b[0;34m\u001b[0m\u001b[0m\n\u001b[0m\u001b[1;32m     12\u001b[0m             \u001b[0mtorch\u001b[0m\u001b[0;34m.\u001b[0m\u001b[0mFloatTensor\u001b[0m\u001b[0;34m(\u001b[0m\u001b[0mself\u001b[0m\u001b[0;34m.\u001b[0m\u001b[0my\u001b[0m\u001b[0;34m[\u001b[0m\u001b[0midx\u001b[0m\u001b[0;34m]\u001b[0m\u001b[0;34m)\u001b[0m\u001b[0;34m\u001b[0m\u001b[0;34m\u001b[0m\u001b[0m\n\u001b[1;32m     13\u001b[0m         )\n",
            "\u001b[0;32m/usr/local/lib/python3.11/dist-packages/scipy/sparse/_index.py\u001b[0m in \u001b[0;36m__getitem__\u001b[0;34m(self, key)\u001b[0m\n\u001b[1;32m     52\u001b[0m             \u001b[0;32melif\u001b[0m \u001b[0misinstance\u001b[0m\u001b[0;34m(\u001b[0m\u001b[0mcol\u001b[0m\u001b[0;34m,\u001b[0m \u001b[0mslice\u001b[0m\u001b[0;34m)\u001b[0m\u001b[0;34m:\u001b[0m\u001b[0;34m\u001b[0m\u001b[0;34m\u001b[0m\u001b[0m\n\u001b[1;32m     53\u001b[0m                 \u001b[0mself\u001b[0m\u001b[0;34m.\u001b[0m\u001b[0m_raise_on_1d_array_slice\u001b[0m\u001b[0;34m(\u001b[0m\u001b[0;34m)\u001b[0m\u001b[0;34m\u001b[0m\u001b[0;34m\u001b[0m\u001b[0m\n\u001b[0;32m---> 54\u001b[0;31m                 \u001b[0;32mreturn\u001b[0m \u001b[0mself\u001b[0m\u001b[0;34m.\u001b[0m\u001b[0m_get_intXslice\u001b[0m\u001b[0;34m(\u001b[0m\u001b[0mrow\u001b[0m\u001b[0;34m,\u001b[0m \u001b[0mcol\u001b[0m\u001b[0;34m)\u001b[0m\u001b[0;34m\u001b[0m\u001b[0;34m\u001b[0m\u001b[0m\n\u001b[0m\u001b[1;32m     55\u001b[0m             \u001b[0;32melif\u001b[0m \u001b[0mcol\u001b[0m\u001b[0;34m.\u001b[0m\u001b[0mndim\u001b[0m \u001b[0;34m==\u001b[0m \u001b[0;36m1\u001b[0m\u001b[0;34m:\u001b[0m\u001b[0;34m\u001b[0m\u001b[0;34m\u001b[0m\u001b[0m\n\u001b[1;32m     56\u001b[0m                 \u001b[0mself\u001b[0m\u001b[0;34m.\u001b[0m\u001b[0m_raise_on_1d_array_slice\u001b[0m\u001b[0;34m(\u001b[0m\u001b[0;34m)\u001b[0m\u001b[0;34m\u001b[0m\u001b[0;34m\u001b[0m\u001b[0m\n",
            "\u001b[0;32m/usr/local/lib/python3.11/dist-packages/scipy/sparse/_csr.py\u001b[0m in \u001b[0;36m_get_intXslice\u001b[0;34m(self, row, col)\u001b[0m\n\u001b[1;32m    168\u001b[0m     \u001b[0;32mdef\u001b[0m \u001b[0m_get_intXslice\u001b[0m\u001b[0;34m(\u001b[0m\u001b[0mself\u001b[0m\u001b[0;34m,\u001b[0m \u001b[0mrow\u001b[0m\u001b[0;34m,\u001b[0m \u001b[0mcol\u001b[0m\u001b[0;34m)\u001b[0m\u001b[0;34m:\u001b[0m\u001b[0;34m\u001b[0m\u001b[0;34m\u001b[0m\u001b[0m\n\u001b[1;32m    169\u001b[0m         \u001b[0;32mif\u001b[0m \u001b[0mcol\u001b[0m\u001b[0;34m.\u001b[0m\u001b[0mstep\u001b[0m \u001b[0;32min\u001b[0m \u001b[0;34m(\u001b[0m\u001b[0;36m1\u001b[0m\u001b[0;34m,\u001b[0m \u001b[0;32mNone\u001b[0m\u001b[0;34m)\u001b[0m\u001b[0;34m:\u001b[0m\u001b[0;34m\u001b[0m\u001b[0;34m\u001b[0m\u001b[0m\n\u001b[0;32m--> 170\u001b[0;31m             \u001b[0;32mreturn\u001b[0m \u001b[0mself\u001b[0m\u001b[0;34m.\u001b[0m\u001b[0m_get_submatrix\u001b[0m\u001b[0;34m(\u001b[0m\u001b[0mrow\u001b[0m\u001b[0;34m,\u001b[0m \u001b[0mcol\u001b[0m\u001b[0;34m,\u001b[0m \u001b[0mcopy\u001b[0m\u001b[0;34m=\u001b[0m\u001b[0;32mTrue\u001b[0m\u001b[0;34m)\u001b[0m\u001b[0;34m\u001b[0m\u001b[0;34m\u001b[0m\u001b[0m\n\u001b[0m\u001b[1;32m    171\u001b[0m         \u001b[0;31m# TODO: uncomment this once it's faster:\u001b[0m\u001b[0;34m\u001b[0m\u001b[0;34m\u001b[0m\u001b[0m\n\u001b[1;32m    172\u001b[0m         \u001b[0;31m# return self._getrow(row)._minor_slice(col)\u001b[0m\u001b[0;34m\u001b[0m\u001b[0;34m\u001b[0m\u001b[0m\n",
            "\u001b[0;32m/usr/local/lib/python3.11/dist-packages/scipy/sparse/_compressed.py\u001b[0m in \u001b[0;36m_get_submatrix\u001b[0;34m(self, major, minor, copy)\u001b[0m\n\u001b[1;32m    808\u001b[0m         \u001b[0mM\u001b[0m\u001b[0;34m,\u001b[0m \u001b[0mN\u001b[0m \u001b[0;34m=\u001b[0m \u001b[0mself\u001b[0m\u001b[0;34m.\u001b[0m\u001b[0m_swap\u001b[0m\u001b[0;34m(\u001b[0m\u001b[0mself\u001b[0m\u001b[0;34m.\u001b[0m\u001b[0mshape\u001b[0m\u001b[0;34m)\u001b[0m\u001b[0;34m\u001b[0m\u001b[0;34m\u001b[0m\u001b[0m\n\u001b[1;32m    809\u001b[0m         \u001b[0mi0\u001b[0m\u001b[0;34m,\u001b[0m \u001b[0mi1\u001b[0m \u001b[0;34m=\u001b[0m \u001b[0m_process_slice\u001b[0m\u001b[0;34m(\u001b[0m\u001b[0mmajor\u001b[0m\u001b[0;34m,\u001b[0m \u001b[0mM\u001b[0m\u001b[0;34m)\u001b[0m\u001b[0;34m\u001b[0m\u001b[0;34m\u001b[0m\u001b[0m\n\u001b[0;32m--> 810\u001b[0;31m         \u001b[0mj0\u001b[0m\u001b[0;34m,\u001b[0m \u001b[0mj1\u001b[0m \u001b[0;34m=\u001b[0m \u001b[0m_process_slice\u001b[0m\u001b[0;34m(\u001b[0m\u001b[0mminor\u001b[0m\u001b[0;34m,\u001b[0m \u001b[0mN\u001b[0m\u001b[0;34m)\u001b[0m\u001b[0;34m\u001b[0m\u001b[0;34m\u001b[0m\u001b[0m\n\u001b[0m\u001b[1;32m    811\u001b[0m \u001b[0;34m\u001b[0m\u001b[0m\n\u001b[1;32m    812\u001b[0m         \u001b[0;32mif\u001b[0m \u001b[0mi0\u001b[0m \u001b[0;34m==\u001b[0m \u001b[0;36m0\u001b[0m \u001b[0;32mand\u001b[0m \u001b[0mj0\u001b[0m \u001b[0;34m==\u001b[0m \u001b[0;36m0\u001b[0m \u001b[0;32mand\u001b[0m \u001b[0mi1\u001b[0m \u001b[0;34m==\u001b[0m \u001b[0mM\u001b[0m \u001b[0;32mand\u001b[0m \u001b[0mj1\u001b[0m \u001b[0;34m==\u001b[0m \u001b[0mN\u001b[0m\u001b[0;34m:\u001b[0m\u001b[0;34m\u001b[0m\u001b[0;34m\u001b[0m\u001b[0m\n",
            "\u001b[0;32m/usr/local/lib/python3.11/dist-packages/scipy/sparse/_compressed.py\u001b[0m in \u001b[0;36m_process_slice\u001b[0;34m(sl, num)\u001b[0m\n\u001b[1;32m   1302\u001b[0m \u001b[0;34m\u001b[0m\u001b[0m\n\u001b[1;32m   1303\u001b[0m \u001b[0;34m\u001b[0m\u001b[0m\n\u001b[0;32m-> 1304\u001b[0;31m \u001b[0;32mdef\u001b[0m \u001b[0m_process_slice\u001b[0m\u001b[0;34m(\u001b[0m\u001b[0msl\u001b[0m\u001b[0;34m,\u001b[0m \u001b[0mnum\u001b[0m\u001b[0;34m)\u001b[0m\u001b[0;34m:\u001b[0m\u001b[0;34m\u001b[0m\u001b[0;34m\u001b[0m\u001b[0m\n\u001b[0m\u001b[1;32m   1305\u001b[0m     \u001b[0;32mif\u001b[0m \u001b[0msl\u001b[0m \u001b[0;32mis\u001b[0m \u001b[0;32mNone\u001b[0m\u001b[0;34m:\u001b[0m\u001b[0;34m\u001b[0m\u001b[0;34m\u001b[0m\u001b[0m\n\u001b[1;32m   1306\u001b[0m         \u001b[0mi0\u001b[0m\u001b[0;34m,\u001b[0m \u001b[0mi1\u001b[0m \u001b[0;34m=\u001b[0m \u001b[0;36m0\u001b[0m\u001b[0;34m,\u001b[0m \u001b[0mnum\u001b[0m\u001b[0;34m\u001b[0m\u001b[0;34m\u001b[0m\u001b[0m\n",
            "\u001b[0;31mKeyboardInterrupt\u001b[0m: "
          ]
        }
      ]
    },
    {
      "cell_type": "code",
      "source": [
        "\n",
        "df_test = pd.read_csv('test.csv')\n",
        "df_test['clean_tfidf'] = df_test['text'].apply(clean_text_tfidf)\n",
        "X_test_tfidf = tfidf.transform(df_test['clean_tfidf'])\n",
        "X_test_tensor = torch.tensor(X_test_tfidf.toarray(), dtype=torch.float32)"
      ],
      "metadata": {
        "id": "MK4hlQ3xg58a"
      },
      "id": "MK4hlQ3xg58a",
      "execution_count": 27,
      "outputs": []
    },
    {
      "cell_type": "code",
      "source": [
        "model.eval()\n",
        "\n",
        "with torch.no_grad():\n",
        "    preds_proba = model(X_test_tensor).cpu().numpy()\n",
        "\n",
        "threshold = 0.5\n",
        "y_test_pred = (preds_proba > threshold).astype(int)"
      ],
      "metadata": {
        "id": "rzTd4w_OiGX8",
        "colab": {
          "base_uri": "https://localhost:8080/"
        },
        "outputId": "6e531238-3581-4c99-815b-de8636efcd0b"
      },
      "id": "rzTd4w_OiGX8",
      "execution_count": 28,
      "outputs": [
        {
          "output_type": "stream",
          "name": "stdout",
          "text": [
            "Примеры предсказаний:\n"
          ]
        }
      ]
    },
    {
      "cell_type": "code",
      "source": [
        "ids = list(range(29568, 29568 + len(df_test)))\n",
        "\n",
        "labels_str = [' '.join(map(str, row)) for row in y_test_pred]\n",
        "\n",
        "final_dataframe = pd.DataFrame({\n",
        "    'id': ids,\n",
        "    'labels': labels_str\n",
        "}).set_index('id')\n",
        "\n",
        "final_dataframe.to_csv('predictions.csv', index=True)\n",
        "print(\"Результаты сохранены в predictions.csv\")"
      ],
      "metadata": {
        "id": "6PfDFhAqiZcA",
        "colab": {
          "base_uri": "https://localhost:8080/"
        },
        "outputId": "166dffff-7a51-441c-f394-f2057a0c2dec"
      },
      "id": "6PfDFhAqiZcA",
      "execution_count": 29,
      "outputs": [
        {
          "output_type": "stream",
          "name": "stdout",
          "text": [
            "Результаты сохранены в predictions.csv\n"
          ]
        }
      ]
    },
    {
      "id": "8925e48e-1cbe-43f5-920f-cbd4ddb4cace",
      "cell_type": "markdown",
      "source": [
        "Результат: 0.83794"
      ],
      "metadata": {
        "id": "8925e48e-1cbe-43f5-920f-cbd4ddb4cace"
      }
    },
    {
      "id": "821cf497-dbfa-49a2-aad3-48cfa8dba0e7",
      "cell_type": "markdown",
      "source": [
        "##  w2v + любая нейронная сеть;"
      ],
      "metadata": {
        "id": "821cf497-dbfa-49a2-aad3-48cfa8dba0e7"
      }
    },
    {
      "cell_type": "code",
      "source": [
        "train_tokens = list(df['clean_w2v'])\n",
        "\n",
        "w2v_model = Word2Vec(\n",
        "    sentences=train_tokens,\n",
        "    vector_size=300,\n",
        "    window=5,\n",
        "    min_count=2,\n",
        "    workers=4,\n",
        "    epochs=10\n",
        ")"
      ],
      "metadata": {
        "id": "nWIR9kbELzna",
        "colab": {
          "base_uri": "https://localhost:8080/"
        },
        "outputId": "970f8c74-3c61-4bbf-d21c-a38f408e8b63"
      },
      "id": "nWIR9kbELzna",
      "execution_count": 30,
      "outputs": [
        {
          "output_type": "stream",
          "name": "stderr",
          "text": [
            "WARNING:gensim.models.word2vec:Each 'sentences' item should be a list of words (usually unicode strings). First item here is instead plain <class 'str'>.\n"
          ]
        }
      ]
    },
    {
      "cell_type": "code",
      "source": [
        "def tokenize_text(text):\n",
        "    return text.split()\n",
        "\n",
        "df['tokens'] = df['clean_w2v'].apply(tokenize_text)\n",
        "train_tokens = df['tokens'].tolist()\n",
        "y = np.array(df['labels_list'].tolist(), dtype=np.float32)"
      ],
      "metadata": {
        "id": "3C4QvVa0J8MJ"
      },
      "id": "3C4QvVa0J8MJ",
      "execution_count": 31,
      "outputs": []
    },
    {
      "cell_type": "code",
      "source": [
        "def text_to_vector(tokens, model):\n",
        "    vectors = [model.wv[word] for word in tokens if word in model.wv]\n",
        "    if len(vectors) > 0:\n",
        "        return np.mean(vectors, axis=0)\n",
        "    return np.zeros(model.vector_size)\n",
        "\n",
        "X = np.array([text_to_vector(tokens, w2v_model) for tokens in train_tokens])\n"
      ],
      "metadata": {
        "id": "0DBQVCoBKI_l"
      },
      "id": "0DBQVCoBKI_l",
      "execution_count": 32,
      "outputs": []
    },
    {
      "cell_type": "code",
      "source": [
        "X_train, X_val, y_train, y_val = train_test_split(\n",
        "    X, y, test_size=0.2, stratify=y.argmax(axis=1), random_state=42\n",
        ")\n",
        "\n",
        "scaler = StandardScaler()\n",
        "X_train = scaler.fit_transform(X_train)\n",
        "X_val = scaler.transform(X_val)"
      ],
      "metadata": {
        "id": "du4ylDLSjXps"
      },
      "id": "du4ylDLSjXps",
      "execution_count": 33,
      "outputs": []
    },
    {
      "cell_type": "code",
      "source": [
        "\n",
        "model = Sequential([\n",
        "    Dense(512, activation='relu', input_shape=(300,)),\n",
        "    BatchNormalization(),\n",
        "    Dropout(0.5),\n",
        "    Dense(256, activation='relu'),\n",
        "    BatchNormalization(),\n",
        "    Dropout(0.3),\n",
        "    Dense(y.shape[1], activation='sigmoid')\n",
        "])\n",
        "\n",
        "def lr_schedule(epoch):\n",
        "    \"\"\"Learning rate с warmup\"\"\"\n",
        "    warmup = 5\n",
        "    if epoch < warmup:\n",
        "        return 0.001 * (epoch + 1) / warmup\n",
        "    return 0.001 * (0.9 ** (epoch - warmup))\n",
        "\n",
        "model.compile(\n",
        "    optimizer=tf.keras.optimizers.Adam(),\n",
        "    loss='binary_crossentropy',\n",
        "    metrics=['accuracy', tf.keras.metrics.AUC(name='auc')]\n",
        ")\n",
        "\n",
        "callbacks = [\n",
        "    EarlyStopping(monitor='val_auc', patience=5, mode='max', restore_best_weights=True),\n",
        "    ModelCheckpoint('best_model.h5', monitor='val_auc', save_best_only=True, mode='max'),\n",
        "    LearningRateScheduler(lr_schedule)\n",
        "]\n",
        "\n",
        "history = model.fit(\n",
        "    X_train, y_train,\n",
        "    validation_data=(X_val, y_val),\n",
        "    epochs=20,\n",
        "    batch_size=64,\n",
        "    callbacks=callbacks,\n",
        "    verbose=1\n",
        ")\n",
        "\n",
        "def plot_training(history):\n",
        "    fig, (ax1, ax2) = plt.subplots(1, 2, figsize=(15, 5))\n",
        "\n",
        "    ax1.plot(history.history['loss'], label='Train Loss')\n",
        "    ax1.plot(history.history['val_loss'], label='Val Loss')\n",
        "    ax1.set_title('Loss Evolution')\n",
        "    ax1.legend()\n",
        "\n",
        "    ax2.plot(history.history['auc'], label='Train AUC')\n",
        "    ax2.plot(history.history['val_auc'], label='Val AUC')\n",
        "    ax2.set_title('Metric Evolution')\n",
        "    ax2.legend()\n",
        "\n",
        "    plt.show()\n",
        "\n",
        "plot_training(history)\n",
        "\n",
        "best_model = tf.keras.models.load_model('best_model.h5')\n",
        "val_pred = best_model.predict(X_val) > 0.5"
      ],
      "metadata": {
        "id": "fqhc0HgXjfcd",
        "colab": {
          "base_uri": "https://localhost:8080/",
          "height": 1000
        },
        "outputId": "77764d4a-4988-41e3-cb41-bbc9f1528289"
      },
      "id": "fqhc0HgXjfcd",
      "execution_count": 34,
      "outputs": [
        {
          "output_type": "stream",
          "name": "stderr",
          "text": [
            "/usr/local/lib/python3.11/dist-packages/keras/src/layers/core/dense.py:87: UserWarning: Do not pass an `input_shape`/`input_dim` argument to a layer. When using Sequential models, prefer using an `Input(shape)` object as the first layer in the model instead.\n",
            "  super().__init__(activity_regularizer=activity_regularizer, **kwargs)\n"
          ]
        },
        {
          "output_type": "stream",
          "name": "stdout",
          "text": [
            "Epoch 1/20\n",
            "\u001b[1m368/370\u001b[0m \u001b[32m━━━━━━━━━━━━━━━━━━━\u001b[0m\u001b[37m━\u001b[0m \u001b[1m0s\u001b[0m 11ms/step - accuracy: 0.0492 - auc: 0.6665 - loss: 0.7283"
          ]
        },
        {
          "output_type": "stream",
          "name": "stderr",
          "text": [
            "WARNING:absl:You are saving your model as an HDF5 file via `model.save()` or `keras.saving.save_model(model)`. This file format is considered legacy. We recommend using instead the native Keras format, e.g. `model.save('my_model.keras')` or `keras.saving.save_model(model, 'my_model.keras')`. \n"
          ]
        },
        {
          "output_type": "stream",
          "name": "stdout",
          "text": [
            "\b\b\b\b\b\b\b\b\b\b\b\b\b\b\b\b\b\b\b\b\b\b\b\b\b\b\b\b\b\b\b\b\b\b\b\b\b\b\b\b\b\b\b\b\b\b\b\b\b\b\b\b\b\b\b\b\b\b\b\b\b\b\b\b\b\b\b\b\b\b\b\b\b\b\b\b\b\b\b\b\b\b\b\b\b\b\b\b\b\r\u001b[1m370/370\u001b[0m \u001b[32m━━━━━━━━━━━━━━━━━━━━\u001b[0m\u001b[37m\u001b[0m \u001b[1m8s\u001b[0m 14ms/step - accuracy: 0.0492 - auc: 0.6669 - loss: 0.7277 - val_accuracy: 0.0100 - val_auc: 0.8645 - val_loss: 0.4925 - learning_rate: 2.0000e-04\n",
            "Epoch 2/20\n",
            "\u001b[1m368/370\u001b[0m \u001b[32m━━━━━━━━━━━━━━━━━━━\u001b[0m\u001b[37m━\u001b[0m \u001b[1m0s\u001b[0m 8ms/step - accuracy: 0.0217 - auc: 0.8419 - loss: 0.5056"
          ]
        },
        {
          "output_type": "stream",
          "name": "stderr",
          "text": [
            "WARNING:absl:You are saving your model as an HDF5 file via `model.save()` or `keras.saving.save_model(model)`. This file format is considered legacy. We recommend using instead the native Keras format, e.g. `model.save('my_model.keras')` or `keras.saving.save_model(model, 'my_model.keras')`. \n"
          ]
        },
        {
          "output_type": "stream",
          "name": "stdout",
          "text": [
            "\b\b\b\b\b\b\b\b\b\b\b\b\b\b\b\b\b\b\b\b\b\b\b\b\b\b\b\b\b\b\b\b\b\b\b\b\b\b\b\b\b\b\b\b\b\b\b\b\b\b\b\b\b\b\b\b\b\b\b\b\b\b\b\b\b\b\b\b\b\b\b\b\b\b\b\b\b\b\b\b\b\b\b\b\b\b\b\b\r\u001b[1m370/370\u001b[0m \u001b[32m━━━━━━━━━━━━━━━━━━━━\u001b[0m\u001b[37m\u001b[0m \u001b[1m8s\u001b[0m 9ms/step - accuracy: 0.0216 - auc: 0.8421 - loss: 0.5053 - val_accuracy: 0.0019 - val_auc: 0.9044 - val_loss: 0.3850 - learning_rate: 4.0000e-04\n",
            "Epoch 3/20\n",
            "\u001b[1m370/370\u001b[0m \u001b[32m━━━━━━━━━━━━━━━━━━━━\u001b[0m\u001b[37m\u001b[0m \u001b[1m0s\u001b[0m 10ms/step - accuracy: 0.0063 - auc: 0.8921 - loss: 0.4096"
          ]
        },
        {
          "output_type": "stream",
          "name": "stderr",
          "text": [
            "WARNING:absl:You are saving your model as an HDF5 file via `model.save()` or `keras.saving.save_model(model)`. This file format is considered legacy. We recommend using instead the native Keras format, e.g. `model.save('my_model.keras')` or `keras.saving.save_model(model, 'my_model.keras')`. \n"
          ]
        },
        {
          "output_type": "stream",
          "name": "stdout",
          "text": [
            "\b\b\b\b\b\b\b\b\b\b\b\b\b\b\b\b\b\b\b\b\b\b\b\b\b\b\b\b\b\b\b\b\b\b\b\b\b\b\b\b\b\b\b\b\b\b\b\b\b\b\b\b\b\b\b\b\b\b\b\b\b\b\b\b\b\b\b\b\b\b\b\b\b\b\b\b\b\b\b\b\b\b\b\b\b\b\b\b\b\r\u001b[1m370/370\u001b[0m \u001b[32m━━━━━━━━━━━━━━━━━━━━\u001b[0m\u001b[37m\u001b[0m \u001b[1m6s\u001b[0m 11ms/step - accuracy: 0.0063 - auc: 0.8921 - loss: 0.4096 - val_accuracy: 0.0073 - val_auc: 0.9087 - val_loss: 0.3743 - learning_rate: 6.0000e-04\n",
            "Epoch 4/20\n",
            "\u001b[1m367/370\u001b[0m \u001b[32m━━━━━━━━━━━━━━━━━━━\u001b[0m\u001b[37m━\u001b[0m \u001b[1m0s\u001b[0m 8ms/step - accuracy: 0.0058 - auc: 0.9001 - loss: 0.3919"
          ]
        },
        {
          "output_type": "stream",
          "name": "stderr",
          "text": [
            "WARNING:absl:You are saving your model as an HDF5 file via `model.save()` or `keras.saving.save_model(model)`. This file format is considered legacy. We recommend using instead the native Keras format, e.g. `model.save('my_model.keras')` or `keras.saving.save_model(model, 'my_model.keras')`. \n"
          ]
        },
        {
          "output_type": "stream",
          "name": "stdout",
          "text": [
            "\b\b\b\b\b\b\b\b\b\b\b\b\b\b\b\b\b\b\b\b\b\b\b\b\b\b\b\b\b\b\b\b\b\b\b\b\b\b\b\b\b\b\b\b\b\b\b\b\b\b\b\b\b\b\b\b\b\b\b\b\b\b\b\b\b\b\b\b\b\b\b\b\b\b\b\b\b\b\b\b\b\b\b\b\b\b\b\b\r\u001b[1m370/370\u001b[0m \u001b[32m━━━━━━━━━━━━━━━━━━━━\u001b[0m\u001b[37m\u001b[0m \u001b[1m5s\u001b[0m 9ms/step - accuracy: 0.0058 - auc: 0.9002 - loss: 0.3918 - val_accuracy: 0.0068 - val_auc: 0.9099 - val_loss: 0.3713 - learning_rate: 8.0000e-04\n",
            "Epoch 5/20\n",
            "\u001b[1m367/370\u001b[0m \u001b[32m━━━━━━━━━━━━━━━━━━━\u001b[0m\u001b[37m━\u001b[0m \u001b[1m0s\u001b[0m 11ms/step - accuracy: 0.0066 - auc: 0.9034 - loss: 0.3841"
          ]
        },
        {
          "output_type": "stream",
          "name": "stderr",
          "text": [
            "WARNING:absl:You are saving your model as an HDF5 file via `model.save()` or `keras.saving.save_model(model)`. This file format is considered legacy. We recommend using instead the native Keras format, e.g. `model.save('my_model.keras')` or `keras.saving.save_model(model, 'my_model.keras')`. \n"
          ]
        },
        {
          "output_type": "stream",
          "name": "stdout",
          "text": [
            "\b\b\b\b\b\b\b\b\b\b\b\b\b\b\b\b\b\b\b\b\b\b\b\b\b\b\b\b\b\b\b\b\b\b\b\b\b\b\b\b\b\b\b\b\b\b\b\b\b\b\b\b\b\b\b\b\b\b\b\b\b\b\b\b\b\b\b\b\b\b\b\b\b\b\b\b\b\b\b\b\b\b\b\b\b\b\b\b\b\r\u001b[1m370/370\u001b[0m \u001b[32m━━━━━━━━━━━━━━━━━━━━\u001b[0m\u001b[37m\u001b[0m \u001b[1m6s\u001b[0m 12ms/step - accuracy: 0.0066 - auc: 0.9034 - loss: 0.3840 - val_accuracy: 0.0066 - val_auc: 0.9118 - val_loss: 0.3670 - learning_rate: 0.0010\n",
            "Epoch 6/20\n",
            "\u001b[1m366/370\u001b[0m \u001b[32m━━━━━━━━━━━━━━━━━━━\u001b[0m\u001b[37m━\u001b[0m \u001b[1m0s\u001b[0m 8ms/step - accuracy: 0.0066 - auc: 0.9062 - loss: 0.3777"
          ]
        },
        {
          "output_type": "stream",
          "name": "stderr",
          "text": [
            "WARNING:absl:You are saving your model as an HDF5 file via `model.save()` or `keras.saving.save_model(model)`. This file format is considered legacy. We recommend using instead the native Keras format, e.g. `model.save('my_model.keras')` or `keras.saving.save_model(model, 'my_model.keras')`. \n"
          ]
        },
        {
          "output_type": "stream",
          "name": "stdout",
          "text": [
            "\b\b\b\b\b\b\b\b\b\b\b\b\b\b\b\b\b\b\b\b\b\b\b\b\b\b\b\b\b\b\b\b\b\b\b\b\b\b\b\b\b\b\b\b\b\b\b\b\b\b\b\b\b\b\b\b\b\b\b\b\b\b\b\b\b\b\b\b\b\b\b\b\b\b\b\b\b\b\b\b\b\b\b\b\b\b\b\b\r\u001b[1m370/370\u001b[0m \u001b[32m━━━━━━━━━━━━━━━━━━━━\u001b[0m\u001b[37m\u001b[0m \u001b[1m3s\u001b[0m 9ms/step - accuracy: 0.0066 - auc: 0.9062 - loss: 0.3777 - val_accuracy: 0.0071 - val_auc: 0.9121 - val_loss: 0.3657 - learning_rate: 0.0010\n",
            "Epoch 7/20\n",
            "\u001b[1m366/370\u001b[0m \u001b[32m━━━━━━━━━━━━━━━━━━━\u001b[0m\u001b[37m━\u001b[0m \u001b[1m0s\u001b[0m 8ms/step - accuracy: 0.0071 - auc: 0.9075 - loss: 0.3749"
          ]
        },
        {
          "output_type": "stream",
          "name": "stderr",
          "text": [
            "WARNING:absl:You are saving your model as an HDF5 file via `model.save()` or `keras.saving.save_model(model)`. This file format is considered legacy. We recommend using instead the native Keras format, e.g. `model.save('my_model.keras')` or `keras.saving.save_model(model, 'my_model.keras')`. \n"
          ]
        },
        {
          "output_type": "stream",
          "name": "stdout",
          "text": [
            "\b\b\b\b\b\b\b\b\b\b\b\b\b\b\b\b\b\b\b\b\b\b\b\b\b\b\b\b\b\b\b\b\b\b\b\b\b\b\b\b\b\b\b\b\b\b\b\b\b\b\b\b\b\b\b\b\b\b\b\b\b\b\b\b\b\b\b\b\b\b\b\b\b\b\b\b\b\b\b\b\b\b\b\b\b\b\b\b\r\u001b[1m370/370\u001b[0m \u001b[32m━━━━━━━━━━━━━━━━━━━━\u001b[0m\u001b[37m\u001b[0m \u001b[1m5s\u001b[0m 9ms/step - accuracy: 0.0071 - auc: 0.9075 - loss: 0.3748 - val_accuracy: 0.0076 - val_auc: 0.9124 - val_loss: 0.3650 - learning_rate: 9.0000e-04\n",
            "Epoch 8/20\n",
            "\u001b[1m369/370\u001b[0m \u001b[32m━━━━━━━━━━━━━━━━━━━\u001b[0m\u001b[37m━\u001b[0m \u001b[1m0s\u001b[0m 11ms/step - accuracy: 0.0079 - auc: 0.9096 - loss: 0.3712"
          ]
        },
        {
          "output_type": "stream",
          "name": "stderr",
          "text": [
            "WARNING:absl:You are saving your model as an HDF5 file via `model.save()` or `keras.saving.save_model(model)`. This file format is considered legacy. We recommend using instead the native Keras format, e.g. `model.save('my_model.keras')` or `keras.saving.save_model(model, 'my_model.keras')`. \n"
          ]
        },
        {
          "output_type": "stream",
          "name": "stdout",
          "text": [
            "\b\b\b\b\b\b\b\b\b\b\b\b\b\b\b\b\b\b\b\b\b\b\b\b\b\b\b\b\b\b\b\b\b\b\b\b\b\b\b\b\b\b\b\b\b\b\b\b\b\b\b\b\b\b\b\b\b\b\b\b\b\b\b\b\b\b\b\b\b\b\b\b\b\b\b\b\b\b\b\b\b\b\b\b\b\b\b\b\b\r\u001b[1m370/370\u001b[0m \u001b[32m━━━━━━━━━━━━━━━━━━━━\u001b[0m\u001b[37m\u001b[0m \u001b[1m4s\u001b[0m 12ms/step - accuracy: 0.0079 - auc: 0.9096 - loss: 0.3712 - val_accuracy: 0.0132 - val_auc: 0.9137 - val_loss: 0.3628 - learning_rate: 8.1000e-04\n",
            "Epoch 9/20\n",
            "\u001b[1m368/370\u001b[0m \u001b[32m━━━━━━━━━━━━━━━━━━━\u001b[0m\u001b[37m━\u001b[0m \u001b[1m0s\u001b[0m 8ms/step - accuracy: 0.0082 - auc: 0.9117 - loss: 0.3663"
          ]
        },
        {
          "output_type": "stream",
          "name": "stderr",
          "text": [
            "WARNING:absl:You are saving your model as an HDF5 file via `model.save()` or `keras.saving.save_model(model)`. This file format is considered legacy. We recommend using instead the native Keras format, e.g. `model.save('my_model.keras')` or `keras.saving.save_model(model, 'my_model.keras')`. \n"
          ]
        },
        {
          "output_type": "stream",
          "name": "stdout",
          "text": [
            "\b\b\b\b\b\b\b\b\b\b\b\b\b\b\b\b\b\b\b\b\b\b\b\b\b\b\b\b\b\b\b\b\b\b\b\b\b\b\b\b\b\b\b\b\b\b\b\b\b\b\b\b\b\b\b\b\b\b\b\b\b\b\b\b\b\b\b\b\b\b\b\b\b\b\b\b\b\b\b\b\b\b\b\b\b\b\b\b\r\u001b[1m370/370\u001b[0m \u001b[32m━━━━━━━━━━━━━━━━━━━━\u001b[0m\u001b[37m\u001b[0m \u001b[1m3s\u001b[0m 9ms/step - accuracy: 0.0082 - auc: 0.9117 - loss: 0.3664 - val_accuracy: 0.0137 - val_auc: 0.9137 - val_loss: 0.3626 - learning_rate: 7.2900e-04\n",
            "Epoch 10/20\n",
            "\u001b[1m368/370\u001b[0m \u001b[32m━━━━━━━━━━━━━━━━━━━\u001b[0m\u001b[37m━\u001b[0m \u001b[1m0s\u001b[0m 8ms/step - accuracy: 0.0081 - auc: 0.9115 - loss: 0.3666"
          ]
        },
        {
          "output_type": "stream",
          "name": "stderr",
          "text": [
            "WARNING:absl:You are saving your model as an HDF5 file via `model.save()` or `keras.saving.save_model(model)`. This file format is considered legacy. We recommend using instead the native Keras format, e.g. `model.save('my_model.keras')` or `keras.saving.save_model(model, 'my_model.keras')`. \n"
          ]
        },
        {
          "output_type": "stream",
          "name": "stdout",
          "text": [
            "\b\b\b\b\b\b\b\b\b\b\b\b\b\b\b\b\b\b\b\b\b\b\b\b\b\b\b\b\b\b\b\b\b\b\b\b\b\b\b\b\b\b\b\b\b\b\b\b\b\b\b\b\b\b\b\b\b\b\b\b\b\b\b\b\b\b\b\b\b\b\b\b\b\b\b\b\b\b\b\b\b\b\b\b\b\b\b\b\r\u001b[1m370/370\u001b[0m \u001b[32m━━━━━━━━━━━━━━━━━━━━\u001b[0m\u001b[37m\u001b[0m \u001b[1m5s\u001b[0m 9ms/step - accuracy: 0.0081 - auc: 0.9115 - loss: 0.3666 - val_accuracy: 0.0081 - val_auc: 0.9142 - val_loss: 0.3614 - learning_rate: 6.5610e-04\n",
            "Epoch 11/20\n",
            "\u001b[1m366/370\u001b[0m \u001b[32m━━━━━━━━━━━━━━━━━━━\u001b[0m\u001b[37m━\u001b[0m \u001b[1m0s\u001b[0m 9ms/step - accuracy: 0.0082 - auc: 0.9127 - loss: 0.3647"
          ]
        },
        {
          "output_type": "stream",
          "name": "stderr",
          "text": [
            "WARNING:absl:You are saving your model as an HDF5 file via `model.save()` or `keras.saving.save_model(model)`. This file format is considered legacy. We recommend using instead the native Keras format, e.g. `model.save('my_model.keras')` or `keras.saving.save_model(model, 'my_model.keras')`. \n"
          ]
        },
        {
          "output_type": "stream",
          "name": "stdout",
          "text": [
            "\b\b\b\b\b\b\b\b\b\b\b\b\b\b\b\b\b\b\b\b\b\b\b\b\b\b\b\b\b\b\b\b\b\b\b\b\b\b\b\b\b\b\b\b\b\b\b\b\b\b\b\b\b\b\b\b\b\b\b\b\b\b\b\b\b\b\b\b\b\b\b\b\b\b\b\b\b\b\b\b\b\b\b\b\b\b\b\b\r\u001b[1m370/370\u001b[0m \u001b[32m━━━━━━━━━━━━━━━━━━━━\u001b[0m\u001b[37m\u001b[0m \u001b[1m5s\u001b[0m 10ms/step - accuracy: 0.0082 - auc: 0.9127 - loss: 0.3648 - val_accuracy: 0.0085 - val_auc: 0.9149 - val_loss: 0.3602 - learning_rate: 5.9049e-04\n",
            "Epoch 12/20\n",
            "\u001b[1m366/370\u001b[0m \u001b[32m━━━━━━━━━━━━━━━━━━━\u001b[0m\u001b[37m━\u001b[0m \u001b[1m0s\u001b[0m 8ms/step - accuracy: 0.0079 - auc: 0.9128 - loss: 0.3645"
          ]
        },
        {
          "output_type": "stream",
          "name": "stderr",
          "text": [
            "WARNING:absl:You are saving your model as an HDF5 file via `model.save()` or `keras.saving.save_model(model)`. This file format is considered legacy. We recommend using instead the native Keras format, e.g. `model.save('my_model.keras')` or `keras.saving.save_model(model, 'my_model.keras')`. \n"
          ]
        },
        {
          "output_type": "stream",
          "name": "stdout",
          "text": [
            "\b\b\b\b\b\b\b\b\b\b\b\b\b\b\b\b\b\b\b\b\b\b\b\b\b\b\b\b\b\b\b\b\b\b\b\b\b\b\b\b\b\b\b\b\b\b\b\b\b\b\b\b\b\b\b\b\b\b\b\b\b\b\b\b\b\b\b\b\b\b\b\b\b\b\b\b\b\b\b\b\b\b\b\b\b\b\b\b\r\u001b[1m370/370\u001b[0m \u001b[32m━━━━━━━━━━━━━━━━━━━━\u001b[0m\u001b[37m\u001b[0m \u001b[1m5s\u001b[0m 9ms/step - accuracy: 0.0079 - auc: 0.9128 - loss: 0.3645 - val_accuracy: 0.0022 - val_auc: 0.9153 - val_loss: 0.3591 - learning_rate: 5.3144e-04\n",
            "Epoch 13/20\n",
            "\u001b[1m370/370\u001b[0m \u001b[32m━━━━━━━━━━━━━━━━━━━━\u001b[0m\u001b[37m\u001b[0m \u001b[1m6s\u001b[0m 12ms/step - accuracy: 0.0078 - auc: 0.9136 - loss: 0.3630 - val_accuracy: 0.0135 - val_auc: 0.9153 - val_loss: 0.3590 - learning_rate: 4.7830e-04\n",
            "Epoch 14/20\n",
            "\u001b[1m369/370\u001b[0m \u001b[32m━━━━━━━━━━━━━━━━━━━\u001b[0m\u001b[37m━\u001b[0m \u001b[1m0s\u001b[0m 8ms/step - accuracy: 0.0076 - auc: 0.9142 - loss: 0.3618"
          ]
        },
        {
          "output_type": "stream",
          "name": "stderr",
          "text": [
            "WARNING:absl:You are saving your model as an HDF5 file via `model.save()` or `keras.saving.save_model(model)`. This file format is considered legacy. We recommend using instead the native Keras format, e.g. `model.save('my_model.keras')` or `keras.saving.save_model(model, 'my_model.keras')`. \n"
          ]
        },
        {
          "output_type": "stream",
          "name": "stdout",
          "text": [
            "\b\b\b\b\b\b\b\b\b\b\b\b\b\b\b\b\b\b\b\b\b\b\b\b\b\b\b\b\b\b\b\b\b\b\b\b\b\b\b\b\b\b\b\b\b\b\b\b\b\b\b\b\b\b\b\b\b\b\b\b\b\b\b\b\b\b\b\b\b\b\b\b\b\b\b\b\b\b\b\b\b\b\b\b\b\b\b\b\r\u001b[1m370/370\u001b[0m \u001b[32m━━━━━━━━━━━━━━━━━━━━\u001b[0m\u001b[37m\u001b[0m \u001b[1m4s\u001b[0m 9ms/step - accuracy: 0.0076 - auc: 0.9142 - loss: 0.3618 - val_accuracy: 0.0137 - val_auc: 0.9156 - val_loss: 0.3583 - learning_rate: 4.3047e-04\n",
            "Epoch 15/20\n",
            "\u001b[1m367/370\u001b[0m \u001b[32m━━━━━━━━━━━━━━━━━━━\u001b[0m\u001b[37m━\u001b[0m \u001b[1m0s\u001b[0m 8ms/step - accuracy: 0.0093 - auc: 0.9147 - loss: 0.3610"
          ]
        },
        {
          "output_type": "stream",
          "name": "stderr",
          "text": [
            "WARNING:absl:You are saving your model as an HDF5 file via `model.save()` or `keras.saving.save_model(model)`. This file format is considered legacy. We recommend using instead the native Keras format, e.g. `model.save('my_model.keras')` or `keras.saving.save_model(model, 'my_model.keras')`. \n"
          ]
        },
        {
          "output_type": "stream",
          "name": "stdout",
          "text": [
            "\b\b\b\b\b\b\b\b\b\b\b\b\b\b\b\b\b\b\b\b\b\b\b\b\b\b\b\b\b\b\b\b\b\b\b\b\b\b\b\b\b\b\b\b\b\b\b\b\b\b\b\b\b\b\b\b\b\b\b\b\b\b\b\b\b\b\b\b\b\b\b\b\b\b\b\b\b\b\b\b\b\b\b\b\b\b\b\b\r\u001b[1m370/370\u001b[0m \u001b[32m━━━━━━━━━━━━━━━━━━━━\u001b[0m\u001b[37m\u001b[0m \u001b[1m3s\u001b[0m 9ms/step - accuracy: 0.0093 - auc: 0.9147 - loss: 0.3610 - val_accuracy: 0.0085 - val_auc: 0.9157 - val_loss: 0.3582 - learning_rate: 3.8742e-04\n",
            "Epoch 16/20\n",
            "\u001b[1m366/370\u001b[0m \u001b[32m━━━━━━━━━━━━━━━━━━━\u001b[0m\u001b[37m━\u001b[0m \u001b[1m0s\u001b[0m 11ms/step - accuracy: 0.0061 - auc: 0.9142 - loss: 0.3615"
          ]
        },
        {
          "output_type": "stream",
          "name": "stderr",
          "text": [
            "WARNING:absl:You are saving your model as an HDF5 file via `model.save()` or `keras.saving.save_model(model)`. This file format is considered legacy. We recommend using instead the native Keras format, e.g. `model.save('my_model.keras')` or `keras.saving.save_model(model, 'my_model.keras')`. \n"
          ]
        },
        {
          "output_type": "stream",
          "name": "stdout",
          "text": [
            "\b\b\b\b\b\b\b\b\b\b\b\b\b\b\b\b\b\b\b\b\b\b\b\b\b\b\b\b\b\b\b\b\b\b\b\b\b\b\b\b\b\b\b\b\b\b\b\b\b\b\b\b\b\b\b\b\b\b\b\b\b\b\b\b\b\b\b\b\b\b\b\b\b\b\b\b\b\b\b\b\b\b\b\b\b\b\b\b\b\r\u001b[1m370/370\u001b[0m \u001b[32m━━━━━━━━━━━━━━━━━━━━\u001b[0m\u001b[37m\u001b[0m \u001b[1m4s\u001b[0m 12ms/step - accuracy: 0.0061 - auc: 0.9142 - loss: 0.3615 - val_accuracy: 0.0019 - val_auc: 0.9159 - val_loss: 0.3577 - learning_rate: 3.4868e-04\n",
            "Epoch 17/20\n",
            "\u001b[1m365/370\u001b[0m \u001b[32m━━━━━━━━━━━━━━━━━━━\u001b[0m\u001b[37m━\u001b[0m \u001b[1m0s\u001b[0m 8ms/step - accuracy: 0.0073 - auc: 0.9146 - loss: 0.3607"
          ]
        },
        {
          "output_type": "stream",
          "name": "stderr",
          "text": [
            "WARNING:absl:You are saving your model as an HDF5 file via `model.save()` or `keras.saving.save_model(model)`. This file format is considered legacy. We recommend using instead the native Keras format, e.g. `model.save('my_model.keras')` or `keras.saving.save_model(model, 'my_model.keras')`. \n"
          ]
        },
        {
          "output_type": "stream",
          "name": "stdout",
          "text": [
            "\b\b\b\b\b\b\b\b\b\b\b\b\b\b\b\b\b\b\b\b\b\b\b\b\b\b\b\b\b\b\b\b\b\b\b\b\b\b\b\b\b\b\b\b\b\b\b\b\b\b\b\b\b\b\b\b\b\b\b\b\b\b\b\b\b\b\b\b\b\b\b\b\b\b\b\b\b\b\b\b\b\b\b\b\b\b\b\b\r\u001b[1m370/370\u001b[0m \u001b[32m━━━━━━━━━━━━━━━━━━━━\u001b[0m\u001b[37m\u001b[0m \u001b[1m4s\u001b[0m 10ms/step - accuracy: 0.0073 - auc: 0.9146 - loss: 0.3607 - val_accuracy: 0.0020 - val_auc: 0.9163 - val_loss: 0.3571 - learning_rate: 3.1381e-04\n",
            "Epoch 18/20\n",
            "\u001b[1m369/370\u001b[0m \u001b[32m━━━━━━━━━━━━━━━━━━━\u001b[0m\u001b[37m━\u001b[0m \u001b[1m0s\u001b[0m 8ms/step - accuracy: 0.0074 - auc: 0.9147 - loss: 0.3604"
          ]
        },
        {
          "output_type": "stream",
          "name": "stderr",
          "text": [
            "WARNING:absl:You are saving your model as an HDF5 file via `model.save()` or `keras.saving.save_model(model)`. This file format is considered legacy. We recommend using instead the native Keras format, e.g. `model.save('my_model.keras')` or `keras.saving.save_model(model, 'my_model.keras')`. \n"
          ]
        },
        {
          "output_type": "stream",
          "name": "stdout",
          "text": [
            "\b\b\b\b\b\b\b\b\b\b\b\b\b\b\b\b\b\b\b\b\b\b\b\b\b\b\b\b\b\b\b\b\b\b\b\b\b\b\b\b\b\b\b\b\b\b\b\b\b\b\b\b\b\b\b\b\b\b\b\b\b\b\b\b\b\b\b\b\b\b\b\b\b\b\b\b\b\b\b\b\b\b\b\b\b\b\b\b\r\u001b[1m370/370\u001b[0m \u001b[32m━━━━━━━━━━━━━━━━━━━━\u001b[0m\u001b[37m\u001b[0m \u001b[1m5s\u001b[0m 10ms/step - accuracy: 0.0074 - auc: 0.9147 - loss: 0.3604 - val_accuracy: 0.0086 - val_auc: 0.9163 - val_loss: 0.3568 - learning_rate: 2.8243e-04\n",
            "Epoch 19/20\n",
            "\u001b[1m367/370\u001b[0m \u001b[32m━━━━━━━━━━━━━━━━━━━\u001b[0m\u001b[37m━\u001b[0m \u001b[1m0s\u001b[0m 11ms/step - accuracy: 0.0051 - auc: 0.9150 - loss: 0.3597"
          ]
        },
        {
          "output_type": "stream",
          "name": "stderr",
          "text": [
            "WARNING:absl:You are saving your model as an HDF5 file via `model.save()` or `keras.saving.save_model(model)`. This file format is considered legacy. We recommend using instead the native Keras format, e.g. `model.save('my_model.keras')` or `keras.saving.save_model(model, 'my_model.keras')`. \n"
          ]
        },
        {
          "output_type": "stream",
          "name": "stdout",
          "text": [
            "\b\b\b\b\b\b\b\b\b\b\b\b\b\b\b\b\b\b\b\b\b\b\b\b\b\b\b\b\b\b\b\b\b\b\b\b\b\b\b\b\b\b\b\b\b\b\b\b\b\b\b\b\b\b\b\b\b\b\b\b\b\b\b\b\b\b\b\b\b\b\b\b\b\b\b\b\b\b\b\b\b\b\b\b\b\b\b\b\b\r\u001b[1m370/370\u001b[0m \u001b[32m━━━━━━━━━━━━━━━━━━━━\u001b[0m\u001b[37m\u001b[0m \u001b[1m5s\u001b[0m 12ms/step - accuracy: 0.0051 - auc: 0.9150 - loss: 0.3597 - val_accuracy: 0.0019 - val_auc: 0.9168 - val_loss: 0.3562 - learning_rate: 2.5419e-04\n",
            "Epoch 20/20\n",
            "\u001b[1m370/370\u001b[0m \u001b[32m━━━━━━━━━━━━━━━━━━━━\u001b[0m\u001b[37m\u001b[0m \u001b[1m3s\u001b[0m 9ms/step - accuracy: 0.0062 - auc: 0.9159 - loss: 0.3586 - val_accuracy: 0.0085 - val_auc: 0.9168 - val_loss: 0.3561 - learning_rate: 2.2877e-04\n"
          ]
        },
        {
          "output_type": "display_data",
          "data": {
            "text/plain": [
              "<Figure size 1500x500 with 2 Axes>"
            ],
            "image/png": "[encoded data removed]"
          },
          "metadata": {}
        },
        {
          "output_type": "stream",
          "name": "stderr",
          "text": [
            "WARNING:absl:Compiled the loaded model, but the compiled metrics have yet to be built. `model.compile_metrics` will be empty until you train or evaluate the model.\n"
          ]
        },
        {
          "output_type": "stream",
          "name": "stdout",
          "text": [
            "\u001b[1m185/185\u001b[0m \u001b[32m━━━━━━━━━━━━━━━━━━━━\u001b[0m\u001b[37m\u001b[0m \u001b[1m1s\u001b[0m 2ms/step\n"
          ]
        }
      ]
    },
    {
      "cell_type": "code",
      "source": [
        "df_test['clean_w2v'] = df_test['text'].apply(clean_text_w2v)\n",
        "test_tokens = [text.split() for text in df_test['clean_w2v']]\n",
        "X_test_w2v = np.array([text_to_vector(tokens, w2v_model) for tokens in test_tokens])\n",
        "X_test_scaled = scaler.transform(X_test_w2v)\n",
        "\n",
        "X_test_tensor = torch.tensor(X_test_scaled, dtype=torch.float32)"
      ],
      "metadata": {
        "id": "8iZc-j3Jj64J"
      },
      "id": "8iZc-j3Jj64J",
      "execution_count": 35,
      "outputs": []
    },
    {
      "cell_type": "code",
      "source": [
        "test_tokens = [text.split() for text in df_test['clean_w2v']]\n",
        "X_test_w2v = np.array([text_to_vector(tokens, w2v_model) for tokens in test_tokens])\n",
        "X_test_scaled = scaler.transform(X_test_w2v)"
      ],
      "metadata": {
        "id": "Q_D6qppmmdBA"
      },
      "id": "Q_D6qppmmdBA",
      "execution_count": 36,
      "outputs": []
    },
    {
      "cell_type": "code",
      "source": [
        "best_model = tf.keras.models.load_model('best_model.h5')\n",
        "test_pred_proba = best_model.predict(X_test_scaled)\n",
        "test_pred = (test_pred_proba > 0.5).astype(int)"
      ],
      "metadata": {
        "id": "5Z_p9QIBmfCP",
        "colab": {
          "base_uri": "https://localhost:8080/"
        },
        "outputId": "441841f6-4be8-447b-e20c-613ba6a0fa70"
      },
      "id": "5Z_p9QIBmfCP",
      "execution_count": 37,
      "outputs": [
        {
          "output_type": "stream",
          "name": "stderr",
          "text": [
            "WARNING:absl:Compiled the loaded model, but the compiled metrics have yet to be built. `model.compile_metrics` will be empty until you train or evaluate the model.\n"
          ]
        },
        {
          "output_type": "stream",
          "name": "stdout",
          "text": [
            "\u001b[1m231/231\u001b[0m \u001b[32m━━━━━━━━━━━━━━━━━━━━\u001b[0m\u001b[37m\u001b[0m \u001b[1m0s\u001b[0m 2ms/step\n"
          ]
        }
      ]
    },
    {
      "cell_type": "code",
      "source": [
        "test_labels = [' '.join(map(str, row)) for row in test_pred]\n",
        "final_df = pd.DataFrame({\n",
        "    'id': range(29568, 29568 + len(df_test)),\n",
        "    'labels': test_labels\n",
        "}).set_index('id')\n",
        "final_df.to_csv('w2v_predictions.csv', index=True)"
      ],
      "metadata": {
        "id": "x-MQBJjgmimk"
      },
      "id": "x-MQBJjgmimk",
      "execution_count": 39,
      "outputs": []
    },
    {
      "id": "4fb3a1c3-cc2a-42ba-93ae-9aff62ff9bb0",
      "cell_type": "markdown",
      "source": [
        "Результат:\n",
        "---\n",
        "\n",
        "\n",
        "0.68\n"
      ],
      "metadata": {
        "id": "4fb3a1c3-cc2a-42ba-93ae-9aff62ff9bb0"
      }
    },
    {
      "cell_type": "markdown",
      "source": [
        "BERT"
      ],
      "metadata": {
        "id": "25X-0VTNKrsD"
      },
      "id": "25X-0VTNKrsD"
    },
    {
      "cell_type": "code",
      "source": [
        "BATCH_SIZE = 64\n",
        "EPOCHS = 20\n",
        "LEARNING_RATE = 0.001\n",
        "PATIENCE = 3\n",
        "DEVICE = torch.device(\"cuda\" if torch.cuda.is_available() else \"cpu\")\n",
        "print(f\"Используется устройство: {DEVICE}\")\n"
      ],
      "metadata": {
        "id": "iCbvOIVOYNEh",
        "colab": {
          "base_uri": "https://localhost:8080/"
        },
        "outputId": "dfc9899f-aea4-45c7-b90b-21523192cf0e"
      },
      "id": "iCbvOIVOYNEh",
      "execution_count": 40,
      "outputs": [
        {
          "output_type": "stream",
          "name": "stdout",
          "text": [
            "Используется устройство: cpu\n"
          ]
        }
      ]
    },
    {
      "cell_type": "code",
      "source": [
        "print(X_train)"
      ],
      "metadata": {
        "id": "F6NPMhVeu3ni",
        "colab": {
          "base_uri": "https://localhost:8080/"
        },
        "outputId": "e28e849f-1bcc-4144-c43d-6ac59703cb0d"
      },
      "id": "F6NPMhVeu3ni",
      "execution_count": 41,
      "outputs": [
        {
          "output_type": "stream",
          "name": "stdout",
          "text": [
            "[[-1.26290042 -1.8172945   0.47164678 ...  0.90596666  0.56328769\n",
            "  -1.13076272]\n",
            " [ 0.70191074  0.86263578  0.32255715 ... -1.65239994 -0.34662657\n",
            "   0.25964465]\n",
            " [-0.92511144 -0.63021411  1.00151965 ... -0.13541507  0.83847288\n",
            "   0.61815132]\n",
            " ...\n",
            " [-0.98393868 -0.57710617 -0.07593605 ... -0.02793701  0.05665303\n",
            "  -0.35631184]\n",
            " [ 0.01775541  0.20609289 -1.5246954  ... -0.46237716 -1.03511069\n",
            "  -0.76678772]\n",
            " [-0.26978826 -0.06000346 -1.71654655 ... -0.2374004  -0.99710384\n",
            "  -0.77692464]]\n"
          ]
        }
      ]
    },
    {
      "cell_type": "code",
      "source": [
        "X_train = np.array(X_train, dtype=np.float32) if not isinstance(X_train, np.ndarray) else X_train.astype(np.float32)\n",
        "X_val = np.array(X_val, dtype=np.float32) if not isinstance(X_val, np.ndarray) else X_val.astype(np.float32)\n",
        "y_train = np.array(y_train, dtype=np.float32) if not isinstance(y_train, np.ndarray) else y_train.astype(np.float32)\n",
        "y_val = np.array(y_val, dtype=np.float32) if not isinstance(y_val, np.ndarray) else y_val.astype(np.float32)\n",
        "\n",
        "class VectorDataset(Dataset):\n",
        "    def __init__(self, features, labels):\n",
        "        self.features = torch.tensor(features, dtype=torch.float32)\n",
        "        self.labels = torch.tensor(labels, dtype=torch.float32)\n",
        "\n",
        "    def __len__(self):\n",
        "        return len(self.features)\n",
        "\n",
        "    def __getitem__(self, idx):\n",
        "        return {\n",
        "            'features': self.features[idx],\n",
        "            'labels': self.labels[idx]\n",
        "        }\n",
        "\n",
        "train_dataset = VectorDataset(X_train, y_train)\n",
        "val_dataset = VectorDataset(X_val, y_val)\n",
        "\n",
        "train_loader = DataLoader(train_dataset, batch_size=BATCH_SIZE, shuffle=True)\n",
        "val_loader = DataLoader(val_dataset, batch_size=BATCH_SIZE)\n",
        "\n",
        "\n",
        "class DenseClassifier(nn.Module):\n",
        "    def __init__(self, input_size, output_size):\n",
        "        super().__init__()\n",
        "        self.net = nn.Sequential(\n",
        "            nn.Linear(input_size, 256),\n",
        "            nn.BatchNorm1d(256),\n",
        "            nn.ReLU(),\n",
        "            nn.Dropout(0.3),\n",
        "\n",
        "            nn.Linear(256, 128),\n",
        "            nn.BatchNorm1d(128),\n",
        "            nn.ReLU(),\n",
        "\n",
        "            nn.Linear(128, output_size)\n",
        "        )\n",
        "\n",
        "    def forward(self, x):\n",
        "        if isinstance(x, dict):  # Если вход из DataLoader\n",
        "            return self.net(x['features'])\n",
        "        return self.net(x)  # Если прямой вызов\n",
        "\n",
        "model = DenseClassifier(input_size=X_train.shape[1],\n",
        "                       output_size=y_train.shape[1]).to(DEVICE)\n",
        "\n",
        "\n",
        "criterion = nn.BCEWithLogitsLoss()\n",
        "optimizer = torch.optim.AdamW(model.parameters(), lr=LEARNING_RATE)\n",
        "\n",
        "\n",
        "train_losses = []\n",
        "val_losses = []\n",
        "val_f1s = []\n",
        "best_f1 = 0\n",
        "early_stop_counter = 0\n",
        "\n",
        "for epoch in range(EPOCHS):\n",
        "\n",
        "    model.train()\n",
        "    epoch_train_loss = 0\n",
        "\n",
        "    for batch in train_loader:\n",
        "        optimizer.zero_grad()\n",
        "        outputs = model(batch)\n",
        "        loss = criterion(outputs, batch['labels'].to(DEVICE))\n",
        "        loss.backward()\n",
        "        optimizer.step()\n",
        "        epoch_train_loss += loss.item()\n",
        "\n",
        "    train_loss = epoch_train_loss / len(train_loader)\n",
        "    train_losses.append(train_loss)\n",
        "\n",
        "    model.eval()\n",
        "    epoch_val_loss = 0\n",
        "    all_preds = []\n",
        "    all_labels = []\n",
        "\n",
        "    with torch.no_grad():\n",
        "        for batch in val_loader:\n",
        "            outputs = model(batch)\n",
        "            loss = criterion(outputs, batch['labels'].to(DEVICE))\n",
        "            epoch_val_loss += loss.item()\n",
        "\n",
        "            preds = torch.sigmoid(outputs).cpu().numpy()\n",
        "            all_preds.append(preds)\n",
        "            all_labels.append(batch['labels'].cpu().numpy())\n",
        "\n",
        "    val_loss = epoch_val_loss / len(val_loader)\n",
        "    val_losses.append(val_loss)\n",
        "\n",
        "    preds = np.vstack(all_preds) > 0.5\n",
        "    labels = np.vstack(all_labels)\n",
        "    val_f1 = f1_score(labels, preds, average='macro')\n",
        "    val_f1s.append(val_f1)\n",
        "\n",
        "    print(f\"Epoch {epoch+1}/{EPOCHS}\")\n",
        "    print(f\"  Train Loss: {train_loss:.4f}\")\n",
        "    print(f\"  Val Loss: {val_loss:.4f}\")\n",
        "    print(f\"  Val F1: {val_f1:.4f}\")\n",
        "\n",
        "    if val_f1 > best_f1:\n",
        "        best_f1 = val_f1\n",
        "        torch.save(model.state_dict(), \"best_model.pth\")\n",
        "        early_stop_counter = 0\n",
        "        print(\"Новая модель!\")\n",
        "    else:\n",
        "        early_stop_counter += 1\n",
        "        if early_stop_counter >= PATIENCE:\n",
        "            print(f\"   Early stopping after {PATIENCE} epochs without improvement\")\n",
        "            break\n",
        "\n",
        "plt.figure(figsize=(12, 5))\n",
        "plt.subplot(1, 2, 1)\n",
        "plt.plot(train_losses, label='Train Loss')\n",
        "plt.plot(val_losses, label='Val Loss')\n",
        "plt.title('Loss Curves')\n",
        "plt.legend()\n",
        "\n",
        "plt.subplot(1, 2, 2)\n",
        "plt.plot(val_f1s, label='Val F1', color='green')\n",
        "plt.title('Validation F1 Score')\n",
        "plt.legend()\n",
        "plt.show()\n",
        "\n",
        "model.load_state_dict(torch.load(\"best_model.pth\"))\n",
        "print(\"Лучшая модель загружена!\")\n"
      ],
      "metadata": {
        "id": "GcSXHRV-YM_h",
        "colab": {
          "base_uri": "https://localhost:8080/",
          "height": 1000
        },
        "outputId": "36c6bf78-9a8b-46a4-9044-f7f3ab8c8842"
      },
      "id": "GcSXHRV-YM_h",
      "execution_count": 42,
      "outputs": [
        {
          "output_type": "stream",
          "name": "stdout",
          "text": [
            "Epoch 1/20\n",
            "  Train Loss: 0.3976\n",
            "  Val Loss: 0.3733\n",
            "  Val F1: 0.6764\n",
            "Новая модель!\n",
            "Epoch 2/20\n",
            "  Train Loss: 0.3705\n",
            "  Val Loss: 0.3678\n",
            "  Val F1: 0.6807\n",
            "Новая модель!\n",
            "Epoch 3/20\n",
            "  Train Loss: 0.3675\n",
            "  Val Loss: 0.3661\n",
            "  Val F1: 0.6777\n",
            "Epoch 4/20\n",
            "  Train Loss: 0.3642\n",
            "  Val Loss: 0.3651\n",
            "  Val F1: 0.6770\n",
            "Epoch 5/20\n",
            "  Train Loss: 0.3627\n",
            "  Val Loss: 0.3623\n",
            "  Val F1: 0.6809\n",
            "Новая модель!\n",
            "Epoch 6/20\n",
            "  Train Loss: 0.3614\n",
            "  Val Loss: 0.3611\n",
            "  Val F1: 0.6773\n",
            "Epoch 7/20\n",
            "  Train Loss: 0.3604\n",
            "  Val Loss: 0.3636\n",
            "  Val F1: 0.6786\n",
            "Epoch 8/20\n",
            "  Train Loss: 0.3593\n",
            "  Val Loss: 0.3582\n",
            "  Val F1: 0.6803\n",
            "   Early stopping after 3 epochs without improvement\n"
          ]
        },
        {
          "output_type": "display_data",
          "data": {
            "text/plain": [
              "<Figure size 1200x500 with 2 Axes>"
            ],
            "image/png": "[encoded data removed]"
          },
          "metadata": {}
        },
        {
          "output_type": "stream",
          "name": "stdout",
          "text": [
            "Лучшая модель загружена!\n"
          ]
        }
      ]
    },
    {
      "cell_type": "code",
      "source": [
        "\n",
        "X_test_tfidf = X_test_tfidf[:, :300]\n",
        "\n",
        "class TestDataset(Dataset):\n",
        "    def __init__(self, features):\n",
        "        self.features = torch.tensor(features.toarray(), dtype=torch.float32)\n",
        "\n",
        "    def __len__(self):\n",
        "        return len(self.features)\n",
        "\n",
        "    def __getitem__(self, idx):\n",
        "        return {'features': self.features[idx]}\n",
        "\n",
        "test_dataset = TestDataset(X_test_tfidf)\n",
        "test_loader = DataLoader(test_dataset, batch_size=BATCH_SIZE, shuffle=False)\n",
        "\n",
        "model = DenseClassifier(input_size=300,  # Размерность тренировочных данных\n",
        "                       output_size=y_train.shape[1]).to(DEVICE)\n",
        "model.load_state_dict(torch.load(\"best_model.pth\"))\n",
        "model.eval()\n",
        "\n",
        "\n",
        "all_preds = []\n",
        "with torch.no_grad():\n",
        "    for batch in test_loader:\n",
        "        outputs = model(batch)\n",
        "        preds = torch.sigmoid(outputs).cpu().numpy()\n",
        "        all_preds.append(preds)\n",
        "\n",
        "test_preds = np.vstack(all_preds)\n",
        "\n",
        "\n",
        "ids = list(range(29568, 29568 + len(df_test)))\n",
        "labels_str = [' '.join(map(str, (row > 0.5).astype(int))) for row in test_preds]\n",
        "\n",
        "pd.DataFrame({'id': ids, 'labels': labels_str}) \\\n",
        "  .set_index('id') \\\n",
        "  .to_csv('predictions.csv')\n",
        "\n",
        "print(\" Предсказания сохранены в predictions.csv\")"
      ],
      "metadata": {
        "id": "fL3VXpli7xVU",
        "colab": {
          "base_uri": "https://localhost:8080/"
        },
        "outputId": "6b3d0deb-14d5-41dc-9657-92fad85b933b"
      },
      "id": "fL3VXpli7xVU",
      "execution_count": 43,
      "outputs": [
        {
          "output_type": "stream",
          "name": "stdout",
          "text": [
            " Предсказания сохранены в predictions.csv\n"
          ]
        }
      ]
    },
    {
      "cell_type": "markdown",
      "source": [
        "# Генератор"
      ],
      "metadata": {
        "id": "x14QswFKwjtj"
      },
      "id": "x14QswFKwjtj"
    },
    {
      "cell_type": "code",
      "source": [
        "from tqdm import tqdm"
      ],
      "metadata": {
        "id": "KgQDCylXHUO-"
      },
      "id": "KgQDCylXHUO-",
      "execution_count": 54,
      "outputs": []
    },
    {
      "cell_type": "code",
      "source": [
        "label_counts = pd.DataFrame(y_train).sum(axis=0)\n",
        "label_probs = label_counts / label_counts.sum()\n",
        "print(\"Распределение меток в исходных данных:\")\n",
        "print(label_probs)"
      ],
      "metadata": {
        "id": "mnm2yJeI9OTm",
        "colab": {
          "base_uri": "https://localhost:8080/"
        },
        "outputId": "47d70e27-4639-4100-a0fb-92629698a221"
      },
      "id": "mnm2yJeI9OTm",
      "execution_count": 44,
      "outputs": [
        {
          "output_type": "stream",
          "name": "stdout",
          "text": [
            "Распределение меток в исходных данных:\n",
            "0     0.049878\n",
            "1     0.060690\n",
            "2     0.004750\n",
            "3     0.005682\n",
            "4     0.056784\n",
            "5     0.000332\n",
            "6     0.000632\n",
            "7     0.072102\n",
            "8     0.074763\n",
            "9     0.065820\n",
            "10    0.041171\n",
            "11    0.059317\n",
            "12    0.073755\n",
            "13    0.073486\n",
            "14    0.071490\n",
            "15    0.047537\n",
            "16    0.070093\n",
            "17    0.075467\n",
            "18    0.077920\n",
            "19    0.018331\n",
            "dtype: float32\n"
          ]
        }
      ]
    },
    {
      "cell_type": "code",
      "source": [
        "label_counts = pd.DataFrame(y_train).sum(axis=0)\n",
        "label_probs = label_counts / label_counts.sum()\n",
        "print(\"Распределение меток в исходных данных:\")\n",
        "print(label_probs)"
      ],
      "metadata": {
        "id": "ilALvMhZ87b6",
        "colab": {
          "base_uri": "https://localhost:8080/"
        },
        "outputId": "fbcbb17e-6882-403d-c7fe-e0923e0867b6"
      },
      "id": "ilALvMhZ87b6",
      "execution_count": 45,
      "outputs": [
        {
          "output_type": "stream",
          "name": "stdout",
          "text": [
            "Распределение меток в исходных данных:\n",
            "0     0.049878\n",
            "1     0.060690\n",
            "2     0.004750\n",
            "3     0.005682\n",
            "4     0.056784\n",
            "5     0.000332\n",
            "6     0.000632\n",
            "7     0.072102\n",
            "8     0.074763\n",
            "9     0.065820\n",
            "10    0.041171\n",
            "11    0.059317\n",
            "12    0.073755\n",
            "13    0.073486\n",
            "14    0.071490\n",
            "15    0.047537\n",
            "16    0.070093\n",
            "17    0.075467\n",
            "18    0.077920\n",
            "19    0.018331\n",
            "dtype: float32\n"
          ]
        }
      ]
    },
    {
      "cell_type": "code",
      "source": [
        "\n",
        "device = torch.device(\"cuda\" if torch.cuda.is_available() else \"cpu\")\n",
        "model_name = \"sberbank-ai/rugpt3small_based_on_gpt2\"\n",
        "\n",
        "tokenizer = GPT2Tokenizer.from_pretrained(model_name)\n",
        "model = GPT2LMHeadModel.from_pretrained(model_name).to(device)\n",
        "model.eval()"
      ],
      "metadata": {
        "id": "PvKSlOHn89xj",
        "colab": {
          "base_uri": "https://localhost:8080/"
        },
        "outputId": "f8a2d698-de00-42e7-a830-69267995381e"
      },
      "id": "PvKSlOHn89xj",
      "execution_count": 63,
      "outputs": [
        {
          "output_type": "execute_result",
          "data": {
            "text/plain": [
              "GPT2LMHeadModel(\n",
              "  (transformer): GPT2Model(\n",
              "    (wte): Embedding(50264, 768)\n",
              "    (wpe): Embedding(2048, 768)\n",
              "    (drop): Dropout(p=0.1, inplace=False)\n",
              "    (h): ModuleList(\n",
              "      (0-11): 12 x GPT2Block(\n",
              "        (ln_1): LayerNorm((768,), eps=1e-05, elementwise_affine=True)\n",
              "        (attn): GPT2Attention(\n",
              "          (c_attn): Conv1D(nf=2304, nx=768)\n",
              "          (c_proj): Conv1D(nf=768, nx=768)\n",
              "          (attn_dropout): Dropout(p=0.1, inplace=False)\n",
              "          (resid_dropout): Dropout(p=0.1, inplace=False)\n",
              "        )\n",
              "        (ln_2): LayerNorm((768,), eps=1e-05, elementwise_affine=True)\n",
              "        (mlp): GPT2MLP(\n",
              "          (c_fc): Conv1D(nf=3072, nx=768)\n",
              "          (c_proj): Conv1D(nf=768, nx=3072)\n",
              "          (act): NewGELUActivation()\n",
              "          (dropout): Dropout(p=0.1, inplace=False)\n",
              "        )\n",
              "      )\n",
              "    )\n",
              "    (ln_f): LayerNorm((768,), eps=1e-05, elementwise_affine=True)\n",
              "  )\n",
              "  (lm_head): Linear(in_features=768, out_features=50264, bias=False)\n",
              ")"
            ]
          },
          "metadata": {},
          "execution_count": 63
        }
      ]
    },
    {
      "cell_type": "code",
      "source": [
        "\n",
        "def generate_text_batch(prompt, max_length=100, num_return_sequences=10):\n",
        "    inputs = tokenizer(prompt, return_tensors=\"pt\").to(device)\n",
        "    outputs = model.generate(\n",
        "        **inputs,\n",
        "        max_length=max_length,\n",
        "        do_sample=True,\n",
        "        top_p=0.9,\n",
        "        top_k=50,\n",
        "        temperature=0.7,\n",
        "        no_repeat_ngram_size=3,\n",
        "        num_return_sequences=num_return_sequences,\n",
        "        pad_token_id=tokenizer.eos_token_id,\n",
        "        early_stopping=True\n",
        "    )\n",
        "    return [tokenizer.decode(o, skip_special_tokens=True) for o in outputs]\n",
        "\n",
        "total_to_generate = 1000\n",
        "batch_size = 10\n",
        "label_probs = y_train.mean(axis=0)\n",
        "\n",
        "generated_data = []\n",
        "for _ in tqdm(range(total_to_generate // batch_size), desc=\"Генерация данных\"):\n",
        "\n",
        "    batch_labels = (np.random.rand(batch_size, len(label_probs)) < label_probs).astype(int)\n",
        "\n",
        "    for labels in batch_labels:\n",
        "\n",
        "        prompt = f\"Текст с метками {' '.join(map(str, labels))}: \"\n",
        "\n",
        "\n",
        "        try:\n",
        "            text = generate_text_batch(prompt, num_return_sequences=1)[0]\n",
        "            generated_data.append({\n",
        "                'text': text.replace(prompt, \"\").strip(),\n",
        "                'labels': labels.tolist()\n",
        "            })\n",
        "        except Exception as e:\n",
        "            print(f\"Ошибка генерации: {str(e)}\")"
      ],
      "metadata": {
        "id": "KtfrqvQwyHrm",
        "colab": {
          "base_uri": "https://localhost:8080/"
        },
        "outputId": "2cc340d1-13b0-466d-aa3f-69a6f087befc"
      },
      "id": "KtfrqvQwyHrm",
      "execution_count": 64,
      "outputs": [
        {
          "output_type": "stream",
          "name": "stderr",
          "text": [
            "\rГенерация данных:   0%|          | 0/100 [00:00<?, ?it/s]/usr/local/lib/python3.11/dist-packages/transformers/generation/configuration_utils.py:679: UserWarning: `num_beams` is set to 1. However, `early_stopping` is set to `True` -- this flag is only used in beam-based generation modes. You should set `num_beams>1` or unset `early_stopping`.\n",
            "  warnings.warn(\n",
            "Генерация данных: 100%|██████████| 100/100 [1:25:30<00:00, 51.30s/it]\n"
          ]
        }
      ]
    },
    {
      "cell_type": "code",
      "source": [
        "synth_df = pd.DataFrame(generated_data)\n",
        "print(f\"\\nУспешно сгенерировано {len(synth_df)} примеров\")"
      ],
      "metadata": {
        "colab": {
          "base_uri": "https://localhost:8080/"
        },
        "id": "2V7VeOiTJzCo",
        "outputId": "3de88b01-ed5c-408b-dd6d-19a57be4dce8"
      },
      "id": "2V7VeOiTJzCo",
      "execution_count": 66,
      "outputs": [
        {
          "output_type": "stream",
          "name": "stdout",
          "text": [
            "\n",
            "Успешно сгенерировано 1000 примеров\n"
          ]
        }
      ]
    },
    {
      "cell_type": "code",
      "source": [
        "enriched_df = pd.concat([df, synth_df], ignore_index=True)\n",
        "enriched_df\n"
      ],
      "metadata": {
        "colab": {
          "base_uri": "https://localhost:8080/",
          "height": 1000
        },
        "id": "ccId9Jzzcr4N",
        "outputId": "deee02f7-06c6-4286-a309-a7405d7a4077"
      },
      "id": "ccId9Jzzcr4N",
      "execution_count": 73,
      "outputs": [
        {
          "output_type": "execute_result",
          "data": {
            "text/plain": [
              "        id                                               text  \\\n",
              "0      0.0  15 января\\nДетская развлекательная программа\\n...   \n",
              "1      1.0  13 и 14 августа\\nВыходные в Меге\\nhttps://t.me...   \n",
              "2      2.0  Йокнапатофа\\nПостановка Театр им. Маяковского\\...   \n",
              "3      3.0  Впервые в Уфе танцевальная терапия в группе с ...   \n",
              "4      4.0  🎹\\nGRAND PIANO COMPETITION\\n🎹\\nДрузья, сегодня...   \n",
              "...    ...                                                ...   \n",
              "30563  NaN  1.1.3.3-1.6.2.3\\n1-1 2-1 3-1 4-1 5-1 6-1 7-1 8...   \n",
              "30564  NaN  \\t\\t\\n\\ts\\n\\textarea\\n\\tt\\n\\xc2\\n\\ti\\n\\bm\\n\\c2...   \n",
              "30565  NaN  ___ __ __# __ # __   # _# _ _ #  #  __    # __...   \n",
              "30566  NaN  1.\\n&lt;br&gt;  &lt;/br&nbsp;\\n2.\\n\\n&nbsp;&nb...   \n",
              "30567  NaN  1. Вставить в текстовые файлы и отправить его ...   \n",
              "\n",
              "                                                  labels  \\\n",
              "0                1 0 0 0 1 0 0 0 1 0 0 0 1 1 1 1 1 0 0 1   \n",
              "1                0 0 0 1 0 0 0 0 1 0 0 0 1 1 0 1 1 0 0 1   \n",
              "2                0 0 0 0 1 0 0 0 0 0 0 0 1 1 0 1 1 0 0 1   \n",
              "3                1 1 0 0 1 0 0 1 1 1 1 1 1 1 1 0 0 1 1 0   \n",
              "4                1 1 0 0 0 0 0 1 1 0 0 1 1 1 1 0 1 1 1 0   \n",
              "...                                                  ...   \n",
              "30563  [0, 1, 0, 0, 0, 0, 0, 0, 0, 1, 0, 1, 1, 1, 1, ...   \n",
              "30564  [0, 0, 0, 0, 1, 0, 0, 1, 0, 1, 1, 1, 0, 1, 1, ...   \n",
              "30565  [0, 1, 0, 0, 0, 0, 0, 1, 1, 1, 0, 1, 0, 1, 1, ...   \n",
              "30566  [0, 1, 0, 0, 0, 0, 0, 1, 1, 1, 0, 1, 1, 1, 1, ...   \n",
              "30567  [1, 0, 0, 0, 0, 0, 0, 0, 1, 0, 1, 1, 1, 1, 0, ...   \n",
              "\n",
              "                                             labels_list  \\\n",
              "0      [1, 0, 0, 0, 1, 0, 0, 0, 1, 0, 0, 0, 1, 1, 1, ...   \n",
              "1      [0, 0, 0, 1, 0, 0, 0, 0, 1, 0, 0, 0, 1, 1, 0, ...   \n",
              "2      [0, 0, 0, 0, 1, 0, 0, 0, 0, 0, 0, 0, 1, 1, 0, ...   \n",
              "3      [1, 1, 0, 0, 1, 0, 0, 1, 1, 1, 1, 1, 1, 1, 1, ...   \n",
              "4      [1, 1, 0, 0, 0, 0, 0, 1, 1, 0, 0, 1, 1, 1, 1, ...   \n",
              "...                                                  ...   \n",
              "30563                                                NaN   \n",
              "30564                                                NaN   \n",
              "30565                                                NaN   \n",
              "30566                                                NaN   \n",
              "30567                                                NaN   \n",
              "\n",
              "                                             clean_tfidf  \\\n",
              "0      январь детский развлекательный программа беспл...   \n",
              "1                           август выходной мег мегапарк   \n",
              "2         йокнапатоф постановка театр маяковский билет р   \n",
              "3      впервые уфа танцевальный терапия группа практи...   \n",
              "4      друг сегодня открытие международный конкурс пи...   \n",
              "...                                                  ...   \n",
              "30563                                                NaN   \n",
              "30564                                                NaN   \n",
              "30565                                                NaN   \n",
              "30566                                                NaN   \n",
              "30567                                                NaN   \n",
              "\n",
              "                                               clean_w2v  \\\n",
              "0      январь детский развлекательный программа беспл...   \n",
              "1                       и август выходной в мег мегапарк   \n",
              "2      йокнапатоф постановка театр они маяковский бил...   \n",
              "3      впервые в уфа танцевальный терапия в группа с ...   \n",
              "4      друг сегодня открытие международный конкурс дл...   \n",
              "...                                                  ...   \n",
              "30563                                                NaN   \n",
              "30564                                                NaN   \n",
              "30565                                                NaN   \n",
              "30566                                                NaN   \n",
              "30567                                                NaN   \n",
              "\n",
              "                                           clean_minimal  \\\n",
              "0      [1, 5, я, н, в, а, р, я, д, е, т, с, к, а, я, ...   \n",
              "1      [1, 3, и, 1, 4, а, в, г, у, с, т, а, в, ы, х, ...   \n",
              "2      [й, о, к, н, а, п, а, т, о, ф, а, п, о, с, т, ...   \n",
              "3      [в, п, е, р, в, ы, е, в, у, ф, е, т, а, н, ц, ...   \n",
              "4      [🎹, g, r, a, n, d, p, i, a, n, o, c, o, m, p, ...   \n",
              "...                                                  ...   \n",
              "30563                                                NaN   \n",
              "30564                                                NaN   \n",
              "30565                                                NaN   \n",
              "30566                                                NaN   \n",
              "30567                                                NaN   \n",
              "\n",
              "                                                  tokens  \n",
              "0      [январь, детский, развлекательный, программа, ...  \n",
              "1                [и, август, выходной, в, мег, мегапарк]  \n",
              "2      [йокнапатоф, постановка, театр, они, маяковски...  \n",
              "3      [впервые, в, уфа, танцевальный, терапия, в, гр...  \n",
              "4      [друг, сегодня, открытие, международный, конку...  \n",
              "...                                                  ...  \n",
              "30563                                                NaN  \n",
              "30564                                                NaN  \n",
              "30565                                                NaN  \n",
              "30566                                                NaN  \n",
              "30567                                                NaN  \n",
              "\n",
              "[30568 rows x 8 columns]"
            ],
            "text/html": [
              "\n",
              "  <div id=\"df-58653168-c3e5-4f34-82fb-16c9cfcbace8\" class=\"colab-df-container\">\n",
              "    <div>\n",
              "<style scoped>\n",
              "    .dataframe tbody tr th:only-of-type {\n",
              "        vertical-align: middle;\n",
              "    }\n",
              "\n",
              "    .dataframe tbody tr th {\n",
              "        vertical-align: top;\n",
              "    }\n",
              "\n",
              "    .dataframe thead th {\n",
              "        text-align: right;\n",
              "    }\n",
              "</style>\n",
              "<table border=\"1\" class=\"dataframe\">\n",
              "  <thead>\n",
              "    <tr style=\"text-align: right;\">\n",
              "      <th></th>\n",
              "      <th>id</th>\n",
              "      <th>text</th>\n",
              "      <th>labels</th>\n",
              "      <th>labels_list</th>\n",
              "      <th>clean_tfidf</th>\n",
              "      <th>clean_w2v</th>\n",
              "      <th>clean_minimal</th>\n",
              "      <th>tokens</th>\n",
              "    </tr>\n",
              "  </thead>\n",
              "  <tbody>\n",
              "    <tr>\n",
              "      <th>0</th>\n",
              "      <td>0.0</td>\n",
              "      <td>15 января\\nДетская развлекательная программа\\n...</td>\n",
              "      <td>1 0 0 0 1 0 0 0 1 0 0 0 1 1 1 1 1 0 0 1</td>\n",
              "      <td>[1, 0, 0, 0, 1, 0, 0, 0, 1, 0, 0, 0, 1, 1, 1, ...</td>\n",
              "      <td>январь детский развлекательный программа беспл...</td>\n",
              "      <td>январь детский развлекательный программа беспл...</td>\n",
              "      <td>[1, 5, я, н, в, а, р, я, д, е, т, с, к, а, я, ...</td>\n",
              "      <td>[январь, детский, развлекательный, программа, ...</td>\n",
              "    </tr>\n",
              "    <tr>\n",
              "      <th>1</th>\n",
              "      <td>1.0</td>\n",
              "      <td>13 и 14 августа\\nВыходные в Меге\\nhttps://t.me...</td>\n",
              "      <td>0 0 0 1 0 0 0 0 1 0 0 0 1 1 0 1 1 0 0 1</td>\n",
              "      <td>[0, 0, 0, 1, 0, 0, 0, 0, 1, 0, 0, 0, 1, 1, 0, ...</td>\n",
              "      <td>август выходной мег мегапарк</td>\n",
              "      <td>и август выходной в мег мегапарк</td>\n",
              "      <td>[1, 3, и, 1, 4, а, в, г, у, с, т, а, в, ы, х, ...</td>\n",
              "      <td>[и, август, выходной, в, мег, мегапарк]</td>\n",
              "    </tr>\n",
              "    <tr>\n",
              "      <th>2</th>\n",
              "      <td>2.0</td>\n",
              "      <td>Йокнапатофа\\nПостановка Театр им. Маяковского\\...</td>\n",
              "      <td>0 0 0 0 1 0 0 0 0 0 0 0 1 1 0 1 1 0 0 1</td>\n",
              "      <td>[0, 0, 0, 0, 1, 0, 0, 0, 0, 0, 0, 0, 1, 1, 0, ...</td>\n",
              "      <td>йокнапатоф постановка театр маяковский билет р</td>\n",
              "      <td>йокнапатоф постановка театр они маяковский бил...</td>\n",
              "      <td>[й, о, к, н, а, п, а, т, о, ф, а, п, о, с, т, ...</td>\n",
              "      <td>[йокнапатоф, постановка, театр, они, маяковски...</td>\n",
              "    </tr>\n",
              "    <tr>\n",
              "      <th>3</th>\n",
              "      <td>3.0</td>\n",
              "      <td>Впервые в Уфе танцевальная терапия в группе с ...</td>\n",
              "      <td>1 1 0 0 1 0 0 1 1 1 1 1 1 1 1 0 0 1 1 0</td>\n",
              "      <td>[1, 1, 0, 0, 1, 0, 0, 1, 1, 1, 1, 1, 1, 1, 1, ...</td>\n",
              "      <td>впервые уфа танцевальный терапия группа практи...</td>\n",
              "      <td>впервые в уфа танцевальный терапия в группа с ...</td>\n",
              "      <td>[в, п, е, р, в, ы, е, в, у, ф, е, т, а, н, ц, ...</td>\n",
              "      <td>[впервые, в, уфа, танцевальный, терапия, в, гр...</td>\n",
              "    </tr>\n",
              "    <tr>\n",
              "      <th>4</th>\n",
              "      <td>4.0</td>\n",
              "      <td>🎹\\nGRAND PIANO COMPETITION\\n🎹\\nДрузья, сегодня...</td>\n",
              "      <td>1 1 0 0 0 0 0 1 1 0 0 1 1 1 1 0 1 1 1 0</td>\n",
              "      <td>[1, 1, 0, 0, 0, 0, 0, 1, 1, 0, 0, 1, 1, 1, 1, ...</td>\n",
              "      <td>друг сегодня открытие международный конкурс пи...</td>\n",
              "      <td>друг сегодня открытие международный конкурс дл...</td>\n",
              "      <td>[🎹, g, r, a, n, d, p, i, a, n, o, c, o, m, p, ...</td>\n",
              "      <td>[друг, сегодня, открытие, международный, конку...</td>\n",
              "    </tr>\n",
              "    <tr>\n",
              "      <th>...</th>\n",
              "      <td>...</td>\n",
              "      <td>...</td>\n",
              "      <td>...</td>\n",
              "      <td>...</td>\n",
              "      <td>...</td>\n",
              "      <td>...</td>\n",
              "      <td>...</td>\n",
              "      <td>...</td>\n",
              "    </tr>\n",
              "    <tr>\n",
              "      <th>30563</th>\n",
              "      <td>NaN</td>\n",
              "      <td>1.1.3.3-1.6.2.3\\n1-1 2-1 3-1 4-1 5-1 6-1 7-1 8...</td>\n",
              "      <td>[0, 1, 0, 0, 0, 0, 0, 0, 0, 1, 0, 1, 1, 1, 1, ...</td>\n",
              "      <td>NaN</td>\n",
              "      <td>NaN</td>\n",
              "      <td>NaN</td>\n",
              "      <td>NaN</td>\n",
              "      <td>NaN</td>\n",
              "    </tr>\n",
              "    <tr>\n",
              "      <th>30564</th>\n",
              "      <td>NaN</td>\n",
              "      <td>\\t\\t\\n\\ts\\n\\textarea\\n\\tt\\n\\xc2\\n\\ti\\n\\bm\\n\\c2...</td>\n",
              "      <td>[0, 0, 0, 0, 1, 0, 0, 1, 0, 1, 1, 1, 0, 1, 1, ...</td>\n",
              "      <td>NaN</td>\n",
              "      <td>NaN</td>\n",
              "      <td>NaN</td>\n",
              "      <td>NaN</td>\n",
              "      <td>NaN</td>\n",
              "    </tr>\n",
              "    <tr>\n",
              "      <th>30565</th>\n",
              "      <td>NaN</td>\n",
              "      <td>___ __ __# __ # __   # _# _ _ #  #  __    # __...</td>\n",
              "      <td>[0, 1, 0, 0, 0, 0, 0, 1, 1, 1, 0, 1, 0, 1, 1, ...</td>\n",
              "      <td>NaN</td>\n",
              "      <td>NaN</td>\n",
              "      <td>NaN</td>\n",
              "      <td>NaN</td>\n",
              "      <td>NaN</td>\n",
              "    </tr>\n",
              "    <tr>\n",
              "      <th>30566</th>\n",
              "      <td>NaN</td>\n",
              "      <td>1.\\n&amp;lt;br&amp;gt;  &amp;lt;/br&amp;nbsp;\\n2.\\n\\n&amp;nbsp;&amp;nb...</td>\n",
              "      <td>[0, 1, 0, 0, 0, 0, 0, 1, 1, 1, 0, 1, 1, 1, 1, ...</td>\n",
              "      <td>NaN</td>\n",
              "      <td>NaN</td>\n",
              "      <td>NaN</td>\n",
              "      <td>NaN</td>\n",
              "      <td>NaN</td>\n",
              "    </tr>\n",
              "    <tr>\n",
              "      <th>30567</th>\n",
              "      <td>NaN</td>\n",
              "      <td>1. Вставить в текстовые файлы и отправить его ...</td>\n",
              "      <td>[1, 0, 0, 0, 0, 0, 0, 0, 1, 0, 1, 1, 1, 1, 0, ...</td>\n",
              "      <td>NaN</td>\n",
              "      <td>NaN</td>\n",
              "      <td>NaN</td>\n",
              "      <td>NaN</td>\n",
              "      <td>NaN</td>\n",
              "    </tr>\n",
              "  </tbody>\n",
              "</table>\n",
              "<p>30568 rows × 8 columns</p>\n",
              "</div>\n",
              "    <div class=\"colab-df-buttons\">\n",
              "\n",
              "  <div class=\"colab-df-container\">\n",
              "    <button class=\"colab-df-convert\" onclick=\"convertToInteractive('df-58653168-c3e5-4f34-82fb-16c9cfcbace8')\"\n",
              "            title=\"Convert this dataframe to an interactive table.\"\n",
              "            style=\"display:none;\">\n",
              "\n",
              "  <svg xmlns=\"http://www.w3.org/2000/svg\" height=\"24px\" viewBox=\"0 -960 960 960\">\n",
              "    <path d=\"M120-120v-720h720v720H120Zm60-500h600v-160H180v160Zm220 220h160v-160H400v160Zm0 220h160v-160H400v160ZM180-400h160v-160H180v160Zm440 0h160v-160H620v160ZM180-180h160v-160H180v160Zm440 0h160v-160H620v160Z\"/>\n",
              "  </svg>\n",
              "    </button>\n",
              "\n",
              "  <style>\n",
              "    .colab-df-container {\n",
              "      display:flex;\n",
              "      gap: 12px;\n",
              "    }\n",
              "\n",
              "    .colab-df-convert {\n",
              "      background-color: #E8F0FE;\n",
              "      border: none;\n",
              "      border-radius: 50%;\n",
              "      cursor: pointer;\n",
              "      display: none;\n",
              "      fill: #1967D2;\n",
              "      height: 32px;\n",
              "      padding: 0 0 0 0;\n",
              "      width: 32px;\n",
              "    }\n",
              "\n",
              "    .colab-df-convert:hover {\n",
              "      background-color: #E2EBFA;\n",
              "      box-shadow: 0px 1px 2px rgba(60, 64, 67, 0.3), 0px 1px 3px 1px rgba(60, 64, 67, 0.15);\n",
              "      fill: #174EA6;\n",
              "    }\n",
              "\n",
              "    .colab-df-buttons div {\n",
              "      margin-bottom: 4px;\n",
              "    }\n",
              "\n",
              "    [theme=dark] .colab-df-convert {\n",
              "      background-color: #3B4455;\n",
              "      fill: #D2E3FC;\n",
              "    }\n",
              "\n",
              "    [theme=dark] .colab-df-convert:hover {\n",
              "      background-color: #434B5C;\n",
              "      box-shadow: 0px 1px 3px 1px rgba(0, 0, 0, 0.15);\n",
              "      filter: drop-shadow(0px 1px 2px rgba(0, 0, 0, 0.3));\n",
              "      fill: #FFFFFF;\n",
              "    }\n",
              "  </style>\n",
              "\n",
              "    <script>\n",
              "      const buttonEl =\n",
              "        document.querySelector('#df-58653168-c3e5-4f34-82fb-16c9cfcbace8 button.colab-df-convert');\n",
              "      buttonEl.style.display =\n",
              "        google.colab.kernel.accessAllowed ? 'block' : 'none';\n",
              "\n",
              "      async function convertToInteractive(key) {\n",
              "        const element = document.querySelector('#df-58653168-c3e5-4f34-82fb-16c9cfcbace8');\n",
              "        const dataTable =\n",
              "          await google.colab.kernel.invokeFunction('convertToInteractive',\n",
              "                                                    [key], {});\n",
              "        if (!dataTable) return;\n",
              "\n",
              "        const docLinkHtml = 'Like what you see? Visit the ' +\n",
              "          '<a target=\"_blank\" href=https://colab.research.google.com/notebooks/data_table.ipynb>data table notebook</a>'\n",
              "          + ' to learn more about interactive tables.';\n",
              "        element.innerHTML = '';\n",
              "        dataTable['output_type'] = 'display_data';\n",
              "        await google.colab.output.renderOutput(dataTable, element);\n",
              "        const docLink = document.createElement('div');\n",
              "        docLink.innerHTML = docLinkHtml;\n",
              "        element.appendChild(docLink);\n",
              "      }\n",
              "    </script>\n",
              "  </div>\n",
              "\n",
              "\n",
              "    <div id=\"df-c14c02a6-cf0b-48b4-af91-7973a84cb529\">\n",
              "      <button class=\"colab-df-quickchart\" onclick=\"quickchart('df-c14c02a6-cf0b-48b4-af91-7973a84cb529')\"\n",
              "                title=\"Suggest charts\"\n",
              "                style=\"display:none;\">\n",
              "\n",
              "<svg xmlns=\"http://www.w3.org/2000/svg\" height=\"24px\"viewBox=\"0 0 24 24\"\n",
              "     width=\"24px\">\n",
              "    <g>\n",
              "        <path d=\"M19 3H5c-1.1 0-2 .9-2 2v14c0 1.1.9 2 2 2h14c1.1 0 2-.9 2-2V5c0-1.1-.9-2-2-2zM9 17H7v-7h2v7zm4 0h-2V7h2v10zm4 0h-2v-4h2v4z\"/>\n",
              "    </g>\n",
              "</svg>\n",
              "      </button>\n",
              "\n",
              "<style>\n",
              "  .colab-df-quickchart {\n",
              "      --bg-color: #E8F0FE;\n",
              "      --fill-color: #1967D2;\n",
              "      --hover-bg-color: #E2EBFA;\n",
              "      --hover-fill-color: #174EA6;\n",
              "      --disabled-fill-color: #AAA;\n",
              "      --disabled-bg-color: #DDD;\n",
              "  }\n",
              "\n",
              "  [theme=dark] .colab-df-quickchart {\n",
              "      --bg-color: #3B4455;\n",
              "      --fill-color: #D2E3FC;\n",
              "      --hover-bg-color: #434B5C;\n",
              "      --hover-fill-color: #FFFFFF;\n",
              "      --disabled-bg-color: #3B4455;\n",
              "      --disabled-fill-color: #666;\n",
              "  }\n",
              "\n",
              "  .colab-df-quickchart {\n",
              "    background-color: var(--bg-color);\n",
              "    border: none;\n",
              "    border-radius: 50%;\n",
              "    cursor: pointer;\n",
              "    display: none;\n",
              "    fill: var(--fill-color);\n",
              "    height: 32px;\n",
              "    padding: 0;\n",
              "    width: 32px;\n",
              "  }\n",
              "\n",
              "  .colab-df-quickchart:hover {\n",
              "    background-color: var(--hover-bg-color);\n",
              "    box-shadow: 0 1px 2px rgba(60, 64, 67, 0.3), 0 1px 3px 1px rgba(60, 64, 67, 0.15);\n",
              "    fill: var(--button-hover-fill-color);\n",
              "  }\n",
              "\n",
              "  .colab-df-quickchart-complete:disabled,\n",
              "  .colab-df-quickchart-complete:disabled:hover {\n",
              "    background-color: var(--disabled-bg-color);\n",
              "    fill: var(--disabled-fill-color);\n",
              "    box-shadow: none;\n",
              "  }\n",
              "\n",
              "  .colab-df-spinner {\n",
              "    border: 2px solid var(--fill-color);\n",
              "    border-color: transparent;\n",
              "    border-bottom-color: var(--fill-color);\n",
              "    animation:\n",
              "      spin 1s steps(1) infinite;\n",
              "  }\n",
              "\n",
              "  @keyframes spin {\n",
              "    0% {\n",
              "      border-color: transparent;\n",
              "      border-bottom-color: var(--fill-color);\n",
              "      border-left-color: var(--fill-color);\n",
              "    }\n",
              "    20% {\n",
              "      border-color: transparent;\n",
              "      border-left-color: var(--fill-color);\n",
              "      border-top-color: var(--fill-color);\n",
              "    }\n",
              "    30% {\n",
              "      border-color: transparent;\n",
              "      border-left-color: var(--fill-color);\n",
              "      border-top-color: var(--fill-color);\n",
              "      border-right-color: var(--fill-color);\n",
              "    }\n",
              "    40% {\n",
              "      border-color: transparent;\n",
              "      border-right-color: var(--fill-color);\n",
              "      border-top-color: var(--fill-color);\n",
              "    }\n",
              "    60% {\n",
              "      border-color: transparent;\n",
              "      border-right-color: var(--fill-color);\n",
              "    }\n",
              "    80% {\n",
              "      border-color: transparent;\n",
              "      border-right-color: var(--fill-color);\n",
              "      border-bottom-color: var(--fill-color);\n",
              "    }\n",
              "    90% {\n",
              "      border-color: transparent;\n",
              "      border-bottom-color: var(--fill-color);\n",
              "    }\n",
              "  }\n",
              "</style>\n",
              "\n",
              "      <script>\n",
              "        async function quickchart(key) {\n",
              "          const quickchartButtonEl =\n",
              "            document.querySelector('#' + key + ' button');\n",
              "          quickchartButtonEl.disabled = true;  // To prevent multiple clicks.\n",
              "          quickchartButtonEl.classList.add('colab-df-spinner');\n",
              "          try {\n",
              "            const charts = await google.colab.kernel.invokeFunction(\n",
              "                'suggestCharts', [key], {});\n",
              "          } catch (error) {\n",
              "            console.error('Error during call to suggestCharts:', error);\n",
              "          }\n",
              "          quickchartButtonEl.classList.remove('colab-df-spinner');\n",
              "          quickchartButtonEl.classList.add('colab-df-quickchart-complete');\n",
              "        }\n",
              "        (() => {\n",
              "          let quickchartButtonEl =\n",
              "            document.querySelector('#df-c14c02a6-cf0b-48b4-af91-7973a84cb529 button');\n",
              "          quickchartButtonEl.style.display =\n",
              "            google.colab.kernel.accessAllowed ? 'block' : 'none';\n",
              "        })();\n",
              "      </script>\n",
              "    </div>\n",
              "    </div>\n",
              "  </div>\n"
            ],
            "application/vnd.google.colaboratory.intrinsic+json": {
              "type": "dataframe",
              "variable_name": "enriched_df",
              "summary": "{\n  \"name\": \"enriched_df\",\n  \"rows\": 30568,\n  \"fields\": [\n    {\n      \"column\": \"id\",\n      \"properties\": {\n        \"dtype\": \"number\",\n        \"std\": 8535.690716046358,\n        \"min\": 0.0,\n        \"max\": 29567.0,\n        \"num_unique_values\": 29568,\n        \"samples\": [\n          28267.0,\n          15603.0,\n          7839.0\n        ],\n        \"semantic_type\": \"\",\n        \"description\": \"\"\n      }\n    },\n    {\n      \"column\": \"text\",\n      \"properties\": {\n        \"dtype\": \"string\",\n        \"num_unique_values\": 27956,\n        \"samples\": [\n          \"\\u0421 26 \\u043f\\u043e 28 \\u043d\\u043e\\u044f\\u0431\\u0440\\u044f\\n\\u0432\\u043a\\u043b\\u044e\\u0447\\u0438\\u0442\\u0435\\u043b\\u044c\\u043d\\u043e \\u0432\\u044b \\u043c\\u043e\\u0436\\u0435\\u0442\\u0435 \\u043f\\u0440\\u0438\\u043e\\u0431\\u0440\\u0435\\u0441\\u0442\\u0438 \\u0431\\u0438\\u043b\\u0435\\u0442\\u044b \\u043d\\u0430 \\u0434\\u0435\\u0442\\u0441\\u043a\\u043e\\u0435\\n\\u043d\\u043e\\u0432\\u043e\\u0433\\u043e\\u0434\\u043d\\u0435\\u0435 \\u043b\\u0435\\u0434\\u043e\\u0432\\u043e\\u0435 \\u0448\\u043e\\u0443 \\u00ab\\u0410\\u043b\\u0435\\u043d\\u044c\\u043a\\u0438\\u0439 \\u0446\\u0432\\u0435\\u0442\\u043e\\u0447\\u0435\\u043a\\u00bb \\u043e\\u0442 \\u0422\\u0430\\u0442\\u044c\\u044f\\u043d\\u044b \\u041d\\u0430\\u0432\\u043a\\u0438 \\u0441\\u043e \\u0441\\u043a\\u0438\\u0434\\u043a\\u043e\\u0439 30%!\\n\\u0414\\u043b\\u044f \\u043f\\u043e\\u043b\\u0443\\u0447\\u0435\\u043d\\u0438\\u044f \\u0441\\u043a\\u0438\\u0434\\u043a\\u0438 \\u0432\\u0432\\u0435\\u0434\\u0438\\u0442\\u0435\\n\\u043f\\u0440\\u043e\\u043c\\u043e\\u043a\\u043e\\u0434 \\u00abbf30\\u00bb\\n\\u043f\\u0440\\u0438 \\u043e\\u0444\\u043e\\u0440\\u043c\\u043b\\u0435\\u043d\\u0438\\u0438 \\u0437\\u0430\\u043a\\u0430\\u0437\\u0430! \\u0437\\u0434\\u0435\\u0441\\u044c:\\nhttps://clck.ru/Z46gm\\n*\\n\\u0412 \\u0433\\u043b\\u0430\\u0432\\u043d\\u043e\\u0439 \\u0440\\u043e\\u043b\\u0438 - \\u0410\\u043b\\u0438\\u043d\\u0430 \\u0417\\u0430\\u0433\\u0438\\u0442\\u043e\\u0432\\u0430.\\n\\u042d\\u0442\\u043e \\u0432\\u043e\\u043b\\u0448\\u0435\\u0431\\u043d\\u0430\\u044f \\u0438\\u0441\\u0442\\u043e\\u0440\\u0438\\u044f \\u043d\\u0430 \\u043b\\u044c\\u0434\\u0443 \\u043e \\u043d\\u0430\\u0441\\u0442\\u043e\\u044f\\u0449\\u0435\\u0439 \\u043b\\u044e\\u0431\\u0432\\u0438, \\u0434\\u043e\\u0431\\u0440\\u043e\\u0442\\u0435 \\u0438 \\u0438\\u0441\\u0442\\u0438\\u043d\\u043d\\u043e\\u0439 \\u043a\\u0440\\u0430\\u0441\\u043e\\u0442\\u0435 \\u043f\\u043e \\u043c\\u043e\\u0442\\u0438\\u0432\\u0430\\u043c \\u043f\\u0440\\u043e\\u0438\\u0437\\u0432\\u0435\\u0434\\u0435\\u043d\\u0438\\u044f \\u0421\\u0435\\u0440\\u0433\\u0435\\u044f \\u0422\\u0438\\u043c\\u043e\\u0444\\u0435\\u0435\\u0432\\u0438\\u0447\\u0430 \\u0410\\u043a\\u0441\\u0430\\u043a\\u043e\\u0432\\u0430 \\u0431\\u0443\\u0434\\u0435\\u0442 \\u0432\\u043f\\u0435\\u0440\\u0432\\u044b\\u0435 \\u043f\\u0440\\u0435\\u0434\\u0441\\u0442\\u0430\\u0432\\u043b\\u0435\\u043d\\u0430 \\u0432 \\u0421\\u0430\\u043d\\u043a\\u0442-\\u041f\\u0435\\u0442\\u0435\\u0440\\u0431\\u0443\\u0440\\u0433\\u0435.\\n\\u0412 \\u043d\\u043e\\u0432\\u043e\\u043c \\u043f\\u0440\\u043e\\u0435\\u043a\\u0442\\u0435 \\u043f\\u0440\\u043e\\u0441\\u043b\\u0430\\u0432\\u043b\\u0435\\u043d\\u043d\\u043e\\u0439 \\u0440\\u043e\\u0441\\u0441\\u0438\\u0439\\u0441\\u043a\\u043e\\u0439 \\u0447\\u0435\\u043c\\u043f\\u0438\\u043e\\u043d\\u043a\\u0438 \\u0422\\u0430\\u0442\\u044c\\u044f\\u043d\\u044b \\u041d\\u0430\\u0432\\u043a\\u0438 \\u0441\\u043a\\u0430\\u0437\\u043e\\u0447\\u043d\\u044b\\u043c \\u043e\\u0431\\u0440\\u0430\\u0437\\u043e\\u043c \\u043e\\u0431\\u044a\\u0435\\u0434\\u0438\\u043d\\u044f\\u0442\\u0441\\u044f \\u043f\\u0440\\u043e\\u0444\\u0435\\u0441\\u0441\\u0438\\u043e\\u043d\\u0430\\u043b\\u0438\\u0437\\u043c \\u0444\\u0438\\u0433\\u0443\\u0440\\u0438\\u0441\\u0442\\u043e\\u0432 \\u043c\\u0438\\u0440\\u043e\\u0432\\u043e\\u0433\\u043e \\u0443\\u0440\\u043e\\u0432\\u043d\\u044f, \\u043d\\u043e\\u0432\\u0435\\u0439\\u0448\\u0438\\u0435 \\u0441\\u043f\\u0435\\u0446\\u044d\\u0444\\u0444\\u0435\\u043a\\u0442\\u044b \\u0438 \\u0441\\u0446\\u0435\\u043d\\u0438\\u0447\\u0435\\u0441\\u043a\\u0438\\u0435 \\u0440\\u0435\\u0448\\u0435\\u043d\\u0438\\u044f, \\u0430 \\u0442\\u0430\\u043a\\u0436\\u0435 \\u043f\\u043e\\u0442\\u0440\\u044f\\u0441\\u0430\\u044e\\u0449\\u0430\\u044f \\u043c\\u0443\\u0437\\u044b\\u043a\\u0430, \\u043d\\u0430\\u043f\\u0438\\u0441\\u0430\\u043d\\u043d\\u0430\\u044f \\u0441\\u043f\\u0435\\u0446\\u0438\\u0430\\u043b\\u044c\\u043d\\u043e \\u0434\\u043b\\u044f \\u044d\\u0442\\u043e\\u0433\\u043e \\u0448\\u043e\\u0443.\\n*\\u041f\\u0440\\u043e\\u043c\\u043e\\u043a\\u043e\\u0434 \\u0434\\u0435\\u0439\\u0441\\u0442\\u0432\\u0443\\u0435\\u0442 \\u043d\\u0430 \\u043c\\u0435\\u0440\\u043e\\u043f\\u0440\\u0438\\u044f\\u0442\\u0438\\u044f \\u0441 5 \\u044f\\u043d\\u0432\\u0430\\u0440\\u044f \\u043f\\u043e 9 \\u044f\\u043d\\u0432\\u0430\\u0440\\u044f.\",\n          \"10 \\u043c\\u0435\\u0441\\u0442 \\u0441\\u043e \\u0441\\u043a\\u0438\\u0434\\u043a\\u043e\\u0439 25% \\u043d\\u0430 \\u0441\\u043f\\u0435\\u043a\\u0442\\u0430\\u043a\\u043b\\u044c EVA 6 \\u0438 7 \\u0438\\u044e\\u043d\\u044f \\u043d\\u0430 \\u043f\\u043b\\u043e\\u0449\\u0430\\u0434\\u043a\\u0435 \\u0421\\u043a\\u043e\\u0440\\u043e\\u0445\\u043e\\u0434.\\n\\u041f\\u043e\\u0441\\u043b\\u0435\\u0434\\u043d\\u0438\\u0435 \\u043f\\u043e\\u043a\\u0430\\u0437\\u044b \\u0432 \\u0441\\u0435\\u0437\\u043e\\u043d\\u0435!\\n\\u0420\\u0435\\u0436\\u0438\\u0441\\u0441\\u0451\\u0440 \\u0412\\u0430\\u0440\\u044f \\u0421\\u0432\\u0435\\u0442\\u043b\\u043e\\u0432\\u0430 (\\\"\\u042d\\u0444\\u0444\\u0435\\u043a\\u0442 \\u0427\\u0430\\u0440\\u043b\\u0438 \\u0413\\u043e\\u0440\\u0434\\u043e\\u043d\\u0430\\\", \\\"\\u0411\\u0438\\u043b\\u043b\\u0438 \\u041c\\u0438\\u043b\\u043b\\u0438\\u0433\\u0430\\u043d\\\", \\\"\\u041c\\u0430\\u0440\\u0438\\u044f \\u0421\\u0442\\u044e\\u0430\\u0440\\u0442\\\")\\n\\u0418\\u0437 \\u043e\\u0442\\u0437\\u044b\\u0432\\u043e\\u0432:\\n\\u201c\\u041a\\u0430\\u043a \\u0432\\u0441\\u0435\\u0433\\u0434\\u0430 \\u0432 \\u043f\\u043e\\u0441\\u0442\\u0430\\u043d\\u043e\\u0432\\u043a\\u0430\\u0445 \\u0422\\u0430\\u043a\\u043e\\u0433\\u043e \\u0442\\u0435\\u0430\\u0442\\u0440\\u0430, \\u0432 \\u00ab\\u0415\\u0432\\u0435\\u00bb \\u0437\\u0430\\u0442\\u0440\\u0430\\u0433\\u0438\\u0432\\u0430\\u0435\\u0442\\u0441\\u044f \\u043c\\u043d\\u043e\\u0436\\u0435\\u0441\\u0442\\u0432\\u043e \\u043e\\u0441\\u0442\\u0440\\u044b\\u0445 \\u0442\\u0435\\u043c \\u2014 \\u043e \\u0446\\u0435\\u043d\\u043d\\u043e\\u0441\\u0442\\u0438 \\u043a\\u0430\\u0436\\u0434\\u043e\\u0439 \\u0447\\u0435\\u043b\\u043e\\u0432\\u0435\\u0447\\u0435\\u0441\\u043a\\u043e\\u0439 \\u0436\\u0438\\u0437\\u043d\\u0438, \\u0441\\u0432\\u043e\\u0431\\u043e\\u0434\\u0435, \\u043d\\u0435\\u0442\\u0435\\u0440\\u043f\\u0438\\u043c\\u043e\\u0441\\u0442\\u0438 \\u0438 \\u0434\\u0432\\u043e\\u0439\\u043d\\u044b\\u0445 \\u0441\\u0442\\u0430\\u043d\\u0434\\u0430\\u0440\\u0442\\u0430\\u0445 \\u043c\\u043e\\u0440\\u0430\\u043b\\u0438, \\u0430 \\u0435\\u0449\\u0451 \\u043e \\u0442\\u043e\\u043c, \\u043a\\u0430\\u043a \\u0432\\u0430\\u0436\\u043d\\u043e \\u043b\\u044e\\u0431\\u0438\\u0442\\u044c \\u0438 \\u043f\\u0440\\u0438\\u043d\\u0438\\u043c\\u0430\\u0442\\u044c \\u0441\\u0435\\u0431\\u044f\\u201d.\\n\\u201c\\u042f \\u0442\\u0440\\u0430\\u0434\\u0438\\u0446\\u0438\\u043e\\u043d\\u043d\\u043e \\u0432 \\u0432\\u043e\\u0441\\u0442\\u043e\\u0440\\u0433\\u0435 \\u043e\\u0442 \\u0430\\u043a\\u0442\\u0451\\u0440\\u043e\\u0432, \\u043e\\u0442 \\u0441\\u0446\\u0435\\u043d\\u0438\\u0447\\u0435\\u0441\\u043a\\u0438\\u0445 \\u0440\\u0435\\u0448\\u0435\\u043d\\u0438\\u0439, \\u043e\\u0442 \\u0442\\u043e\\u0433\\u043e, \\u043a\\u0430\\u043a \\u0441\\u043f\\u0435\\u043a\\u0442\\u0430\\u043a\\u043b\\u044c \\u0442\\u0440\\u0430\\u0434\\u0438\\u0446\\u0438\\u043e\\u043d\\u043d\\u043e \\u043d\\u0435 \\u0443\\u043c\\u0435\\u0449\\u0430\\u0435\\u0442\\u0441\\u044f \\u043d\\u0430 \\u0441\\u0446\\u0435\\u043d\\u0435 \\u0438 \\u0441 \\u043f\\u0435\\u0440\\u0432\\u044b\\u0445 \\u043c\\u0433\\u043d\\u043e\\u0432\\u0435\\u043d\\u0438\\u0439 \\u0432\\u0442\\u044f\\u0433\\u0438\\u0432\\u0430\\u0435\\u0442 \\u0432\\u0441\\u0435\\u0445 \\u0432 \\u0435\\u0434\\u0438\\u043d\\u043e\\u0435 \\u043f\\u0440\\u043e\\u0441\\u0442\\u0440\\u0430\\u043d\\u0441\\u0442\\u0432\\u043e\\u2026\\u201d\\n\\u0412 \\u0440\\u043e\\u043b\\u044f\\u0445: \\u041d\\u0438\\u0451\\u043b\\u0435 \\u041c\\u0435\\u0439\\u043b\\u0443\\u0442\\u0435, \\u042e\\u043b\\u0438\\u044f \\u0413\\u0440\\u0438\\u0448\\u0430\\u0435\\u0432\\u0430, \\u041f\\u043e\\u043b\\u0438\\u043d\\u0430 \\u0412\\u0430\\u0441\\u0438\\u043b\\u044c\\u0435\\u0432\\u0430, \\u0410\\u043d\\u0430\\u0441\\u0442\\u0430\\u0441\\u0438\\u044f \\u0427\\u0435\\u0445\\u0430, \\u041a\\u0440\\u0438\\u0441\\u0442\\u0438\\u043d\\u0430 \\u0422\\u043e\\u043a\\u0430\\u0440\\u0435\\u0432\\u0430, \\u0414\\u0430\\u0440\\u044c\\u044f \\u0411\\u0443\\u043a\\u0448\\u0442\\u0430\\u0439, \\u0412\\u043b\\u0430\\u0434\\u0438\\u043c\\u0438\\u0440 \\u041f\\u043e\\u0434\\u043d\\u043e\\u0437\\u043e\\u0432, \\u0410\\u043b\\u0435\\u043a\\u0441\\u0430\\u043d\\u0434\\u0440 \\u0425\\u0443\\u0434\\u044f\\u043a\\u043e\\u0432, \\u0410\\u043b\\u0435\\u043a\\u0441\\u0435\\u0439 \\u0412\\u0434\\u043e\\u0432\\u0438\\u043d, \\u041f\\u0430\\u0432\\u0435\\u043b \\u0424\\u0438\\u043b\\u0438\\u043f\\u043f\\u043e\\u0432, \\u0410\\u043b\\u0435\\u043a\\u0441\\u0430\\u043d\\u0434\\u0440 \\u0411\\u0435\\u043b\\u043e\\u0443\\u0441\\u043e\\u0432.\\n\\u0411\\u0438\\u043b\\u0435\\u0442\\u044b \\u0441\\u043e \\u0441\\u043a\\u0438\\u0434\\u043a\\u043e\\u0439 25% \\u043f\\u043e \\u043f\\u0440\\u043e\\u043c\\u043e\\u043a\\u043e\\u0434\\u0443 \\u041f\\u0420\\u0418\\u041d\\u042f\\u0422\\u0418\\u0415\\n\\u043d\\u0430 \\u0441\\u0430\\u0439\\u0442\\u0435:\\nhttps://takoy-teatr.ru/\\n\\ud83e\\udd70\\n\\u0411\\u0438\\u043b\\u0435\\u0442\\u044b \\u0441\\u043e \\u0441\\u043a\\u0438\\u0434\\u043a\\u0430\\u043c\\u0438\\n@teatrspb\",\n          \"\\u0420\\u043e\\u0437\\u044b\\u0433\\u0440\\u044b\\u0448 \\u0434\\u0435\\u043b\\u0430\\u0435\\u043c? \\u0414\\u0430\\u0439\\u0442\\u0435 \\u0440\\u0435\\u0430\\u043a\\u0446\\u0438\\u0439\"\n        ],\n        \"semantic_type\": \"\",\n        \"description\": \"\"\n      }\n    },\n    {\n      \"column\": \"labels\",\n      \"properties\": {\n        \"dtype\": \"object\",\n        \"semantic_type\": \"\",\n        \"description\": \"\"\n      }\n    },\n    {\n      \"column\": \"labels_list\",\n      \"properties\": {\n        \"dtype\": \"object\",\n        \"semantic_type\": \"\",\n        \"description\": \"\"\n      }\n    },\n    {\n      \"column\": \"clean_tfidf\",\n      \"properties\": {\n        \"dtype\": \"string\",\n        \"num_unique_values\": 25849,\n        \"samples\": [\n          \"\\u0446\\u0435\\u043d\\u0437\\u0443\\u0440\\u0430 \\u0443\\u0447\\u0430\\u0441\\u0442\\u043d\\u0438\\u043a \\u0442\\u043d\\u0442 \\u044e\\u0442\\u0443\\u0431\\u0430 \\u043f\\u0440\\u043e\\u0435\\u043a\\u0442 \\u0431\\u0430\\u0440 \\u0440\\u0443\\u043a\\u0430 \\u0432\\u0432\\u0435\\u0440\\u0445 \\u043d\\u0438\\u0436\\u0435\\u0433\\u043e\\u0440\\u043e\\u0434\\u0441\\u043a\\u0438\\u0439 \\u0432\\u0441 \\u0441\\u0431\\u043e\\u0440 \\u0433\\u043e\\u0441\\u0442\\u044c \\u043d\\u0430\\u0447\\u0430\\u043b\\u043e \\u0440 \\u0431\\u0438\\u043b\\u0435\\u0442 \\u0441\\u0441\\u044b\\u043b\\u043a\\u0430 \\u043f\\u0440\\u043e\\u043c\\u043e\\u043a\\u043e\\u0434 \\u043e\\u043f\\u044b\\u0442\\u043d\\u044b\\u0439 \\u043a\\u043e\\u043c\\u0438\\u043a \\u0432\\u044b\\u0441\\u0442\\u0443\\u043f\\u0438\\u0442\\u044c \\u0441\\u0432\\u043e\\u0439 \\u0445\\u043e\\u0440\\u043e\\u0448\\u0438\\u0439 \\u043f\\u0440\\u043e\\u0432\\u0435\\u0440\\u0438\\u0442\\u044c \\u043c\\u0430\\u0442\\u0435\\u0440\\u0438\\u0430\\u043b \\u0447\\u0430\\u0441\\u0442\\u0438\\u0447\\u043d\\u043e \\u043d\\u043e\\u0432\\u044b\\u0439 \\u043f\\u043e\\u0440\\u0430\\u0434\\u043e\\u0432\\u0430\\u0442\\u044c \\u0438\\u043c\\u043f\\u0440\\u043e\\u0432\\u0438\\u0437\\u0430\\u0446\\u0438\\u044f \\u043f\\u0440\\u0435\\u043a\\u0440\\u0430\\u0441\\u043d\\u044b\\u0439 \\u043a\\u0443\\u0445\\u043d\\u044f \\u0431\\u0430\\u0440 \\u0434\\u043e\\u0441\\u0442\\u0443\\u043f\\u043d\\u044b\\u0439 \\u0446\\u0435\\u043d\\u0430 \\u0431\\u0438\\u043b\\u0435\\u0442 \\u0441\\u043a\\u0438\\u0434\\u043a\\u0430\",\n          \"\\u043c\\u043e\\u0441\\u043a\\u043e\\u0432\\u0441\\u043a\\u0438\\u0439 \\u0442\\u0435\\u0430\\u0442\\u0440 \\u0448\\u043a\\u043e\\u043b\\u0430 \\u0441\\u043e\\u0432\\u0440\\u0435\\u043c\\u0435\\u043d\\u043d\\u044b\\u0439 \\u043f\\u044c\\u0435\\u0441\\u0430 \\u043f\\u043e\\u0434\\u043d\\u0438\\u043c\\u0430\\u0442\\u044c \\u043d\\u0430\\u0441\\u0442\\u0440\\u043e\\u0435\\u043d\\u0438\\u0435 \\u0446\\u0435\\u043d\\u0430 \\u0431\\u0438\\u043b\\u0435\\u0442 \\u0441\\u043a\\u0438\\u0434\\u043a\\u0430 \\u043f\\u0440\\u043e\\u043c\\u043e\\u043a\\u043e\\u0434 \\u0448\\u0441\\u043f \\u0441\\u043f\\u0435\\u043a\\u0442\\u0430\\u043a\\u043b\\u044c \\u0430\\u043f\\u0440\\u0435\\u043b\\u044c \\u043f\\u0440\\u0438\\u043e\\u0431\\u0440\\u0435\\u0442\\u0430\\u0442\\u044c \\u0431\\u0438\\u043b\\u0435\\u0442 \\u043e\\u0444\\u0438\\u0446\\u0438\\u0430\\u043b\\u044c\\u043d\\u044b\\u0439 \\u0441\\u0430\\u0439\\u0442 \\u0442\\u0435\\u0430\\u0442\\u0440 \\u043f\\u0440\\u0435\\u0434\\u043b\\u043e\\u0436\\u0435\\u043d\\u0438\\u0435 \\u0434\\u0435\\u0439\\u0441\\u0442\\u0432\\u0438\\u0442\\u0435\\u043b\\u044c\\u043d\\u043e \\u043c\\u0430\\u0440\\u0442 \\u0432\\u043a\\u043b\\u044e\\u0447\\u0438\\u0442\\u0435\\u043b\\u044c\\u043d\\u043e \\u043d\\u0430\\u0448 \\u0430\\u0434\\u0440\\u0435\\u0441 \\u043c\\u043e\\u0441\\u043a\\u0432\\u0430 \\u0443\\u043b\\u0438\\u0446\\u0430 \\u043d\\u0435\\u0433\\u043b\\u0438\\u043d\\u043d\\u044b\\u0439 \\u0434\\u043e\\u043c \\u0441\\u0442\\u0440\\u043e\\u0435\\u043d\\u0438\\u0435\",\n          \"\\u0442\\u0443\\u0440\\u043d\\u0435 \\u0434\\u0435\\u0434 \\u043c\\u043e\\u0440\\u043e\\u0437 \\u043f\\u0430\\u0440\\u043a\\u0430 \\u0435\\u0434\\u0438\\u043d\\u0441\\u0442\\u0432\\u0435\\u043d\\u043d\\u044b\\u0439 \\u0433\\u0430\\u0441\\u0442\\u0440\\u043e\\u043b\\u044c \\u0437\\u0438\\u043c\\u043e\\u0439 \\u043a\\u043e\\u0442\\u043e\\u0440\\u044b\\u0439 \\u0434\\u043e\\u043b\\u0436\\u043d\\u044b\\u0439 \\u043f\\u0440\\u043e\\u043f\\u0443\\u0441\\u0442\\u0438\\u0442\\u044c \\u0436\\u0434\\u0430\\u0442\\u044c \\u0438\\u043d\\u0442\\u0435\\u0440\\u0430\\u043a\\u0442\\u0438\\u0432\\u043d\\u044b\\u0439 \\u0441\\u043f\\u0435\\u043a\\u0442\\u0430\\u043a\\u043b\\u044c \\u0442\\u0435\\u043c\\u0430\\u0442\\u0438\\u0447\\u0435\\u0441\\u043a\\u0438\\u0439 \\u043a\\u0432\\u0435\\u0441\\u0442 \\u043c\\u043d\\u043e\\u0433\\u043e\\u0435 \\u0434\\u0440\\u0443\\u0433\\u043e\\u0439 \\u0432\\u0445\\u043e\\u0434 \\u043c\\u0435\\u0440\\u043e\\u043f\\u0440\\u0438\\u044f\\u0442\\u0438\\u0435 \\u0441\\u0432\\u043e\\u0431\\u043e\\u0434\\u043d\\u044b\\u0439 \\u043f\\u0430\\u0440\\u043a \\u0434\\u0436\\u0430\\u043c\\u0433\\u0430\\u0440\\u043e\\u0432\\u0441\\u043a\\u0438\\u0439 \\u043f\\u0440\\u0443\\u0434 \\u0434\\u0435\\u043a\\u0430\\u0431\\u0440\\u044c \\u0441\\u0442\\u0430\\u0440\\u0442\\u043e\\u0432\\u0430\\u0442\\u044c \\u043a\\u0432\\u0435\\u0441\\u0442 \\u0447\\u0430\\u0441\\u044b \\u0434\\u0435\\u0434 \\u043c\\u043e\\u0440\\u043e\\u0437 \\u043f\\u043e\\u0438\\u0441\\u043a \\u0437\\u0430\\u0442\\u0435\\u0440\\u044f\\u043d\\u043d\\u044b\\u0439 \\u0432\\u0440\\u0435\\u043c\\u044f \\u043f\\u0435\\u0440\\u043e\\u0432\\u0441\\u043a\\u0438\\u0439 \\u043f\\u0430\\u0440\\u043a \\u0434\\u0435\\u043a\\u0430\\u0431\\u0440\\u044c \\u0432\\u043e\\u043b\\u0448\\u0435\\u0431\\u043d\\u044b\\u0439 \\u043a\\u0432\\u0435\\u0441\\u0442 \\u0442\\u0435\\u0440\\u0440\\u0438\\u0442\\u043e\\u0440\\u0438\\u044f \\u043f\\u0430\\u0440\\u043a \\u043f\\u0430\\u0440\\u043a \\u0441\\u043e\\u043a\\u043e\\u043b\\u044c\\u043d\\u0438\\u043a \\u0434\\u0435\\u043a\\u0430\\u0431\\u0440\\u044c \\u043f\\u0440\\u043e\\u0439\\u0442\\u0438 \\u0432\\u0435\\u0441\\u0451\\u043b\\u044b\\u0439 \\u0440\\u0430\\u0437\\u0432\\u043b\\u0435\\u043a\\u0430\\u0442\\u0435\\u043b\\u044c\\u043d\\u044b\\u0439 \\u043f\\u0440\\u043e\\u0433\\u0440\\u0430\\u043c\\u043c\\u0430 \\u0441\\u0430\\u0434 \\u0438\\u043c\\u0431\\u0430\\u0443\\u043c\\u0430\\u043d \\u0434\\u0435\\u043a\\u0430\\u0431\\u0440\\u044c \\u0432\\u043c\\u0435\\u0441\\u0442\\u0435 \\u0441\\u043d\\u0435\\u0433\\u0443\\u0440\\u043e\\u0447\\u043a\\u0430 \\u0434\\u0435\\u0434 \\u043c\\u043e\\u0440\\u043e\\u0437 \\u0432\\u043e\\u0434\\u0438\\u0442\\u044c \\u0432\\u0435\\u0441\\u0451\\u043b\\u044b\\u0439 \\u0445\\u043e\\u0440\\u043e\\u0432\\u043e\\u0434 \\u0437\\u0430\\u0433\\u0430\\u0434\\u044b\\u0432\\u0430\\u0442\\u044c \\u0437\\u0430\\u0433\\u0430\\u0434\\u043a\\u0430 \\u0438\\u0433\\u0440\\u0430\\u0442\\u044c \\u0434\\u0435\\u0442\\u0438\\u0448\\u043a\\u0438 \\u0433\\u043e\\u043d\\u0447\\u0430\\u0440\\u043e\\u0432\\u0441\\u043a\\u0438\\u0439 \\u043f\\u0430\\u0440\\u043a \\u0434\\u0435\\u043a\\u0430\\u0431\\u0440\\u044c \\u0433\\u043e\\u0441\\u0442\\u044c \\u0436\\u0434\\u0430\\u0442\\u044c \\u043d\\u0430\\u0441\\u044b\\u0449\\u0435\\u043d\\u043d\\u044b\\u0439 \\u0438\\u043d\\u0442\\u0435\\u0440\\u0430\\u043a\\u0442\\u0438\\u0432\\u043d\\u044b\\u0439 \\u0448\\u043e\\u0443\\u043f\\u0440\\u043e\\u0433\\u0440\\u0430\\u043c\\u043c\\u0430 \\u043f\\u0430\\u0440\\u043a \\u0441\\u0435\\u0432\\u0435\\u0440\\u043d\\u044b\\u0439 \\u0442\\u0443\\u0448\\u0438\\u043d\\u043e \\u0434\\u0435\\u043a\\u0430\\u0431\\u0440\\u044c \\u0434\\u0435\\u043a\\u0430\\u0431\\u0440\\u044c \\u043f\\u0430\\u0440\\u043a\\u0430 \\u0434\\u0440\\u0443\\u0436\\u0431\\u0430 \\u0437\\u0430\\u043f\\u043b\\u0430\\u043d\\u0438\\u0440\\u043e\\u0432\\u0430\\u0442\\u044c \\u0430\\u043d\\u0438\\u043c\\u0430\\u0446\\u0438\\u043e\\u043d\\u043d\\u044b\\u0439 \\u043f\\u0440\\u043e\\u0433\\u0440\\u0430\\u043c\\u043c\\u0430 \\u0432\\u0441\\u0442\\u0440\\u0435\\u0447\\u0430 \\u0434\\u0435\\u0434 \\u0430\\u0444\\u0438\\u0448\\u0430 \\u0430\\u0444\\u0438\\u0448\\u0430\\u043c\\u043e\\u0441\\u043a\\u0432\\u0430 \\u043c\\u0435\\u0440\\u043e\\u043f\\u0440\\u0438\\u044f\\u0442\\u0438\\u0435 \\u0432\\u044b\\u0441\\u0442\\u0430\\u0432\\u043a\\u0430 \\u0444\\u0435\\u0441\\u0442\\u0438\\u0432\\u0430\\u043b\\u044c \\u043a\\u043e\\u043d\\u0446\\u0435\\u0440\\u0442 \\u0441\\u043f\\u0435\\u043a\\u0442\\u0430\\u043a\\u043b\\u044c \\u043f\\u043e\\u0441\\u0442\\u0430\\u043d\\u043e\\u0432\\u043a\\u0430 \\u0442\\u0435\\u0430\\u0442\\u0440 \\u0431\\u0438\\u043b\\u0435\\u0442 \\u0448\\u043e\\u0443 \\u044d\\u043a\\u0441\\u043a\\u0443\\u0440\\u0441\\u0438\\u044f \\u043c\\u0443\\u0437\\u0435\\u0439 \\u043f\\u0430\\u0440\\u043a\\u0430 \\u043f\\u043e\\u0434\\u043f\\u0438\\u0441\\u0430\\u0442\\u044c\\u0441\\u044f \\u043d\\u0430\\u0448 \\u043a\\u0430\\u043d\\u0430\\u043b\"\n        ],\n        \"semantic_type\": \"\",\n        \"description\": \"\"\n      }\n    },\n    {\n      \"column\": \"clean_w2v\",\n      \"properties\": {\n        \"dtype\": \"string\",\n        \"num_unique_values\": 25963,\n        \"samples\": [\n          \"\\u0430\\u0444\\u0438\\u0448\\u0430 \\u0432\\u0435\\u0447\\u0435\\u0440\\u043d\\u0438\\u0439 \\u043c\\u0435\\u0440\\u043e\\u043f\\u0440\\u0438\\u044f\\u0442\\u0438\\u0435 \\u0441\\u0435\\u043d\\u0442\\u044f\\u0431\\u0440\\u044c \\u043f\\u043e \\u043e\\u043a\\u0442\\u044f\\u0431\\u0440\\u044c \\u0433\\u043e\\u0434 \\u043d\\u0430\\u0447\\u0430\\u043b\\u043e \\u0432 \\u0433 \\u043f\\u044f\\u0442\\u0438\\u0433\\u043e\\u0440\\u0441\\u043a \\u043a\\u043e\\u0444\\u0435\\u0439\\u043d\\u044f \\u0432\\u0445\\u043e\\u0434 \\u0441\\u0432\\u043e\\u0431\\u043e\\u0434\\u043d\\u044b\\u0439 \\u0441\\u0435\\u043d\\u0442\\u044f\\u0431\\u0440\\u044c \\u043c\\u0443\\u0437\\u044b\\u043a\\u0430\\u043b\\u044c\\u043d\\u044b\\u0439 \\u0432\\u0435\\u0447\\u0435\\u0440 \\u0432\\u0435\\u0447\\u0435\\u0440 \\u0432\\u044b\\u0441\\u043e\\u0446\\u043a\\u0438\\u0439 \\u0441\\u0435\\u0440\\u0433\\u0435\\u0439 \\u0447\\u0443\\u0434\\u043e \\u0438 \\u0434\\u0435\\u043d \\u043d\\u0435\\u043f\\u043e\\u0447\\u0430\\u0442\\u044b\\u0439 \\u043e\\u043a\\u0442\\u044f\\u0431\\u0440\\u044c \\u043c\\u0443\\u0437\\u044b\\u043a\\u0430\\u043b\\u044c\\u043d\\u044b\\u0439 \\u0432\\u0435\\u0447\\u0435\\u0440 \\u043e\\u043a\\u0442\\u044f\\u0431\\u0440\\u044c \\u0438\\u043d\\u0442\\u0435\\u043b\\u043b\\u0435\\u043a\\u0442\\u0443\\u0430\\u043b\\u044c\\u043d\\u044b\\u0439 \\u0432\\u0438\\u043a\\u0442\\u043e\\u0440\\u0438\\u043d \\u0432\\u0445\\u043e\\u0434 \\u043f\\u043b\\u0430\\u0442\\u043d\\u044b\\u0439 \\u043e\\u043a\\u0442\\u044f\\u0431\\u0440\\u044c \\u0438\\u043d\\u0442\\u0435\\u043b\\u043b\\u0435\\u043a\\u0442\\u0443\\u0430\\u043b\\u044c\\u043d\\u044b\\u0439 \\u0432\\u0438\\u043a\\u0442\\u043e\\u0440\\u0438\\u043d \\u0432\\u0445\\u043e\\u0434 \\u043f\\u043b\\u0430\\u0442\\u043d\\u044b\\u0439 \\u043e\\u043a\\u0442\\u044f\\u0431\\u0440\\u044c \\u043c\\u0443\\u0437\\u044b\\u043a\\u0430\\u043b\\u044c\\u043d\\u044b\\u0439 \\u0432\\u0435\\u0447\\u0435\\u0440 \\u043e\\u043a\\u0442\\u044f\\u0431\\u0440\\u044c \\u043c\\u0443\\u0437\\u044b\\u043a\\u0430\\u043b\\u044c\\u043d\\u044b\\u0439 \\u0432\\u0435\\u0447\\u0435\\u0440 \\u043e\\u043a\\u0442\\u044f\\u0431\\u0440\\u044c \\u043c\\u0443\\u0437\\u044b\\u043a\\u0430\\u043b\\u044c\\u043d\\u044b\\u0439 \\u0432\\u0435\\u0447\\u0435\\u0440 \\u043a\\u0430\\u0447\\u0435\\u043b\\u0438 \\u0437\\u0430\\u043f\\u0438\\u0441\\u044c \\u043d\\u0430 \\u0438\\u043d\\u0442\\u0435\\u043b\\u043b\\u0435\\u043a\\u0442\\u0443\\u0430\\u043b\\u044c\\u043d\\u044b\\u0439 \\u0438\\u0433\\u0440\\u0430 \\u043c\\u0443\\u0437\\u044b\\u043a\\u0430\\u043b\\u044c\\u043d\\u044b\\u0439 \\u0432\\u0435\\u0447\\u0435\\u0440 \\u0432\\u0445\\u043e\\u0434 \\u0441\\u0432\\u043e\\u0431\\u043e\\u0434\\u043d\\u044b\\u0439 \\u043c\\u0435\\u0441\\u0442\\u043e \\u043f\\u0440\\u043e\\u0432\\u0435\\u0434\\u0435\\u043d\\u0438\\u0435 \\u043a\\u043e\\u0444\\u0435\\u0439\\u043d\\u044f \\u0433 \\u043f\\u044f\\u0442\\u0438\\u0433\\u043e\\u0440\\u0441\\u043a \\u0431\\u0443\\u043b \\u0433\\u0430\\u0433\\u0430\\u0440\\u0438\\u043d \\u0432 \\u0430\\u0440\\u0442\\u0433\\u0430\\u043b\\u0435\\u0440\\u0435\\u044f \\u0434\\u0430\\u0434\\u0430\\u0448\\u0435\\u0432 \\u0431\\u0440\\u043e\\u043d\\u044c \\u043f\\u043e \\u0442\\u0435\\u043b\\u0435\\u0444\\u043e\\u043d \\u0438\\u0441\\u0442\\u043e\\u0447\\u043d\\u0438\\u043a \\u0440\\u0435\\u043f\\u043e\\u0441\\u0442 \\u043f\\u0440\\u0438\\u0432\\u0435\\u0442\\u0441\\u0442\\u0432\\u043e\\u0432\\u0430\\u0442\\u044c\\u0441\\u044f \\u043e\\u043a\\u0442\\u044f\\u0431\\u0440\\u044f\\u0447\\u044c \\u043c\\u0443\\u0437\\u044b\\u043a\\u0430\\u043b\\u044c\\u043d\\u044b\\u0439\\u0432\\u0435\\u0447\\u0435\\u0440 \\u043a\\u043c\\u0432 \\u043f\\u044f\\u0442\\u0438\\u0433\\u043e\\u0440\\u0441\\u043a \\u0430\\u0444\\u0438\\u0448\\u0430\\u043f\\u044f\\u0442\\u0438\\u0433\\u043e\\u0440\\u0441\\u043a \\u043a\\u0443\\u0434\\u0430\\u043f\\u043e\\u0439\\u0442\\u0438\\u043f\\u044f\\u0442\\u0438\\u0433\\u043e\\u0440\\u0441\\u043a \\u0441\\u043a\\u0444\\u043e \\u0430\\u0444\\u0438\\u0448\\u0430\\u043a\\u043c\\u0442\\u044c\",\n          \"\\u0436\\u0435\\u043d\\u0441\\u043a\\u0438\\u0439 \\u0431\\u0435\\u0437 \\u0446\\u0435\\u043d\\u0437\\u0443\\u0440\\u0430 \\u043e\\u0442 \\u0443\\u0447\\u0430\\u0441\\u0442\\u043d\\u0438\\u043a \\u0442\\u043d\\u0442 \\u0438 \\u0438\\u043d\\u0442\\u0435\\u0440\\u043d\\u0435\\u0442 \\u043f\\u0440\\u043e\\u0435\\u043a\\u0442 \\u0441\\u0435\\u043d\\u0442\\u044f\\u0431\\u0440\\u044c \\u0447\\u0435\\u0442\\u0432\\u0435\\u0440\\u0433 \\u0432 \\u0436\\u0435\\u043d\\u0441\\u043a\\u0438\\u0439 \\u043e\\u0442\\u043a\\u0440\\u044b\\u0442\\u044b\\u0439 \\u043c\\u0438\\u043a\\u0440\\u043e\\u0444\\u043e\\u043d \\u0445\\u043e\\u0440\\u043e\\u0448\\u0438\\u0439 \\u0434\\u0435\\u0432\\u0443\\u0448\\u043a\\u0430 \\u0438 \\u0436\\u0435\\u043d\\u0449\\u0438\\u043d\\u0430 \\u043a\\u043e\\u043c\\u0438\\u043a \\u0441\\u0430\\u043d\\u043a\\u0442\\u043f\\u0435\\u0442\\u0435\\u0440\\u0431\\u0443\\u0440\\u0433 \\u0432\\u044b\\u0441\\u0442\\u0443\\u043f\\u0438\\u0442\\u044c \\u0441 \\u0441\\u0432\\u043e\\u0439 \\u0445\\u043e\\u0440\\u043e\\u0448\\u0438\\u0439 \\u0438 \\u043d\\u043e\\u0432\\u044b\\u0439 \\u0448\\u0443\\u0442\\u043a\\u0430 \\u0438 \\u043f\\u043e\\u0440\\u0430\\u0434\\u043e\\u0432\\u0430\\u0442\\u044c \\u0438\\u043c\\u043f\\u0440\\u043e\\u0432\\u0438\\u0437\\u0430\\u0446\\u0438\\u044f \\u043f\\u0440\\u0435\\u043a\\u0440\\u0430\\u0441\\u043d\\u044b\\u0439 \\u043a\\u0443\\u0445\\u043d\\u044f \\u0438 \\u0431\\u0430\\u0440 \\u043f\\u043e \\u0434\\u043e\\u0441\\u0442\\u0443\\u043f\\u043d\\u044b\\u0439 \\u0446\\u0435\\u043d\\u0430 \\u0432\\u0435\\u0434\\u0443\\u0449\\u0438\\u0439 \\u0442\\u0430\\u043d\\u044f \\u0432\\u0438\\u043d\\u043e\\u0433\\u0440\\u0430\\u0434\\u043e\\u0432 \\u0432\\u0445\\u043e\\u0434 \\u0431\\u0435\\u0441\\u043f\\u043b\\u0430\\u0442\\u043d\\u044b\\u0439 \\u0440\\u0443\\u0431\\u043b\\u044c \\u0434\\u0435\\u043f\\u043e\\u0437\\u0438\\u0442 \\u043d\\u0430 \\u043a\\u0443\\u0445\\u043d\\u044f \\u0438 \\u0431\\u0430\\u0440 \\u0441\\u043a\\u0438\\u0434\\u043a\\u0430 \\u043f\\u043e \\u043f\\u0440\\u043e\\u043c\\u043e\\u043a\\u043e\\u0434 \\u0434\\u0435\\u043f\\u043e\\u0437\\u0438\\u0442 \\u043f\\u043e \\u0441\\u0441\\u044b\\u043b\\u043a\\u0430 \\u0441\\u0431\\u043e\\u0440 \\u0433\\u043e\\u0441\\u0442\\u044c \\u043d\\u0430\\u0447\\u0430\\u043b\\u043e \\u0432 \\u0433\\u0434\\u0435 \\u0442\\u0435\\u0430\\u0442\\u0440\\u043a\\u0430\\u0444\\u0435 \\u043c\\u0430\\u0440\\u0430\\u0442 \\u043f\\u043e\\u0434\\u043f\\u0438\\u0441\\u044b\\u0432\\u0430\\u0442\\u044c\\u0441\\u044f \\u043d\\u0430 \\u043c\\u044b \\u0432 \\u043a\\u043e\\u043d\\u0442\\u0430\\u043a\\u0442 \\u0447\\u0442\\u043e\\u0431\\u044b \\u0431\\u044b\\u0442\\u044c \\u0432 \\u043a\\u0443\\u0440\\u0441 \\u0432\\u0435\\u0441\\u044c \\u043c\\u0435\\u0440\\u043e\\u043f\\u0440\\u0438\\u044f\\u0442\\u0438\\u0435 \\u0441\\u0442\\u0435\\u043d\\u0434\\u0430\\u043f \\u0432 \\u043f\\u0438\\u0442\\u0435\\u0440\",\n          \"\\u0430\\u0440\\u0431\\u0443\\u0437\\u043d\\u044b\\u0439 \\u0444\\u0435\\u0441\\u0442 \\u043f\\u0440\\u043e\\u0439\\u0442\\u0438 \\u0432 \\u043c\\u0435\\u0433 \\u043f\\u0430\\u0440\\u043a\\u0430 \\u0432 \\u0441\\u043b\\u0435\\u0434\\u0443\\u044e\\u0449\\u0438\\u0439 \\u0432\\u044b\\u0445\\u043e\\u0434\\u043d\\u043e\\u0439 \\u043b\\u043e\\u0432\\u0438\\u0442\\u044c \\u043f\\u0440\\u043e\\u0433\\u0440\\u0430\\u043c\\u043c\\u0430 \\u0430\\u0432\\u0433\\u0443\\u0441\\u0442 \\u043e\\u0442\\u043a\\u0440\\u044b\\u0442\\u0438\\u0435 \\u0444\\u0435\\u0441\\u0442\\u0438\\u0432\\u0430\\u043b\\u044c \\u043c\\u0430\\u0441\\u0442\\u0435\\u0440\\u043a\\u043b\\u0430\\u0441\\u0441 \\u043f\\u043e \\u0441\\u043e\\u0437\\u0434\\u0430\\u043d\\u0438\\u0435 \\u0430\\u0440\\u0431\\u0443\\u0437\\u043d\\u044b\\u0439 \\u0433\\u0438\\u0440\\u043b\\u044f\\u043d\\u0434\\u0430 \\u043c\\u0430\\u0441\\u0442\\u0435\\u0440\\u043a\\u043b\\u0430\\u0441\\u0441 \\u043f\\u043e \\u043a\\u0430\\u0440\\u0432\\u0438\\u043d\\u0433\\u0430 \\u0441\\u0442\\u0430\\u043d\\u0446\\u0438\\u044f \\u0441 \\u0430\\u0440\\u0431\\u0443\\u0437\\u043d\\u044b\\u0439 \\u043b\\u0438\\u043c\\u043e\\u043d\\u0430\\u0434 \\u0434\\u0435\\u0442\\u0441\\u043a\\u0438\\u0439 \\u043f\\u0440\\u043e\\u0433\\u0440\\u0430\\u043c\\u043c\\u0430 \\u0442\\u0443\\u0441\\u0430\\u0434\\u0436\\u0443\\u0441 \\u0441\\u043e\\u0440\\u0435\\u0432\\u043d\\u043e\\u0432\\u0430\\u043d\\u0438\\u0435 \\u043f\\u043e \\u043f\\u043e\\u0435\\u0434\\u0430\\u043d\\u0438\\u0435 \\u0430\\u0440\\u0431\\u0443\\u0437 \\u043c\\u0430\\u0441\\u0442\\u0435\\u0440\\u043a\\u043b\\u0430\\u0441\\u0441 \\u043f\\u043e \\u0440\\u043e\\u0441\\u043f\\u0438\\u0441\\u044c \\u0434\\u0435\\u0440\\u0435\\u0432\\u044f\\u043d\\u043d\\u044b\\u0439 \\u0437\\u043d\\u0430\\u0447\\u043e\\u043a \\u043c\\u0430\\u0441\\u0442\\u0435\\u0440\\u043a\\u043b\\u0430\\u0441\\u0441 \\u043f\\u043e \\u0441\\u043e\\u0437\\u0434\\u0430\\u043d\\u0438\\u0435 \\u0431\\u0443\\u043c\\u0430\\u0436\\u043d\\u044b\\u0439 \\u0432\\u0435\\u0435\\u0440 \\u0432\\u044b\\u0441\\u0442\\u0443\\u043f\\u043b\\u0435\\u043d\\u0438\\u0435 \\u043a\\u0430\\u0432\\u0435\\u0440\\u0433\\u0440\\u0443\\u043f\\u043f\\u0430 \\u0438 \\u043f\\u0435\\u043d\\u043d\\u044b\\u0439 \\u0432\\u0435\\u0447\\u0435\\u0440\\u0438\\u043d\\u043a\\u0430 \\u0430\\u0432\\u0433\\u0443\\u0441\\u0442 \\u043c\\u0430\\u0441\\u0442\\u0435\\u0440\\u043a\\u043b\\u0430\\u0441\\u0441 \\u043f\\u043e \\u0441\\u043e\\u0437\\u0434\\u0430\\u043d\\u0438\\u0435 \\u0430\\u0440\\u0431\\u0443\\u0437\\u043d\\u044b\\u0439 \\u0433\\u0438\\u0440\\u043b\\u044f\\u043d\\u0434\\u0430 \\u043c\\u0430\\u0441\\u0442\\u0435\\u0440\\u043a\\u043b\\u0430\\u0441\\u0441 \\u043f\\u043e \\u043a\\u0430\\u0440\\u0432\\u0438\\u043d\\u0433\\u0430 \\u0441\\u0442\\u0430\\u043d\\u0446\\u0438\\u044f \\u0441 \\u0430\\u0440\\u0431\\u0443\\u0437\\u043d\\u044b\\u0439 \\u043b\\u0438\\u043c\\u043e\\u043d\\u0430\\u0434 \\u0434\\u0435\\u0442\\u0441\\u043a\\u0438\\u0439 \\u043f\\u0440\\u043e\\u0433\\u0440\\u0430\\u043c\\u043c\\u0430 \\u0442\\u0443\\u0441\\u0430\\u0434\\u0436\\u0443\\u0441 \\u0441\\u043e\\u0440\\u0435\\u0432\\u043d\\u043e\\u0432\\u0430\\u043d\\u0438\\u0435 \\u043f\\u043e \\u043f\\u043e\\u0435\\u0434\\u0430\\u043d\\u0438\\u0435 \\u0430\\u0440\\u0431\\u0443\\u0437 \\u043c\\u0430\\u0441\\u0442\\u0435\\u0440\\u043a\\u043b\\u0430\\u0441\\u0441 \\u043f\\u043e \\u0442\\u0435\\u0440\\u043c\\u043e\\u043c\\u0430\\u0437\\u0430\\u0439\\u043a\\u0430 \\u043c\\u0430\\u0441\\u0442\\u0435\\u0440\\u043a\\u043b\\u0430\\u0441\\u0441 \\u043f\\u043e \\u0441\\u043e\\u0437\\u0434\\u0430\\u043d\\u0438\\u0435 \\u0431\\u0443\\u043c\\u0430\\u0436\\u043d\\u044b\\u0439 \\u0432\\u0435\\u0435\\u0440 \\u0432\\u044b\\u0441\\u0442\\u0443\\u043f\\u043b\\u0435\\u043d\\u0438\\u0435 \\u0433\\u0440\\u0443\\u043f\\u043f\\u0430 \\u0438 \\u043f\\u0435\\u043d\\u043d\\u044b\\u0439 \\u0432\\u0435\\u0447\\u0435\\u0440\\u0438\\u043d\\u043a\\u0430\"\n        ],\n        \"semantic_type\": \"\",\n        \"description\": \"\"\n      }\n    },\n    {\n      \"column\": \"clean_minimal\",\n      \"properties\": {\n        \"dtype\": \"object\",\n        \"semantic_type\": \"\",\n        \"description\": \"\"\n      }\n    },\n    {\n      \"column\": \"tokens\",\n      \"properties\": {\n        \"dtype\": \"object\",\n        \"semantic_type\": \"\",\n        \"description\": \"\"\n      }\n    }\n  ]\n}"
            }
          },
          "metadata": {},
          "execution_count": 73
        }
      ]
    },
    {
      "cell_type": "code",
      "source": [],
      "metadata": {
        "id": "ZEYIPadTdXih"
      },
      "id": "ZEYIPadTdXih",
      "execution_count": null,
      "outputs": []
    },
    {
      "cell_type": "code",
      "source": [],
      "metadata": {
        "id": "U5a1_82QK1gs"
      },
      "id": "U5a1_82QK1gs",
      "execution_count": null,
      "outputs": []
    },
    {
      "cell_type": "markdown",
      "source": [
        "Для kaggle"
      ],
      "metadata": {
        "id": "VfcVYm9IE853"
      },
      "id": "VfcVYm9IE853"
    },
    {
      "cell_type": "code",
      "source": [
        "df = pd.read_csv('train.csv')\n",
        "df_test = pd.read_csv('test.csv')"
      ],
      "metadata": {
        "id": "mo4dL8B8KJJR"
      },
      "id": "mo4dL8B8KJJR",
      "execution_count": null,
      "outputs": []
    },
    {
      "cell_type": "code",
      "source": [
        "import inspect\n",
        "def getargspec(func):\n",
        "    \"\"\"Реализация getargspec для новых версий Python\"\"\"\n",
        "    sig = inspect.signature(func)\n",
        "    args = []\n",
        "    varargs = None\n",
        "    varkw = None\n",
        "    defaults = []\n",
        "\n",
        "    for param in sig.parameters.values():\n",
        "        if param.kind == param.VAR_POSITIONAL:\n",
        "            varargs = param.name\n",
        "        elif param.kind == param.VAR_KEYWORD:\n",
        "            varkw = param.name\n",
        "        else:\n",
        "            args.append(param.name)\n",
        "            if param.default is not param.empty:\n",
        "                defaults.append(param.default)\n",
        "\n",
        "    return collections.namedtuple('ArgSpec', 'args varargs keywords defaults')(\n",
        "        args, varargs, varkw, tuple(defaults) if defaults else None)\n",
        "\n",
        "if not hasattr(inspect, 'getargspec'):\n",
        "    inspect.getargspec = getargspec"
      ],
      "metadata": {
        "id": "wcRhJdniLv2M"
      },
      "id": "wcRhJdniLv2M",
      "execution_count": null,
      "outputs": []
    },
    {
      "cell_type": "code",
      "source": [
        "nltk.download('stopwords')\n",
        "stop_words = set(stopwords.words('russian'))\n",
        "morph = MorphAnalyzer()"
      ],
      "metadata": {
        "id": "hdKnWzf-L32z"
      },
      "id": "hdKnWzf-L32z",
      "execution_count": null,
      "outputs": []
    },
    {
      "cell_type": "code",
      "source": [
        "def clean_text_tfidf(text):\n",
        "    text = text.lower()\n",
        "    text = re.sub(r'https?://\\S+', '', text)\n",
        "    text = re.sub(r'[^а-яё\\s]', '', text)\n",
        "    words = text.split()\n",
        "    words = [morph.parse(w)[0].normal_form for w in words if w not in stop_words]\n",
        "    return ' '.join(words)"
      ],
      "metadata": {
        "id": "rKEVGzFWMAfQ"
      },
      "id": "rKEVGzFWMAfQ",
      "execution_count": null,
      "outputs": []
    },
    {
      "cell_type": "code",
      "source": [
        "X = df['clean_tfidf'].tolist()\n",
        "y = np.array(list(df['labels_list']), dtype=np.float32)\n",
        "tfidf = TfidfVectorizer(max_features=10000)\n",
        "X_tfidf = tfidf.fit_transform(X)\n",
        "X_train, X_val, y_train, y_val = train_test_split(\n",
        "    X_tfidf, y, test_size=0.2, random_state=42)\n",
        "class TextDataset(Dataset):\n",
        "    def __init__(self, X, y):\n",
        "        self.X = X\n",
        "        self.y = y\n",
        "\n",
        "    def __len__(self):\n",
        "        return self.X.shape[0]\n",
        "\n",
        "    def __getitem__(self, idx):\n",
        "        return (\n",
        "            torch.FloatTensor(self.X[idx].toarray().squeeze()),\n",
        "            torch.FloatTensor(self.y[idx])\n",
        "        )\n",
        "\n",
        "train_loader = DataLoader(TextDataset(X_train, y_train), batch_size=64, shuffle=True)\n",
        "val_loader = DataLoader(TextDataset(X_val, y_val), batch_size=64)\n",
        "class MLP(nn.Module):\n",
        "    def __init__(self, input_size, output_size):\n",
        "        super().__init__()\n",
        "        self.layers = nn.Sequential(\n",
        "            nn.Linear(input_size, 256),\n",
        "            nn.ReLU(),\n",
        "            nn.Linear(256, 128),\n",
        "            nn.ReLU(),\n",
        "            nn.Linear(128, output_size),\n",
        "            nn.Sigmoid()\n",
        "        )\n",
        "\n",
        "    def forward(self, x):\n",
        "        return self.layers(x)\n",
        "\n",
        "model = MLP(X_train.shape[1], y_train.shape[1])\n",
        "criterion = nn.BCELoss()\n",
        "optimizer = optim.Adam(model.parameters(), lr=0.001)\n",
        "def train_epoch(model, loader, optimizer, criterion):\n",
        "    model.train()\n",
        "    total_loss = 0\n",
        "    for X_batch, y_batch in loader:\n",
        "        optimizer.zero_grad()\n",
        "        outputs = model(X_batch)\n",
        "        loss = criterion(outputs, y_batch)\n",
        "        loss.backward()\n",
        "        optimizer.step()\n",
        "        total_loss += loss.item()\n",
        "    return total_loss / len(loader)\n",
        "\n",
        "def validate(model, loader, criterion, threshold=0.5):\n",
        "    model.eval()\n",
        "    all_preds, all_labels = [], []\n",
        "    with torch.no_grad():\n",
        "        for X_batch, y_batch in loader:\n",
        "            outputs = model(X_batch)\n",
        "            all_preds.append(outputs.numpy())\n",
        "            all_labels.append(y_batch.numpy())\n",
        "\n",
        "    preds = (np.concatenate(all_preds) > threshold).astype(int)\n",
        "    labels = np.concatenate(all_labels)\n",
        "    return f1_score(labels, preds, average='micro')\n",
        "epochs = 20\n",
        "train_losses = []\n",
        "val_scores = []\n",
        "\n",
        "for epoch in range(epochs):\n",
        "    loss = train_epoch(model, train_loader, optimizer, criterion)\n",
        "    score = validate(model, val_loader, criterion)\n",
        "\n",
        "    train_losses.append(loss)\n",
        "    val_scores.append(score)\n",
        "\n",
        "    print(f\"Epoch {epoch+1}/{epochs} | Loss: {loss:.4f} | Val F1: {score:.4f}\")\n",
        "\n",
        "plt.figure(figsize=(10, 5))\n",
        "plt.plot(train_losses, label='Train Loss')\n",
        "plt.title('Learning Curve')\n",
        "plt.xlabel('Epoch')\n",
        "plt.ylabel('Loss')\n",
        "plt.legend()\n",
        "plt.show()\n",
        "df_test = pd.read_csv('test.csv')\n",
        "df_test['clean_tfidf'] = df_test['text'].apply(clean_text_tfidf)\n",
        "X_test_tfidf = tfidf.transform(df_test['clean_tfidf'])\n",
        "X_test_tensor = torch.tensor(X_test_tfidf.toarray(), dtype=torch.float32)\n",
        "model.eval()\n",
        "\n",
        "with torch.no_grad():\n",
        "    preds_proba = model(X_test_tensor).cpu().numpy()\n",
        "\n",
        "threshold = 0.5\n",
        "y_test_pred = (preds_proba > threshold).astype(int)\n",
        "ids = list(range(29568, 29568 + len(df_test)))\n",
        "\n",
        "labels_str = [' '.join(map(str, row)) for row in y_test_pred]\n",
        "\n",
        "final_dataframe = pd.DataFrame({\n",
        "    'id': ids,\n",
        "    'labels': labels_str\n",
        "}).set_index('id')\n",
        "\n",
        "final_dataframe.to_csv('predictions.csv', index=True)\n",
        "print(\"Результаты сохранены в predictions.csv\")"
      ],
      "metadata": {
        "id": "95lhDY90Ml91"
      },
      "id": "95lhDY90Ml91",
      "execution_count": null,
      "outputs": []
    }
  ]
}